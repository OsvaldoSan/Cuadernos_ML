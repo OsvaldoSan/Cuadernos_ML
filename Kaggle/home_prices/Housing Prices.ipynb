{
 "cells": [
  {
   "cell_type": "code",
   "execution_count": 115,
   "metadata": {
    "ExecuteTime": {
     "end_time": "2021-08-17T01:53:09.646582Z",
     "start_time": "2021-08-17T01:53:08.455135Z"
    }
   },
   "outputs": [],
   "source": [
    "import pandas as pd\n",
    "import numpy as np\n",
    "import os\n",
    "\n",
    "import matplotlib.pyplot as plt\n",
    "import seaborn as sns\n",
    "import pygal\n",
    "\n",
    "from sklearn.preprocessing import MinMaxScaler\n",
    "from sklearn.preprocessing import OneHotEncoder\n",
    "from sklearn.impute import SimpleImputer\n",
    "\n",
    "#pd.set_option(\"display.max_columns\",200)"
   ]
  },
  {
   "cell_type": "markdown",
   "metadata": {},
   "source": [
    "# Lectura de datos"
   ]
  },
  {
   "cell_type": "code",
   "execution_count": 2,
   "metadata": {
    "ExecuteTime": {
     "end_time": "2021-08-16T22:21:13.119562Z",
     "start_time": "2021-08-16T22:21:12.698690Z"
    }
   },
   "outputs": [
    {
     "data": {
      "text/html": [
       "<div>\n",
       "<style scoped>\n",
       "    .dataframe tbody tr th:only-of-type {\n",
       "        vertical-align: middle;\n",
       "    }\n",
       "\n",
       "    .dataframe tbody tr th {\n",
       "        vertical-align: top;\n",
       "    }\n",
       "\n",
       "    .dataframe thead th {\n",
       "        text-align: right;\n",
       "    }\n",
       "</style>\n",
       "<table border=\"1\" class=\"dataframe\">\n",
       "  <thead>\n",
       "    <tr style=\"text-align: right;\">\n",
       "      <th></th>\n",
       "      <th>Id</th>\n",
       "      <th>MSSubClass</th>\n",
       "      <th>MSZoning</th>\n",
       "      <th>LotFrontage</th>\n",
       "      <th>LotArea</th>\n",
       "      <th>Street</th>\n",
       "      <th>Alley</th>\n",
       "      <th>LotShape</th>\n",
       "      <th>LandContour</th>\n",
       "      <th>Utilities</th>\n",
       "      <th>...</th>\n",
       "      <th>PoolArea</th>\n",
       "      <th>PoolQC</th>\n",
       "      <th>Fence</th>\n",
       "      <th>MiscFeature</th>\n",
       "      <th>MiscVal</th>\n",
       "      <th>MoSold</th>\n",
       "      <th>YrSold</th>\n",
       "      <th>SaleType</th>\n",
       "      <th>SaleCondition</th>\n",
       "      <th>SalePrice</th>\n",
       "    </tr>\n",
       "  </thead>\n",
       "  <tbody>\n",
       "    <tr>\n",
       "      <th>0</th>\n",
       "      <td>1</td>\n",
       "      <td>60</td>\n",
       "      <td>RL</td>\n",
       "      <td>65.0</td>\n",
       "      <td>8450</td>\n",
       "      <td>Pave</td>\n",
       "      <td>NaN</td>\n",
       "      <td>Reg</td>\n",
       "      <td>Lvl</td>\n",
       "      <td>AllPub</td>\n",
       "      <td>...</td>\n",
       "      <td>0</td>\n",
       "      <td>NaN</td>\n",
       "      <td>NaN</td>\n",
       "      <td>NaN</td>\n",
       "      <td>0</td>\n",
       "      <td>2</td>\n",
       "      <td>2008</td>\n",
       "      <td>WD</td>\n",
       "      <td>Normal</td>\n",
       "      <td>208500</td>\n",
       "    </tr>\n",
       "    <tr>\n",
       "      <th>1</th>\n",
       "      <td>2</td>\n",
       "      <td>20</td>\n",
       "      <td>RL</td>\n",
       "      <td>80.0</td>\n",
       "      <td>9600</td>\n",
       "      <td>Pave</td>\n",
       "      <td>NaN</td>\n",
       "      <td>Reg</td>\n",
       "      <td>Lvl</td>\n",
       "      <td>AllPub</td>\n",
       "      <td>...</td>\n",
       "      <td>0</td>\n",
       "      <td>NaN</td>\n",
       "      <td>NaN</td>\n",
       "      <td>NaN</td>\n",
       "      <td>0</td>\n",
       "      <td>5</td>\n",
       "      <td>2007</td>\n",
       "      <td>WD</td>\n",
       "      <td>Normal</td>\n",
       "      <td>181500</td>\n",
       "    </tr>\n",
       "    <tr>\n",
       "      <th>2</th>\n",
       "      <td>3</td>\n",
       "      <td>60</td>\n",
       "      <td>RL</td>\n",
       "      <td>68.0</td>\n",
       "      <td>11250</td>\n",
       "      <td>Pave</td>\n",
       "      <td>NaN</td>\n",
       "      <td>IR1</td>\n",
       "      <td>Lvl</td>\n",
       "      <td>AllPub</td>\n",
       "      <td>...</td>\n",
       "      <td>0</td>\n",
       "      <td>NaN</td>\n",
       "      <td>NaN</td>\n",
       "      <td>NaN</td>\n",
       "      <td>0</td>\n",
       "      <td>9</td>\n",
       "      <td>2008</td>\n",
       "      <td>WD</td>\n",
       "      <td>Normal</td>\n",
       "      <td>223500</td>\n",
       "    </tr>\n",
       "    <tr>\n",
       "      <th>3</th>\n",
       "      <td>4</td>\n",
       "      <td>70</td>\n",
       "      <td>RL</td>\n",
       "      <td>60.0</td>\n",
       "      <td>9550</td>\n",
       "      <td>Pave</td>\n",
       "      <td>NaN</td>\n",
       "      <td>IR1</td>\n",
       "      <td>Lvl</td>\n",
       "      <td>AllPub</td>\n",
       "      <td>...</td>\n",
       "      <td>0</td>\n",
       "      <td>NaN</td>\n",
       "      <td>NaN</td>\n",
       "      <td>NaN</td>\n",
       "      <td>0</td>\n",
       "      <td>2</td>\n",
       "      <td>2006</td>\n",
       "      <td>WD</td>\n",
       "      <td>Abnorml</td>\n",
       "      <td>140000</td>\n",
       "    </tr>\n",
       "    <tr>\n",
       "      <th>4</th>\n",
       "      <td>5</td>\n",
       "      <td>60</td>\n",
       "      <td>RL</td>\n",
       "      <td>84.0</td>\n",
       "      <td>14260</td>\n",
       "      <td>Pave</td>\n",
       "      <td>NaN</td>\n",
       "      <td>IR1</td>\n",
       "      <td>Lvl</td>\n",
       "      <td>AllPub</td>\n",
       "      <td>...</td>\n",
       "      <td>0</td>\n",
       "      <td>NaN</td>\n",
       "      <td>NaN</td>\n",
       "      <td>NaN</td>\n",
       "      <td>0</td>\n",
       "      <td>12</td>\n",
       "      <td>2008</td>\n",
       "      <td>WD</td>\n",
       "      <td>Normal</td>\n",
       "      <td>250000</td>\n",
       "    </tr>\n",
       "  </tbody>\n",
       "</table>\n",
       "<p>5 rows × 81 columns</p>\n",
       "</div>"
      ],
      "text/plain": [
       "   Id  MSSubClass MSZoning  LotFrontage  LotArea Street Alley LotShape  \\\n",
       "0   1          60       RL         65.0     8450   Pave   NaN      Reg   \n",
       "1   2          20       RL         80.0     9600   Pave   NaN      Reg   \n",
       "2   3          60       RL         68.0    11250   Pave   NaN      IR1   \n",
       "3   4          70       RL         60.0     9550   Pave   NaN      IR1   \n",
       "4   5          60       RL         84.0    14260   Pave   NaN      IR1   \n",
       "\n",
       "  LandContour Utilities  ... PoolArea PoolQC Fence MiscFeature MiscVal MoSold  \\\n",
       "0         Lvl    AllPub  ...        0    NaN   NaN         NaN       0      2   \n",
       "1         Lvl    AllPub  ...        0    NaN   NaN         NaN       0      5   \n",
       "2         Lvl    AllPub  ...        0    NaN   NaN         NaN       0      9   \n",
       "3         Lvl    AllPub  ...        0    NaN   NaN         NaN       0      2   \n",
       "4         Lvl    AllPub  ...        0    NaN   NaN         NaN       0     12   \n",
       "\n",
       "  YrSold  SaleType  SaleCondition  SalePrice  \n",
       "0   2008        WD         Normal     208500  \n",
       "1   2007        WD         Normal     181500  \n",
       "2   2008        WD         Normal     223500  \n",
       "3   2006        WD        Abnorml     140000  \n",
       "4   2008        WD         Normal     250000  \n",
       "\n",
       "[5 rows x 81 columns]"
      ]
     },
     "execution_count": 2,
     "metadata": {},
     "output_type": "execute_result"
    }
   ],
   "source": [
    "filename='datos/train.csv'\n",
    "df=pd.read_csv(filename)\n",
    "df.head()"
   ]
  },
  {
   "cell_type": "code",
   "execution_count": 3,
   "metadata": {
    "ExecuteTime": {
     "end_time": "2021-08-16T22:21:15.301128Z",
     "start_time": "2021-08-16T22:21:15.045772Z"
    }
   },
   "outputs": [
    {
     "data": {
      "text/html": [
       "<div>\n",
       "<style scoped>\n",
       "    .dataframe tbody tr th:only-of-type {\n",
       "        vertical-align: middle;\n",
       "    }\n",
       "\n",
       "    .dataframe tbody tr th {\n",
       "        vertical-align: top;\n",
       "    }\n",
       "\n",
       "    .dataframe thead th {\n",
       "        text-align: right;\n",
       "    }\n",
       "</style>\n",
       "<table border=\"1\" class=\"dataframe\">\n",
       "  <thead>\n",
       "    <tr style=\"text-align: right;\">\n",
       "      <th></th>\n",
       "      <th>Id</th>\n",
       "      <th>MSSubClass</th>\n",
       "      <th>MSZoning</th>\n",
       "      <th>LotFrontage</th>\n",
       "      <th>LotArea</th>\n",
       "      <th>Street</th>\n",
       "      <th>Alley</th>\n",
       "      <th>LotShape</th>\n",
       "      <th>LandContour</th>\n",
       "      <th>Utilities</th>\n",
       "      <th>...</th>\n",
       "      <th>ScreenPorch</th>\n",
       "      <th>PoolArea</th>\n",
       "      <th>PoolQC</th>\n",
       "      <th>Fence</th>\n",
       "      <th>MiscFeature</th>\n",
       "      <th>MiscVal</th>\n",
       "      <th>MoSold</th>\n",
       "      <th>YrSold</th>\n",
       "      <th>SaleType</th>\n",
       "      <th>SaleCondition</th>\n",
       "    </tr>\n",
       "  </thead>\n",
       "  <tbody>\n",
       "    <tr>\n",
       "      <th>0</th>\n",
       "      <td>1461</td>\n",
       "      <td>20</td>\n",
       "      <td>RH</td>\n",
       "      <td>80.0</td>\n",
       "      <td>11622</td>\n",
       "      <td>Pave</td>\n",
       "      <td>NaN</td>\n",
       "      <td>Reg</td>\n",
       "      <td>Lvl</td>\n",
       "      <td>AllPub</td>\n",
       "      <td>...</td>\n",
       "      <td>120</td>\n",
       "      <td>0</td>\n",
       "      <td>NaN</td>\n",
       "      <td>MnPrv</td>\n",
       "      <td>NaN</td>\n",
       "      <td>0</td>\n",
       "      <td>6</td>\n",
       "      <td>2010</td>\n",
       "      <td>WD</td>\n",
       "      <td>Normal</td>\n",
       "    </tr>\n",
       "    <tr>\n",
       "      <th>1</th>\n",
       "      <td>1462</td>\n",
       "      <td>20</td>\n",
       "      <td>RL</td>\n",
       "      <td>81.0</td>\n",
       "      <td>14267</td>\n",
       "      <td>Pave</td>\n",
       "      <td>NaN</td>\n",
       "      <td>IR1</td>\n",
       "      <td>Lvl</td>\n",
       "      <td>AllPub</td>\n",
       "      <td>...</td>\n",
       "      <td>0</td>\n",
       "      <td>0</td>\n",
       "      <td>NaN</td>\n",
       "      <td>NaN</td>\n",
       "      <td>Gar2</td>\n",
       "      <td>12500</td>\n",
       "      <td>6</td>\n",
       "      <td>2010</td>\n",
       "      <td>WD</td>\n",
       "      <td>Normal</td>\n",
       "    </tr>\n",
       "  </tbody>\n",
       "</table>\n",
       "<p>2 rows × 80 columns</p>\n",
       "</div>"
      ],
      "text/plain": [
       "     Id  MSSubClass MSZoning  LotFrontage  LotArea Street Alley LotShape  \\\n",
       "0  1461          20       RH         80.0    11622   Pave   NaN      Reg   \n",
       "1  1462          20       RL         81.0    14267   Pave   NaN      IR1   \n",
       "\n",
       "  LandContour Utilities  ... ScreenPorch PoolArea PoolQC  Fence MiscFeature  \\\n",
       "0         Lvl    AllPub  ...         120        0    NaN  MnPrv         NaN   \n",
       "1         Lvl    AllPub  ...           0        0    NaN    NaN        Gar2   \n",
       "\n",
       "  MiscVal MoSold  YrSold  SaleType  SaleCondition  \n",
       "0       0      6    2010        WD         Normal  \n",
       "1   12500      6    2010        WD         Normal  \n",
       "\n",
       "[2 rows x 80 columns]"
      ]
     },
     "execution_count": 3,
     "metadata": {},
     "output_type": "execute_result"
    }
   ],
   "source": [
    "filetest='datos/test.csv'\n",
    "test=pd.read_csv(filetest)\n",
    "test.head(2)"
   ]
  },
  {
   "cell_type": "markdown",
   "metadata": {},
   "source": [
    "# Ingeniería de datos"
   ]
  },
  {
   "cell_type": "code",
   "execution_count": 17,
   "metadata": {
    "ExecuteTime": {
     "end_time": "2021-08-15T00:53:10.193793Z",
     "start_time": "2021-08-15T00:53:10.173361Z"
    }
   },
   "outputs": [
    {
     "data": {
      "text/plain": [
       "Index(['Id', 'MSSubClass', 'MSZoning', 'LotFrontage', 'LotArea', 'Street',\n",
       "       'Alley', 'LotShape', 'LandContour', 'Utilities', 'LotConfig',\n",
       "       'LandSlope', 'Neighborhood', 'Condition1', 'Condition2', 'BldgType',\n",
       "       'HouseStyle', 'OverallQual', 'OverallCond', 'YearBuilt', 'YearRemodAdd',\n",
       "       'RoofStyle', 'RoofMatl', 'Exterior1st', 'Exterior2nd', 'MasVnrType',\n",
       "       'MasVnrArea', 'ExterQual', 'ExterCond', 'Foundation', 'BsmtQual',\n",
       "       'BsmtCond', 'BsmtExposure', 'BsmtFinType1', 'BsmtFinSF1',\n",
       "       'BsmtFinType2', 'BsmtFinSF2', 'BsmtUnfSF', 'TotalBsmtSF', 'Heating',\n",
       "       'HeatingQC', 'CentralAir', 'Electrical', '1stFlrSF', '2ndFlrSF',\n",
       "       'LowQualFinSF', 'GrLivArea', 'BsmtFullBath', 'BsmtHalfBath', 'FullBath',\n",
       "       'HalfBath', 'BedroomAbvGr', 'KitchenAbvGr', 'KitchenQual',\n",
       "       'TotRmsAbvGrd', 'Functional', 'Fireplaces', 'FireplaceQu', 'GarageType',\n",
       "       'GarageYrBlt', 'GarageFinish', 'GarageCars', 'GarageArea', 'GarageQual',\n",
       "       'GarageCond', 'PavedDrive', 'WoodDeckSF', 'OpenPorchSF',\n",
       "       'EnclosedPorch', '3SsnPorch', 'ScreenPorch', 'PoolArea', 'PoolQC',\n",
       "       'Fence', 'MiscFeature', 'MiscVal', 'MoSold', 'YrSold', 'SaleType',\n",
       "       'SaleCondition', 'SalePrice'],\n",
       "      dtype='object')"
      ]
     },
     "execution_count": 17,
     "metadata": {},
     "output_type": "execute_result"
    }
   ],
   "source": [
    "df.columns"
   ]
  },
  {
   "cell_type": "code",
   "execution_count": 133,
   "metadata": {
    "ExecuteTime": {
     "end_time": "2021-08-17T02:01:58.611683Z",
     "start_time": "2021-08-17T02:01:58.582788Z"
    }
   },
   "outputs": [],
   "source": [
    "varc=[\"LotFrontage\",\"LotArea\",\"MasVnrArea\",\"BsmtFinSF1\",\"BsmtFinSF2\",\"TotalBsmtSF\",\n",
    " \"1stFlrSF\",\"2ndFlrSF\",\"LowQualFinSF\",\"GrLivArea\",\"BsmtFullBath\",\"BsmtHalfBath\",\"BsmtUnfSF\",\"FullBath\",\n",
    " \"HalfBath\",\"BedroomAbvGr\",\"KitchenAbvGr\",\"TotRmsAbvGrd\",\"Fireplaces\",\"GarageCars\",\"GarageArea\",\n",
    " \"WoodDeckSF\",\"OpenPorchSF\",\"EnclosedPorch\",\"3SsnPorch\",\"ScreenPorch\",\"PoolArea\",\"MiscVal\",\"MoSold\",\n",
    " ]\n",
    "tgt=\"SalePrice\"\n",
    "id_='Id'"
   ]
  },
  {
   "cell_type": "markdown",
   "metadata": {
    "ExecuteTime": {
     "end_time": "2021-08-15T01:20:29.466431Z",
     "start_time": "2021-08-15T01:20:29.434881Z"
    }
   },
   "source": [
    "## Análisis de exploratorio"
   ]
  },
  {
   "cell_type": "markdown",
   "metadata": {},
   "source": [
    "### Tratamiento de variables categoricas y fechas"
   ]
  },
  {
   "cell_type": "markdown",
   "metadata": {},
   "source": [
    "A todas las variables que el diccionario indica que sus datos ausente representan en realidad\n",
    "la ausencia de esa caracterisica los rellenamos con un valor en forma de string para poder trabajar con ellos."
   ]
  },
  {
   "cell_type": "code",
   "execution_count": 92,
   "metadata": {
    "ExecuteTime": {
     "end_time": "2021-08-17T01:35:04.244547Z",
     "start_time": "2021-08-17T01:35:04.165376Z"
    }
   },
   "outputs": [],
   "source": [
    "df[\"Alley\"].fillna(value='No',inplace=True)\n",
    "df[\"BsmtQual\"].fillna(value='No',inplace=True)\n",
    "df[\"BsmtCond\"].fillna(value='No',inplace=True)\n",
    "df[\"BsmtExposure\"].fillna(value='No',inplace=True)\n",
    "df[\"BsmtFinType1\"].fillna(value='No',inplace=True)\n",
    "df[\"BsmtFinType2\"].fillna(value='No',inplace=True)\n",
    "df[\"FireplaceQu\"].fillna(value='No',inplace=True)\n",
    "df[\"GarageType\"].fillna(value='No',inplace=True)\n",
    "df[\"GarageFinish\"].fillna(value='No',inplace=True)\n",
    "df[\"GarageQual\"].fillna(value='No',inplace=True)\n",
    "df[\"GarageCond\"].fillna(value='No',inplace=True)\n",
    "df[\"PoolQC\"].fillna(value='No',inplace=True)\n",
    "df[\"Fence\"].fillna(value='No',inplace=True)\n",
    "df[\"MiscFeature\"].fillna(value='No',inplace=True)\n",
    "df[\"MasVnrType\"].fillna(value='No',inplace=True)"
   ]
  },
  {
   "cell_type": "markdown",
   "metadata": {},
   "source": [
    "Los valores 'YearBuilt', 'YearRemodAdd' los sustituiremos por su equivalente en antiguedad y\n",
    "antiguedad de remodelación suponiendo que estamos en el 2011, pues la última venta fue\n",
    "hecha en el 2010."
   ]
  },
  {
   "cell_type": "code",
   "execution_count": 40,
   "metadata": {
    "ExecuteTime": {
     "end_time": "2021-08-17T00:41:54.969483Z",
     "start_time": "2021-08-17T00:41:54.733847Z"
    }
   },
   "outputs": [
    {
     "data": {
      "text/html": [
       "<div>\n",
       "<style scoped>\n",
       "    .dataframe tbody tr th:only-of-type {\n",
       "        vertical-align: middle;\n",
       "    }\n",
       "\n",
       "    .dataframe tbody tr th {\n",
       "        vertical-align: top;\n",
       "    }\n",
       "\n",
       "    .dataframe thead th {\n",
       "        text-align: right;\n",
       "    }\n",
       "</style>\n",
       "<table border=\"1\" class=\"dataframe\">\n",
       "  <thead>\n",
       "    <tr style=\"text-align: right;\">\n",
       "      <th></th>\n",
       "      <th>Id</th>\n",
       "      <th>MSSubClass</th>\n",
       "      <th>MSZoning</th>\n",
       "      <th>LotFrontage</th>\n",
       "      <th>LotArea</th>\n",
       "      <th>Street</th>\n",
       "      <th>Alley</th>\n",
       "      <th>LotShape</th>\n",
       "      <th>LandContour</th>\n",
       "      <th>Utilities</th>\n",
       "      <th>...</th>\n",
       "      <th>Fence</th>\n",
       "      <th>MiscFeature</th>\n",
       "      <th>MiscVal</th>\n",
       "      <th>MoSold</th>\n",
       "      <th>YrSold</th>\n",
       "      <th>SaleType</th>\n",
       "      <th>SaleCondition</th>\n",
       "      <th>SalePrice</th>\n",
       "      <th>Antiguedad</th>\n",
       "      <th>Antiguedad_rem</th>\n",
       "    </tr>\n",
       "  </thead>\n",
       "  <tbody>\n",
       "    <tr>\n",
       "      <th>0</th>\n",
       "      <td>1</td>\n",
       "      <td>60</td>\n",
       "      <td>RL</td>\n",
       "      <td>65.0</td>\n",
       "      <td>8450</td>\n",
       "      <td>Pave</td>\n",
       "      <td>No</td>\n",
       "      <td>Reg</td>\n",
       "      <td>Lvl</td>\n",
       "      <td>AllPub</td>\n",
       "      <td>...</td>\n",
       "      <td>No</td>\n",
       "      <td>No</td>\n",
       "      <td>0</td>\n",
       "      <td>2</td>\n",
       "      <td>2008</td>\n",
       "      <td>WD</td>\n",
       "      <td>Normal</td>\n",
       "      <td>208500</td>\n",
       "      <td>8</td>\n",
       "      <td>8</td>\n",
       "    </tr>\n",
       "    <tr>\n",
       "      <th>1</th>\n",
       "      <td>2</td>\n",
       "      <td>20</td>\n",
       "      <td>RL</td>\n",
       "      <td>80.0</td>\n",
       "      <td>9600</td>\n",
       "      <td>Pave</td>\n",
       "      <td>No</td>\n",
       "      <td>Reg</td>\n",
       "      <td>Lvl</td>\n",
       "      <td>AllPub</td>\n",
       "      <td>...</td>\n",
       "      <td>No</td>\n",
       "      <td>No</td>\n",
       "      <td>0</td>\n",
       "      <td>5</td>\n",
       "      <td>2007</td>\n",
       "      <td>WD</td>\n",
       "      <td>Normal</td>\n",
       "      <td>181500</td>\n",
       "      <td>35</td>\n",
       "      <td>35</td>\n",
       "    </tr>\n",
       "  </tbody>\n",
       "</table>\n",
       "<p>2 rows × 81 columns</p>\n",
       "</div>"
      ],
      "text/plain": [
       "   Id  MSSubClass MSZoning  LotFrontage  LotArea Street Alley LotShape  \\\n",
       "0   1          60       RL         65.0     8450   Pave    No      Reg   \n",
       "1   2          20       RL         80.0     9600   Pave    No      Reg   \n",
       "\n",
       "  LandContour Utilities  ... Fence MiscFeature MiscVal MoSold YrSold SaleType  \\\n",
       "0         Lvl    AllPub  ...    No          No       0      2   2008       WD   \n",
       "1         Lvl    AllPub  ...    No          No       0      5   2007       WD   \n",
       "\n",
       "  SaleCondition  SalePrice  Antiguedad Antiguedad_rem  \n",
       "0        Normal     208500           8              8  \n",
       "1        Normal     181500          35             35  \n",
       "\n",
       "[2 rows x 81 columns]"
      ]
     },
     "execution_count": 40,
     "metadata": {},
     "output_type": "execute_result"
    }
   ],
   "source": [
    "df['Antiguedad']=2011-df[\"YearBuilt\"]\n",
    "df[\"Antiguedad_rem\"]=2011-df[\"YearRemodAdd\"]\n",
    "df[\"Antig_Garage\"]=2011-df[\"GarageYrBlt\"]\n",
    "df.drop(\"GarageYrBlt\",axis=1,inplace=True)\n",
    "df.drop([\"YearBuilt\",\"YearRemodAdd\"],axis=1,inplace=True)\n",
    "df.head(2)"
   ]
  },
  {
   "cell_type": "code",
   "execution_count": 80,
   "metadata": {
    "ExecuteTime": {
     "end_time": "2021-08-17T01:31:33.481849Z",
     "start_time": "2021-08-17T01:31:33.466618Z"
    }
   },
   "outputs": [],
   "source": [
    "varc=varc+[\"Antiguedad\",\"Antiguedad_rem\",\"Antig_Garage\"]"
   ]
  },
  {
   "cell_type": "markdown",
   "metadata": {},
   "source": [
    "Ahora vamos a crear una lista con las variables discretas."
   ]
  },
  {
   "cell_type": "code",
   "execution_count": 88,
   "metadata": {
    "ExecuteTime": {
     "end_time": "2021-08-17T01:33:19.807406Z",
     "start_time": "2021-08-17T01:33:19.772970Z"
    }
   },
   "outputs": [],
   "source": [
    "vard=[]\n",
    "for col in df.columns:\n",
    "    if( (col not in varc) and col!=tgt and col != id_):\n",
    "        vard.append(col)"
   ]
  },
  {
   "cell_type": "markdown",
   "metadata": {},
   "source": [
    "### Valores ausentes"
   ]
  },
  {
   "cell_type": "markdown",
   "metadata": {},
   "source": [
    "Vemos que solo hay una variable con un dato ausente."
   ]
  },
  {
   "cell_type": "code",
   "execution_count": 93,
   "metadata": {
    "ExecuteTime": {
     "end_time": "2021-08-17T01:35:13.016926Z",
     "start_time": "2021-08-17T01:35:12.883589Z"
    }
   },
   "outputs": [
    {
     "data": {
      "text/plain": [
       "((1460, 48), (1459, 48))"
      ]
     },
     "execution_count": 93,
     "metadata": {},
     "output_type": "execute_result"
    }
   ],
   "source": [
    "df[vard].shape,df[vard].dropna().shape"
   ]
  },
  {
   "cell_type": "code",
   "execution_count": 100,
   "metadata": {
    "ExecuteTime": {
     "end_time": "2021-08-17T01:38:27.926090Z",
     "start_time": "2021-08-17T01:38:27.831368Z"
    }
   },
   "outputs": [
    {
     "data": {
      "text/html": [
       "<div>\n",
       "<style scoped>\n",
       "    .dataframe tbody tr th:only-of-type {\n",
       "        vertical-align: middle;\n",
       "    }\n",
       "\n",
       "    .dataframe tbody tr th {\n",
       "        vertical-align: top;\n",
       "    }\n",
       "\n",
       "    .dataframe thead th {\n",
       "        text-align: right;\n",
       "    }\n",
       "</style>\n",
       "<table border=\"1\" class=\"dataframe\">\n",
       "  <thead>\n",
       "    <tr style=\"text-align: right;\">\n",
       "      <th></th>\n",
       "      <th>Electrical</th>\n",
       "    </tr>\n",
       "  </thead>\n",
       "  <tbody>\n",
       "    <tr>\n",
       "      <th>1379</th>\n",
       "      <td>NaN</td>\n",
       "    </tr>\n",
       "  </tbody>\n",
       "</table>\n",
       "</div>"
      ],
      "text/plain": [
       "     Electrical\n",
       "1379        NaN"
      ]
     },
     "execution_count": 100,
     "metadata": {},
     "output_type": "execute_result"
    }
   ],
   "source": [
    "df[[\"Electrical\"]][df[\"Electrical\"].isna() == True]"
   ]
  },
  {
   "cell_type": "code",
   "execution_count": 111,
   "metadata": {
    "ExecuteTime": {
     "end_time": "2021-08-17T01:43:00.335179Z",
     "start_time": "2021-08-17T01:43:00.316701Z"
    }
   },
   "outputs": [],
   "source": [
    "#df.drop(1379,axis=0,inplace=True)\n",
    "#df[[\"Electrical\"]][df[\"Electrical\"].isna() == True]\n",
    "df=df.reset_index(drop=True).copy()"
   ]
  },
  {
   "cell_type": "code",
   "execution_count": 112,
   "metadata": {
    "ExecuteTime": {
     "end_time": "2021-08-17T01:43:54.204667Z",
     "start_time": "2021-08-17T01:43:54.135349Z"
    }
   },
   "outputs": [
    {
     "data": {
      "text/plain": [
       "((1459, 34), (1120, 34))"
      ]
     },
     "execution_count": 112,
     "metadata": {},
     "output_type": "execute_result"
    }
   ],
   "source": [
    "df[varc].shape,df[varc].dropna().shape"
   ]
  },
  {
   "cell_type": "markdown",
   "metadata": {},
   "source": [
    "Se pierde el 23% de los datos si eliminamos los valores ausentes, por lo que se intentará\n",
    "usar la imputación y esperamos no afecte mucho a la distribución de las variables."
   ]
  },
  {
   "cell_type": "code",
   "execution_count": 113,
   "metadata": {
    "ExecuteTime": {
     "end_time": "2021-08-17T01:44:04.498862Z",
     "start_time": "2021-08-17T01:44:04.481716Z"
    }
   },
   "outputs": [
    {
     "data": {
      "text/plain": [
       "23.235092529129545"
      ]
     },
     "execution_count": 113,
     "metadata": {},
     "output_type": "execute_result"
    }
   ],
   "source": [
    "100-((100/1459)*1120)"
   ]
  },
  {
   "cell_type": "markdown",
   "metadata": {},
   "source": [
    "Ahora convertiremos las variables discretas en continuas."
   ]
  },
  {
   "cell_type": "code",
   "execution_count": 117,
   "metadata": {
    "ExecuteTime": {
     "end_time": "2021-08-17T01:54:10.914898Z",
     "start_time": "2021-08-17T01:54:10.617915Z"
    }
   },
   "outputs": [],
   "source": [
    "aux = df[vard].copy()\n",
    "oh = OneHotEncoder()\n",
    "oh.fit(aux)\n",
    "X = pd.DataFrame(oh.transform(aux).toarray(),columns=oh.get_feature_names())"
   ]
  },
  {
   "cell_type": "code",
   "execution_count": 126,
   "metadata": {
    "ExecuteTime": {
     "end_time": "2021-08-17T01:58:39.957436Z",
     "start_time": "2021-08-17T01:58:39.898508Z"
    }
   },
   "outputs": [
    {
     "data": {
      "text/plain": [
       "Ex    741\n",
       "TA    428\n",
       "Gd    240\n",
       "Fa     49\n",
       "Po      1\n",
       "Name: HeatingQC, dtype: int64"
      ]
     },
     "execution_count": 126,
     "metadata": {},
     "output_type": "execute_result"
    }
   ],
   "source": [
    "df['HeatingQC'].value_counts()"
   ]
  },
  {
   "cell_type": "code",
   "execution_count": 122,
   "metadata": {
    "ExecuteTime": {
     "end_time": "2021-08-17T01:56:54.575078Z",
     "start_time": "2021-08-17T01:56:54.552071Z"
    }
   },
   "outputs": [
    {
     "data": {
      "text/plain": [
       "['MSSubClass',\n",
       " 'MSZoning',\n",
       " 'Street',\n",
       " 'Alley',\n",
       " 'LotShape',\n",
       " 'LandContour',\n",
       " 'Utilities',\n",
       " 'LotConfig',\n",
       " 'LandSlope',\n",
       " 'Neighborhood',\n",
       " 'Condition1',\n",
       " 'Condition2',\n",
       " 'BldgType',\n",
       " 'HouseStyle',\n",
       " 'OverallQual',\n",
       " 'OverallCond',\n",
       " 'RoofStyle',\n",
       " 'RoofMatl',\n",
       " 'Exterior1st',\n",
       " 'Exterior2nd',\n",
       " 'MasVnrType',\n",
       " 'ExterQual',\n",
       " 'ExterCond',\n",
       " 'Foundation',\n",
       " 'BsmtQual',\n",
       " 'BsmtCond',\n",
       " 'BsmtExposure',\n",
       " 'BsmtFinType1',\n",
       " 'BsmtFinType2',\n",
       " 'BsmtUnfSF',\n",
       " 'Heating',\n",
       " 'HeatingQC',\n",
       " 'CentralAir',\n",
       " 'Electrical',\n",
       " 'KitchenQual',\n",
       " 'Functional',\n",
       " 'FireplaceQu',\n",
       " 'GarageType',\n",
       " 'GarageFinish',\n",
       " 'GarageQual',\n",
       " 'GarageCond',\n",
       " 'PavedDrive',\n",
       " 'PoolQC',\n",
       " 'Fence',\n",
       " 'MiscFeature',\n",
       " 'YrSold',\n",
       " 'SaleType',\n",
       " 'SaleCondition']"
      ]
     },
     "execution_count": 122,
     "metadata": {},
     "output_type": "execute_result"
    }
   ],
   "source": [
    "vard"
   ]
  },
  {
   "cell_type": "code",
   "execution_count": 121,
   "metadata": {
    "ExecuteTime": {
     "end_time": "2021-08-17T01:56:09.587259Z",
     "start_time": "2021-08-17T01:56:09.522722Z"
    }
   },
   "outputs": [
    {
     "data": {
      "text/plain": [
       "[array([ 20,  30,  40,  45,  50,  60,  70,  75,  80,  85,  90, 120, 160,\n",
       "        180, 190]),\n",
       " array(['C (all)', 'FV', 'RH', 'RL', 'RM'], dtype=object),\n",
       " array(['Grvl', 'Pave'], dtype=object),\n",
       " array(['Grvl', 'No', 'Pave'], dtype=object),\n",
       " array(['IR1', 'IR2', 'IR3', 'Reg'], dtype=object),\n",
       " array(['Bnk', 'HLS', 'Low', 'Lvl'], dtype=object),\n",
       " array(['AllPub', 'NoSeWa'], dtype=object),\n",
       " array(['Corner', 'CulDSac', 'FR2', 'FR3', 'Inside'], dtype=object),\n",
       " array(['Gtl', 'Mod', 'Sev'], dtype=object),\n",
       " array(['Blmngtn', 'Blueste', 'BrDale', 'BrkSide', 'ClearCr', 'CollgCr',\n",
       "        'Crawfor', 'Edwards', 'Gilbert', 'IDOTRR', 'MeadowV', 'Mitchel',\n",
       "        'NAmes', 'NPkVill', 'NWAmes', 'NoRidge', 'NridgHt', 'OldTown',\n",
       "        'SWISU', 'Sawyer', 'SawyerW', 'Somerst', 'StoneBr', 'Timber',\n",
       "        'Veenker'], dtype=object),\n",
       " array(['Artery', 'Feedr', 'Norm', 'PosA', 'PosN', 'RRAe', 'RRAn', 'RRNe',\n",
       "        'RRNn'], dtype=object),\n",
       " array(['Artery', 'Feedr', 'Norm', 'PosA', 'PosN', 'RRAe', 'RRAn', 'RRNn'],\n",
       "       dtype=object),\n",
       " array(['1Fam', '2fmCon', 'Duplex', 'Twnhs', 'TwnhsE'], dtype=object),\n",
       " array(['1.5Fin', '1.5Unf', '1Story', '2.5Fin', '2.5Unf', '2Story',\n",
       "        'SFoyer', 'SLvl'], dtype=object),\n",
       " array([ 1,  2,  3,  4,  5,  6,  7,  8,  9, 10]),\n",
       " array([1, 2, 3, 4, 5, 6, 7, 8, 9]),\n",
       " array(['Flat', 'Gable', 'Gambrel', 'Hip', 'Mansard', 'Shed'], dtype=object),\n",
       " array(['ClyTile', 'CompShg', 'Membran', 'Metal', 'Roll', 'Tar&Grv',\n",
       "        'WdShake', 'WdShngl'], dtype=object),\n",
       " array(['AsbShng', 'AsphShn', 'BrkComm', 'BrkFace', 'CBlock', 'CemntBd',\n",
       "        'HdBoard', 'ImStucc', 'MetalSd', 'Plywood', 'Stone', 'Stucco',\n",
       "        'VinylSd', 'Wd Sdng', 'WdShing'], dtype=object),\n",
       " array(['AsbShng', 'AsphShn', 'Brk Cmn', 'BrkFace', 'CBlock', 'CmentBd',\n",
       "        'HdBoard', 'ImStucc', 'MetalSd', 'Other', 'Plywood', 'Stone',\n",
       "        'Stucco', 'VinylSd', 'Wd Sdng', 'Wd Shng'], dtype=object),\n",
       " array(['BrkCmn', 'BrkFace', 'No', 'None', 'Stone'], dtype=object),\n",
       " array(['Ex', 'Fa', 'Gd', 'TA'], dtype=object),\n",
       " array(['Ex', 'Fa', 'Gd', 'Po', 'TA'], dtype=object),\n",
       " array(['BrkTil', 'CBlock', 'PConc', 'Slab', 'Stone', 'Wood'], dtype=object),\n",
       " array(['Ex', 'Fa', 'Gd', 'No', 'TA'], dtype=object),\n",
       " array(['Fa', 'Gd', 'No', 'Po', 'TA'], dtype=object),\n",
       " array(['Av', 'Gd', 'Mn', 'No'], dtype=object),\n",
       " array(['ALQ', 'BLQ', 'GLQ', 'LwQ', 'No', 'Rec', 'Unf'], dtype=object),\n",
       " array(['ALQ', 'BLQ', 'GLQ', 'LwQ', 'No', 'Rec', 'Unf'], dtype=object),\n",
       " array([   0,   14,   15,   23,   26,   29,   30,   32,   35,   36,   38,\n",
       "          39,   40,   50,   55,   60,   61,   64,   70,   72,   74,   75,\n",
       "          76,   77,   78,   80,   81,   82,   83,   84,   88,   89,   90,\n",
       "          92,   93,   95,   96,   99,  100,  102,  103,  104,  105,  107,\n",
       "         108,  110,  111,  112,  113,  114,  115,  117,  119,  120,  121,\n",
       "         122,  124,  125,  126,  130,  131,  132,  133,  134,  135,  136,\n",
       "         138,  140,  141,  142,  143,  148,  149,  150,  151,  153,  154,\n",
       "         155,  156,  160,  161,  162,  163,  165,  166,  167,  168,  169,\n",
       "         170,  171,  172,  173,  174,  175,  176,  177,  178,  179,  180,\n",
       "         184,  186,  187,  188,  189,  190,  191,  192,  193,  195,  196,\n",
       "         197,  198,  200,  201,  203,  204,  207,  208,  210,  212,  216,\n",
       "         217,  218,  219,  220,  221,  223,  224,  225,  227,  229,  230,\n",
       "         234,  235,  237,  238,  239,  240,  241,  242,  244,  245,  246,\n",
       "         247,  248,  250,  251,  252,  253,  254,  255,  256,  257,  261,\n",
       "         262,  264,  266,  268,  270,  273,  274,  276,  277,  278,  279,\n",
       "         280,  281,  284,  285,  286,  288,  289,  290,  291,  292,  293,\n",
       "         294,  295,  297,  298,  299,  300,  301,  303,  304,  305,  308,\n",
       "         309,  310,  311,  312,  314,  315,  316,  317,  318,  319,  320,\n",
       "         321,  322,  323,  324,  326,  328,  331,  333,  334,  336,  338,\n",
       "         340,  341,  342,  343,  344,  348,  349,  350,  352,  354,  355,\n",
       "         356,  357,  359,  360,  361,  363,  364,  365,  366,  367,  370,\n",
       "         371,  372,  374,  375,  378,  379,  380,  381,  383,  384,  386,\n",
       "         387,  389,  390,  392,  396,  397,  398,  399,  400,  402,  403,\n",
       "         404,  405,  406,  408,  409,  410,  411,  412,  413,  414,  415,\n",
       "         416,  417,  418,  420,  422,  424,  425,  426,  427,  428,  429,\n",
       "         430,  431,  432,  434,  435,  438,  440,  441,  442,  444,  445,\n",
       "         447,  448,  449,  450,  452,  456,  457,  458,  459,  460,  461,\n",
       "         462,  463,  464,  465,  466,  467,  468,  470,  473,  474,  476,\n",
       "         479,  480,  481,  482,  483,  484,  485,  486,  487,  488,  490,\n",
       "         491,  495,  496,  499,  500,  501,  503,  504,  506,  508,  510,\n",
       "         512,  515,  516,  519,  520,  522,  524,  525,  526,  528,  530,\n",
       "         533,  536,  537,  538,  539,  540,  542,  543,  544,  545,  546,\n",
       "         548,  549,  550,  551,  552,  554,  556,  557,  560,  563,  564,\n",
       "         567,  568,  570,  571,  572,  574,  576,  577,  578,  580,  585,\n",
       "         586,  588,  589,  594,  595,  596,  598,  599,  600,  602,  604,\n",
       "         605,  606,  611,  612,  616,  619,  620,  622,  624,  625,  626,\n",
       "         628,  630,  635,  636,  637,  638,  640,  641,  645,  648,  649,\n",
       "         650,  651,  652,  656,  658,  660,  661,  662,  664,  666,  668,\n",
       "         671,  672,  673,  676,  678,  680,  684,  686,  689,  690,  691,\n",
       "         692,  693,  697,  698,  700,  701,  702,  705,  706,  707,  708,\n",
       "         709,  710,  712,  715,  717,  718,  720,  721,  722,  724,  725,\n",
       "         726,  728,  730,  731,  732,  733,  734,  735,  736,  739,  740,\n",
       "         741,  742,  744,  746,  747,  748,  750,  752,  755,  756,  758,\n",
       "         761,  762,  764,  765,  768,  769,  770,  772,  773,  774,  776,\n",
       "         777,  778,  779,  780,  783,  784,  785,  788,  791,  792,  793,\n",
       "         794,  795,  796,  797,  798,  799,  801,  803,  804,  806,  808,\n",
       "         810,  811,  812,  813,  814,  815,  816,  818,  823,  831,  832,\n",
       "         833,  834,  840,  841,  844,  846,  847,  849,  858,  859,  860,\n",
       "         861,  862,  864,  866,  868,  871,  874,  876,  877,  878,  879,\n",
       "         880,  882,  884,  891,  892,  893,  894,  896,  899,  901,  905,\n",
       "         906,  907,  912,  914,  916,  918,  920,  924,  925,  926,  927,\n",
       "         930,  932,  935,  936,  939,  940,  941,  948,  952,  953,  958,\n",
       "         960,  961,  964,  967,  968,  969,  970,  971,  972,  975,  976,\n",
       "         977,  978,  982,  983,  988,  989,  993,  994,  995,  999, 1005,\n",
       "        1007, 1008, 1010, 1012, 1013, 1017, 1020, 1026, 1030, 1032, 1035,\n",
       "        1042, 1043, 1045, 1048, 1050, 1053, 1055, 1063, 1064, 1065, 1072,\n",
       "        1073, 1074, 1078, 1079, 1082, 1085, 1088, 1090, 1092, 1094, 1095,\n",
       "        1097, 1098, 1099, 1104, 1107, 1116, 1117, 1120, 1121, 1122, 1125,\n",
       "        1128, 1129, 1139, 1140, 1141, 1143, 1145, 1152, 1158, 1163, 1164,\n",
       "        1176, 1181, 1184, 1191, 1194, 1195, 1198, 1200, 1203, 1212, 1217,\n",
       "        1221, 1226, 1228, 1232, 1234, 1237, 1240, 1249, 1252, 1257, 1258,\n",
       "        1264, 1266, 1273, 1276, 1284, 1286, 1288, 1290, 1293, 1296, 1302,\n",
       "        1304, 1307, 1316, 1319, 1330, 1335, 1342, 1346, 1349, 1351, 1352,\n",
       "        1357, 1362, 1367, 1368, 1372, 1373, 1374, 1375, 1380, 1390, 1392,\n",
       "        1393, 1405, 1406, 1410, 1413, 1417, 1420, 1422, 1424, 1428, 1434,\n",
       "        1436, 1442, 1450, 1459, 1468, 1470, 1480, 1482, 1489, 1494, 1496,\n",
       "        1497, 1498, 1502, 1515, 1528, 1530, 1541, 1550, 1560, 1566, 1571,\n",
       "        1573, 1580, 1584, 1588, 1594, 1603, 1616, 1622, 1626, 1630, 1632,\n",
       "        1638, 1649, 1652, 1656, 1670, 1680, 1686, 1689, 1694, 1709, 1710,\n",
       "        1734, 1752, 1753, 1768, 1774, 1777, 1795, 1800, 1836, 1869, 1905,\n",
       "        1907, 1926, 1935, 1969, 2002, 2042, 2046, 2121, 2153, 2336]),\n",
       " array(['Floor', 'GasA', 'GasW', 'Grav', 'OthW', 'Wall'], dtype=object),\n",
       " array(['Ex', 'Fa', 'Gd', 'Po', 'TA'], dtype=object),\n",
       " array(['N', 'Y'], dtype=object),\n",
       " array(['FuseA', 'FuseF', 'FuseP', 'Mix', 'SBrkr'], dtype=object),\n",
       " array(['Ex', 'Fa', 'Gd', 'TA'], dtype=object),\n",
       " array(['Maj1', 'Maj2', 'Min1', 'Min2', 'Mod', 'Sev', 'Typ'], dtype=object),\n",
       " array(['Ex', 'Fa', 'Gd', 'No', 'Po', 'TA'], dtype=object),\n",
       " array(['2Types', 'Attchd', 'Basment', 'BuiltIn', 'CarPort', 'Detchd',\n",
       "        'No'], dtype=object),\n",
       " array(['Fin', 'No', 'RFn', 'Unf'], dtype=object),\n",
       " array(['Ex', 'Fa', 'Gd', 'No', 'Po', 'TA'], dtype=object),\n",
       " array(['Ex', 'Fa', 'Gd', 'No', 'Po', 'TA'], dtype=object),\n",
       " array(['N', 'P', 'Y'], dtype=object),\n",
       " array(['Ex', 'Fa', 'Gd', 'No'], dtype=object),\n",
       " array(['GdPrv', 'GdWo', 'MnPrv', 'MnWw', 'No'], dtype=object),\n",
       " array(['Gar2', 'No', 'Othr', 'Shed', 'TenC'], dtype=object),\n",
       " array([2006, 2007, 2008, 2009, 2010]),\n",
       " array(['COD', 'CWD', 'Con', 'ConLD', 'ConLI', 'ConLw', 'New', 'Oth', 'WD'],\n",
       "       dtype=object),\n",
       " array(['Abnorml', 'AdjLand', 'Alloca', 'Family', 'Normal', 'Partial'],\n",
       "       dtype=object)]"
      ]
     },
     "execution_count": 121,
     "metadata": {},
     "output_type": "execute_result"
    }
   ],
   "source": [
    "oh.categories_"
   ]
  },
  {
   "cell_type": "code",
   "execution_count": 132,
   "metadata": {
    "ExecuteTime": {
     "end_time": "2021-08-17T02:01:23.808861Z",
     "start_time": "2021-08-17T02:01:23.491012Z"
    }
   },
   "outputs": [
    {
     "name": "stdout",
     "output_type": "stream",
     "text": [
      "BsmtUnfSF\n"
     ]
    }
   ],
   "source": [
    "for col in df[vard]:\n",
    "    if(len(df[col].value_counts()) == 780):\n",
    "        print(col)"
   ]
  }
 ],
 "metadata": {
  "kernelspec": {
   "display_name": "env",
   "language": "python",
   "name": "env"
  },
  "language_info": {
   "codemirror_mode": {
    "name": "ipython",
    "version": 3
   },
   "file_extension": ".py",
   "mimetype": "text/x-python",
   "name": "python",
   "nbconvert_exporter": "python",
   "pygments_lexer": "ipython3",
   "version": "3.7.3"
  },
  "notify_time": "10",
  "toc": {
   "base_numbering": 1,
   "nav_menu": {},
   "number_sections": true,
   "sideBar": true,
   "skip_h1_title": false,
   "title_cell": "Table of Contents",
   "title_sidebar": "Contents",
   "toc_cell": false,
   "toc_position": {},
   "toc_section_display": true,
   "toc_window_display": true
  }
 },
 "nbformat": 4,
 "nbformat_minor": 4
}
