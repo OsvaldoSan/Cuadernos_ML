{
 "cells": [
  {
   "cell_type": "code",
   "execution_count": 69,
   "metadata": {
    "ExecuteTime": {
     "end_time": "2021-08-19T01:26:16.770626Z",
     "start_time": "2021-08-19T01:26:16.747132Z"
    }
   },
   "outputs": [],
   "source": [
    "import pandas as pd\n",
    "import numpy as np\n",
    "import os\n",
    "\n",
    "import matplotlib.pyplot as plt\n",
    "import seaborn as sns\n",
    "import pygal\n",
    "\n",
    "from sklearn.preprocessing import MinMaxScaler\n",
    "from sklearn.preprocessing import OneHotEncoder\n",
    "from sklearn.impute import SimpleImputer\n",
    "\n",
    "from scipy.stats import ks_2samp\n",
    "\n",
    "#pd.set_option(\"display.max_columns\",200)"
   ]
  },
  {
   "cell_type": "markdown",
   "metadata": {},
   "source": [
    "# Lectura de datos"
   ]
  },
  {
   "cell_type": "code",
   "execution_count": 2,
   "metadata": {
    "ExecuteTime": {
     "end_time": "2021-08-19T00:22:30.243797Z",
     "start_time": "2021-08-19T00:22:29.709958Z"
    }
   },
   "outputs": [
    {
     "data": {
      "text/html": [
       "<div>\n",
       "<style scoped>\n",
       "    .dataframe tbody tr th:only-of-type {\n",
       "        vertical-align: middle;\n",
       "    }\n",
       "\n",
       "    .dataframe tbody tr th {\n",
       "        vertical-align: top;\n",
       "    }\n",
       "\n",
       "    .dataframe thead th {\n",
       "        text-align: right;\n",
       "    }\n",
       "</style>\n",
       "<table border=\"1\" class=\"dataframe\">\n",
       "  <thead>\n",
       "    <tr style=\"text-align: right;\">\n",
       "      <th></th>\n",
       "      <th>Id</th>\n",
       "      <th>MSSubClass</th>\n",
       "      <th>MSZoning</th>\n",
       "      <th>LotFrontage</th>\n",
       "      <th>LotArea</th>\n",
       "      <th>Street</th>\n",
       "      <th>Alley</th>\n",
       "      <th>LotShape</th>\n",
       "      <th>LandContour</th>\n",
       "      <th>Utilities</th>\n",
       "      <th>...</th>\n",
       "      <th>PoolArea</th>\n",
       "      <th>PoolQC</th>\n",
       "      <th>Fence</th>\n",
       "      <th>MiscFeature</th>\n",
       "      <th>MiscVal</th>\n",
       "      <th>MoSold</th>\n",
       "      <th>YrSold</th>\n",
       "      <th>SaleType</th>\n",
       "      <th>SaleCondition</th>\n",
       "      <th>SalePrice</th>\n",
       "    </tr>\n",
       "  </thead>\n",
       "  <tbody>\n",
       "    <tr>\n",
       "      <th>0</th>\n",
       "      <td>1</td>\n",
       "      <td>60</td>\n",
       "      <td>RL</td>\n",
       "      <td>65.0</td>\n",
       "      <td>8450</td>\n",
       "      <td>Pave</td>\n",
       "      <td>NaN</td>\n",
       "      <td>Reg</td>\n",
       "      <td>Lvl</td>\n",
       "      <td>AllPub</td>\n",
       "      <td>...</td>\n",
       "      <td>0</td>\n",
       "      <td>NaN</td>\n",
       "      <td>NaN</td>\n",
       "      <td>NaN</td>\n",
       "      <td>0</td>\n",
       "      <td>2</td>\n",
       "      <td>2008</td>\n",
       "      <td>WD</td>\n",
       "      <td>Normal</td>\n",
       "      <td>208500</td>\n",
       "    </tr>\n",
       "    <tr>\n",
       "      <th>1</th>\n",
       "      <td>2</td>\n",
       "      <td>20</td>\n",
       "      <td>RL</td>\n",
       "      <td>80.0</td>\n",
       "      <td>9600</td>\n",
       "      <td>Pave</td>\n",
       "      <td>NaN</td>\n",
       "      <td>Reg</td>\n",
       "      <td>Lvl</td>\n",
       "      <td>AllPub</td>\n",
       "      <td>...</td>\n",
       "      <td>0</td>\n",
       "      <td>NaN</td>\n",
       "      <td>NaN</td>\n",
       "      <td>NaN</td>\n",
       "      <td>0</td>\n",
       "      <td>5</td>\n",
       "      <td>2007</td>\n",
       "      <td>WD</td>\n",
       "      <td>Normal</td>\n",
       "      <td>181500</td>\n",
       "    </tr>\n",
       "    <tr>\n",
       "      <th>2</th>\n",
       "      <td>3</td>\n",
       "      <td>60</td>\n",
       "      <td>RL</td>\n",
       "      <td>68.0</td>\n",
       "      <td>11250</td>\n",
       "      <td>Pave</td>\n",
       "      <td>NaN</td>\n",
       "      <td>IR1</td>\n",
       "      <td>Lvl</td>\n",
       "      <td>AllPub</td>\n",
       "      <td>...</td>\n",
       "      <td>0</td>\n",
       "      <td>NaN</td>\n",
       "      <td>NaN</td>\n",
       "      <td>NaN</td>\n",
       "      <td>0</td>\n",
       "      <td>9</td>\n",
       "      <td>2008</td>\n",
       "      <td>WD</td>\n",
       "      <td>Normal</td>\n",
       "      <td>223500</td>\n",
       "    </tr>\n",
       "    <tr>\n",
       "      <th>3</th>\n",
       "      <td>4</td>\n",
       "      <td>70</td>\n",
       "      <td>RL</td>\n",
       "      <td>60.0</td>\n",
       "      <td>9550</td>\n",
       "      <td>Pave</td>\n",
       "      <td>NaN</td>\n",
       "      <td>IR1</td>\n",
       "      <td>Lvl</td>\n",
       "      <td>AllPub</td>\n",
       "      <td>...</td>\n",
       "      <td>0</td>\n",
       "      <td>NaN</td>\n",
       "      <td>NaN</td>\n",
       "      <td>NaN</td>\n",
       "      <td>0</td>\n",
       "      <td>2</td>\n",
       "      <td>2006</td>\n",
       "      <td>WD</td>\n",
       "      <td>Abnorml</td>\n",
       "      <td>140000</td>\n",
       "    </tr>\n",
       "    <tr>\n",
       "      <th>4</th>\n",
       "      <td>5</td>\n",
       "      <td>60</td>\n",
       "      <td>RL</td>\n",
       "      <td>84.0</td>\n",
       "      <td>14260</td>\n",
       "      <td>Pave</td>\n",
       "      <td>NaN</td>\n",
       "      <td>IR1</td>\n",
       "      <td>Lvl</td>\n",
       "      <td>AllPub</td>\n",
       "      <td>...</td>\n",
       "      <td>0</td>\n",
       "      <td>NaN</td>\n",
       "      <td>NaN</td>\n",
       "      <td>NaN</td>\n",
       "      <td>0</td>\n",
       "      <td>12</td>\n",
       "      <td>2008</td>\n",
       "      <td>WD</td>\n",
       "      <td>Normal</td>\n",
       "      <td>250000</td>\n",
       "    </tr>\n",
       "  </tbody>\n",
       "</table>\n",
       "<p>5 rows × 81 columns</p>\n",
       "</div>"
      ],
      "text/plain": [
       "   Id  MSSubClass MSZoning  LotFrontage  LotArea Street Alley LotShape  \\\n",
       "0   1          60       RL         65.0     8450   Pave   NaN      Reg   \n",
       "1   2          20       RL         80.0     9600   Pave   NaN      Reg   \n",
       "2   3          60       RL         68.0    11250   Pave   NaN      IR1   \n",
       "3   4          70       RL         60.0     9550   Pave   NaN      IR1   \n",
       "4   5          60       RL         84.0    14260   Pave   NaN      IR1   \n",
       "\n",
       "  LandContour Utilities  ... PoolArea PoolQC Fence MiscFeature MiscVal MoSold  \\\n",
       "0         Lvl    AllPub  ...        0    NaN   NaN         NaN       0      2   \n",
       "1         Lvl    AllPub  ...        0    NaN   NaN         NaN       0      5   \n",
       "2         Lvl    AllPub  ...        0    NaN   NaN         NaN       0      9   \n",
       "3         Lvl    AllPub  ...        0    NaN   NaN         NaN       0      2   \n",
       "4         Lvl    AllPub  ...        0    NaN   NaN         NaN       0     12   \n",
       "\n",
       "  YrSold  SaleType  SaleCondition  SalePrice  \n",
       "0   2008        WD         Normal     208500  \n",
       "1   2007        WD         Normal     181500  \n",
       "2   2008        WD         Normal     223500  \n",
       "3   2006        WD        Abnorml     140000  \n",
       "4   2008        WD         Normal     250000  \n",
       "\n",
       "[5 rows x 81 columns]"
      ]
     },
     "execution_count": 2,
     "metadata": {},
     "output_type": "execute_result"
    }
   ],
   "source": [
    "filename='datos/train.csv'\n",
    "df=pd.read_csv(filename)\n",
    "df.head()"
   ]
  },
  {
   "cell_type": "code",
   "execution_count": 3,
   "metadata": {
    "ExecuteTime": {
     "end_time": "2021-08-19T00:23:26.137481Z",
     "start_time": "2021-08-19T00:23:25.651299Z"
    }
   },
   "outputs": [
    {
     "data": {
      "text/html": [
       "<div>\n",
       "<style scoped>\n",
       "    .dataframe tbody tr th:only-of-type {\n",
       "        vertical-align: middle;\n",
       "    }\n",
       "\n",
       "    .dataframe tbody tr th {\n",
       "        vertical-align: top;\n",
       "    }\n",
       "\n",
       "    .dataframe thead th {\n",
       "        text-align: right;\n",
       "    }\n",
       "</style>\n",
       "<table border=\"1\" class=\"dataframe\">\n",
       "  <thead>\n",
       "    <tr style=\"text-align: right;\">\n",
       "      <th></th>\n",
       "      <th>Id</th>\n",
       "      <th>MSSubClass</th>\n",
       "      <th>MSZoning</th>\n",
       "      <th>LotFrontage</th>\n",
       "      <th>LotArea</th>\n",
       "      <th>Street</th>\n",
       "      <th>Alley</th>\n",
       "      <th>LotShape</th>\n",
       "      <th>LandContour</th>\n",
       "      <th>Utilities</th>\n",
       "      <th>...</th>\n",
       "      <th>ScreenPorch</th>\n",
       "      <th>PoolArea</th>\n",
       "      <th>PoolQC</th>\n",
       "      <th>Fence</th>\n",
       "      <th>MiscFeature</th>\n",
       "      <th>MiscVal</th>\n",
       "      <th>MoSold</th>\n",
       "      <th>YrSold</th>\n",
       "      <th>SaleType</th>\n",
       "      <th>SaleCondition</th>\n",
       "    </tr>\n",
       "  </thead>\n",
       "  <tbody>\n",
       "    <tr>\n",
       "      <th>0</th>\n",
       "      <td>1461</td>\n",
       "      <td>20</td>\n",
       "      <td>RH</td>\n",
       "      <td>80.0</td>\n",
       "      <td>11622</td>\n",
       "      <td>Pave</td>\n",
       "      <td>NaN</td>\n",
       "      <td>Reg</td>\n",
       "      <td>Lvl</td>\n",
       "      <td>AllPub</td>\n",
       "      <td>...</td>\n",
       "      <td>120</td>\n",
       "      <td>0</td>\n",
       "      <td>NaN</td>\n",
       "      <td>MnPrv</td>\n",
       "      <td>NaN</td>\n",
       "      <td>0</td>\n",
       "      <td>6</td>\n",
       "      <td>2010</td>\n",
       "      <td>WD</td>\n",
       "      <td>Normal</td>\n",
       "    </tr>\n",
       "    <tr>\n",
       "      <th>1</th>\n",
       "      <td>1462</td>\n",
       "      <td>20</td>\n",
       "      <td>RL</td>\n",
       "      <td>81.0</td>\n",
       "      <td>14267</td>\n",
       "      <td>Pave</td>\n",
       "      <td>NaN</td>\n",
       "      <td>IR1</td>\n",
       "      <td>Lvl</td>\n",
       "      <td>AllPub</td>\n",
       "      <td>...</td>\n",
       "      <td>0</td>\n",
       "      <td>0</td>\n",
       "      <td>NaN</td>\n",
       "      <td>NaN</td>\n",
       "      <td>Gar2</td>\n",
       "      <td>12500</td>\n",
       "      <td>6</td>\n",
       "      <td>2010</td>\n",
       "      <td>WD</td>\n",
       "      <td>Normal</td>\n",
       "    </tr>\n",
       "  </tbody>\n",
       "</table>\n",
       "<p>2 rows × 80 columns</p>\n",
       "</div>"
      ],
      "text/plain": [
       "     Id  MSSubClass MSZoning  LotFrontage  LotArea Street Alley LotShape  \\\n",
       "0  1461          20       RH         80.0    11622   Pave   NaN      Reg   \n",
       "1  1462          20       RL         81.0    14267   Pave   NaN      IR1   \n",
       "\n",
       "  LandContour Utilities  ... ScreenPorch PoolArea PoolQC  Fence MiscFeature  \\\n",
       "0         Lvl    AllPub  ...         120        0    NaN  MnPrv         NaN   \n",
       "1         Lvl    AllPub  ...           0        0    NaN    NaN        Gar2   \n",
       "\n",
       "  MiscVal MoSold  YrSold  SaleType  SaleCondition  \n",
       "0       0      6    2010        WD         Normal  \n",
       "1   12500      6    2010        WD         Normal  \n",
       "\n",
       "[2 rows x 80 columns]"
      ]
     },
     "execution_count": 3,
     "metadata": {},
     "output_type": "execute_result"
    }
   ],
   "source": [
    "filetest='datos/test.csv'\n",
    "test=pd.read_csv(filetest)\n",
    "test.head(2)"
   ]
  },
  {
   "cell_type": "markdown",
   "metadata": {},
   "source": [
    "# Ingeniería de datos"
   ]
  },
  {
   "cell_type": "code",
   "execution_count": 4,
   "metadata": {
    "ExecuteTime": {
     "end_time": "2021-08-19T00:23:28.904036Z",
     "start_time": "2021-08-19T00:23:28.860164Z"
    }
   },
   "outputs": [
    {
     "data": {
      "text/plain": [
       "Index(['Id', 'MSSubClass', 'MSZoning', 'LotFrontage', 'LotArea', 'Street',\n",
       "       'Alley', 'LotShape', 'LandContour', 'Utilities', 'LotConfig',\n",
       "       'LandSlope', 'Neighborhood', 'Condition1', 'Condition2', 'BldgType',\n",
       "       'HouseStyle', 'OverallQual', 'OverallCond', 'YearBuilt', 'YearRemodAdd',\n",
       "       'RoofStyle', 'RoofMatl', 'Exterior1st', 'Exterior2nd', 'MasVnrType',\n",
       "       'MasVnrArea', 'ExterQual', 'ExterCond', 'Foundation', 'BsmtQual',\n",
       "       'BsmtCond', 'BsmtExposure', 'BsmtFinType1', 'BsmtFinSF1',\n",
       "       'BsmtFinType2', 'BsmtFinSF2', 'BsmtUnfSF', 'TotalBsmtSF', 'Heating',\n",
       "       'HeatingQC', 'CentralAir', 'Electrical', '1stFlrSF', '2ndFlrSF',\n",
       "       'LowQualFinSF', 'GrLivArea', 'BsmtFullBath', 'BsmtHalfBath', 'FullBath',\n",
       "       'HalfBath', 'BedroomAbvGr', 'KitchenAbvGr', 'KitchenQual',\n",
       "       'TotRmsAbvGrd', 'Functional', 'Fireplaces', 'FireplaceQu', 'GarageType',\n",
       "       'GarageYrBlt', 'GarageFinish', 'GarageCars', 'GarageArea', 'GarageQual',\n",
       "       'GarageCond', 'PavedDrive', 'WoodDeckSF', 'OpenPorchSF',\n",
       "       'EnclosedPorch', '3SsnPorch', 'ScreenPorch', 'PoolArea', 'PoolQC',\n",
       "       'Fence', 'MiscFeature', 'MiscVal', 'MoSold', 'YrSold', 'SaleType',\n",
       "       'SaleCondition', 'SalePrice'],\n",
       "      dtype='object')"
      ]
     },
     "execution_count": 4,
     "metadata": {},
     "output_type": "execute_result"
    }
   ],
   "source": [
    "df.columns"
   ]
  },
  {
   "cell_type": "code",
   "execution_count": 5,
   "metadata": {
    "ExecuteTime": {
     "end_time": "2021-08-19T00:23:31.669768Z",
     "start_time": "2021-08-19T00:23:31.626538Z"
    }
   },
   "outputs": [],
   "source": [
    "varc=[\"LotFrontage\",\"LotArea\",\"MasVnrArea\",\"BsmtFinSF1\",\"BsmtFinSF2\",\"TotalBsmtSF\",\n",
    " \"1stFlrSF\",\"2ndFlrSF\",\"LowQualFinSF\",\"GrLivArea\",\"BsmtFullBath\",\"BsmtHalfBath\",\"BsmtUnfSF\",\"FullBath\",\n",
    " \"HalfBath\",\"BedroomAbvGr\",\"KitchenAbvGr\",\"TotRmsAbvGrd\",\"Fireplaces\",\"GarageCars\",\"GarageArea\",\n",
    " \"WoodDeckSF\",\"OpenPorchSF\",\"EnclosedPorch\",\"3SsnPorch\",\"ScreenPorch\",\"PoolArea\",\"MiscVal\",\"MoSold\",\n",
    " ]\n",
    "tgt=\"SalePrice\"\n",
    "id_='Id'"
   ]
  },
  {
   "cell_type": "markdown",
   "metadata": {
    "ExecuteTime": {
     "end_time": "2021-08-15T01:20:29.466431Z",
     "start_time": "2021-08-15T01:20:29.434881Z"
    }
   },
   "source": [
    "## Análisis de exploratorio e ingenieria de datos"
   ]
  },
  {
   "cell_type": "markdown",
   "metadata": {},
   "source": [
    "### Tratamiento de variables categoricas y fechas"
   ]
  },
  {
   "cell_type": "markdown",
   "metadata": {},
   "source": [
    "A todas las variables que el diccionario indica que sus datos ausente representan en realidad\n",
    "la ausencia de esa caracterisica los rellenamos con un valor en forma de string para poder trabajar con ellos."
   ]
  },
  {
   "cell_type": "code",
   "execution_count": 6,
   "metadata": {
    "ExecuteTime": {
     "end_time": "2021-08-19T00:23:35.437352Z",
     "start_time": "2021-08-19T00:23:35.205489Z"
    }
   },
   "outputs": [],
   "source": [
    "df[\"Alley\"].fillna(value='No',inplace=True)\n",
    "df[\"BsmtQual\"].fillna(value='No',inplace=True)\n",
    "df[\"BsmtCond\"].fillna(value='No',inplace=True)\n",
    "df[\"BsmtExposure\"].fillna(value='No',inplace=True)\n",
    "df[\"BsmtFinType1\"].fillna(value='No',inplace=True)\n",
    "df[\"BsmtFinType2\"].fillna(value='No',inplace=True)\n",
    "df[\"FireplaceQu\"].fillna(value='No',inplace=True)\n",
    "df[\"GarageType\"].fillna(value='No',inplace=True)\n",
    "df[\"GarageFinish\"].fillna(value='No',inplace=True)\n",
    "df[\"GarageQual\"].fillna(value='No',inplace=True)\n",
    "df[\"GarageCond\"].fillna(value='No',inplace=True)\n",
    "df[\"PoolQC\"].fillna(value='No',inplace=True)\n",
    "df[\"Fence\"].fillna(value='No',inplace=True)\n",
    "df[\"MiscFeature\"].fillna(value='No',inplace=True)\n",
    "df[\"MasVnrType\"].fillna(value='No',inplace=True)"
   ]
  },
  {
   "cell_type": "markdown",
   "metadata": {},
   "source": [
    "En la variable MasVnr hay dos tipos de valores ausentes que significan lo mismo."
   ]
  },
  {
   "cell_type": "code",
   "execution_count": 56,
   "metadata": {
    "ExecuteTime": {
     "end_time": "2021-08-19T01:09:48.699032Z",
     "start_time": "2021-08-19T01:09:48.687086Z"
    }
   },
   "outputs": [],
   "source": [
    "df[\"MasVnrType\"].replace({'None':'No'},inplace=True)"
   ]
  },
  {
   "cell_type": "markdown",
   "metadata": {},
   "source": [
    "Los valores 'YearBuilt', 'YearRemodAdd' los sustituiremos por su equivalente en antiguedad y\n",
    "antiguedad de remodelación suponiendo que estamos en el 2011, pues la última venta fue\n",
    "hecha en el 2010."
   ]
  },
  {
   "cell_type": "code",
   "execution_count": 7,
   "metadata": {
    "ExecuteTime": {
     "end_time": "2021-08-19T00:23:38.497654Z",
     "start_time": "2021-08-19T00:23:38.160690Z"
    }
   },
   "outputs": [
    {
     "data": {
      "text/html": [
       "<div>\n",
       "<style scoped>\n",
       "    .dataframe tbody tr th:only-of-type {\n",
       "        vertical-align: middle;\n",
       "    }\n",
       "\n",
       "    .dataframe tbody tr th {\n",
       "        vertical-align: top;\n",
       "    }\n",
       "\n",
       "    .dataframe thead th {\n",
       "        text-align: right;\n",
       "    }\n",
       "</style>\n",
       "<table border=\"1\" class=\"dataframe\">\n",
       "  <thead>\n",
       "    <tr style=\"text-align: right;\">\n",
       "      <th></th>\n",
       "      <th>Id</th>\n",
       "      <th>MSSubClass</th>\n",
       "      <th>MSZoning</th>\n",
       "      <th>LotFrontage</th>\n",
       "      <th>LotArea</th>\n",
       "      <th>Street</th>\n",
       "      <th>Alley</th>\n",
       "      <th>LotShape</th>\n",
       "      <th>LandContour</th>\n",
       "      <th>Utilities</th>\n",
       "      <th>...</th>\n",
       "      <th>MiscFeature</th>\n",
       "      <th>MiscVal</th>\n",
       "      <th>MoSold</th>\n",
       "      <th>YrSold</th>\n",
       "      <th>SaleType</th>\n",
       "      <th>SaleCondition</th>\n",
       "      <th>SalePrice</th>\n",
       "      <th>Antiguedad</th>\n",
       "      <th>Antiguedad_rem</th>\n",
       "      <th>Antig_Garage</th>\n",
       "    </tr>\n",
       "  </thead>\n",
       "  <tbody>\n",
       "    <tr>\n",
       "      <th>0</th>\n",
       "      <td>1</td>\n",
       "      <td>60</td>\n",
       "      <td>RL</td>\n",
       "      <td>65.0</td>\n",
       "      <td>8450</td>\n",
       "      <td>Pave</td>\n",
       "      <td>No</td>\n",
       "      <td>Reg</td>\n",
       "      <td>Lvl</td>\n",
       "      <td>AllPub</td>\n",
       "      <td>...</td>\n",
       "      <td>No</td>\n",
       "      <td>0</td>\n",
       "      <td>2</td>\n",
       "      <td>2008</td>\n",
       "      <td>WD</td>\n",
       "      <td>Normal</td>\n",
       "      <td>208500</td>\n",
       "      <td>8</td>\n",
       "      <td>8</td>\n",
       "      <td>8.0</td>\n",
       "    </tr>\n",
       "    <tr>\n",
       "      <th>1</th>\n",
       "      <td>2</td>\n",
       "      <td>20</td>\n",
       "      <td>RL</td>\n",
       "      <td>80.0</td>\n",
       "      <td>9600</td>\n",
       "      <td>Pave</td>\n",
       "      <td>No</td>\n",
       "      <td>Reg</td>\n",
       "      <td>Lvl</td>\n",
       "      <td>AllPub</td>\n",
       "      <td>...</td>\n",
       "      <td>No</td>\n",
       "      <td>0</td>\n",
       "      <td>5</td>\n",
       "      <td>2007</td>\n",
       "      <td>WD</td>\n",
       "      <td>Normal</td>\n",
       "      <td>181500</td>\n",
       "      <td>35</td>\n",
       "      <td>35</td>\n",
       "      <td>35.0</td>\n",
       "    </tr>\n",
       "  </tbody>\n",
       "</table>\n",
       "<p>2 rows × 81 columns</p>\n",
       "</div>"
      ],
      "text/plain": [
       "   Id  MSSubClass MSZoning  LotFrontage  LotArea Street Alley LotShape  \\\n",
       "0   1          60       RL         65.0     8450   Pave    No      Reg   \n",
       "1   2          20       RL         80.0     9600   Pave    No      Reg   \n",
       "\n",
       "  LandContour Utilities  ... MiscFeature MiscVal MoSold YrSold SaleType  \\\n",
       "0         Lvl    AllPub  ...          No       0      2   2008       WD   \n",
       "1         Lvl    AllPub  ...          No       0      5   2007       WD   \n",
       "\n",
       "  SaleCondition SalePrice  Antiguedad  Antiguedad_rem Antig_Garage  \n",
       "0        Normal    208500           8               8          8.0  \n",
       "1        Normal    181500          35              35         35.0  \n",
       "\n",
       "[2 rows x 81 columns]"
      ]
     },
     "execution_count": 7,
     "metadata": {},
     "output_type": "execute_result"
    }
   ],
   "source": [
    "df['Antiguedad']=2011-df[\"YearBuilt\"]\n",
    "df[\"Antiguedad_rem\"]=2011-df[\"YearRemodAdd\"]\n",
    "df[\"Antig_Garage\"]=2011-df[\"GarageYrBlt\"]\n",
    "df.drop(\"GarageYrBlt\",axis=1,inplace=True)\n",
    "df.drop([\"YearBuilt\",\"YearRemodAdd\"],axis=1,inplace=True)\n",
    "df.head(2)"
   ]
  },
  {
   "cell_type": "code",
   "execution_count": 8,
   "metadata": {
    "ExecuteTime": {
     "end_time": "2021-08-19T00:23:49.723979Z",
     "start_time": "2021-08-19T00:23:49.708355Z"
    }
   },
   "outputs": [],
   "source": [
    "varc=varc+[\"Antiguedad\",\"Antiguedad_rem\",\"Antig_Garage\"]"
   ]
  },
  {
   "cell_type": "markdown",
   "metadata": {},
   "source": [
    "Ahora vamos a crear una lista con las variables discretas."
   ]
  },
  {
   "cell_type": "code",
   "execution_count": 9,
   "metadata": {
    "ExecuteTime": {
     "end_time": "2021-08-19T00:23:52.605855Z",
     "start_time": "2021-08-19T00:23:52.582483Z"
    }
   },
   "outputs": [],
   "source": [
    "vard=[]\n",
    "for col in df.columns:\n",
    "    if( (col not in varc) and col!=tgt and col != id_):\n",
    "        vard.append(col)"
   ]
  },
  {
   "cell_type": "markdown",
   "metadata": {},
   "source": [
    "### Valores ausentes categoricas y OneHotEncoder"
   ]
  },
  {
   "cell_type": "markdown",
   "metadata": {},
   "source": [
    "Vemos que solo hay una variable con un dato ausente."
   ]
  },
  {
   "cell_type": "code",
   "execution_count": 10,
   "metadata": {
    "ExecuteTime": {
     "end_time": "2021-08-19T00:23:58.735060Z",
     "start_time": "2021-08-19T00:23:58.584003Z"
    }
   },
   "outputs": [
    {
     "data": {
      "text/plain": [
       "((1460, 47), (1459, 47))"
      ]
     },
     "execution_count": 10,
     "metadata": {},
     "output_type": "execute_result"
    }
   ],
   "source": [
    "df[vard].shape,df[vard].dropna().shape"
   ]
  },
  {
   "cell_type": "code",
   "execution_count": 11,
   "metadata": {
    "ExecuteTime": {
     "end_time": "2021-08-19T00:24:04.190572Z",
     "start_time": "2021-08-19T00:24:04.133576Z"
    }
   },
   "outputs": [
    {
     "data": {
      "text/html": [
       "<div>\n",
       "<style scoped>\n",
       "    .dataframe tbody tr th:only-of-type {\n",
       "        vertical-align: middle;\n",
       "    }\n",
       "\n",
       "    .dataframe tbody tr th {\n",
       "        vertical-align: top;\n",
       "    }\n",
       "\n",
       "    .dataframe thead th {\n",
       "        text-align: right;\n",
       "    }\n",
       "</style>\n",
       "<table border=\"1\" class=\"dataframe\">\n",
       "  <thead>\n",
       "    <tr style=\"text-align: right;\">\n",
       "      <th></th>\n",
       "      <th>Electrical</th>\n",
       "    </tr>\n",
       "  </thead>\n",
       "  <tbody>\n",
       "    <tr>\n",
       "      <th>1379</th>\n",
       "      <td>NaN</td>\n",
       "    </tr>\n",
       "  </tbody>\n",
       "</table>\n",
       "</div>"
      ],
      "text/plain": [
       "     Electrical\n",
       "1379        NaN"
      ]
     },
     "execution_count": 11,
     "metadata": {},
     "output_type": "execute_result"
    }
   ],
   "source": [
    "df[[\"Electrical\"]][df[\"Electrical\"].isna() == True]"
   ]
  },
  {
   "cell_type": "code",
   "execution_count": 12,
   "metadata": {
    "ExecuteTime": {
     "end_time": "2021-08-19T00:24:36.105052Z",
     "start_time": "2021-08-19T00:24:36.055194Z"
    }
   },
   "outputs": [],
   "source": [
    "df.drop(1379,axis=0,inplace=True)\n",
    "df=df.reset_index(drop=True).copy()"
   ]
  },
  {
   "cell_type": "markdown",
   "metadata": {},
   "source": [
    "Ahora convertiremos las variables discretas en continuas."
   ]
  },
  {
   "cell_type": "code",
   "execution_count": 72,
   "metadata": {
    "ExecuteTime": {
     "end_time": "2021-08-19T01:27:54.167627Z",
     "start_time": "2021-08-19T01:27:53.838284Z"
    }
   },
   "outputs": [],
   "source": [
    "aux = df[vard].copy()\n",
    "oh = OneHotEncoder()\n",
    "oh.fit(aux)\n",
    "X = pd.DataFrame(oh.transform(aux).toarray(),columns=oh.get_feature_names())"
   ]
  },
  {
   "cell_type": "code",
   "execution_count": 74,
   "metadata": {
    "ExecuteTime": {
     "end_time": "2021-08-19T01:28:06.686441Z",
     "start_time": "2021-08-19T01:28:06.638342Z"
    }
   },
   "outputs": [],
   "source": [
    "X=X.assign(Id=df[id_].values)"
   ]
  },
  {
   "cell_type": "markdown",
   "metadata": {},
   "source": [
    "### Valores ausentes continuas"
   ]
  },
  {
   "cell_type": "markdown",
   "metadata": {
    "ExecuteTime": {
     "end_time": "2021-08-19T00:34:36.550794Z",
     "start_time": "2021-08-19T00:34:36.516695Z"
    }
   },
   "source": [
    "Notamos que solo tres variables tienen datos ausentes, más aún, solo dos acaparán la gran mayoría de ellos."
   ]
  },
  {
   "cell_type": "code",
   "execution_count": 41,
   "metadata": {
    "ExecuteTime": {
     "end_time": "2021-08-19T00:57:08.102987Z",
     "start_time": "2021-08-19T00:57:07.549822Z"
    }
   },
   "outputs": [
    {
     "data": {
      "text/html": [
       "<div>\n",
       "<style scoped>\n",
       "    .dataframe tbody tr th:only-of-type {\n",
       "        vertical-align: middle;\n",
       "    }\n",
       "\n",
       "    .dataframe tbody tr th {\n",
       "        vertical-align: top;\n",
       "    }\n",
       "\n",
       "    .dataframe thead th {\n",
       "        text-align: right;\n",
       "    }\n",
       "</style>\n",
       "<table border=\"1\" class=\"dataframe\">\n",
       "  <thead>\n",
       "    <tr style=\"text-align: right;\">\n",
       "      <th></th>\n",
       "      <th>count</th>\n",
       "    </tr>\n",
       "  </thead>\n",
       "  <tbody>\n",
       "    <tr>\n",
       "      <th>LotFrontage</th>\n",
       "      <td>0.822481</td>\n",
       "    </tr>\n",
       "    <tr>\n",
       "      <th>MasVnrArea</th>\n",
       "      <td>0.994517</td>\n",
       "    </tr>\n",
       "    <tr>\n",
       "      <th>Antig_Garage</th>\n",
       "      <td>0.944483</td>\n",
       "    </tr>\n",
       "  </tbody>\n",
       "</table>\n",
       "</div>"
      ],
      "text/plain": [
       "                 count\n",
       "LotFrontage   0.822481\n",
       "MasVnrArea    0.994517\n",
       "Antig_Garage  0.944483"
      ]
     },
     "execution_count": 41,
     "metadata": {},
     "output_type": "execute_result"
    }
   ],
   "source": [
    "aux=(1-(len(df)-df[varc].describe().T[['count']])/len(df))\n",
    "aux[aux['count']<1]"
   ]
  },
  {
   "cell_type": "markdown",
   "metadata": {},
   "source": [
    "Esta variable la llenaremos con 0 por que las otras variables que tenian None estabán llenas con cero\n",
    "indicando que no tienen esa area."
   ]
  },
  {
   "cell_type": "code",
   "execution_count": 63,
   "metadata": {
    "ExecuteTime": {
     "end_time": "2021-08-19T01:16:53.504926Z",
     "start_time": "2021-08-19T01:16:53.477510Z"
    }
   },
   "outputs": [],
   "source": [
    "df['MasVnrArea'].fillna(value=0,inplace=True)"
   ]
  },
  {
   "cell_type": "markdown",
   "metadata": {},
   "source": [
    "Para el caso de la antiguedad del Garage no podemos hacer esto, por que notamos que todos los ausentes se deben a que no hay garage, así que las posibilidades que tenemos son la imputación o bien eliminar las 81 filas."
   ]
  },
  {
   "cell_type": "code",
   "execution_count": 66,
   "metadata": {
    "ExecuteTime": {
     "end_time": "2021-08-19T01:19:02.766726Z",
     "start_time": "2021-08-19T01:19:02.714368Z"
    }
   },
   "outputs": [
    {
     "data": {
      "text/plain": [
       "39     NaN\n",
       "48     NaN\n",
       "78     NaN\n",
       "88     NaN\n",
       "89     NaN\n",
       "        ..\n",
       "1349   NaN\n",
       "1406   NaN\n",
       "1448   NaN\n",
       "1449   NaN\n",
       "1452   NaN\n",
       "Name: Antig_Garage, Length: 81, dtype: float64"
      ]
     },
     "execution_count": 66,
     "metadata": {},
     "output_type": "execute_result"
    }
   ],
   "source": [
    "df[df['GarageFinish']=='No'][\"Antig_Garage\"]"
   ]
  },
  {
   "cell_type": "markdown",
   "metadata": {},
   "source": [
    "En el caso de LotFrontage no es claro a que se debe su ausencia por lo que recurriremos a la imputación."
   ]
  },
  {
   "cell_type": "code",
   "execution_count": 67,
   "metadata": {
    "ExecuteTime": {
     "end_time": "2021-08-19T01:25:39.969677Z",
     "start_time": "2021-08-19T01:25:39.855971Z"
    }
   },
   "outputs": [],
   "source": [
    "aux=df[varc]\n",
    "im = SimpleImputer(strategy='median')\n",
    "im.fit(aux)\n",
    "Xc = pd.DataFrame(im.transform(aux),columns=varc)"
   ]
  },
  {
   "cell_type": "markdown",
   "metadata": {},
   "source": [
    "En la prueba de bondad de ajuste vemos que ninguna variable se rompió."
   ]
  },
  {
   "cell_type": "code",
   "execution_count": 71,
   "metadata": {
    "ExecuteTime": {
     "end_time": "2021-08-19T01:26:43.128828Z",
     "start_time": "2021-08-19T01:26:42.553166Z"
    }
   },
   "outputs": [
    {
     "data": {
      "text/html": [
       "<div>\n",
       "<style scoped>\n",
       "    .dataframe tbody tr th:only-of-type {\n",
       "        vertical-align: middle;\n",
       "    }\n",
       "\n",
       "    .dataframe tbody tr th {\n",
       "        vertical-align: top;\n",
       "    }\n",
       "\n",
       "    .dataframe thead th {\n",
       "        text-align: right;\n",
       "    }\n",
       "</style>\n",
       "<table border=\"1\" class=\"dataframe\">\n",
       "  <thead>\n",
       "    <tr style=\"text-align: right;\">\n",
       "      <th></th>\n",
       "      <th>variable</th>\n",
       "      <th>ks</th>\n",
       "    </tr>\n",
       "  </thead>\n",
       "  <tbody>\n",
       "  </tbody>\n",
       "</table>\n",
       "</div>"
      ],
      "text/plain": [
       "Empty DataFrame\n",
       "Columns: [variable, ks]\n",
       "Index: []"
      ]
     },
     "execution_count": 71,
     "metadata": {},
     "output_type": "execute_result"
    }
   ],
   "source": [
    "#Prueba de Kolmogorov-Smirnov (Prueba de bondad de ajuste que verifica que dos distribuciones son estadísticamente iguales)k\n",
    "ks = pd.DataFrame(map(lambda v: (v,ks_2samp(aux[v].dropna(),Xc[v]).statistic),varc),columns=['variable','ks'])\n",
    "ks.loc[ks['ks']>.1]"
   ]
  },
  {
   "cell_type": "code",
   "execution_count": 75,
   "metadata": {
    "ExecuteTime": {
     "end_time": "2021-08-19T01:28:30.855210Z",
     "start_time": "2021-08-19T01:28:30.825667Z"
    }
   },
   "outputs": [],
   "source": [
    "Xc=Xc.assign(Id=df[id_].values)"
   ]
  },
  {
   "cell_type": "code",
   "execution_count": 87,
   "metadata": {
    "ExecuteTime": {
     "end_time": "2021-08-19T01:38:34.817920Z",
     "start_time": "2021-08-19T01:38:34.776403Z"
    }
   },
   "outputs": [],
   "source": [
    "tad = Xc.merge(X,on=id_,how='inner')"
   ]
  },
  {
   "cell_type": "code",
   "execution_count": 92,
   "metadata": {
    "ExecuteTime": {
     "end_time": "2021-08-19T01:38:58.345229Z",
     "start_time": "2021-08-19T01:38:58.332408Z"
    }
   },
   "outputs": [],
   "source": [
    "varc=list(tad.columns)"
   ]
  },
  {
   "cell_type": "code",
   "execution_count": 93,
   "metadata": {
    "ExecuteTime": {
     "end_time": "2021-08-19T01:38:59.940213Z",
     "start_time": "2021-08-19T01:38:59.911486Z"
    }
   },
   "outputs": [],
   "source": [
    "tad=tad.assign(SalesPrice=df[tgt].values)"
   ]
  },
  {
   "cell_type": "markdown",
   "metadata": {},
   "source": [
    "### Unarias"
   ]
  },
  {
   "cell_type": "code",
   "execution_count": 94,
   "metadata": {
    "ExecuteTime": {
     "end_time": "2021-08-19T01:39:05.121620Z",
     "start_time": "2021-08-19T01:39:04.754259Z"
    }
   },
   "outputs": [
    {
     "data": {
      "text/plain": [
       "[]"
      ]
     },
     "execution_count": 94,
     "metadata": {},
     "output_type": "execute_result"
    }
   ],
   "source": [
    "unarias = [v for v,n in [(v,tad[v].unique().shape[0]) for v in varc] if n ==1 ]\n",
    "unarias"
   ]
  },
  {
   "cell_type": "markdown",
   "metadata": {},
   "source": [
    "### Valores extremos"
   ]
  },
  {
   "cell_type": "code",
   "execution_count": 105,
   "metadata": {
    "ExecuteTime": {
     "end_time": "2021-08-19T01:45:25.158987Z",
     "start_time": "2021-08-19T01:45:21.664019Z"
    }
   },
   "outputs": [],
   "source": [
    "limites=tad.describe(percentiles=[0.01,0.99]).T[['1%','99%']].reset_index().values.tolist()"
   ]
  },
  {
   "cell_type": "code",
   "execution_count": 107,
   "metadata": {
    "ExecuteTime": {
     "end_time": "2021-08-19T01:48:30.027713Z",
     "start_time": "2021-08-19T01:48:28.164506Z"
    }
   },
   "outputs": [],
   "source": [
    "for v,li,ls in limites:\n",
    "    tad['ol_{}'.format(v)]= ((tad[v]<li)|(tad[v]>ls)).astype(int)"
   ]
  },
  {
   "cell_type": "code",
   "execution_count": 109,
   "metadata": {
    "ExecuteTime": {
     "end_time": "2021-08-19T01:48:57.142512Z",
     "start_time": "2021-08-19T01:48:57.064233Z"
    },
    "collapsed": true
   },
   "outputs": [
    {
     "data": {
      "text/plain": [
       "['ol_LotFrontage',\n",
       " 'ol_LotArea',\n",
       " 'ol_MasVnrArea',\n",
       " 'ol_BsmtFinSF1',\n",
       " 'ol_BsmtFinSF2',\n",
       " 'ol_TotalBsmtSF',\n",
       " 'ol_1stFlrSF',\n",
       " 'ol_2ndFlrSF',\n",
       " 'ol_LowQualFinSF',\n",
       " 'ol_GrLivArea',\n",
       " 'ol_BsmtFullBath',\n",
       " 'ol_BsmtHalfBath',\n",
       " 'ol_BsmtUnfSF',\n",
       " 'ol_FullBath',\n",
       " 'ol_HalfBath',\n",
       " 'ol_BedroomAbvGr',\n",
       " 'ol_KitchenAbvGr',\n",
       " 'ol_TotRmsAbvGrd',\n",
       " 'ol_Fireplaces',\n",
       " 'ol_GarageCars',\n",
       " 'ol_GarageArea',\n",
       " 'ol_WoodDeckSF',\n",
       " 'ol_OpenPorchSF',\n",
       " 'ol_EnclosedPorch',\n",
       " 'ol_3SsnPorch',\n",
       " 'ol_ScreenPorch',\n",
       " 'ol_PoolArea',\n",
       " 'ol_MiscVal',\n",
       " 'ol_MoSold',\n",
       " 'ol_Antiguedad',\n",
       " 'ol_Antiguedad_rem',\n",
       " 'ol_Antig_Garage',\n",
       " 'ol_Id',\n",
       " 'ol_x0_20',\n",
       " 'ol_x0_30',\n",
       " 'ol_x0_40',\n",
       " 'ol_x0_45',\n",
       " 'ol_x0_50',\n",
       " 'ol_x0_60',\n",
       " 'ol_x0_70',\n",
       " 'ol_x0_75',\n",
       " 'ol_x0_80',\n",
       " 'ol_x0_85',\n",
       " 'ol_x0_90',\n",
       " 'ol_x0_120',\n",
       " 'ol_x0_160',\n",
       " 'ol_x0_180',\n",
       " 'ol_x0_190',\n",
       " 'ol_x1_C (all)',\n",
       " 'ol_x1_FV',\n",
       " 'ol_x1_RH',\n",
       " 'ol_x1_RL',\n",
       " 'ol_x1_RM',\n",
       " 'ol_x2_Grvl',\n",
       " 'ol_x2_Pave',\n",
       " 'ol_x3_Grvl',\n",
       " 'ol_x3_No',\n",
       " 'ol_x3_Pave',\n",
       " 'ol_x4_IR1',\n",
       " 'ol_x4_IR2',\n",
       " 'ol_x4_IR3',\n",
       " 'ol_x4_Reg',\n",
       " 'ol_x5_Bnk',\n",
       " 'ol_x5_HLS',\n",
       " 'ol_x5_Low',\n",
       " 'ol_x5_Lvl',\n",
       " 'ol_x6_AllPub',\n",
       " 'ol_x6_NoSeWa',\n",
       " 'ol_x7_Corner',\n",
       " 'ol_x7_CulDSac',\n",
       " 'ol_x7_FR2',\n",
       " 'ol_x7_FR3',\n",
       " 'ol_x7_Inside',\n",
       " 'ol_x8_Gtl',\n",
       " 'ol_x8_Mod',\n",
       " 'ol_x8_Sev',\n",
       " 'ol_x9_Blmngtn',\n",
       " 'ol_x9_Blueste',\n",
       " 'ol_x9_BrDale',\n",
       " 'ol_x9_BrkSide',\n",
       " 'ol_x9_ClearCr',\n",
       " 'ol_x9_CollgCr',\n",
       " 'ol_x9_Crawfor',\n",
       " 'ol_x9_Edwards',\n",
       " 'ol_x9_Gilbert',\n",
       " 'ol_x9_IDOTRR',\n",
       " 'ol_x9_MeadowV',\n",
       " 'ol_x9_Mitchel',\n",
       " 'ol_x9_NAmes',\n",
       " 'ol_x9_NPkVill',\n",
       " 'ol_x9_NWAmes',\n",
       " 'ol_x9_NoRidge',\n",
       " 'ol_x9_NridgHt',\n",
       " 'ol_x9_OldTown',\n",
       " 'ol_x9_SWISU',\n",
       " 'ol_x9_Sawyer',\n",
       " 'ol_x9_SawyerW',\n",
       " 'ol_x9_Somerst',\n",
       " 'ol_x9_StoneBr',\n",
       " 'ol_x9_Timber',\n",
       " 'ol_x9_Veenker',\n",
       " 'ol_x10_Artery',\n",
       " 'ol_x10_Feedr',\n",
       " 'ol_x10_Norm',\n",
       " 'ol_x10_PosA',\n",
       " 'ol_x10_PosN',\n",
       " 'ol_x10_RRAe',\n",
       " 'ol_x10_RRAn',\n",
       " 'ol_x10_RRNe',\n",
       " 'ol_x10_RRNn',\n",
       " 'ol_x11_Artery',\n",
       " 'ol_x11_Feedr',\n",
       " 'ol_x11_Norm',\n",
       " 'ol_x11_PosA',\n",
       " 'ol_x11_PosN',\n",
       " 'ol_x11_RRAe',\n",
       " 'ol_x11_RRAn',\n",
       " 'ol_x11_RRNn',\n",
       " 'ol_x12_1Fam',\n",
       " 'ol_x12_2fmCon',\n",
       " 'ol_x12_Duplex',\n",
       " 'ol_x12_Twnhs',\n",
       " 'ol_x12_TwnhsE',\n",
       " 'ol_x13_1.5Fin',\n",
       " 'ol_x13_1.5Unf',\n",
       " 'ol_x13_1Story',\n",
       " 'ol_x13_2.5Fin',\n",
       " 'ol_x13_2.5Unf',\n",
       " 'ol_x13_2Story',\n",
       " 'ol_x13_SFoyer',\n",
       " 'ol_x13_SLvl',\n",
       " 'ol_x14_1',\n",
       " 'ol_x14_2',\n",
       " 'ol_x14_3',\n",
       " 'ol_x14_4',\n",
       " 'ol_x14_5',\n",
       " 'ol_x14_6',\n",
       " 'ol_x14_7',\n",
       " 'ol_x14_8',\n",
       " 'ol_x14_9',\n",
       " 'ol_x14_10',\n",
       " 'ol_x15_1',\n",
       " 'ol_x15_2',\n",
       " 'ol_x15_3',\n",
       " 'ol_x15_4',\n",
       " 'ol_x15_5',\n",
       " 'ol_x15_6',\n",
       " 'ol_x15_7',\n",
       " 'ol_x15_8',\n",
       " 'ol_x15_9',\n",
       " 'ol_x16_Flat',\n",
       " 'ol_x16_Gable',\n",
       " 'ol_x16_Gambrel',\n",
       " 'ol_x16_Hip',\n",
       " 'ol_x16_Mansard',\n",
       " 'ol_x16_Shed',\n",
       " 'ol_x17_ClyTile',\n",
       " 'ol_x17_CompShg',\n",
       " 'ol_x17_Membran',\n",
       " 'ol_x17_Metal',\n",
       " 'ol_x17_Roll',\n",
       " 'ol_x17_Tar&Grv',\n",
       " 'ol_x17_WdShake',\n",
       " 'ol_x17_WdShngl',\n",
       " 'ol_x18_AsbShng',\n",
       " 'ol_x18_AsphShn',\n",
       " 'ol_x18_BrkComm',\n",
       " 'ol_x18_BrkFace',\n",
       " 'ol_x18_CBlock',\n",
       " 'ol_x18_CemntBd',\n",
       " 'ol_x18_HdBoard',\n",
       " 'ol_x18_ImStucc',\n",
       " 'ol_x18_MetalSd',\n",
       " 'ol_x18_Plywood',\n",
       " 'ol_x18_Stone',\n",
       " 'ol_x18_Stucco',\n",
       " 'ol_x18_VinylSd',\n",
       " 'ol_x18_Wd Sdng',\n",
       " 'ol_x18_WdShing',\n",
       " 'ol_x19_AsbShng',\n",
       " 'ol_x19_AsphShn',\n",
       " 'ol_x19_Brk Cmn',\n",
       " 'ol_x19_BrkFace',\n",
       " 'ol_x19_CBlock',\n",
       " 'ol_x19_CmentBd',\n",
       " 'ol_x19_HdBoard',\n",
       " 'ol_x19_ImStucc',\n",
       " 'ol_x19_MetalSd',\n",
       " 'ol_x19_Other',\n",
       " 'ol_x19_Plywood',\n",
       " 'ol_x19_Stone',\n",
       " 'ol_x19_Stucco',\n",
       " 'ol_x19_VinylSd',\n",
       " 'ol_x19_Wd Sdng',\n",
       " 'ol_x19_Wd Shng',\n",
       " 'ol_x20_BrkCmn',\n",
       " 'ol_x20_BrkFace',\n",
       " 'ol_x20_No',\n",
       " 'ol_x20_Stone',\n",
       " 'ol_x21_Ex',\n",
       " 'ol_x21_Fa',\n",
       " 'ol_x21_Gd',\n",
       " 'ol_x21_TA',\n",
       " 'ol_x22_Ex',\n",
       " 'ol_x22_Fa',\n",
       " 'ol_x22_Gd',\n",
       " 'ol_x22_Po',\n",
       " 'ol_x22_TA',\n",
       " 'ol_x23_BrkTil',\n",
       " 'ol_x23_CBlock',\n",
       " 'ol_x23_PConc',\n",
       " 'ol_x23_Slab',\n",
       " 'ol_x23_Stone',\n",
       " 'ol_x23_Wood',\n",
       " 'ol_x24_Ex',\n",
       " 'ol_x24_Fa',\n",
       " 'ol_x24_Gd',\n",
       " 'ol_x24_No',\n",
       " 'ol_x24_TA',\n",
       " 'ol_x25_Fa',\n",
       " 'ol_x25_Gd',\n",
       " 'ol_x25_No',\n",
       " 'ol_x25_Po',\n",
       " 'ol_x25_TA',\n",
       " 'ol_x26_Av',\n",
       " 'ol_x26_Gd',\n",
       " 'ol_x26_Mn',\n",
       " 'ol_x26_No',\n",
       " 'ol_x27_ALQ',\n",
       " 'ol_x27_BLQ',\n",
       " 'ol_x27_GLQ',\n",
       " 'ol_x27_LwQ',\n",
       " 'ol_x27_No',\n",
       " 'ol_x27_Rec',\n",
       " 'ol_x27_Unf',\n",
       " 'ol_x28_ALQ',\n",
       " 'ol_x28_BLQ',\n",
       " 'ol_x28_GLQ',\n",
       " 'ol_x28_LwQ',\n",
       " 'ol_x28_No',\n",
       " 'ol_x28_Rec',\n",
       " 'ol_x28_Unf',\n",
       " 'ol_x29_Floor',\n",
       " 'ol_x29_GasA',\n",
       " 'ol_x29_GasW',\n",
       " 'ol_x29_Grav',\n",
       " 'ol_x29_OthW',\n",
       " 'ol_x29_Wall',\n",
       " 'ol_x30_Ex',\n",
       " 'ol_x30_Fa',\n",
       " 'ol_x30_Gd',\n",
       " 'ol_x30_Po',\n",
       " 'ol_x30_TA',\n",
       " 'ol_x31_N',\n",
       " 'ol_x31_Y',\n",
       " 'ol_x32_FuseA',\n",
       " 'ol_x32_FuseF',\n",
       " 'ol_x32_FuseP',\n",
       " 'ol_x32_Mix',\n",
       " 'ol_x32_SBrkr',\n",
       " 'ol_x33_Ex',\n",
       " 'ol_x33_Fa',\n",
       " 'ol_x33_Gd',\n",
       " 'ol_x33_TA',\n",
       " 'ol_x34_Maj1',\n",
       " 'ol_x34_Maj2',\n",
       " 'ol_x34_Min1',\n",
       " 'ol_x34_Min2',\n",
       " 'ol_x34_Mod',\n",
       " 'ol_x34_Sev',\n",
       " 'ol_x34_Typ',\n",
       " 'ol_x35_Ex',\n",
       " 'ol_x35_Fa',\n",
       " 'ol_x35_Gd',\n",
       " 'ol_x35_No',\n",
       " 'ol_x35_Po',\n",
       " 'ol_x35_TA',\n",
       " 'ol_x36_2Types',\n",
       " 'ol_x36_Attchd',\n",
       " 'ol_x36_Basment',\n",
       " 'ol_x36_BuiltIn',\n",
       " 'ol_x36_CarPort',\n",
       " 'ol_x36_Detchd',\n",
       " 'ol_x36_No',\n",
       " 'ol_x37_Fin',\n",
       " 'ol_x37_No',\n",
       " 'ol_x37_RFn',\n",
       " 'ol_x37_Unf',\n",
       " 'ol_x38_Ex',\n",
       " 'ol_x38_Fa',\n",
       " 'ol_x38_Gd',\n",
       " 'ol_x38_No',\n",
       " 'ol_x38_Po',\n",
       " 'ol_x38_TA',\n",
       " 'ol_x39_Ex',\n",
       " 'ol_x39_Fa',\n",
       " 'ol_x39_Gd',\n",
       " 'ol_x39_No',\n",
       " 'ol_x39_Po',\n",
       " 'ol_x39_TA',\n",
       " 'ol_x40_N',\n",
       " 'ol_x40_P',\n",
       " 'ol_x40_Y',\n",
       " 'ol_x41_Ex',\n",
       " 'ol_x41_Fa',\n",
       " 'ol_x41_Gd',\n",
       " 'ol_x41_No',\n",
       " 'ol_x42_GdPrv',\n",
       " 'ol_x42_GdWo',\n",
       " 'ol_x42_MnPrv',\n",
       " 'ol_x42_MnWw',\n",
       " 'ol_x42_No',\n",
       " 'ol_x43_Gar2',\n",
       " 'ol_x43_No',\n",
       " 'ol_x43_Othr',\n",
       " 'ol_x43_Shed',\n",
       " 'ol_x43_TenC',\n",
       " 'ol_x44_2006',\n",
       " 'ol_x44_2007',\n",
       " 'ol_x44_2008',\n",
       " 'ol_x44_2009',\n",
       " 'ol_x44_2010',\n",
       " 'ol_x45_COD',\n",
       " 'ol_x45_CWD',\n",
       " 'ol_x45_Con',\n",
       " 'ol_x45_ConLD',\n",
       " 'ol_x45_ConLI',\n",
       " 'ol_x45_ConLw',\n",
       " 'ol_x45_New',\n",
       " 'ol_x45_Oth',\n",
       " 'ol_x45_WD',\n",
       " 'ol_x46_Abnorml',\n",
       " 'ol_x46_AdjLand',\n",
       " 'ol_x46_Alloca',\n",
       " 'ol_x46_Family',\n",
       " 'ol_x46_Normal',\n",
       " 'ol_x46_Partial',\n",
       " 'ol_SalesPrice']"
      ]
     },
     "execution_count": 109,
     "metadata": {},
     "output_type": "execute_result"
    }
   ],
   "source": [
    "varo = [v for v in tad.columns if v[:2]=='ol']\n",
    "varo"
   ]
  },
  {
   "cell_type": "code",
   "execution_count": 112,
   "metadata": {
    "ExecuteTime": {
     "end_time": "2021-08-19T01:51:00.108540Z",
     "start_time": "2021-08-19T01:51:00.063793Z"
    }
   },
   "outputs": [],
   "source": [
    "#Captura las filas con valores extremos\n",
    "tad['ext'] = tad[varo].max(axis=1)"
   ]
  },
  {
   "cell_type": "code",
   "execution_count": 118,
   "metadata": {
    "ExecuteTime": {
     "end_time": "2021-08-19T01:54:40.962732Z",
     "start_time": "2021-08-19T01:54:40.841124Z"
    }
   },
   "outputs": [
    {
     "data": {
      "text/plain": [
       "ol_LotFrontage    15\n",
       "ol_LotArea        22\n",
       "ol_MasVnrArea     15\n",
       "ol_BsmtFinSF1     15\n",
       "ol_BsmtFinSF2     15\n",
       "                  ..\n",
       "ol_x46_Alloca     12\n",
       "ol_x46_Family      0\n",
       "ol_x46_Normal      0\n",
       "ol_x46_Partial     0\n",
       "ol_SalesPrice     30\n",
       "Length: 338, dtype: int64"
      ]
     },
     "execution_count": 118,
     "metadata": {},
     "output_type": "execute_result"
    }
   ],
   "source": [
    "tad[varo].sum()"
   ]
  },
  {
   "cell_type": "code",
   "execution_count": 116,
   "metadata": {
    "ExecuteTime": {
     "end_time": "2021-08-19T01:51:25.315783Z",
     "start_time": "2021-08-19T01:51:25.289122Z"
    }
   },
   "outputs": [
    {
     "data": {
      "text/plain": [
       "1459"
      ]
     },
     "execution_count": 116,
     "metadata": {},
     "output_type": "execute_result"
    }
   ],
   "source": [
    "len(tad)"
   ]
  }
 ],
 "metadata": {
  "kernelspec": {
   "display_name": "env",
   "language": "python",
   "name": "env"
  },
  "language_info": {
   "codemirror_mode": {
    "name": "ipython",
    "version": 3
   },
   "file_extension": ".py",
   "mimetype": "text/x-python",
   "name": "python",
   "nbconvert_exporter": "python",
   "pygments_lexer": "ipython3",
   "version": "3.7.3"
  },
  "notify_time": "10",
  "toc": {
   "base_numbering": 1,
   "nav_menu": {},
   "number_sections": true,
   "sideBar": true,
   "skip_h1_title": false,
   "title_cell": "Table of Contents",
   "title_sidebar": "Contents",
   "toc_cell": false,
   "toc_position": {},
   "toc_section_display": true,
   "toc_window_display": true
  }
 },
 "nbformat": 4,
 "nbformat_minor": 4
}
