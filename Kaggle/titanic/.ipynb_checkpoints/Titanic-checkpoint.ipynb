{
 "cells": [
  {
   "cell_type": "code",
   "execution_count": 214,
   "metadata": {
    "ExecuteTime": {
     "end_time": "2021-02-16T03:25:17.073419Z",
     "start_time": "2021-02-16T03:25:17.038430Z"
    }
   },
   "outputs": [],
   "source": [
    "import numpy as np\n",
    "import pandas as pd\n",
    "\n",
    "from sklearn.linear_model import Perceptron,PassiveAggressiveClassifier\n",
    "from sklearn.svm import SVC\n",
    "from sklearn.metrics import roc_auc_score,accuracy_score,confusion_matrix\n",
    "from sklearn.model_selection import train_test_split,GridSearchCV,RandomizedSearchCV\n",
    "from sklearn.metrics import confusion_matrix\n",
    "from scikitplot.metrics import plot_roc_curve\n",
    "\n",
    "from sklearn.preprocessing import StandardScaler,MinMaxScaler\n",
    "\n",
    "import os\n",
    "from functools import reduce\n",
    "\n",
    "import seaborn as sns\n",
    "%matplotlib inline\n"
   ]
  },
  {
   "cell_type": "markdown",
   "metadata": {
    "ExecuteTime": {
     "end_time": "2021-02-09T03:23:30.561505Z",
     "start_time": "2021-02-09T03:23:30.544245Z"
    }
   },
   "source": [
    "# Lectura de datos"
   ]
  },
  {
   "cell_type": "code",
   "execution_count": 215,
   "metadata": {
    "ExecuteTime": {
     "end_time": "2021-02-16T03:25:17.209517Z",
     "start_time": "2021-02-16T03:25:17.092768Z"
    }
   },
   "outputs": [
    {
     "data": {
      "text/plain": [
       "['/home/oszwaldo/Documentos/Projects/Kaggle/titanic/prueba.csv',\n",
       " '/home/oszwaldo/Documentos/Projects/Kaggle/titanic/gender_submission.csv',\n",
       " '/home/oszwaldo/Documentos/Projects/Kaggle/titanic/test.csv',\n",
       " '/home/oszwaldo/Documentos/Projects/Kaggle/titanic/train.csv']"
      ]
     },
     "execution_count": 215,
     "metadata": {},
     "output_type": "execute_result"
    }
   ],
   "source": [
    "ruta='/home/oszwaldo/Documentos/Projects/Kaggle/titanic'\n",
    "\n",
    "l_arch=[os.path.join(ruta,a) for a in os.listdir(ruta) if a.endswith('.csv') ]\n",
    "l_arch"
   ]
  },
  {
   "cell_type": "code",
   "execution_count": 216,
   "metadata": {
    "ExecuteTime": {
     "end_time": "2021-02-16T03:25:17.351188Z",
     "start_time": "2021-02-16T03:25:17.219137Z"
    }
   },
   "outputs": [
    {
     "data": {
      "text/html": [
       "<div>\n",
       "<style scoped>\n",
       "    .dataframe tbody tr th:only-of-type {\n",
       "        vertical-align: middle;\n",
       "    }\n",
       "\n",
       "    .dataframe tbody tr th {\n",
       "        vertical-align: top;\n",
       "    }\n",
       "\n",
       "    .dataframe thead th {\n",
       "        text-align: right;\n",
       "    }\n",
       "</style>\n",
       "<table border=\"1\" class=\"dataframe\">\n",
       "  <thead>\n",
       "    <tr style=\"text-align: right;\">\n",
       "      <th></th>\n",
       "      <th>PassengerId</th>\n",
       "      <th>Survived</th>\n",
       "      <th>Pclass</th>\n",
       "      <th>Name</th>\n",
       "      <th>Sex</th>\n",
       "      <th>Age</th>\n",
       "      <th>SibSp</th>\n",
       "      <th>Parch</th>\n",
       "      <th>Ticket</th>\n",
       "      <th>Fare</th>\n",
       "      <th>Cabin</th>\n",
       "      <th>Embarked</th>\n",
       "    </tr>\n",
       "  </thead>\n",
       "  <tbody>\n",
       "    <tr>\n",
       "      <th>0</th>\n",
       "      <td>1</td>\n",
       "      <td>0</td>\n",
       "      <td>3</td>\n",
       "      <td>Braund, Mr. Owen Harris</td>\n",
       "      <td>male</td>\n",
       "      <td>22.0</td>\n",
       "      <td>1</td>\n",
       "      <td>0</td>\n",
       "      <td>A/5 21171</td>\n",
       "      <td>7.2500</td>\n",
       "      <td>NaN</td>\n",
       "      <td>S</td>\n",
       "    </tr>\n",
       "    <tr>\n",
       "      <th>1</th>\n",
       "      <td>2</td>\n",
       "      <td>1</td>\n",
       "      <td>1</td>\n",
       "      <td>Cumings, Mrs. John Bradley (Florence Briggs Th...</td>\n",
       "      <td>female</td>\n",
       "      <td>38.0</td>\n",
       "      <td>1</td>\n",
       "      <td>0</td>\n",
       "      <td>PC 17599</td>\n",
       "      <td>71.2833</td>\n",
       "      <td>C85</td>\n",
       "      <td>C</td>\n",
       "    </tr>\n",
       "    <tr>\n",
       "      <th>2</th>\n",
       "      <td>3</td>\n",
       "      <td>1</td>\n",
       "      <td>3</td>\n",
       "      <td>Heikkinen, Miss. Laina</td>\n",
       "      <td>female</td>\n",
       "      <td>26.0</td>\n",
       "      <td>0</td>\n",
       "      <td>0</td>\n",
       "      <td>STON/O2. 3101282</td>\n",
       "      <td>7.9250</td>\n",
       "      <td>NaN</td>\n",
       "      <td>S</td>\n",
       "    </tr>\n",
       "    <tr>\n",
       "      <th>3</th>\n",
       "      <td>4</td>\n",
       "      <td>1</td>\n",
       "      <td>1</td>\n",
       "      <td>Futrelle, Mrs. Jacques Heath (Lily May Peel)</td>\n",
       "      <td>female</td>\n",
       "      <td>35.0</td>\n",
       "      <td>1</td>\n",
       "      <td>0</td>\n",
       "      <td>113803</td>\n",
       "      <td>53.1000</td>\n",
       "      <td>C123</td>\n",
       "      <td>S</td>\n",
       "    </tr>\n",
       "    <tr>\n",
       "      <th>4</th>\n",
       "      <td>5</td>\n",
       "      <td>0</td>\n",
       "      <td>3</td>\n",
       "      <td>Allen, Mr. William Henry</td>\n",
       "      <td>male</td>\n",
       "      <td>35.0</td>\n",
       "      <td>0</td>\n",
       "      <td>0</td>\n",
       "      <td>373450</td>\n",
       "      <td>8.0500</td>\n",
       "      <td>NaN</td>\n",
       "      <td>S</td>\n",
       "    </tr>\n",
       "  </tbody>\n",
       "</table>\n",
       "</div>"
      ],
      "text/plain": [
       "   PassengerId  Survived  Pclass  \\\n",
       "0            1         0       3   \n",
       "1            2         1       1   \n",
       "2            3         1       3   \n",
       "3            4         1       1   \n",
       "4            5         0       3   \n",
       "\n",
       "                                                Name     Sex   Age  SibSp  \\\n",
       "0                            Braund, Mr. Owen Harris    male  22.0      1   \n",
       "1  Cumings, Mrs. John Bradley (Florence Briggs Th...  female  38.0      1   \n",
       "2                             Heikkinen, Miss. Laina  female  26.0      0   \n",
       "3       Futrelle, Mrs. Jacques Heath (Lily May Peel)  female  35.0      1   \n",
       "4                           Allen, Mr. William Henry    male  35.0      0   \n",
       "\n",
       "   Parch            Ticket     Fare Cabin Embarked  \n",
       "0      0         A/5 21171   7.2500   NaN        S  \n",
       "1      0          PC 17599  71.2833   C85        C  \n",
       "2      0  STON/O2. 3101282   7.9250   NaN        S  \n",
       "3      0            113803  53.1000  C123        S  \n",
       "4      0            373450   8.0500   NaN        S  "
      ]
     },
     "execution_count": 216,
     "metadata": {},
     "output_type": "execute_result"
    }
   ],
   "source": [
    "df = pd.read_csv(l_arch[-1])\n",
    "df.head()"
   ]
  },
  {
   "cell_type": "code",
   "execution_count": 217,
   "metadata": {
    "ExecuteTime": {
     "end_time": "2021-02-16T03:25:17.388601Z",
     "start_time": "2021-02-16T03:25:17.366066Z"
    }
   },
   "outputs": [],
   "source": [
    "vard=['Pclass','Sex','Embarked'] # Cabin tal vez\n",
    "varori=['Age','SibSp','Parch','Fare'] # variables continuas originales\n",
    "um='PassengerId'\n",
    "tgt='Survived'\n",
    "#df[varc].head()"
   ]
  },
  {
   "cell_type": "code",
   "execution_count": 218,
   "metadata": {
    "ExecuteTime": {
     "end_time": "2021-02-16T03:25:17.541074Z",
     "start_time": "2021-02-16T03:25:17.399621Z"
    }
   },
   "outputs": [
    {
     "data": {
      "text/html": [
       "<div>\n",
       "<style scoped>\n",
       "    .dataframe tbody tr th:only-of-type {\n",
       "        vertical-align: middle;\n",
       "    }\n",
       "\n",
       "    .dataframe tbody tr th {\n",
       "        vertical-align: top;\n",
       "    }\n",
       "\n",
       "    .dataframe thead th {\n",
       "        text-align: right;\n",
       "    }\n",
       "</style>\n",
       "<table border=\"1\" class=\"dataframe\">\n",
       "  <thead>\n",
       "    <tr style=\"text-align: right;\">\n",
       "      <th></th>\n",
       "      <th>PassengerId</th>\n",
       "      <th>Pclass</th>\n",
       "      <th>Sex</th>\n",
       "      <th>Embarked</th>\n",
       "    </tr>\n",
       "  </thead>\n",
       "  <tbody>\n",
       "    <tr>\n",
       "      <th>0</th>\n",
       "      <td>1</td>\n",
       "      <td>3</td>\n",
       "      <td>male</td>\n",
       "      <td>S</td>\n",
       "    </tr>\n",
       "    <tr>\n",
       "      <th>1</th>\n",
       "      <td>2</td>\n",
       "      <td>1</td>\n",
       "      <td>female</td>\n",
       "      <td>C</td>\n",
       "    </tr>\n",
       "  </tbody>\n",
       "</table>\n",
       "</div>"
      ],
      "text/plain": [
       "   PassengerId  Pclass     Sex Embarked\n",
       "0            1       3    male        S\n",
       "1            2       1  female        C"
      ]
     },
     "execution_count": 218,
     "metadata": {},
     "output_type": "execute_result"
    }
   ],
   "source": [
    "df.loc[:,[um]+vard].head(2)"
   ]
  },
  {
   "cell_type": "markdown",
   "metadata": {
    "ExecuteTime": {
     "end_time": "2021-02-09T03:34:23.308615Z",
     "start_time": "2021-02-09T03:34:23.265901Z"
    }
   },
   "source": [
    "# Ingeniería de datos"
   ]
  },
  {
   "cell_type": "code",
   "execution_count": 219,
   "metadata": {
    "ExecuteTime": {
     "end_time": "2021-02-16T03:25:17.621513Z",
     "start_time": "2021-02-16T03:25:17.560255Z"
    }
   },
   "outputs": [],
   "source": [
    "def trans(df,v,varori):\n",
    "    aux=df.pivot_table(index=um,columns=v,values=varori,aggfunc=['min','max','mean','std','sum']).fillna(0)\n",
    "    aux.columns=[\"v_\"+v+\"_\"+\"\".join(str(x[2]))+\"_\"+\"\".join(x[1])+\"_\"+\"\".join(x[0]) for x in aux.columns]\n",
    "    return aux"
   ]
  },
  {
   "cell_type": "code",
   "execution_count": 220,
   "metadata": {
    "ExecuteTime": {
     "end_time": "2021-02-16T03:25:18.702408Z",
     "start_time": "2021-02-16T03:25:17.649069Z"
    }
   },
   "outputs": [],
   "source": [
    "# Parte necesaria para los nuevos datos\n",
    "X=reduce(lambda x,y:pd.merge(x,y,on=um,how='outer'), map(lambda v:trans(df,v,varori),vard) )\n",
    "# Se definen nuevas variables continuas\n",
    "varc=[a for a in X.columns if a[:2]=='v_']"
   ]
  },
  {
   "cell_type": "code",
   "execution_count": 221,
   "metadata": {
    "ExecuteTime": {
     "end_time": "2021-02-16T03:25:18.799022Z",
     "start_time": "2021-02-16T03:25:18.707191Z"
    }
   },
   "outputs": [
    {
     "data": {
      "text/html": [
       "<div>\n",
       "<style scoped>\n",
       "    .dataframe tbody tr th:only-of-type {\n",
       "        vertical-align: middle;\n",
       "    }\n",
       "\n",
       "    .dataframe tbody tr th {\n",
       "        vertical-align: top;\n",
       "    }\n",
       "\n",
       "    .dataframe thead th {\n",
       "        text-align: right;\n",
       "    }\n",
       "</style>\n",
       "<table border=\"1\" class=\"dataframe\">\n",
       "  <thead>\n",
       "    <tr style=\"text-align: right;\">\n",
       "      <th></th>\n",
       "      <th>v_Pclass_1_Age_min</th>\n",
       "      <th>v_Pclass_2_Age_min</th>\n",
       "      <th>v_Pclass_3_Age_min</th>\n",
       "      <th>v_Pclass_1_Fare_min</th>\n",
       "      <th>v_Pclass_2_Fare_min</th>\n",
       "      <th>v_Pclass_3_Fare_min</th>\n",
       "      <th>v_Pclass_1_Parch_min</th>\n",
       "      <th>v_Pclass_2_Parch_min</th>\n",
       "      <th>v_Pclass_3_Parch_min</th>\n",
       "      <th>v_Pclass_1_SibSp_min</th>\n",
       "      <th>...</th>\n",
       "      <th>v_Embarked_S_Age_sum</th>\n",
       "      <th>v_Embarked_C_Fare_sum</th>\n",
       "      <th>v_Embarked_Q_Fare_sum</th>\n",
       "      <th>v_Embarked_S_Fare_sum</th>\n",
       "      <th>v_Embarked_C_Parch_sum</th>\n",
       "      <th>v_Embarked_Q_Parch_sum</th>\n",
       "      <th>v_Embarked_S_Parch_sum</th>\n",
       "      <th>v_Embarked_C_SibSp_sum</th>\n",
       "      <th>v_Embarked_Q_SibSp_sum</th>\n",
       "      <th>v_Embarked_S_SibSp_sum</th>\n",
       "    </tr>\n",
       "    <tr>\n",
       "      <th>PassengerId</th>\n",
       "      <th></th>\n",
       "      <th></th>\n",
       "      <th></th>\n",
       "      <th></th>\n",
       "      <th></th>\n",
       "      <th></th>\n",
       "      <th></th>\n",
       "      <th></th>\n",
       "      <th></th>\n",
       "      <th></th>\n",
       "      <th></th>\n",
       "      <th></th>\n",
       "      <th></th>\n",
       "      <th></th>\n",
       "      <th></th>\n",
       "      <th></th>\n",
       "      <th></th>\n",
       "      <th></th>\n",
       "      <th></th>\n",
       "      <th></th>\n",
       "      <th></th>\n",
       "    </tr>\n",
       "  </thead>\n",
       "  <tbody>\n",
       "    <tr>\n",
       "      <th>1</th>\n",
       "      <td>0.0</td>\n",
       "      <td>0.0</td>\n",
       "      <td>22.0</td>\n",
       "      <td>0.0000</td>\n",
       "      <td>0.0</td>\n",
       "      <td>7.25</td>\n",
       "      <td>0.0</td>\n",
       "      <td>0.0</td>\n",
       "      <td>0.0</td>\n",
       "      <td>0.0</td>\n",
       "      <td>...</td>\n",
       "      <td>22.0</td>\n",
       "      <td>0.0000</td>\n",
       "      <td>0.0</td>\n",
       "      <td>7.25</td>\n",
       "      <td>0.0</td>\n",
       "      <td>0.0</td>\n",
       "      <td>0.0</td>\n",
       "      <td>0.0</td>\n",
       "      <td>0.0</td>\n",
       "      <td>1.0</td>\n",
       "    </tr>\n",
       "    <tr>\n",
       "      <th>2</th>\n",
       "      <td>38.0</td>\n",
       "      <td>0.0</td>\n",
       "      <td>0.0</td>\n",
       "      <td>71.2833</td>\n",
       "      <td>0.0</td>\n",
       "      <td>0.00</td>\n",
       "      <td>0.0</td>\n",
       "      <td>0.0</td>\n",
       "      <td>0.0</td>\n",
       "      <td>1.0</td>\n",
       "      <td>...</td>\n",
       "      <td>0.0</td>\n",
       "      <td>71.2833</td>\n",
       "      <td>0.0</td>\n",
       "      <td>0.00</td>\n",
       "      <td>0.0</td>\n",
       "      <td>0.0</td>\n",
       "      <td>0.0</td>\n",
       "      <td>1.0</td>\n",
       "      <td>0.0</td>\n",
       "      <td>0.0</td>\n",
       "    </tr>\n",
       "  </tbody>\n",
       "</table>\n",
       "<p>2 rows × 128 columns</p>\n",
       "</div>"
      ],
      "text/plain": [
       "             v_Pclass_1_Age_min  v_Pclass_2_Age_min  v_Pclass_3_Age_min  \\\n",
       "PassengerId                                                               \n",
       "1                           0.0                 0.0                22.0   \n",
       "2                          38.0                 0.0                 0.0   \n",
       "\n",
       "             v_Pclass_1_Fare_min  v_Pclass_2_Fare_min  v_Pclass_3_Fare_min  \\\n",
       "PassengerId                                                                  \n",
       "1                         0.0000                  0.0                 7.25   \n",
       "2                        71.2833                  0.0                 0.00   \n",
       "\n",
       "             v_Pclass_1_Parch_min  v_Pclass_2_Parch_min  v_Pclass_3_Parch_min  \\\n",
       "PassengerId                                                                     \n",
       "1                             0.0                   0.0                   0.0   \n",
       "2                             0.0                   0.0                   0.0   \n",
       "\n",
       "             v_Pclass_1_SibSp_min  ...  v_Embarked_S_Age_sum  \\\n",
       "PassengerId                        ...                         \n",
       "1                             0.0  ...                  22.0   \n",
       "2                             1.0  ...                   0.0   \n",
       "\n",
       "             v_Embarked_C_Fare_sum  v_Embarked_Q_Fare_sum  \\\n",
       "PassengerId                                                 \n",
       "1                           0.0000                    0.0   \n",
       "2                          71.2833                    0.0   \n",
       "\n",
       "             v_Embarked_S_Fare_sum  v_Embarked_C_Parch_sum  \\\n",
       "PassengerId                                                  \n",
       "1                             7.25                     0.0   \n",
       "2                             0.00                     0.0   \n",
       "\n",
       "             v_Embarked_Q_Parch_sum  v_Embarked_S_Parch_sum  \\\n",
       "PassengerId                                                   \n",
       "1                               0.0                     0.0   \n",
       "2                               0.0                     0.0   \n",
       "\n",
       "             v_Embarked_C_SibSp_sum  v_Embarked_Q_SibSp_sum  \\\n",
       "PassengerId                                                   \n",
       "1                               0.0                     0.0   \n",
       "2                               1.0                     0.0   \n",
       "\n",
       "             v_Embarked_S_SibSp_sum  \n",
       "PassengerId                          \n",
       "1                               1.0  \n",
       "2                               0.0  \n",
       "\n",
       "[2 rows x 128 columns]"
      ]
     },
     "execution_count": 221,
     "metadata": {},
     "output_type": "execute_result"
    }
   ],
   "source": [
    "X.head(2)"
   ]
  },
  {
   "cell_type": "code",
   "execution_count": 222,
   "metadata": {
    "ExecuteTime": {
     "end_time": "2021-02-16T03:25:40.240644Z",
     "start_time": "2021-02-16T03:25:40.181061Z"
    }
   },
   "outputs": [
    {
     "data": {
      "text/plain": [
       "(891, 130)"
      ]
     },
     "execution_count": 222,
     "metadata": {},
     "output_type": "execute_result"
    }
   ],
   "source": [
    "tad=pd.merge(X,df[[um]+[tgt]],on=um,how=\"inner\")\n",
    "tad.shape"
   ]
  },
  {
   "cell_type": "markdown",
   "metadata": {},
   "source": [
    "# Análisis exploratorio"
   ]
  },
  {
   "cell_type": "markdown",
   "metadata": {},
   "source": [
    "## Missings"
   ]
  },
  {
   "cell_type": "code",
   "execution_count": 223,
   "metadata": {
    "ExecuteTime": {
     "end_time": "2021-02-16T03:25:47.907116Z",
     "start_time": "2021-02-16T03:25:46.886399Z"
    },
    "collapsed": true
   },
   "outputs": [
    {
     "data": {
      "text/html": [
       "<div>\n",
       "<style scoped>\n",
       "    .dataframe tbody tr th:only-of-type {\n",
       "        vertical-align: middle;\n",
       "    }\n",
       "\n",
       "    .dataframe tbody tr th {\n",
       "        vertical-align: top;\n",
       "    }\n",
       "\n",
       "    .dataframe thead th {\n",
       "        text-align: right;\n",
       "    }\n",
       "</style>\n",
       "<table border=\"1\" class=\"dataframe\">\n",
       "  <thead>\n",
       "    <tr style=\"text-align: right;\">\n",
       "      <th></th>\n",
       "      <th>count</th>\n",
       "    </tr>\n",
       "  </thead>\n",
       "  <tbody>\n",
       "    <tr>\n",
       "      <th>v_Pclass_1_Age_min</th>\n",
       "      <td>0.000000</td>\n",
       "    </tr>\n",
       "    <tr>\n",
       "      <th>v_Pclass_2_Age_min</th>\n",
       "      <td>0.000000</td>\n",
       "    </tr>\n",
       "    <tr>\n",
       "      <th>v_Pclass_3_Age_min</th>\n",
       "      <td>0.000000</td>\n",
       "    </tr>\n",
       "    <tr>\n",
       "      <th>v_Pclass_1_Fare_min</th>\n",
       "      <td>0.000000</td>\n",
       "    </tr>\n",
       "    <tr>\n",
       "      <th>v_Pclass_2_Fare_min</th>\n",
       "      <td>0.000000</td>\n",
       "    </tr>\n",
       "    <tr>\n",
       "      <th>...</th>\n",
       "      <td>...</td>\n",
       "    </tr>\n",
       "    <tr>\n",
       "      <th>v_Embarked_Q_Parch_sum</th>\n",
       "      <td>0.002245</td>\n",
       "    </tr>\n",
       "    <tr>\n",
       "      <th>v_Embarked_S_Parch_sum</th>\n",
       "      <td>0.002245</td>\n",
       "    </tr>\n",
       "    <tr>\n",
       "      <th>v_Embarked_C_SibSp_sum</th>\n",
       "      <td>0.002245</td>\n",
       "    </tr>\n",
       "    <tr>\n",
       "      <th>v_Embarked_Q_SibSp_sum</th>\n",
       "      <td>0.002245</td>\n",
       "    </tr>\n",
       "    <tr>\n",
       "      <th>v_Embarked_S_SibSp_sum</th>\n",
       "      <td>0.002245</td>\n",
       "    </tr>\n",
       "  </tbody>\n",
       "</table>\n",
       "<p>128 rows × 1 columns</p>\n",
       "</div>"
      ],
      "text/plain": [
       "                           count\n",
       "v_Pclass_1_Age_min      0.000000\n",
       "v_Pclass_2_Age_min      0.000000\n",
       "v_Pclass_3_Age_min      0.000000\n",
       "v_Pclass_1_Fare_min     0.000000\n",
       "v_Pclass_2_Fare_min     0.000000\n",
       "...                          ...\n",
       "v_Embarked_Q_Parch_sum  0.002245\n",
       "v_Embarked_S_Parch_sum  0.002245\n",
       "v_Embarked_C_SibSp_sum  0.002245\n",
       "v_Embarked_Q_SibSp_sum  0.002245\n",
       "v_Embarked_S_SibSp_sum  0.002245\n",
       "\n",
       "[128 rows x 1 columns]"
      ]
     },
     "execution_count": 223,
     "metadata": {},
     "output_type": "execute_result"
    }
   ],
   "source": [
    "miss=1-tad[varc].describe().T[['count']]/len(tad)\n",
    "miss"
   ]
  },
  {
   "cell_type": "code",
   "execution_count": 119,
   "metadata": {
    "ExecuteTime": {
     "end_time": "2021-02-16T03:11:48.318673Z",
     "start_time": "2021-02-16T03:11:48.293643Z"
    }
   },
   "outputs": [
    {
     "data": {
      "text/plain": [
       "((891, 130), (889, 130))"
      ]
     },
     "execution_count": 119,
     "metadata": {},
     "output_type": "execute_result"
    }
   ],
   "source": [
    "tad.shape,tad.dropna().shape"
   ]
  },
  {
   "cell_type": "code",
   "execution_count": 224,
   "metadata": {
    "ExecuteTime": {
     "end_time": "2021-02-16T03:25:52.274242Z",
     "start_time": "2021-02-16T03:25:52.170605Z"
    }
   },
   "outputs": [
    {
     "data": {
      "text/html": [
       "<div>\n",
       "<style scoped>\n",
       "    .dataframe tbody tr th:only-of-type {\n",
       "        vertical-align: middle;\n",
       "    }\n",
       "\n",
       "    .dataframe tbody tr th {\n",
       "        vertical-align: top;\n",
       "    }\n",
       "\n",
       "    .dataframe thead th {\n",
       "        text-align: right;\n",
       "    }\n",
       "</style>\n",
       "<table border=\"1\" class=\"dataframe\">\n",
       "  <thead>\n",
       "    <tr style=\"text-align: right;\">\n",
       "      <th></th>\n",
       "      <th>PassengerId</th>\n",
       "      <th>v_Pclass_1_Age_min</th>\n",
       "      <th>v_Pclass_2_Age_min</th>\n",
       "      <th>v_Pclass_3_Age_min</th>\n",
       "      <th>v_Pclass_1_Fare_min</th>\n",
       "      <th>v_Pclass_2_Fare_min</th>\n",
       "      <th>v_Pclass_3_Fare_min</th>\n",
       "      <th>v_Pclass_1_Parch_min</th>\n",
       "      <th>v_Pclass_2_Parch_min</th>\n",
       "      <th>v_Pclass_3_Parch_min</th>\n",
       "      <th>...</th>\n",
       "      <th>v_Embarked_C_Fare_sum</th>\n",
       "      <th>v_Embarked_Q_Fare_sum</th>\n",
       "      <th>v_Embarked_S_Fare_sum</th>\n",
       "      <th>v_Embarked_C_Parch_sum</th>\n",
       "      <th>v_Embarked_Q_Parch_sum</th>\n",
       "      <th>v_Embarked_S_Parch_sum</th>\n",
       "      <th>v_Embarked_C_SibSp_sum</th>\n",
       "      <th>v_Embarked_Q_SibSp_sum</th>\n",
       "      <th>v_Embarked_S_SibSp_sum</th>\n",
       "      <th>Survived</th>\n",
       "    </tr>\n",
       "  </thead>\n",
       "  <tbody>\n",
       "    <tr>\n",
       "      <th>884</th>\n",
       "      <td>887</td>\n",
       "      <td>0.0</td>\n",
       "      <td>27.0</td>\n",
       "      <td>0.0</td>\n",
       "      <td>0.0</td>\n",
       "      <td>13.0</td>\n",
       "      <td>0.00</td>\n",
       "      <td>0.0</td>\n",
       "      <td>0.0</td>\n",
       "      <td>0.0</td>\n",
       "      <td>...</td>\n",
       "      <td>0.0</td>\n",
       "      <td>0.00</td>\n",
       "      <td>13.00</td>\n",
       "      <td>0.0</td>\n",
       "      <td>0.0</td>\n",
       "      <td>0.0</td>\n",
       "      <td>0.0</td>\n",
       "      <td>0.0</td>\n",
       "      <td>0.0</td>\n",
       "      <td>0</td>\n",
       "    </tr>\n",
       "    <tr>\n",
       "      <th>885</th>\n",
       "      <td>888</td>\n",
       "      <td>19.0</td>\n",
       "      <td>0.0</td>\n",
       "      <td>0.0</td>\n",
       "      <td>30.0</td>\n",
       "      <td>0.0</td>\n",
       "      <td>0.00</td>\n",
       "      <td>0.0</td>\n",
       "      <td>0.0</td>\n",
       "      <td>0.0</td>\n",
       "      <td>...</td>\n",
       "      <td>0.0</td>\n",
       "      <td>0.00</td>\n",
       "      <td>30.00</td>\n",
       "      <td>0.0</td>\n",
       "      <td>0.0</td>\n",
       "      <td>0.0</td>\n",
       "      <td>0.0</td>\n",
       "      <td>0.0</td>\n",
       "      <td>0.0</td>\n",
       "      <td>1</td>\n",
       "    </tr>\n",
       "    <tr>\n",
       "      <th>886</th>\n",
       "      <td>889</td>\n",
       "      <td>0.0</td>\n",
       "      <td>0.0</td>\n",
       "      <td>0.0</td>\n",
       "      <td>0.0</td>\n",
       "      <td>0.0</td>\n",
       "      <td>23.45</td>\n",
       "      <td>0.0</td>\n",
       "      <td>0.0</td>\n",
       "      <td>2.0</td>\n",
       "      <td>...</td>\n",
       "      <td>0.0</td>\n",
       "      <td>0.00</td>\n",
       "      <td>23.45</td>\n",
       "      <td>0.0</td>\n",
       "      <td>0.0</td>\n",
       "      <td>2.0</td>\n",
       "      <td>0.0</td>\n",
       "      <td>0.0</td>\n",
       "      <td>1.0</td>\n",
       "      <td>0</td>\n",
       "    </tr>\n",
       "    <tr>\n",
       "      <th>887</th>\n",
       "      <td>890</td>\n",
       "      <td>26.0</td>\n",
       "      <td>0.0</td>\n",
       "      <td>0.0</td>\n",
       "      <td>30.0</td>\n",
       "      <td>0.0</td>\n",
       "      <td>0.00</td>\n",
       "      <td>0.0</td>\n",
       "      <td>0.0</td>\n",
       "      <td>0.0</td>\n",
       "      <td>...</td>\n",
       "      <td>30.0</td>\n",
       "      <td>0.00</td>\n",
       "      <td>0.00</td>\n",
       "      <td>0.0</td>\n",
       "      <td>0.0</td>\n",
       "      <td>0.0</td>\n",
       "      <td>0.0</td>\n",
       "      <td>0.0</td>\n",
       "      <td>0.0</td>\n",
       "      <td>1</td>\n",
       "    </tr>\n",
       "    <tr>\n",
       "      <th>888</th>\n",
       "      <td>891</td>\n",
       "      <td>0.0</td>\n",
       "      <td>0.0</td>\n",
       "      <td>32.0</td>\n",
       "      <td>0.0</td>\n",
       "      <td>0.0</td>\n",
       "      <td>7.75</td>\n",
       "      <td>0.0</td>\n",
       "      <td>0.0</td>\n",
       "      <td>0.0</td>\n",
       "      <td>...</td>\n",
       "      <td>0.0</td>\n",
       "      <td>7.75</td>\n",
       "      <td>0.00</td>\n",
       "      <td>0.0</td>\n",
       "      <td>0.0</td>\n",
       "      <td>0.0</td>\n",
       "      <td>0.0</td>\n",
       "      <td>0.0</td>\n",
       "      <td>0.0</td>\n",
       "      <td>0</td>\n",
       "    </tr>\n",
       "  </tbody>\n",
       "</table>\n",
       "<p>5 rows × 130 columns</p>\n",
       "</div>"
      ],
      "text/plain": [
       "     PassengerId  v_Pclass_1_Age_min  v_Pclass_2_Age_min  v_Pclass_3_Age_min  \\\n",
       "884          887                 0.0                27.0                 0.0   \n",
       "885          888                19.0                 0.0                 0.0   \n",
       "886          889                 0.0                 0.0                 0.0   \n",
       "887          890                26.0                 0.0                 0.0   \n",
       "888          891                 0.0                 0.0                32.0   \n",
       "\n",
       "     v_Pclass_1_Fare_min  v_Pclass_2_Fare_min  v_Pclass_3_Fare_min  \\\n",
       "884                  0.0                 13.0                 0.00   \n",
       "885                 30.0                  0.0                 0.00   \n",
       "886                  0.0                  0.0                23.45   \n",
       "887                 30.0                  0.0                 0.00   \n",
       "888                  0.0                  0.0                 7.75   \n",
       "\n",
       "     v_Pclass_1_Parch_min  v_Pclass_2_Parch_min  v_Pclass_3_Parch_min  ...  \\\n",
       "884                   0.0                   0.0                   0.0  ...   \n",
       "885                   0.0                   0.0                   0.0  ...   \n",
       "886                   0.0                   0.0                   2.0  ...   \n",
       "887                   0.0                   0.0                   0.0  ...   \n",
       "888                   0.0                   0.0                   0.0  ...   \n",
       "\n",
       "     v_Embarked_C_Fare_sum  v_Embarked_Q_Fare_sum  v_Embarked_S_Fare_sum  \\\n",
       "884                    0.0                   0.00                  13.00   \n",
       "885                    0.0                   0.00                  30.00   \n",
       "886                    0.0                   0.00                  23.45   \n",
       "887                   30.0                   0.00                   0.00   \n",
       "888                    0.0                   7.75                   0.00   \n",
       "\n",
       "     v_Embarked_C_Parch_sum  v_Embarked_Q_Parch_sum  v_Embarked_S_Parch_sum  \\\n",
       "884                     0.0                     0.0                     0.0   \n",
       "885                     0.0                     0.0                     0.0   \n",
       "886                     0.0                     0.0                     2.0   \n",
       "887                     0.0                     0.0                     0.0   \n",
       "888                     0.0                     0.0                     0.0   \n",
       "\n",
       "     v_Embarked_C_SibSp_sum  v_Embarked_Q_SibSp_sum  v_Embarked_S_SibSp_sum  \\\n",
       "884                     0.0                     0.0                     0.0   \n",
       "885                     0.0                     0.0                     0.0   \n",
       "886                     0.0                     0.0                     1.0   \n",
       "887                     0.0                     0.0                     0.0   \n",
       "888                     0.0                     0.0                     0.0   \n",
       "\n",
       "     Survived  \n",
       "884         0  \n",
       "885         1  \n",
       "886         0  \n",
       "887         1  \n",
       "888         0  \n",
       "\n",
       "[5 rows x 130 columns]"
      ]
     },
     "execution_count": 224,
     "metadata": {},
     "output_type": "execute_result"
    }
   ],
   "source": [
    "tad=tad.dropna().reset_index(drop=True)\n",
    "tad.tail()"
   ]
  },
  {
   "cell_type": "markdown",
   "metadata": {},
   "source": [
    "## Extremos"
   ]
  },
  {
   "cell_type": "code",
   "execution_count": 225,
   "metadata": {
    "ExecuteTime": {
     "end_time": "2021-02-16T03:25:56.657124Z",
     "start_time": "2021-02-16T03:25:55.009523Z"
    }
   },
   "outputs": [],
   "source": [
    "ol = tad[varc].describe(percentiles=[0.01,0.99]).T[['1%','99%']].reset_index().values.tolist()\n",
    "for v,li,ls in ol:\n",
    "    tad['ol_%s'%v] = ((tad[v]<li)|(tad[v]>ls)).astype(int)"
   ]
  },
  {
   "cell_type": "code",
   "execution_count": 226,
   "metadata": {
    "ExecuteTime": {
     "end_time": "2021-02-16T03:25:58.576811Z",
     "start_time": "2021-02-16T03:25:58.553851Z"
    }
   },
   "outputs": [],
   "source": [
    "varo = [v for v in tad.columns if v[:2]=='ol']\n",
    "tad['ext'] = tad[varo].max(axis=1)"
   ]
  },
  {
   "cell_type": "code",
   "execution_count": 227,
   "metadata": {
    "ExecuteTime": {
     "end_time": "2021-02-16T03:25:59.967026Z",
     "start_time": "2021-02-16T03:25:59.950726Z"
    }
   },
   "outputs": [],
   "source": [
    "tad.drop(varo,axis=1,inplace=True)"
   ]
  },
  {
   "cell_type": "code",
   "execution_count": 228,
   "metadata": {
    "ExecuteTime": {
     "end_time": "2021-02-16T03:26:01.248772Z",
     "start_time": "2021-02-16T03:26:01.151840Z"
    }
   },
   "outputs": [
    {
     "data": {
      "text/html": [
       "<div>\n",
       "<style scoped>\n",
       "    .dataframe tbody tr th:only-of-type {\n",
       "        vertical-align: middle;\n",
       "    }\n",
       "\n",
       "    .dataframe tbody tr th {\n",
       "        vertical-align: top;\n",
       "    }\n",
       "\n",
       "    .dataframe thead th {\n",
       "        text-align: right;\n",
       "    }\n",
       "</style>\n",
       "<table border=\"1\" class=\"dataframe\">\n",
       "  <thead>\n",
       "    <tr style=\"text-align: right;\">\n",
       "      <th></th>\n",
       "      <th>PassengerId</th>\n",
       "      <th>v_Pclass_1_Age_min</th>\n",
       "      <th>v_Pclass_2_Age_min</th>\n",
       "      <th>v_Pclass_3_Age_min</th>\n",
       "      <th>v_Pclass_1_Fare_min</th>\n",
       "      <th>v_Pclass_2_Fare_min</th>\n",
       "      <th>v_Pclass_3_Fare_min</th>\n",
       "      <th>v_Pclass_1_Parch_min</th>\n",
       "      <th>v_Pclass_2_Parch_min</th>\n",
       "      <th>v_Pclass_3_Parch_min</th>\n",
       "      <th>...</th>\n",
       "      <th>v_Embarked_Q_Fare_sum</th>\n",
       "      <th>v_Embarked_S_Fare_sum</th>\n",
       "      <th>v_Embarked_C_Parch_sum</th>\n",
       "      <th>v_Embarked_Q_Parch_sum</th>\n",
       "      <th>v_Embarked_S_Parch_sum</th>\n",
       "      <th>v_Embarked_C_SibSp_sum</th>\n",
       "      <th>v_Embarked_Q_SibSp_sum</th>\n",
       "      <th>v_Embarked_S_SibSp_sum</th>\n",
       "      <th>Survived</th>\n",
       "      <th>ext</th>\n",
       "    </tr>\n",
       "  </thead>\n",
       "  <tbody>\n",
       "    <tr>\n",
       "      <th>0</th>\n",
       "      <td>1</td>\n",
       "      <td>0.0</td>\n",
       "      <td>0.0</td>\n",
       "      <td>22.0</td>\n",
       "      <td>0.0000</td>\n",
       "      <td>0.0</td>\n",
       "      <td>7.25</td>\n",
       "      <td>0.0</td>\n",
       "      <td>0.0</td>\n",
       "      <td>0.0</td>\n",
       "      <td>...</td>\n",
       "      <td>0.0</td>\n",
       "      <td>7.25</td>\n",
       "      <td>0.0</td>\n",
       "      <td>0.0</td>\n",
       "      <td>0.0</td>\n",
       "      <td>0.0</td>\n",
       "      <td>0.0</td>\n",
       "      <td>1.0</td>\n",
       "      <td>0</td>\n",
       "      <td>0</td>\n",
       "    </tr>\n",
       "    <tr>\n",
       "      <th>1</th>\n",
       "      <td>2</td>\n",
       "      <td>38.0</td>\n",
       "      <td>0.0</td>\n",
       "      <td>0.0</td>\n",
       "      <td>71.2833</td>\n",
       "      <td>0.0</td>\n",
       "      <td>0.00</td>\n",
       "      <td>0.0</td>\n",
       "      <td>0.0</td>\n",
       "      <td>0.0</td>\n",
       "      <td>...</td>\n",
       "      <td>0.0</td>\n",
       "      <td>0.00</td>\n",
       "      <td>0.0</td>\n",
       "      <td>0.0</td>\n",
       "      <td>0.0</td>\n",
       "      <td>1.0</td>\n",
       "      <td>0.0</td>\n",
       "      <td>0.0</td>\n",
       "      <td>1</td>\n",
       "      <td>0</td>\n",
       "    </tr>\n",
       "  </tbody>\n",
       "</table>\n",
       "<p>2 rows × 131 columns</p>\n",
       "</div>"
      ],
      "text/plain": [
       "   PassengerId  v_Pclass_1_Age_min  v_Pclass_2_Age_min  v_Pclass_3_Age_min  \\\n",
       "0            1                 0.0                 0.0                22.0   \n",
       "1            2                38.0                 0.0                 0.0   \n",
       "\n",
       "   v_Pclass_1_Fare_min  v_Pclass_2_Fare_min  v_Pclass_3_Fare_min  \\\n",
       "0               0.0000                  0.0                 7.25   \n",
       "1              71.2833                  0.0                 0.00   \n",
       "\n",
       "   v_Pclass_1_Parch_min  v_Pclass_2_Parch_min  v_Pclass_3_Parch_min  ...  \\\n",
       "0                   0.0                   0.0                   0.0  ...   \n",
       "1                   0.0                   0.0                   0.0  ...   \n",
       "\n",
       "   v_Embarked_Q_Fare_sum  v_Embarked_S_Fare_sum  v_Embarked_C_Parch_sum  \\\n",
       "0                    0.0                   7.25                     0.0   \n",
       "1                    0.0                   0.00                     0.0   \n",
       "\n",
       "   v_Embarked_Q_Parch_sum  v_Embarked_S_Parch_sum  v_Embarked_C_SibSp_sum  \\\n",
       "0                     0.0                     0.0                     0.0   \n",
       "1                     0.0                     0.0                     1.0   \n",
       "\n",
       "   v_Embarked_Q_SibSp_sum  v_Embarked_S_SibSp_sum  Survived  ext  \n",
       "0                     0.0                     1.0         0    0  \n",
       "1                     0.0                     0.0         1    0  \n",
       "\n",
       "[2 rows x 131 columns]"
      ]
     },
     "execution_count": 228,
     "metadata": {},
     "output_type": "execute_result"
    }
   ],
   "source": [
    "tad.head(2)"
   ]
  },
  {
   "cell_type": "code",
   "execution_count": 229,
   "metadata": {
    "ExecuteTime": {
     "end_time": "2021-02-16T03:26:04.088747Z",
     "start_time": "2021-02-16T03:26:04.069112Z"
    }
   },
   "outputs": [],
   "source": [
    "# Nos quedamos solo con las filas que no son extremas\n",
    "tad=tad.loc[tad.ext==0].reset_index(drop=True).drop('ext',axis=1)"
   ]
  },
  {
   "cell_type": "code",
   "execution_count": 230,
   "metadata": {
    "ExecuteTime": {
     "end_time": "2021-02-16T03:26:06.029743Z",
     "start_time": "2021-02-16T03:26:05.011791Z"
    }
   },
   "outputs": [],
   "source": [
    "# Eliminación de columnas innecesarias o unarias\n",
    "mat=tad[varc].describe().T[['max']]\n",
    "columnas=mat.loc[mat['max']<=1].T.columns.to_list()\n",
    "tad=tad.drop(columnas,axis=1)\n",
    "varc=[a for a in tad.columns if a[:2]=='v_']"
   ]
  },
  {
   "cell_type": "markdown",
   "metadata": {},
   "source": [
    "## Correlación"
   ]
  },
  {
   "cell_type": "code",
   "execution_count": 231,
   "metadata": {
    "ExecuteTime": {
     "end_time": "2021-02-16T03:26:08.412067Z",
     "start_time": "2021-02-16T03:26:07.875792Z"
    }
   },
   "outputs": [],
   "source": [
    "mat=tad[varc].corr()\n",
    "n=len(mat)\n",
    "li=0.90\n",
    "nom=[]\n",
    "for i in range(1,n):\n",
    "    if(mat.iloc[i].name in nom):\n",
    "        continue\n",
    "    for j in range(i+1,n):\n",
    "        if(mat.iloc[i,j]>li or mat.iloc[i,j]<(-li)):\n",
    "            nom.append(mat.iloc[:,j].name)\n",
    "tad=tad.drop(nom,axis=1)\n",
    "varc=[a for a in tad.columns if a[:2]=='v_']"
   ]
  },
  {
   "cell_type": "code",
   "execution_count": 232,
   "metadata": {
    "ExecuteTime": {
     "end_time": "2021-02-16T03:26:11.207821Z",
     "start_time": "2021-02-16T03:26:11.117734Z"
    },
    "scrolled": true
   },
   "outputs": [
    {
     "data": {
      "text/html": [
       "<div>\n",
       "<style scoped>\n",
       "    .dataframe tbody tr th:only-of-type {\n",
       "        vertical-align: middle;\n",
       "    }\n",
       "\n",
       "    .dataframe tbody tr th {\n",
       "        vertical-align: top;\n",
       "    }\n",
       "\n",
       "    .dataframe thead th {\n",
       "        text-align: right;\n",
       "    }\n",
       "</style>\n",
       "<table border=\"1\" class=\"dataframe\">\n",
       "  <thead>\n",
       "    <tr style=\"text-align: right;\">\n",
       "      <th></th>\n",
       "      <th>PassengerId</th>\n",
       "      <th>v_Pclass_1_Age_min</th>\n",
       "      <th>v_Pclass_2_Age_min</th>\n",
       "      <th>v_Pclass_3_Age_min</th>\n",
       "      <th>v_Pclass_1_Fare_min</th>\n",
       "      <th>v_Pclass_2_Fare_min</th>\n",
       "      <th>v_Pclass_3_Fare_min</th>\n",
       "      <th>v_Pclass_1_Parch_min</th>\n",
       "      <th>v_Pclass_2_Parch_min</th>\n",
       "      <th>v_Pclass_3_Parch_min</th>\n",
       "      <th>...</th>\n",
       "      <th>v_Embarked_C_Age_min</th>\n",
       "      <th>v_Embarked_Q_Age_min</th>\n",
       "      <th>v_Embarked_S_Age_min</th>\n",
       "      <th>v_Embarked_C_Fare_min</th>\n",
       "      <th>v_Embarked_Q_Fare_min</th>\n",
       "      <th>v_Embarked_S_Fare_min</th>\n",
       "      <th>v_Embarked_C_Parch_min</th>\n",
       "      <th>v_Embarked_S_Parch_min</th>\n",
       "      <th>v_Embarked_S_SibSp_min</th>\n",
       "      <th>Survived</th>\n",
       "    </tr>\n",
       "  </thead>\n",
       "  <tbody>\n",
       "    <tr>\n",
       "      <th>0</th>\n",
       "      <td>1</td>\n",
       "      <td>0.0</td>\n",
       "      <td>0.0</td>\n",
       "      <td>22.0</td>\n",
       "      <td>0.0000</td>\n",
       "      <td>0.0</td>\n",
       "      <td>7.250</td>\n",
       "      <td>0.0</td>\n",
       "      <td>0.0</td>\n",
       "      <td>0.0</td>\n",
       "      <td>...</td>\n",
       "      <td>0.0</td>\n",
       "      <td>0.0</td>\n",
       "      <td>22.0</td>\n",
       "      <td>0.0000</td>\n",
       "      <td>0.0</td>\n",
       "      <td>7.250</td>\n",
       "      <td>0.0</td>\n",
       "      <td>0.0</td>\n",
       "      <td>1.0</td>\n",
       "      <td>0</td>\n",
       "    </tr>\n",
       "    <tr>\n",
       "      <th>1</th>\n",
       "      <td>2</td>\n",
       "      <td>38.0</td>\n",
       "      <td>0.0</td>\n",
       "      <td>0.0</td>\n",
       "      <td>71.2833</td>\n",
       "      <td>0.0</td>\n",
       "      <td>0.000</td>\n",
       "      <td>0.0</td>\n",
       "      <td>0.0</td>\n",
       "      <td>0.0</td>\n",
       "      <td>...</td>\n",
       "      <td>38.0</td>\n",
       "      <td>0.0</td>\n",
       "      <td>0.0</td>\n",
       "      <td>71.2833</td>\n",
       "      <td>0.0</td>\n",
       "      <td>0.000</td>\n",
       "      <td>0.0</td>\n",
       "      <td>0.0</td>\n",
       "      <td>0.0</td>\n",
       "      <td>1</td>\n",
       "    </tr>\n",
       "    <tr>\n",
       "      <th>2</th>\n",
       "      <td>3</td>\n",
       "      <td>0.0</td>\n",
       "      <td>0.0</td>\n",
       "      <td>26.0</td>\n",
       "      <td>0.0000</td>\n",
       "      <td>0.0</td>\n",
       "      <td>7.925</td>\n",
       "      <td>0.0</td>\n",
       "      <td>0.0</td>\n",
       "      <td>0.0</td>\n",
       "      <td>...</td>\n",
       "      <td>0.0</td>\n",
       "      <td>0.0</td>\n",
       "      <td>26.0</td>\n",
       "      <td>0.0000</td>\n",
       "      <td>0.0</td>\n",
       "      <td>7.925</td>\n",
       "      <td>0.0</td>\n",
       "      <td>0.0</td>\n",
       "      <td>0.0</td>\n",
       "      <td>1</td>\n",
       "    </tr>\n",
       "    <tr>\n",
       "      <th>3</th>\n",
       "      <td>4</td>\n",
       "      <td>35.0</td>\n",
       "      <td>0.0</td>\n",
       "      <td>0.0</td>\n",
       "      <td>53.1000</td>\n",
       "      <td>0.0</td>\n",
       "      <td>0.000</td>\n",
       "      <td>0.0</td>\n",
       "      <td>0.0</td>\n",
       "      <td>0.0</td>\n",
       "      <td>...</td>\n",
       "      <td>0.0</td>\n",
       "      <td>0.0</td>\n",
       "      <td>35.0</td>\n",
       "      <td>0.0000</td>\n",
       "      <td>0.0</td>\n",
       "      <td>53.100</td>\n",
       "      <td>0.0</td>\n",
       "      <td>0.0</td>\n",
       "      <td>1.0</td>\n",
       "      <td>1</td>\n",
       "    </tr>\n",
       "    <tr>\n",
       "      <th>4</th>\n",
       "      <td>5</td>\n",
       "      <td>0.0</td>\n",
       "      <td>0.0</td>\n",
       "      <td>35.0</td>\n",
       "      <td>0.0000</td>\n",
       "      <td>0.0</td>\n",
       "      <td>8.050</td>\n",
       "      <td>0.0</td>\n",
       "      <td>0.0</td>\n",
       "      <td>0.0</td>\n",
       "      <td>...</td>\n",
       "      <td>0.0</td>\n",
       "      <td>0.0</td>\n",
       "      <td>35.0</td>\n",
       "      <td>0.0000</td>\n",
       "      <td>0.0</td>\n",
       "      <td>8.050</td>\n",
       "      <td>0.0</td>\n",
       "      <td>0.0</td>\n",
       "      <td>0.0</td>\n",
       "      <td>0</td>\n",
       "    </tr>\n",
       "  </tbody>\n",
       "</table>\n",
       "<p>5 rows × 30 columns</p>\n",
       "</div>"
      ],
      "text/plain": [
       "   PassengerId  v_Pclass_1_Age_min  v_Pclass_2_Age_min  v_Pclass_3_Age_min  \\\n",
       "0            1                 0.0                 0.0                22.0   \n",
       "1            2                38.0                 0.0                 0.0   \n",
       "2            3                 0.0                 0.0                26.0   \n",
       "3            4                35.0                 0.0                 0.0   \n",
       "4            5                 0.0                 0.0                35.0   \n",
       "\n",
       "   v_Pclass_1_Fare_min  v_Pclass_2_Fare_min  v_Pclass_3_Fare_min  \\\n",
       "0               0.0000                  0.0                7.250   \n",
       "1              71.2833                  0.0                0.000   \n",
       "2               0.0000                  0.0                7.925   \n",
       "3              53.1000                  0.0                0.000   \n",
       "4               0.0000                  0.0                8.050   \n",
       "\n",
       "   v_Pclass_1_Parch_min  v_Pclass_2_Parch_min  v_Pclass_3_Parch_min  ...  \\\n",
       "0                   0.0                   0.0                   0.0  ...   \n",
       "1                   0.0                   0.0                   0.0  ...   \n",
       "2                   0.0                   0.0                   0.0  ...   \n",
       "3                   0.0                   0.0                   0.0  ...   \n",
       "4                   0.0                   0.0                   0.0  ...   \n",
       "\n",
       "   v_Embarked_C_Age_min  v_Embarked_Q_Age_min  v_Embarked_S_Age_min  \\\n",
       "0                   0.0                   0.0                  22.0   \n",
       "1                  38.0                   0.0                   0.0   \n",
       "2                   0.0                   0.0                  26.0   \n",
       "3                   0.0                   0.0                  35.0   \n",
       "4                   0.0                   0.0                  35.0   \n",
       "\n",
       "   v_Embarked_C_Fare_min  v_Embarked_Q_Fare_min  v_Embarked_S_Fare_min  \\\n",
       "0                 0.0000                    0.0                  7.250   \n",
       "1                71.2833                    0.0                  0.000   \n",
       "2                 0.0000                    0.0                  7.925   \n",
       "3                 0.0000                    0.0                 53.100   \n",
       "4                 0.0000                    0.0                  8.050   \n",
       "\n",
       "   v_Embarked_C_Parch_min  v_Embarked_S_Parch_min  v_Embarked_S_SibSp_min  \\\n",
       "0                     0.0                     0.0                     1.0   \n",
       "1                     0.0                     0.0                     0.0   \n",
       "2                     0.0                     0.0                     0.0   \n",
       "3                     0.0                     0.0                     1.0   \n",
       "4                     0.0                     0.0                     0.0   \n",
       "\n",
       "   Survived  \n",
       "0         0  \n",
       "1         1  \n",
       "2         1  \n",
       "3         1  \n",
       "4         0  \n",
       "\n",
       "[5 rows x 30 columns]"
      ]
     },
     "execution_count": 232,
     "metadata": {},
     "output_type": "execute_result"
    }
   ],
   "source": [
    "tad.head()"
   ]
  },
  {
   "cell_type": "code",
   "execution_count": 86,
   "metadata": {
    "ExecuteTime": {
     "end_time": "2021-02-16T03:10:08.665223Z",
     "start_time": "2021-02-16T03:09:24.379727Z"
    }
   },
   "outputs": [
    {
     "data": {
      "text/plain": [
       "array([[<AxesSubplot:title={'center':'PassengerId'}>,\n",
       "        <AxesSubplot:title={'center':'v_Pclass_1_Age_min'}>,\n",
       "        <AxesSubplot:title={'center':'v_Pclass_2_Age_min'}>,\n",
       "        <AxesSubplot:title={'center':'v_Pclass_3_Age_min'}>,\n",
       "        <AxesSubplot:title={'center':'v_Pclass_1_Fare_min'}>,\n",
       "        <AxesSubplot:title={'center':'v_Pclass_2_Fare_min'}>,\n",
       "        <AxesSubplot:title={'center':'v_Pclass_3_Fare_min'}>,\n",
       "        <AxesSubplot:title={'center':'v_Pclass_1_Parch_min'}>,\n",
       "        <AxesSubplot:title={'center':'v_Pclass_2_Parch_min'}>,\n",
       "        <AxesSubplot:title={'center':'v_Pclass_3_Parch_min'}>],\n",
       "       [<AxesSubplot:title={'center':'v_Pclass_3_SibSp_min'}>,\n",
       "        <AxesSubplot:title={'center':'v_Pclass_1_Age_max'}>,\n",
       "        <AxesSubplot:title={'center':'v_Pclass_2_Age_max'}>,\n",
       "        <AxesSubplot:title={'center':'v_Pclass_3_Age_max'}>,\n",
       "        <AxesSubplot:title={'center':'v_Pclass_1_Fare_max'}>,\n",
       "        <AxesSubplot:title={'center':'v_Pclass_2_Fare_max'}>,\n",
       "        <AxesSubplot:title={'center':'v_Pclass_3_Fare_max'}>,\n",
       "        <AxesSubplot:title={'center':'v_Pclass_1_Parch_max'}>,\n",
       "        <AxesSubplot:title={'center':'v_Pclass_2_Parch_max'}>,\n",
       "        <AxesSubplot:title={'center':'v_Pclass_3_Parch_max'}>],\n",
       "       [<AxesSubplot:title={'center':'v_Pclass_3_SibSp_max'}>,\n",
       "        <AxesSubplot:title={'center':'v_Pclass_1_Age_mean'}>,\n",
       "        <AxesSubplot:title={'center':'v_Pclass_2_Age_mean'}>,\n",
       "        <AxesSubplot:title={'center':'v_Pclass_3_Age_mean'}>,\n",
       "        <AxesSubplot:title={'center':'v_Pclass_1_Fare_mean'}>,\n",
       "        <AxesSubplot:title={'center':'v_Pclass_2_Fare_mean'}>,\n",
       "        <AxesSubplot:title={'center':'v_Pclass_3_Fare_mean'}>,\n",
       "        <AxesSubplot:title={'center':'v_Pclass_1_Parch_mean'}>,\n",
       "        <AxesSubplot:title={'center':'v_Pclass_2_Parch_mean'}>,\n",
       "        <AxesSubplot:title={'center':'v_Pclass_3_Parch_mean'}>],\n",
       "       [<AxesSubplot:title={'center':'v_Pclass_3_SibSp_mean'}>,\n",
       "        <AxesSubplot:title={'center':'v_Pclass_1_Age_sum'}>,\n",
       "        <AxesSubplot:title={'center':'v_Pclass_2_Age_sum'}>,\n",
       "        <AxesSubplot:title={'center':'v_Pclass_3_Age_sum'}>,\n",
       "        <AxesSubplot:title={'center':'v_Pclass_1_Fare_sum'}>,\n",
       "        <AxesSubplot:title={'center':'v_Pclass_2_Fare_sum'}>,\n",
       "        <AxesSubplot:title={'center':'v_Pclass_3_Fare_sum'}>,\n",
       "        <AxesSubplot:title={'center':'v_Pclass_1_Parch_sum'}>,\n",
       "        <AxesSubplot:title={'center':'v_Pclass_2_Parch_sum'}>,\n",
       "        <AxesSubplot:title={'center':'v_Pclass_3_Parch_sum'}>],\n",
       "       [<AxesSubplot:title={'center':'v_Pclass_3_SibSp_sum'}>,\n",
       "        <AxesSubplot:title={'center':'v_Sex_female_Age_min'}>,\n",
       "        <AxesSubplot:title={'center':'v_Sex_male_Age_min'}>,\n",
       "        <AxesSubplot:title={'center':'v_Sex_female_Fare_min'}>,\n",
       "        <AxesSubplot:title={'center':'v_Sex_male_Fare_min'}>,\n",
       "        <AxesSubplot:title={'center':'v_Sex_female_Parch_min'}>,\n",
       "        <AxesSubplot:title={'center':'v_Sex_male_Parch_min'}>,\n",
       "        <AxesSubplot:title={'center':'v_Sex_female_SibSp_min'}>,\n",
       "        <AxesSubplot:title={'center':'v_Sex_male_SibSp_min'}>,\n",
       "        <AxesSubplot:title={'center':'v_Sex_female_Age_max'}>],\n",
       "       [<AxesSubplot:title={'center':'v_Sex_male_Age_max'}>,\n",
       "        <AxesSubplot:title={'center':'v_Sex_female_Fare_max'}>,\n",
       "        <AxesSubplot:title={'center':'v_Sex_male_Fare_max'}>,\n",
       "        <AxesSubplot:title={'center':'v_Sex_female_Parch_max'}>,\n",
       "        <AxesSubplot:title={'center':'v_Sex_male_Parch_max'}>,\n",
       "        <AxesSubplot:title={'center':'v_Sex_female_SibSp_max'}>,\n",
       "        <AxesSubplot:title={'center':'v_Sex_male_SibSp_max'}>,\n",
       "        <AxesSubplot:title={'center':'v_Sex_female_Age_mean'}>,\n",
       "        <AxesSubplot:title={'center':'v_Sex_male_Age_mean'}>,\n",
       "        <AxesSubplot:title={'center':'v_Sex_female_Fare_mean'}>],\n",
       "       [<AxesSubplot:title={'center':'v_Sex_male_Fare_mean'}>,\n",
       "        <AxesSubplot:title={'center':'v_Sex_female_Parch_mean'}>,\n",
       "        <AxesSubplot:title={'center':'v_Sex_male_Parch_mean'}>,\n",
       "        <AxesSubplot:title={'center':'v_Sex_female_SibSp_mean'}>,\n",
       "        <AxesSubplot:title={'center':'v_Sex_male_SibSp_mean'}>,\n",
       "        <AxesSubplot:title={'center':'v_Sex_female_Age_sum'}>,\n",
       "        <AxesSubplot:title={'center':'v_Sex_male_Age_sum'}>,\n",
       "        <AxesSubplot:title={'center':'v_Sex_female_Fare_sum'}>,\n",
       "        <AxesSubplot:title={'center':'v_Sex_male_Fare_sum'}>,\n",
       "        <AxesSubplot:title={'center':'v_Sex_female_Parch_sum'}>],\n",
       "       [<AxesSubplot:title={'center':'v_Sex_male_Parch_sum'}>,\n",
       "        <AxesSubplot:title={'center':'v_Sex_female_SibSp_sum'}>,\n",
       "        <AxesSubplot:title={'center':'v_Sex_male_SibSp_sum'}>,\n",
       "        <AxesSubplot:title={'center':'v_Embarked_C_Age_min'}>,\n",
       "        <AxesSubplot:title={'center':'v_Embarked_Q_Age_min'}>,\n",
       "        <AxesSubplot:title={'center':'v_Embarked_S_Age_min'}>,\n",
       "        <AxesSubplot:title={'center':'v_Embarked_C_Fare_min'}>,\n",
       "        <AxesSubplot:title={'center':'v_Embarked_Q_Fare_min'}>,\n",
       "        <AxesSubplot:title={'center':'v_Embarked_S_Fare_min'}>,\n",
       "        <AxesSubplot:title={'center':'v_Embarked_C_Parch_min'}>],\n",
       "       [<AxesSubplot:title={'center':'v_Embarked_S_Parch_min'}>,\n",
       "        <AxesSubplot:title={'center':'v_Embarked_S_SibSp_min'}>,\n",
       "        <AxesSubplot:title={'center':'v_Embarked_C_Age_max'}>,\n",
       "        <AxesSubplot:title={'center':'v_Embarked_Q_Age_max'}>,\n",
       "        <AxesSubplot:title={'center':'v_Embarked_S_Age_max'}>,\n",
       "        <AxesSubplot:title={'center':'v_Embarked_C_Fare_max'}>,\n",
       "        <AxesSubplot:title={'center':'v_Embarked_Q_Fare_max'}>,\n",
       "        <AxesSubplot:title={'center':'v_Embarked_S_Fare_max'}>,\n",
       "        <AxesSubplot:title={'center':'v_Embarked_C_Parch_max'}>,\n",
       "        <AxesSubplot:title={'center':'v_Embarked_S_Parch_max'}>],\n",
       "       [<AxesSubplot:title={'center':'v_Embarked_S_SibSp_max'}>,\n",
       "        <AxesSubplot:title={'center':'v_Embarked_C_Age_mean'}>,\n",
       "        <AxesSubplot:title={'center':'v_Embarked_Q_Age_mean'}>,\n",
       "        <AxesSubplot:title={'center':'v_Embarked_S_Age_mean'}>,\n",
       "        <AxesSubplot:title={'center':'v_Embarked_C_Fare_mean'}>,\n",
       "        <AxesSubplot:title={'center':'v_Embarked_Q_Fare_mean'}>,\n",
       "        <AxesSubplot:title={'center':'v_Embarked_S_Fare_mean'}>,\n",
       "        <AxesSubplot:title={'center':'v_Embarked_C_Parch_mean'}>,\n",
       "        <AxesSubplot:title={'center':'v_Embarked_S_Parch_mean'}>,\n",
       "        <AxesSubplot:title={'center':'v_Embarked_S_SibSp_mean'}>],\n",
       "       [<AxesSubplot:title={'center':'v_Embarked_C_Age_sum'}>,\n",
       "        <AxesSubplot:title={'center':'v_Embarked_Q_Age_sum'}>,\n",
       "        <AxesSubplot:title={'center':'v_Embarked_S_Age_sum'}>,\n",
       "        <AxesSubplot:title={'center':'v_Embarked_C_Fare_sum'}>,\n",
       "        <AxesSubplot:title={'center':'v_Embarked_Q_Fare_sum'}>,\n",
       "        <AxesSubplot:title={'center':'v_Embarked_S_Fare_sum'}>,\n",
       "        <AxesSubplot:title={'center':'v_Embarked_C_Parch_sum'}>,\n",
       "        <AxesSubplot:title={'center':'v_Embarked_S_Parch_sum'}>,\n",
       "        <AxesSubplot:title={'center':'v_Embarked_S_SibSp_sum'}>,\n",
       "        <AxesSubplot:title={'center':'Survived'}>]], dtype=object)"
      ]
     },
     "execution_count": 86,
     "metadata": {},
     "output_type": "execute_result"
    },
    {
     "data": {
      "image/png": "[encoded data removed]",
      "text/plain": [
       "<Figure size 1440x1440 with 110 Axes>"
      ]
     },
     "metadata": {
      "needs_background": "light"
     },
     "output_type": "display_data"
    }
   ],
   "source": [
    "tad.hist(figsize=(20,20))"
   ]
  },
  {
   "cell_type": "markdown",
   "metadata": {},
   "source": [
    "# Modelos"
   ]
  },
  {
   "cell_type": "markdown",
   "metadata": {},
   "source": [
    "## Perceptron"
   ]
  },
  {
   "cell_type": "code",
   "execution_count": 233,
   "metadata": {
    "ExecuteTime": {
     "end_time": "2021-02-16T03:26:25.893934Z",
     "start_time": "2021-02-16T03:26:25.877521Z"
    }
   },
   "outputs": [],
   "source": [
    "X=tad[varc].copy()\n",
    "y=tad[tgt]\n",
    "Xt,Xv,yt,yv = train_test_split(X,y,train_size=0.7)"
   ]
  },
  {
   "cell_type": "code",
   "execution_count": 130,
   "metadata": {
    "ExecuteTime": {
     "end_time": "2021-02-16T03:13:14.351578Z",
     "start_time": "2021-02-16T03:13:14.344900Z"
    }
   },
   "outputs": [],
   "source": [
    "modelo = Perceptron()"
   ]
  },
  {
   "cell_type": "code",
   "execution_count": 131,
   "metadata": {
    "ExecuteTime": {
     "end_time": "2021-02-16T03:13:15.828842Z",
     "start_time": "2021-02-16T03:13:15.806980Z"
    }
   },
   "outputs": [],
   "source": [
    "hyper = dict(penalty = ['l2','l1','elasticnet'],\n",
    "             fit_intercept=[True,False],\n",
    "             max_iter=range(1000,21000,1000),\n",
    "             eta0 = np.arange(0.1,1,0.1))"
   ]
  },
  {
   "cell_type": "code",
   "execution_count": 132,
   "metadata": {
    "ExecuteTime": {
     "end_time": "2021-02-16T03:14:09.623430Z",
     "start_time": "2021-02-16T03:13:17.528574Z"
    }
   },
   "outputs": [
    {
     "name": "stdout",
     "output_type": "stream",
     "text": [
      "Fitting 3 folds for each of 1080 candidates, totalling 3240 fits\n"
     ]
    },
    {
     "name": "stderr",
     "output_type": "stream",
     "text": [
      "[Parallel(n_jobs=-1)]: Using backend LokyBackend with 2 concurrent workers.\n",
      "[Parallel(n_jobs=-1)]: Done 146 tasks      | elapsed:    6.0s\n",
      "[Parallel(n_jobs=-1)]: Done 1346 tasks      | elapsed:   23.8s\n",
      "[Parallel(n_jobs=-1)]: Done 3240 out of 3240 | elapsed:   51.8s finished\n"
     ]
    },
    {
     "data": {
      "text/plain": [
       "GridSearchCV(cv=3, error_score='roc_auc', estimator=Perceptron(), n_jobs=-1,\n",
       "             param_grid={'eta0': array([0.1, 0.2, 0.3, 0.4, 0.5, 0.6, 0.7, 0.8, 0.9]),\n",
       "                         'fit_intercept': [True, False],\n",
       "                         'max_iter': range(1000, 21000, 1000),\n",
       "                         'penalty': ['l2', 'l1', 'elasticnet']},\n",
       "             verbose=True)"
      ]
     },
     "execution_count": 132,
     "metadata": {},
     "output_type": "execute_result"
    }
   ],
   "source": [
    "grid = GridSearchCV(estimator=modelo,\n",
    "                    error_score='roc_auc',\n",
    "                    param_grid=hyper,\n",
    "                    cv=3,\n",
    "                    n_jobs=-1,\n",
    "                    verbose=True)\n",
    "\n",
    "grid.fit(Xt,yt)"
   ]
  },
  {
   "cell_type": "code",
   "execution_count": 133,
   "metadata": {
    "ExecuteTime": {
     "end_time": "2021-02-16T03:14:15.674992Z",
     "start_time": "2021-02-16T03:14:15.656576Z"
    }
   },
   "outputs": [
    {
     "name": "stdout",
     "output_type": "stream",
     "text": [
      "0.7714826157449108\n",
      "{'eta0': 0.6, 'fit_intercept': False, 'max_iter': 1000, 'penalty': 'l2'}\n"
     ]
    }
   ],
   "source": [
    "print(grid.best_score_)\n",
    "\n",
    "print(grid.best_params_)"
   ]
  },
  {
   "cell_type": "code",
   "execution_count": 134,
   "metadata": {
    "ExecuteTime": {
     "end_time": "2021-02-16T03:14:19.032044Z",
     "start_time": "2021-02-16T03:14:19.004857Z"
    }
   },
   "outputs": [
    {
     "data": {
      "text/plain": [
       "Perceptron(eta0=0.6, fit_intercept=False, penalty='l2')"
      ]
     },
     "execution_count": 134,
     "metadata": {},
     "output_type": "execute_result"
    }
   ],
   "source": [
    "modelo = grid.best_estimator_\n",
    "modelo.fit(Xt,yt)"
   ]
  },
  {
   "cell_type": "code",
   "execution_count": 135,
   "metadata": {
    "ExecuteTime": {
     "end_time": "2021-02-16T03:14:22.742376Z",
     "start_time": "2021-02-16T03:14:22.549483Z"
    }
   },
   "outputs": [
    {
     "name": "stdout",
     "output_type": "stream",
     "text": [
      "0.7239488117001828\n",
      "0.7191489361702128\n",
      "[[272  63]\n",
      " [ 88 124]]\n",
      "[[113  37]\n",
      " [ 29  56]]\n"
     ]
    }
   ],
   "source": [
    "print(accuracy_score(y_true=yt,y_pred=modelo.predict(Xt)))\n",
    "print(accuracy_score(y_true=yv,y_pred=modelo.predict(Xv)))\n",
    "\n",
    "print(confusion_matrix(y_true=yt,y_pred=modelo.predict(Xt)))\n",
    "print(confusion_matrix(y_true=yv,y_pred=modelo.predict(Xv)))"
   ]
  },
  {
   "cell_type": "markdown",
   "metadata": {},
   "source": [
    "## Pasivo-agresivo"
   ]
  },
  {
   "cell_type": "code",
   "execution_count": 234,
   "metadata": {
    "ExecuteTime": {
     "end_time": "2021-02-16T03:26:31.155121Z",
     "start_time": "2021-02-16T03:26:31.142780Z"
    }
   },
   "outputs": [],
   "source": [
    "modelo = PassiveAggressiveClassifier()"
   ]
  },
  {
   "cell_type": "code",
   "execution_count": 235,
   "metadata": {
    "ExecuteTime": {
     "end_time": "2021-02-16T03:26:32.096470Z",
     "start_time": "2021-02-16T03:26:32.078975Z"
    }
   },
   "outputs": [],
   "source": [
    "hyper = dict(C = np.arange(0.1,2,0.1),\n",
    "             fit_intercept=[True,False],\n",
    "             max_iter=range(1000,21000,1000))"
   ]
  },
  {
   "cell_type": "code",
   "execution_count": 236,
   "metadata": {
    "ExecuteTime": {
     "end_time": "2021-02-16T03:27:08.124291Z",
     "start_time": "2021-02-16T03:26:33.031068Z"
    }
   },
   "outputs": [
    {
     "name": "stdout",
     "output_type": "stream",
     "text": [
      "Fitting 3 folds for each of 760 candidates, totalling 2280 fits\n"
     ]
    },
    {
     "name": "stderr",
     "output_type": "stream",
     "text": [
      "[Parallel(n_jobs=-1)]: Using backend LokyBackend with 2 concurrent workers.\n",
      "[Parallel(n_jobs=-1)]: Done 132 tasks      | elapsed:    5.1s\n",
      "[Parallel(n_jobs=-1)]: Done 1332 tasks      | elapsed:   22.2s\n",
      "[Parallel(n_jobs=-1)]: Done 2280 out of 2280 | elapsed:   35.0s finished\n"
     ]
    },
    {
     "data": {
      "text/plain": [
       "GridSearchCV(cv=3, error_score='roc_auc',\n",
       "             estimator=PassiveAggressiveClassifier(), n_jobs=-1,\n",
       "             param_grid={'C': array([0.1, 0.2, 0.3, 0.4, 0.5, 0.6, 0.7, 0.8, 0.9, 1. , 1.1, 1.2, 1.3,\n",
       "       1.4, 1.5, 1.6, 1.7, 1.8, 1.9]),\n",
       "                         'fit_intercept': [True, False],\n",
       "                         'max_iter': range(1000, 21000, 1000)},\n",
       "             verbose=True)"
      ]
     },
     "execution_count": 236,
     "metadata": {},
     "output_type": "execute_result"
    }
   ],
   "source": [
    "grid = GridSearchCV(estimator=modelo,\n",
    "                    error_score='roc_auc',\n",
    "                    param_grid=hyper,\n",
    "                    cv=3,\n",
    "                    n_jobs=-1,\n",
    "                    verbose=True)\n",
    "\n",
    "grid.fit(Xt,yt)"
   ]
  },
  {
   "cell_type": "code",
   "execution_count": 237,
   "metadata": {
    "ExecuteTime": {
     "end_time": "2021-02-16T03:27:16.644544Z",
     "start_time": "2021-02-16T03:27:16.624940Z"
    }
   },
   "outputs": [
    {
     "name": "stdout",
     "output_type": "stream",
     "text": [
      "0.8080726195480294\n",
      "{'C': 0.4, 'fit_intercept': False, 'max_iter': 10000}\n"
     ]
    }
   ],
   "source": [
    "print(grid.best_score_)\n",
    "\n",
    "print(grid.best_params_)"
   ]
  },
  {
   "cell_type": "code",
   "execution_count": 253,
   "metadata": {
    "ExecuteTime": {
     "end_time": "2021-02-16T03:28:14.527213Z",
     "start_time": "2021-02-16T03:28:14.499507Z"
    }
   },
   "outputs": [
    {
     "data": {
      "text/plain": [
       "PassiveAggressiveClassifier(C=0.4, fit_intercept=False, max_iter=10000)"
      ]
     },
     "execution_count": 253,
     "metadata": {},
     "output_type": "execute_result"
    }
   ],
   "source": [
    "modelo = grid.best_estimator_\n",
    "modelo.fit(Xt,yt)"
   ]
  },
  {
   "cell_type": "code",
   "execution_count": 254,
   "metadata": {
    "ExecuteTime": {
     "end_time": "2021-02-16T03:28:15.523245Z",
     "start_time": "2021-02-16T03:28:15.433058Z"
    }
   },
   "outputs": [
    {
     "name": "stdout",
     "output_type": "stream",
     "text": [
      "0.7879341864716636\n",
      "0.7787234042553192\n",
      "[[319  24]\n",
      " [ 92 112]]\n",
      "[[135   7]\n",
      " [ 45  48]]\n"
     ]
    }
   ],
   "source": [
    "print(accuracy_score(y_true=yt,y_pred=modelo.predict(Xt)))\n",
    "print(accuracy_score(y_true=yv,y_pred=modelo.predict(Xv)))\n",
    "\n",
    "print(confusion_matrix(y_true=yt,y_pred=modelo.predict(Xt)))\n",
    "print(confusion_matrix(y_true=yv,y_pred=modelo.predict(Xv)))"
   ]
  },
  {
   "cell_type": "markdown",
   "metadata": {},
   "source": [
    "## Maquina vector-soporte"
   ]
  },
  {
   "cell_type": "code",
   "execution_count": 183,
   "metadata": {
    "ExecuteTime": {
     "end_time": "2021-02-16T03:17:32.024458Z",
     "start_time": "2021-02-16T03:17:31.999316Z"
    }
   },
   "outputs": [],
   "source": [
    "y = tad[tgt]\n",
    "X = tad[varc].copy()\n",
    "Xt,Xv,yt,yv = train_test_split(X,y,train_size=0.7)"
   ]
  },
  {
   "cell_type": "code",
   "execution_count": 184,
   "metadata": {
    "ExecuteTime": {
     "end_time": "2021-02-16T03:17:33.376490Z",
     "start_time": "2021-02-16T03:17:33.362504Z"
    }
   },
   "outputs": [],
   "source": [
    "modelo = SVC()"
   ]
  },
  {
   "cell_type": "code",
   "execution_count": 185,
   "metadata": {
    "ExecuteTime": {
     "end_time": "2021-02-16T03:17:34.504754Z",
     "start_time": "2021-02-16T03:17:34.487635Z"
    }
   },
   "outputs": [],
   "source": [
    "hyper = dict(C = np.arange(0.1,2,0.1),\n",
    "             kernel=['linear', 'poly', 'rbf', 'sigmoid'],\n",
    "             degree=range(2,6),\n",
    "             gamma = ['scale', 'auto'],\n",
    "             probability = [True]\n",
    "            )"
   ]
  },
  {
   "cell_type": "code",
   "execution_count": 186,
   "metadata": {
    "ExecuteTime": {
     "end_time": "2021-02-16T03:17:38.346376Z",
     "start_time": "2021-02-16T03:17:38.312157Z"
    }
   },
   "outputs": [
    {
     "data": {
      "text/plain": [
       "MinMaxScaler()"
      ]
     },
     "execution_count": 186,
     "metadata": {},
     "output_type": "execute_result"
    }
   ],
   "source": [
    "sc = MinMaxScaler()\n",
    "sc.fit(X)"
   ]
  },
  {
   "cell_type": "code",
   "execution_count": 187,
   "metadata": {
    "ExecuteTime": {
     "end_time": "2021-02-16T03:17:39.506257Z",
     "start_time": "2021-02-16T03:17:39.481370Z"
    }
   },
   "outputs": [],
   "source": [
    "Xt = pd.DataFrame(sc.transform(Xt),columns=varc)\n",
    "Xv = pd.DataFrame(sc.transform(Xv),columns=varc)"
   ]
  },
  {
   "cell_type": "code",
   "execution_count": 188,
   "metadata": {
    "ExecuteTime": {
     "end_time": "2021-02-16T03:18:25.921192Z",
     "start_time": "2021-02-16T03:17:40.695289Z"
    }
   },
   "outputs": [
    {
     "name": "stdout",
     "output_type": "stream",
     "text": [
      "Fitting 3 folds for each of 200 candidates, totalling 600 fits\n"
     ]
    },
    {
     "name": "stderr",
     "output_type": "stream",
     "text": [
      "[Parallel(n_jobs=-1)]: Using backend LokyBackend with 2 concurrent workers.\n",
      "[Parallel(n_jobs=-1)]: Done  88 tasks      | elapsed:    5.8s\n",
      "[Parallel(n_jobs=-1)]: Done 388 tasks      | elapsed:   29.4s\n",
      "[Parallel(n_jobs=-1)]: Done 600 out of 600 | elapsed:   45.0s finished\n"
     ]
    },
    {
     "data": {
      "text/plain": [
       "RandomizedSearchCV(cv=3, error_score='roc_auc', estimator=SVC(), n_iter=200,\n",
       "                   n_jobs=-1,\n",
       "                   param_distributions={'C': array([0.1, 0.2, 0.3, 0.4, 0.5, 0.6, 0.7, 0.8, 0.9, 1. , 1.1, 1.2, 1.3,\n",
       "       1.4, 1.5, 1.6, 1.7, 1.8, 1.9]),\n",
       "                                        'degree': range(2, 6),\n",
       "                                        'gamma': ['scale', 'auto'],\n",
       "                                        'kernel': ['linear', 'poly', 'rbf',\n",
       "                                                   'sigmoid'],\n",
       "                                        'probability': [True]},\n",
       "                   verbose=True)"
      ]
     },
     "execution_count": 188,
     "metadata": {},
     "output_type": "execute_result"
    }
   ],
   "source": [
    "grid = RandomizedSearchCV(estimator=modelo,\n",
    "                    error_score='roc_auc',\n",
    "                    param_distributions=hyper,\n",
    "                    n_iter=200,\n",
    "                    cv=3,\n",
    "                    n_jobs=-1,\n",
    "                    verbose=True)\n",
    "\n",
    "grid.fit(Xt,yt)"
   ]
  },
  {
   "cell_type": "code",
   "execution_count": 189,
   "metadata": {
    "ExecuteTime": {
     "end_time": "2021-02-16T03:18:35.137539Z",
     "start_time": "2021-02-16T03:18:35.123053Z"
    }
   },
   "outputs": [
    {
     "name": "stdout",
     "output_type": "stream",
     "text": [
      "0.7934206048960147\n",
      "{'probability': True, 'kernel': 'rbf', 'gamma': 'scale', 'degree': 4, 'C': 1.6}\n"
     ]
    }
   ],
   "source": [
    "print(grid.best_score_)\n",
    "print(grid.best_params_)"
   ]
  },
  {
   "cell_type": "code",
   "execution_count": 202,
   "metadata": {
    "ExecuteTime": {
     "end_time": "2021-02-16T03:19:46.145284Z",
     "start_time": "2021-02-16T03:19:45.942623Z"
    }
   },
   "outputs": [
    {
     "data": {
      "text/plain": [
       "SVC(C=1.6, degree=4, probability=True)"
      ]
     },
     "execution_count": 202,
     "metadata": {},
     "output_type": "execute_result"
    }
   ],
   "source": [
    "modelo = grid.best_estimator_\n",
    "\n",
    "modelo.fit(Xt,yt)"
   ]
  },
  {
   "cell_type": "code",
   "execution_count": 203,
   "metadata": {
    "ExecuteTime": {
     "end_time": "2021-02-16T03:19:47.984238Z",
     "start_time": "2021-02-16T03:19:47.744466Z"
    }
   },
   "outputs": [
    {
     "name": "stdout",
     "output_type": "stream",
     "text": [
      "0.8336380255941499\n",
      "0.7574468085106383\n",
      "[[335  12]\n",
      " [ 79 121]]\n",
      "[[127  11]\n",
      " [ 46  51]]\n",
      "0.8765706051873199\n",
      "0.8436799641416405\n"
     ]
    }
   ],
   "source": [
    "print(accuracy_score(y_true=yt,y_pred=modelo.predict(Xt)))\n",
    "print(accuracy_score(y_true=yv,y_pred=modelo.predict(Xv)))\n",
    "\n",
    "print(confusion_matrix(y_true=yt,y_pred=modelo.predict(Xt)))\n",
    "print(confusion_matrix(y_true=yv,y_pred=modelo.predict(Xv)))\n",
    "\n",
    "print(roc_auc_score(y_true=yt,y_score=modelo.predict_proba(Xt)[:,1]))\n",
    "print(roc_auc_score(y_true=yv,y_score=modelo.predict_proba(Xv)[:,1]))"
   ]
  },
  {
   "cell_type": "code",
   "execution_count": null,
   "metadata": {
    "ExecuteTime": {
     "end_time": "2021-02-16T03:10:09.317067Z",
     "start_time": "2021-02-16T03:09:24.554Z"
    }
   },
   "outputs": [],
   "source": [
    "plot_roc_curve(y_true=yt,y_probas=modelo.predict_proba(Xt),curves='macro')\n",
    "plot_roc_curve(y_true=yv,y_probas=modelo.predict_proba(Xv),curves='macro')"
   ]
  },
  {
   "cell_type": "markdown",
   "metadata": {},
   "source": [
    "# Prueba con datos desconocidos"
   ]
  },
  {
   "cell_type": "code",
   "execution_count": 256,
   "metadata": {
    "ExecuteTime": {
     "end_time": "2021-02-16T03:28:55.419108Z",
     "start_time": "2021-02-16T03:28:55.408787Z"
    }
   },
   "outputs": [
    {
     "data": {
      "text/plain": [
       "['/home/oszwaldo/Documentos/Projects/Kaggle/titanic/prueba.csv',\n",
       " '/home/oszwaldo/Documentos/Projects/Kaggle/titanic/gender_submission.csv',\n",
       " '/home/oszwaldo/Documentos/Projects/Kaggle/titanic/test.csv',\n",
       " '/home/oszwaldo/Documentos/Projects/Kaggle/titanic/train.csv']"
      ]
     },
     "execution_count": 256,
     "metadata": {},
     "output_type": "execute_result"
    }
   ],
   "source": [
    "l_arch"
   ]
  },
  {
   "cell_type": "code",
   "execution_count": 258,
   "metadata": {
    "ExecuteTime": {
     "end_time": "2021-02-16T03:29:30.209946Z",
     "start_time": "2021-02-16T03:29:30.135276Z"
    }
   },
   "outputs": [
    {
     "data": {
      "text/html": [
       "<div>\n",
       "<style scoped>\n",
       "    .dataframe tbody tr th:only-of-type {\n",
       "        vertical-align: middle;\n",
       "    }\n",
       "\n",
       "    .dataframe tbody tr th {\n",
       "        vertical-align: top;\n",
       "    }\n",
       "\n",
       "    .dataframe thead th {\n",
       "        text-align: right;\n",
       "    }\n",
       "</style>\n",
       "<table border=\"1\" class=\"dataframe\">\n",
       "  <thead>\n",
       "    <tr style=\"text-align: right;\">\n",
       "      <th></th>\n",
       "      <th>PassengerId</th>\n",
       "      <th>Pclass</th>\n",
       "      <th>Name</th>\n",
       "      <th>Sex</th>\n",
       "      <th>Age</th>\n",
       "      <th>SibSp</th>\n",
       "      <th>Parch</th>\n",
       "      <th>Ticket</th>\n",
       "      <th>Fare</th>\n",
       "      <th>Cabin</th>\n",
       "      <th>Embarked</th>\n",
       "    </tr>\n",
       "  </thead>\n",
       "  <tbody>\n",
       "    <tr>\n",
       "      <th>0</th>\n",
       "      <td>892</td>\n",
       "      <td>3</td>\n",
       "      <td>Kelly, Mr. James</td>\n",
       "      <td>male</td>\n",
       "      <td>34.5</td>\n",
       "      <td>0</td>\n",
       "      <td>0</td>\n",
       "      <td>330911</td>\n",
       "      <td>7.8292</td>\n",
       "      <td>NaN</td>\n",
       "      <td>Q</td>\n",
       "    </tr>\n",
       "    <tr>\n",
       "      <th>1</th>\n",
       "      <td>893</td>\n",
       "      <td>3</td>\n",
       "      <td>Wilkes, Mrs. James (Ellen Needs)</td>\n",
       "      <td>female</td>\n",
       "      <td>47.0</td>\n",
       "      <td>1</td>\n",
       "      <td>0</td>\n",
       "      <td>363272</td>\n",
       "      <td>7.0000</td>\n",
       "      <td>NaN</td>\n",
       "      <td>S</td>\n",
       "    </tr>\n",
       "    <tr>\n",
       "      <th>2</th>\n",
       "      <td>894</td>\n",
       "      <td>2</td>\n",
       "      <td>Myles, Mr. Thomas Francis</td>\n",
       "      <td>male</td>\n",
       "      <td>62.0</td>\n",
       "      <td>0</td>\n",
       "      <td>0</td>\n",
       "      <td>240276</td>\n",
       "      <td>9.6875</td>\n",
       "      <td>NaN</td>\n",
       "      <td>Q</td>\n",
       "    </tr>\n",
       "    <tr>\n",
       "      <th>3</th>\n",
       "      <td>895</td>\n",
       "      <td>3</td>\n",
       "      <td>Wirz, Mr. Albert</td>\n",
       "      <td>male</td>\n",
       "      <td>27.0</td>\n",
       "      <td>0</td>\n",
       "      <td>0</td>\n",
       "      <td>315154</td>\n",
       "      <td>8.6625</td>\n",
       "      <td>NaN</td>\n",
       "      <td>S</td>\n",
       "    </tr>\n",
       "    <tr>\n",
       "      <th>4</th>\n",
       "      <td>896</td>\n",
       "      <td>3</td>\n",
       "      <td>Hirvonen, Mrs. Alexander (Helga E Lindqvist)</td>\n",
       "      <td>female</td>\n",
       "      <td>22.0</td>\n",
       "      <td>1</td>\n",
       "      <td>1</td>\n",
       "      <td>3101298</td>\n",
       "      <td>12.2875</td>\n",
       "      <td>NaN</td>\n",
       "      <td>S</td>\n",
       "    </tr>\n",
       "  </tbody>\n",
       "</table>\n",
       "</div>"
      ],
      "text/plain": [
       "   PassengerId  Pclass                                          Name     Sex  \\\n",
       "0          892       3                              Kelly, Mr. James    male   \n",
       "1          893       3              Wilkes, Mrs. James (Ellen Needs)  female   \n",
       "2          894       2                     Myles, Mr. Thomas Francis    male   \n",
       "3          895       3                              Wirz, Mr. Albert    male   \n",
       "4          896       3  Hirvonen, Mrs. Alexander (Helga E Lindqvist)  female   \n",
       "\n",
       "    Age  SibSp  Parch   Ticket     Fare Cabin Embarked  \n",
       "0  34.5      0      0   330911   7.8292   NaN        Q  \n",
       "1  47.0      1      0   363272   7.0000   NaN        S  \n",
       "2  62.0      0      0   240276   9.6875   NaN        Q  \n",
       "3  27.0      0      0   315154   8.6625   NaN        S  \n",
       "4  22.0      1      1  3101298  12.2875   NaN        S  "
      ]
     },
     "execution_count": 258,
     "metadata": {},
     "output_type": "execute_result"
    }
   ],
   "source": [
    "test=pd.read_csv(l_arch[2])\n",
    "test.head()"
   ]
  },
  {
   "cell_type": "code",
   "execution_count": 260,
   "metadata": {
    "ExecuteTime": {
     "end_time": "2021-02-16T03:29:50.384196Z",
     "start_time": "2021-02-16T03:29:49.640968Z"
    }
   },
   "outputs": [],
   "source": [
    "Xtest=reduce(lambda x,y:pd.merge(x,y,on=um,how='outer'), map(lambda v:trans(test,v,varori),vard) )"
   ]
  },
  {
   "cell_type": "code",
   "execution_count": 273,
   "metadata": {
    "ExecuteTime": {
     "end_time": "2021-02-16T03:33:08.065376Z",
     "start_time": "2021-02-16T03:33:08.039731Z"
    }
   },
   "outputs": [],
   "source": [
    "pre=modelo.predict(Xtest[varc])\n",
    "pre=pd.DataFrame(pre)\n",
    "pre.columns=[um+tgt]"
   ]
  },
  {
   "cell_type": "code",
   "execution_count": null,
   "metadata": {
    "ExecuteTime": {
     "end_time": "2021-02-16T03:10:09.341515Z",
     "start_time": "2021-02-16T03:09:24.633Z"
    }
   },
   "outputs": [],
   "source": [
    "# Formato\n",
    "lista=test.loc[:,'PassengerId'].to_list()\n",
    "lista=pd.DataFrame(lista)\n",
    "pre=pd.merge(pre,lista,on=pre.index)\n",
    "pre=pre.drop(\"key_0\",axis=1)\n",
    "pre.columns=[tgt,um]"
   ]
  },
  {
   "cell_type": "code",
   "execution_count": 283,
   "metadata": {
    "ExecuteTime": {
     "end_time": "2021-02-16T03:38:52.874121Z",
     "start_time": "2021-02-16T03:38:52.834971Z"
    }
   },
   "outputs": [
    {
     "data": {
      "text/html": [
       "<div>\n",
       "<style scoped>\n",
       "    .dataframe tbody tr th:only-of-type {\n",
       "        vertical-align: middle;\n",
       "    }\n",
       "\n",
       "    .dataframe tbody tr th {\n",
       "        vertical-align: top;\n",
       "    }\n",
       "\n",
       "    .dataframe thead th {\n",
       "        text-align: right;\n",
       "    }\n",
       "</style>\n",
       "<table border=\"1\" class=\"dataframe\">\n",
       "  <thead>\n",
       "    <tr style=\"text-align: right;\">\n",
       "      <th></th>\n",
       "      <th>Survived</th>\n",
       "      <th>PassengerId</th>\n",
       "    </tr>\n",
       "  </thead>\n",
       "  <tbody>\n",
       "    <tr>\n",
       "      <th>0</th>\n",
       "      <td>0</td>\n",
       "      <td>892</td>\n",
       "    </tr>\n",
       "  </tbody>\n",
       "</table>\n",
       "</div>"
      ],
      "text/plain": [
       "   Survived  PassengerId\n",
       "0         0          892"
      ]
     },
     "execution_count": 283,
     "metadata": {},
     "output_type": "execute_result"
    }
   ],
   "source": [
    "pre.head(1)"
   ]
  },
  {
   "cell_type": "code",
   "execution_count": 284,
   "metadata": {
    "ExecuteTime": {
     "end_time": "2021-02-16T03:39:01.908336Z",
     "start_time": "2021-02-16T03:39:01.882210Z"
    }
   },
   "outputs": [],
   "source": [
    "pre.to_csv(\"prueba1.csv\",index=False)"
   ]
  }
 ],
 "metadata": {
  "kernelspec": {
   "display_name": "Python 3",
   "language": "python",
   "name": "python3"
  },
  "language_info": {
   "codemirror_mode": {
    "name": "ipython",
    "version": 3
   },
   "file_extension": ".py",
   "mimetype": "text/x-python",
   "name": "python",
   "nbconvert_exporter": "python",
   "pygments_lexer": "ipython3",
   "version": "3.7.3"
  },
  "notify_time": "10",
  "toc": {
   "base_numbering": 1,
   "nav_menu": {},
   "number_sections": true,
   "sideBar": true,
   "skip_h1_title": false,
   "title_cell": "Table of Contents",
   "title_sidebar": "Contents",
   "toc_cell": false,
   "toc_position": {},
   "toc_section_display": true,
   "toc_window_display": true
  }
 },
 "nbformat": 4,
 "nbformat_minor": 4
}
