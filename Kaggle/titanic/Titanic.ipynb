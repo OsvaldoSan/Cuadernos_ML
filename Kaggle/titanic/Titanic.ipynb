{
 "cells": [
  {
   "cell_type": "code",
   "execution_count": 2,
   "metadata": {
    "ExecuteTime": {
     "end_time": "2021-08-07T00:27:59.142036Z",
     "start_time": "2021-08-07T00:27:59.073062Z"
    }
   },
   "outputs": [],
   "source": [
    "import numpy as np\n",
    "import pandas as pd\n",
    "\n",
    "from sklearn.linear_model import Perceptron,PassiveAggressiveClassifier, LogisticRegression\n",
    "from sklearn.neural_network import MLPClassifier #Multi-Layer-Perceptron\n",
    "from sklearn.svm import SVC\n",
    "from sklearn.metrics import roc_auc_score,accuracy_score,confusion_matrix\n",
    "from sklearn.model_selection import train_test_split,GridSearchCV,RandomizedSearchCV\n",
    "from sklearn.metrics import confusion_matrix\n",
    "from scikitplot.metrics import plot_roc_curve\n",
    "\n",
    "from sklearn.preprocessing import StandardScaler,MinMaxScaler\n",
    "\n",
    "import os\n",
    "from functools import reduce\n",
    "\n",
    "import seaborn as sns\n",
    "%matplotlib inline\n"
   ]
  },
  {
   "cell_type": "markdown",
   "metadata": {
    "ExecuteTime": {
     "end_time": "2021-02-09T03:23:30.561505Z",
     "start_time": "2021-02-09T03:23:30.544245Z"
    }
   },
   "source": [
    "# Lectura de datos"
   ]
  },
  {
   "cell_type": "code",
   "execution_count": 3,
   "metadata": {
    "ExecuteTime": {
     "end_time": "2021-08-07T00:27:59.984092Z",
     "start_time": "2021-08-07T00:27:59.148770Z"
    }
   },
   "outputs": [
    {
     "data": {
      "text/plain": [
       "['/home/oszwaldo/Documentos/Projects/Cuadernos_ML/Kaggle/titanic/datos/test.csv',\n",
       " '/home/oszwaldo/Documentos/Projects/Cuadernos_ML/Kaggle/titanic/datos/train.csv']"
      ]
     },
     "execution_count": 3,
     "metadata": {},
     "output_type": "execute_result"
    }
   ],
   "source": [
    "ruta=os.getcwd()+'/datos' # Get current work directory\n",
    "#ruta ='/home/osvaldosantos823/Cuadernos_ML/Kaggle/titanic/datos'\n",
    "l_arch=[os.path.join(ruta,a) for a in os.listdir(ruta) if a.endswith('.csv') ]\n",
    "l_arch"
   ]
  },
  {
   "cell_type": "code",
   "execution_count": 4,
   "metadata": {
    "ExecuteTime": {
     "end_time": "2021-08-07T00:28:01.334632Z",
     "start_time": "2021-08-07T00:27:59.998973Z"
    }
   },
   "outputs": [
    {
     "data": {
      "text/html": [
       "<div>\n",
       "<style scoped>\n",
       "    .dataframe tbody tr th:only-of-type {\n",
       "        vertical-align: middle;\n",
       "    }\n",
       "\n",
       "    .dataframe tbody tr th {\n",
       "        vertical-align: top;\n",
       "    }\n",
       "\n",
       "    .dataframe thead th {\n",
       "        text-align: right;\n",
       "    }\n",
       "</style>\n",
       "<table border=\"1\" class=\"dataframe\">\n",
       "  <thead>\n",
       "    <tr style=\"text-align: right;\">\n",
       "      <th></th>\n",
       "      <th>PassengerId</th>\n",
       "      <th>Survived</th>\n",
       "      <th>Pclass</th>\n",
       "      <th>Name</th>\n",
       "      <th>Sex</th>\n",
       "      <th>Age</th>\n",
       "      <th>SibSp</th>\n",
       "      <th>Parch</th>\n",
       "      <th>Ticket</th>\n",
       "      <th>Fare</th>\n",
       "      <th>Cabin</th>\n",
       "      <th>Embarked</th>\n",
       "    </tr>\n",
       "  </thead>\n",
       "  <tbody>\n",
       "    <tr>\n",
       "      <th>0</th>\n",
       "      <td>1</td>\n",
       "      <td>0</td>\n",
       "      <td>3</td>\n",
       "      <td>Braund, Mr. Owen Harris</td>\n",
       "      <td>male</td>\n",
       "      <td>22.0</td>\n",
       "      <td>1</td>\n",
       "      <td>0</td>\n",
       "      <td>A/5 21171</td>\n",
       "      <td>7.2500</td>\n",
       "      <td>NaN</td>\n",
       "      <td>S</td>\n",
       "    </tr>\n",
       "    <tr>\n",
       "      <th>1</th>\n",
       "      <td>2</td>\n",
       "      <td>1</td>\n",
       "      <td>1</td>\n",
       "      <td>Cumings, Mrs. John Bradley (Florence Briggs Th...</td>\n",
       "      <td>female</td>\n",
       "      <td>38.0</td>\n",
       "      <td>1</td>\n",
       "      <td>0</td>\n",
       "      <td>PC 17599</td>\n",
       "      <td>71.2833</td>\n",
       "      <td>C85</td>\n",
       "      <td>C</td>\n",
       "    </tr>\n",
       "    <tr>\n",
       "      <th>2</th>\n",
       "      <td>3</td>\n",
       "      <td>1</td>\n",
       "      <td>3</td>\n",
       "      <td>Heikkinen, Miss. Laina</td>\n",
       "      <td>female</td>\n",
       "      <td>26.0</td>\n",
       "      <td>0</td>\n",
       "      <td>0</td>\n",
       "      <td>STON/O2. 3101282</td>\n",
       "      <td>7.9250</td>\n",
       "      <td>NaN</td>\n",
       "      <td>S</td>\n",
       "    </tr>\n",
       "    <tr>\n",
       "      <th>3</th>\n",
       "      <td>4</td>\n",
       "      <td>1</td>\n",
       "      <td>1</td>\n",
       "      <td>Futrelle, Mrs. Jacques Heath (Lily May Peel)</td>\n",
       "      <td>female</td>\n",
       "      <td>35.0</td>\n",
       "      <td>1</td>\n",
       "      <td>0</td>\n",
       "      <td>113803</td>\n",
       "      <td>53.1000</td>\n",
       "      <td>C123</td>\n",
       "      <td>S</td>\n",
       "    </tr>\n",
       "    <tr>\n",
       "      <th>4</th>\n",
       "      <td>5</td>\n",
       "      <td>0</td>\n",
       "      <td>3</td>\n",
       "      <td>Allen, Mr. William Henry</td>\n",
       "      <td>male</td>\n",
       "      <td>35.0</td>\n",
       "      <td>0</td>\n",
       "      <td>0</td>\n",
       "      <td>373450</td>\n",
       "      <td>8.0500</td>\n",
       "      <td>NaN</td>\n",
       "      <td>S</td>\n",
       "    </tr>\n",
       "  </tbody>\n",
       "</table>\n",
       "</div>"
      ],
      "text/plain": [
       "   PassengerId  Survived  Pclass  \\\n",
       "0            1         0       3   \n",
       "1            2         1       1   \n",
       "2            3         1       3   \n",
       "3            4         1       1   \n",
       "4            5         0       3   \n",
       "\n",
       "                                                Name     Sex   Age  SibSp  \\\n",
       "0                            Braund, Mr. Owen Harris    male  22.0      1   \n",
       "1  Cumings, Mrs. John Bradley (Florence Briggs Th...  female  38.0      1   \n",
       "2                             Heikkinen, Miss. Laina  female  26.0      0   \n",
       "3       Futrelle, Mrs. Jacques Heath (Lily May Peel)  female  35.0      1   \n",
       "4                           Allen, Mr. William Henry    male  35.0      0   \n",
       "\n",
       "   Parch            Ticket     Fare Cabin Embarked  \n",
       "0      0         A/5 21171   7.2500   NaN        S  \n",
       "1      0          PC 17599  71.2833   C85        C  \n",
       "2      0  STON/O2. 3101282   7.9250   NaN        S  \n",
       "3      0            113803  53.1000  C123        S  \n",
       "4      0            373450   8.0500   NaN        S  "
      ]
     },
     "execution_count": 4,
     "metadata": {},
     "output_type": "execute_result"
    }
   ],
   "source": [
    "df = pd.read_csv(l_arch[-1])\n",
    "df.head()"
   ]
  },
  {
   "cell_type": "code",
   "execution_count": 5,
   "metadata": {
    "ExecuteTime": {
     "end_time": "2021-08-07T00:28:01.362690Z",
     "start_time": "2021-08-07T00:28:01.341897Z"
    }
   },
   "outputs": [],
   "source": [
    "vard=['Pclass','Sex','Embarked'] # Cabin tal vez\n",
    "varori=['Age','SibSp','Parch','Fare'] # variables continuas originales\n",
    "um='PassengerId'\n",
    "tgt='Survived'\n",
    "#df[varc].head()"
   ]
  },
  {
   "cell_type": "code",
   "execution_count": 6,
   "metadata": {
    "ExecuteTime": {
     "end_time": "2021-08-07T00:28:01.878612Z",
     "start_time": "2021-08-07T00:28:01.369250Z"
    }
   },
   "outputs": [
    {
     "data": {
      "text/html": [
       "<div>\n",
       "<style scoped>\n",
       "    .dataframe tbody tr th:only-of-type {\n",
       "        vertical-align: middle;\n",
       "    }\n",
       "\n",
       "    .dataframe tbody tr th {\n",
       "        vertical-align: top;\n",
       "    }\n",
       "\n",
       "    .dataframe thead th {\n",
       "        text-align: right;\n",
       "    }\n",
       "</style>\n",
       "<table border=\"1\" class=\"dataframe\">\n",
       "  <thead>\n",
       "    <tr style=\"text-align: right;\">\n",
       "      <th></th>\n",
       "      <th>PassengerId</th>\n",
       "      <th>Pclass</th>\n",
       "      <th>Sex</th>\n",
       "      <th>Embarked</th>\n",
       "      <th>Survived</th>\n",
       "    </tr>\n",
       "  </thead>\n",
       "  <tbody>\n",
       "    <tr>\n",
       "      <th>0</th>\n",
       "      <td>1</td>\n",
       "      <td>3</td>\n",
       "      <td>male</td>\n",
       "      <td>S</td>\n",
       "      <td>0</td>\n",
       "    </tr>\n",
       "    <tr>\n",
       "      <th>1</th>\n",
       "      <td>2</td>\n",
       "      <td>1</td>\n",
       "      <td>female</td>\n",
       "      <td>C</td>\n",
       "      <td>1</td>\n",
       "    </tr>\n",
       "  </tbody>\n",
       "</table>\n",
       "</div>"
      ],
      "text/plain": [
       "   PassengerId  Pclass     Sex Embarked  Survived\n",
       "0            1       3    male        S         0\n",
       "1            2       1  female        C         1"
      ]
     },
     "execution_count": 6,
     "metadata": {},
     "output_type": "execute_result"
    }
   ],
   "source": [
    "df.loc[:,[um]+vard+[tgt]].head(2)"
   ]
  },
  {
   "cell_type": "markdown",
   "metadata": {
    "ExecuteTime": {
     "end_time": "2021-02-09T03:34:23.308615Z",
     "start_time": "2021-02-09T03:34:23.265901Z"
    }
   },
   "source": [
    "# Ingeniería de datos"
   ]
  },
  {
   "cell_type": "code",
   "execution_count": 7,
   "metadata": {
    "ExecuteTime": {
     "end_time": "2021-08-07T00:28:02.060126Z",
     "start_time": "2021-08-07T00:28:01.907863Z"
    }
   },
   "outputs": [],
   "source": [
    "def trans(df,v,varori):\n",
    "    aux=df.pivot_table(index=um,columns=v,values=varori,aggfunc=['min','max','mean','std','sum']).fillna(0)\n",
    "    aux.columns=[\"v_\"+v+\"_\"+\"\".join(str(x[2]))+\"_\"+\"\".join(x[1])+\"_\"+\"\".join(x[0]) for x in aux.columns]\n",
    "    return aux"
   ]
  },
  {
   "cell_type": "code",
   "execution_count": 8,
   "metadata": {
    "ExecuteTime": {
     "end_time": "2021-08-07T00:28:05.682827Z",
     "start_time": "2021-08-07T00:28:02.083209Z"
    }
   },
   "outputs": [],
   "source": [
    "# Parte necesaria para los nuevos datos\n",
    "X=reduce(lambda x,y:pd.merge(x,y,on=um,how='outer'), map(lambda v:trans(df,v,varori),vard) )\n",
    "# Se definen nuevas variables continuas\n",
    "varc=[a for a in X.columns if a[:2]=='v_']"
   ]
  },
  {
   "cell_type": "code",
   "execution_count": 9,
   "metadata": {
    "ExecuteTime": {
     "end_time": "2021-08-07T00:28:05.955238Z",
     "start_time": "2021-08-07T00:28:05.711989Z"
    }
   },
   "outputs": [
    {
     "data": {
      "text/html": [
       "<div>\n",
       "<style scoped>\n",
       "    .dataframe tbody tr th:only-of-type {\n",
       "        vertical-align: middle;\n",
       "    }\n",
       "\n",
       "    .dataframe tbody tr th {\n",
       "        vertical-align: top;\n",
       "    }\n",
       "\n",
       "    .dataframe thead th {\n",
       "        text-align: right;\n",
       "    }\n",
       "</style>\n",
       "<table border=\"1\" class=\"dataframe\">\n",
       "  <thead>\n",
       "    <tr style=\"text-align: right;\">\n",
       "      <th></th>\n",
       "      <th>v_Pclass_1_Age_min</th>\n",
       "      <th>v_Pclass_2_Age_min</th>\n",
       "      <th>v_Pclass_3_Age_min</th>\n",
       "      <th>v_Pclass_1_Fare_min</th>\n",
       "      <th>v_Pclass_2_Fare_min</th>\n",
       "      <th>v_Pclass_3_Fare_min</th>\n",
       "      <th>v_Pclass_1_Parch_min</th>\n",
       "      <th>v_Pclass_2_Parch_min</th>\n",
       "      <th>v_Pclass_3_Parch_min</th>\n",
       "      <th>v_Pclass_1_SibSp_min</th>\n",
       "      <th>...</th>\n",
       "      <th>v_Embarked_S_Age_sum</th>\n",
       "      <th>v_Embarked_C_Fare_sum</th>\n",
       "      <th>v_Embarked_Q_Fare_sum</th>\n",
       "      <th>v_Embarked_S_Fare_sum</th>\n",
       "      <th>v_Embarked_C_Parch_sum</th>\n",
       "      <th>v_Embarked_Q_Parch_sum</th>\n",
       "      <th>v_Embarked_S_Parch_sum</th>\n",
       "      <th>v_Embarked_C_SibSp_sum</th>\n",
       "      <th>v_Embarked_Q_SibSp_sum</th>\n",
       "      <th>v_Embarked_S_SibSp_sum</th>\n",
       "    </tr>\n",
       "    <tr>\n",
       "      <th>PassengerId</th>\n",
       "      <th></th>\n",
       "      <th></th>\n",
       "      <th></th>\n",
       "      <th></th>\n",
       "      <th></th>\n",
       "      <th></th>\n",
       "      <th></th>\n",
       "      <th></th>\n",
       "      <th></th>\n",
       "      <th></th>\n",
       "      <th></th>\n",
       "      <th></th>\n",
       "      <th></th>\n",
       "      <th></th>\n",
       "      <th></th>\n",
       "      <th></th>\n",
       "      <th></th>\n",
       "      <th></th>\n",
       "      <th></th>\n",
       "      <th></th>\n",
       "      <th></th>\n",
       "    </tr>\n",
       "  </thead>\n",
       "  <tbody>\n",
       "    <tr>\n",
       "      <th>1</th>\n",
       "      <td>0.0</td>\n",
       "      <td>0.0</td>\n",
       "      <td>22.0</td>\n",
       "      <td>0.0000</td>\n",
       "      <td>0.0</td>\n",
       "      <td>7.25</td>\n",
       "      <td>0.0</td>\n",
       "      <td>0.0</td>\n",
       "      <td>0.0</td>\n",
       "      <td>0.0</td>\n",
       "      <td>...</td>\n",
       "      <td>22.0</td>\n",
       "      <td>0.0000</td>\n",
       "      <td>0.0</td>\n",
       "      <td>7.25</td>\n",
       "      <td>0.0</td>\n",
       "      <td>0.0</td>\n",
       "      <td>0.0</td>\n",
       "      <td>0.0</td>\n",
       "      <td>0.0</td>\n",
       "      <td>1.0</td>\n",
       "    </tr>\n",
       "    <tr>\n",
       "      <th>2</th>\n",
       "      <td>38.0</td>\n",
       "      <td>0.0</td>\n",
       "      <td>0.0</td>\n",
       "      <td>71.2833</td>\n",
       "      <td>0.0</td>\n",
       "      <td>0.00</td>\n",
       "      <td>0.0</td>\n",
       "      <td>0.0</td>\n",
       "      <td>0.0</td>\n",
       "      <td>1.0</td>\n",
       "      <td>...</td>\n",
       "      <td>0.0</td>\n",
       "      <td>71.2833</td>\n",
       "      <td>0.0</td>\n",
       "      <td>0.00</td>\n",
       "      <td>0.0</td>\n",
       "      <td>0.0</td>\n",
       "      <td>0.0</td>\n",
       "      <td>1.0</td>\n",
       "      <td>0.0</td>\n",
       "      <td>0.0</td>\n",
       "    </tr>\n",
       "  </tbody>\n",
       "</table>\n",
       "<p>2 rows × 128 columns</p>\n",
       "</div>"
      ],
      "text/plain": [
       "             v_Pclass_1_Age_min  v_Pclass_2_Age_min  v_Pclass_3_Age_min  \\\n",
       "PassengerId                                                               \n",
       "1                           0.0                 0.0                22.0   \n",
       "2                          38.0                 0.0                 0.0   \n",
       "\n",
       "             v_Pclass_1_Fare_min  v_Pclass_2_Fare_min  v_Pclass_3_Fare_min  \\\n",
       "PassengerId                                                                  \n",
       "1                         0.0000                  0.0                 7.25   \n",
       "2                        71.2833                  0.0                 0.00   \n",
       "\n",
       "             v_Pclass_1_Parch_min  v_Pclass_2_Parch_min  v_Pclass_3_Parch_min  \\\n",
       "PassengerId                                                                     \n",
       "1                             0.0                   0.0                   0.0   \n",
       "2                             0.0                   0.0                   0.0   \n",
       "\n",
       "             v_Pclass_1_SibSp_min  ...  v_Embarked_S_Age_sum  \\\n",
       "PassengerId                        ...                         \n",
       "1                             0.0  ...                  22.0   \n",
       "2                             1.0  ...                   0.0   \n",
       "\n",
       "             v_Embarked_C_Fare_sum  v_Embarked_Q_Fare_sum  \\\n",
       "PassengerId                                                 \n",
       "1                           0.0000                    0.0   \n",
       "2                          71.2833                    0.0   \n",
       "\n",
       "             v_Embarked_S_Fare_sum  v_Embarked_C_Parch_sum  \\\n",
       "PassengerId                                                  \n",
       "1                             7.25                     0.0   \n",
       "2                             0.00                     0.0   \n",
       "\n",
       "             v_Embarked_Q_Parch_sum  v_Embarked_S_Parch_sum  \\\n",
       "PassengerId                                                   \n",
       "1                               0.0                     0.0   \n",
       "2                               0.0                     0.0   \n",
       "\n",
       "             v_Embarked_C_SibSp_sum  v_Embarked_Q_SibSp_sum  \\\n",
       "PassengerId                                                   \n",
       "1                               0.0                     0.0   \n",
       "2                               1.0                     0.0   \n",
       "\n",
       "             v_Embarked_S_SibSp_sum  \n",
       "PassengerId                          \n",
       "1                               1.0  \n",
       "2                               0.0  \n",
       "\n",
       "[2 rows x 128 columns]"
      ]
     },
     "execution_count": 9,
     "metadata": {},
     "output_type": "execute_result"
    }
   ],
   "source": [
    "X.head(2)"
   ]
  },
  {
   "cell_type": "code",
   "execution_count": 10,
   "metadata": {
    "ExecuteTime": {
     "end_time": "2021-08-07T00:28:06.222635Z",
     "start_time": "2021-08-07T00:28:05.982648Z"
    }
   },
   "outputs": [
    {
     "data": {
      "text/plain": [
       "(891, 130)"
      ]
     },
     "execution_count": 10,
     "metadata": {},
     "output_type": "execute_result"
    }
   ],
   "source": [
    "tad=pd.merge(X,df[[um]+[tgt]],on=um,how=\"inner\")\n",
    "tad.shape"
   ]
  },
  {
   "cell_type": "markdown",
   "metadata": {},
   "source": [
    "# Análisis exploratorio"
   ]
  },
  {
   "cell_type": "markdown",
   "metadata": {},
   "source": [
    "## Missings"
   ]
  },
  {
   "cell_type": "code",
   "execution_count": 11,
   "metadata": {
    "ExecuteTime": {
     "end_time": "2021-08-07T00:28:09.609181Z",
     "start_time": "2021-08-07T00:28:06.248175Z"
    },
    "tags": []
   },
   "outputs": [
    {
     "data": {
      "text/html": [
       "<div>\n",
       "<style scoped>\n",
       "    .dataframe tbody tr th:only-of-type {\n",
       "        vertical-align: middle;\n",
       "    }\n",
       "\n",
       "    .dataframe tbody tr th {\n",
       "        vertical-align: top;\n",
       "    }\n",
       "\n",
       "    .dataframe thead th {\n",
       "        text-align: right;\n",
       "    }\n",
       "</style>\n",
       "<table border=\"1\" class=\"dataframe\">\n",
       "  <thead>\n",
       "    <tr style=\"text-align: right;\">\n",
       "      <th></th>\n",
       "      <th>count</th>\n",
       "    </tr>\n",
       "  </thead>\n",
       "  <tbody>\n",
       "    <tr>\n",
       "      <th>v_Pclass_1_Age_min</th>\n",
       "      <td>0.000000</td>\n",
       "    </tr>\n",
       "    <tr>\n",
       "      <th>v_Pclass_2_Age_min</th>\n",
       "      <td>0.000000</td>\n",
       "    </tr>\n",
       "    <tr>\n",
       "      <th>v_Pclass_3_Age_min</th>\n",
       "      <td>0.000000</td>\n",
       "    </tr>\n",
       "    <tr>\n",
       "      <th>v_Pclass_1_Fare_min</th>\n",
       "      <td>0.000000</td>\n",
       "    </tr>\n",
       "    <tr>\n",
       "      <th>v_Pclass_2_Fare_min</th>\n",
       "      <td>0.000000</td>\n",
       "    </tr>\n",
       "    <tr>\n",
       "      <th>...</th>\n",
       "      <td>...</td>\n",
       "    </tr>\n",
       "    <tr>\n",
       "      <th>v_Embarked_Q_Parch_sum</th>\n",
       "      <td>0.002245</td>\n",
       "    </tr>\n",
       "    <tr>\n",
       "      <th>v_Embarked_S_Parch_sum</th>\n",
       "      <td>0.002245</td>\n",
       "    </tr>\n",
       "    <tr>\n",
       "      <th>v_Embarked_C_SibSp_sum</th>\n",
       "      <td>0.002245</td>\n",
       "    </tr>\n",
       "    <tr>\n",
       "      <th>v_Embarked_Q_SibSp_sum</th>\n",
       "      <td>0.002245</td>\n",
       "    </tr>\n",
       "    <tr>\n",
       "      <th>v_Embarked_S_SibSp_sum</th>\n",
       "      <td>0.002245</td>\n",
       "    </tr>\n",
       "  </tbody>\n",
       "</table>\n",
       "<p>128 rows × 1 columns</p>\n",
       "</div>"
      ],
      "text/plain": [
       "                           count\n",
       "v_Pclass_1_Age_min      0.000000\n",
       "v_Pclass_2_Age_min      0.000000\n",
       "v_Pclass_3_Age_min      0.000000\n",
       "v_Pclass_1_Fare_min     0.000000\n",
       "v_Pclass_2_Fare_min     0.000000\n",
       "...                          ...\n",
       "v_Embarked_Q_Parch_sum  0.002245\n",
       "v_Embarked_S_Parch_sum  0.002245\n",
       "v_Embarked_C_SibSp_sum  0.002245\n",
       "v_Embarked_Q_SibSp_sum  0.002245\n",
       "v_Embarked_S_SibSp_sum  0.002245\n",
       "\n",
       "[128 rows x 1 columns]"
      ]
     },
     "execution_count": 11,
     "metadata": {},
     "output_type": "execute_result"
    }
   ],
   "source": [
    "miss=1-tad[varc].describe().T[['count']]/len(tad)\n",
    "miss"
   ]
  },
  {
   "cell_type": "code",
   "execution_count": 12,
   "metadata": {
    "ExecuteTime": {
     "end_time": "2021-08-07T00:28:09.751790Z",
     "start_time": "2021-08-07T00:28:09.632647Z"
    }
   },
   "outputs": [
    {
     "data": {
      "text/plain": [
       "((891, 130), (889, 130))"
      ]
     },
     "execution_count": 12,
     "metadata": {},
     "output_type": "execute_result"
    }
   ],
   "source": [
    "tad.shape,tad.dropna().shape"
   ]
  },
  {
   "cell_type": "code",
   "execution_count": 13,
   "metadata": {
    "ExecuteTime": {
     "end_time": "2021-08-07T00:28:10.190822Z",
     "start_time": "2021-08-07T00:28:09.757453Z"
    }
   },
   "outputs": [
    {
     "data": {
      "text/html": [
       "<div>\n",
       "<style scoped>\n",
       "    .dataframe tbody tr th:only-of-type {\n",
       "        vertical-align: middle;\n",
       "    }\n",
       "\n",
       "    .dataframe tbody tr th {\n",
       "        vertical-align: top;\n",
       "    }\n",
       "\n",
       "    .dataframe thead th {\n",
       "        text-align: right;\n",
       "    }\n",
       "</style>\n",
       "<table border=\"1\" class=\"dataframe\">\n",
       "  <thead>\n",
       "    <tr style=\"text-align: right;\">\n",
       "      <th></th>\n",
       "      <th>PassengerId</th>\n",
       "      <th>v_Pclass_1_Age_min</th>\n",
       "      <th>v_Pclass_2_Age_min</th>\n",
       "      <th>v_Pclass_3_Age_min</th>\n",
       "      <th>v_Pclass_1_Fare_min</th>\n",
       "      <th>v_Pclass_2_Fare_min</th>\n",
       "      <th>v_Pclass_3_Fare_min</th>\n",
       "      <th>v_Pclass_1_Parch_min</th>\n",
       "      <th>v_Pclass_2_Parch_min</th>\n",
       "      <th>v_Pclass_3_Parch_min</th>\n",
       "      <th>...</th>\n",
       "      <th>v_Embarked_C_Fare_sum</th>\n",
       "      <th>v_Embarked_Q_Fare_sum</th>\n",
       "      <th>v_Embarked_S_Fare_sum</th>\n",
       "      <th>v_Embarked_C_Parch_sum</th>\n",
       "      <th>v_Embarked_Q_Parch_sum</th>\n",
       "      <th>v_Embarked_S_Parch_sum</th>\n",
       "      <th>v_Embarked_C_SibSp_sum</th>\n",
       "      <th>v_Embarked_Q_SibSp_sum</th>\n",
       "      <th>v_Embarked_S_SibSp_sum</th>\n",
       "      <th>Survived</th>\n",
       "    </tr>\n",
       "  </thead>\n",
       "  <tbody>\n",
       "    <tr>\n",
       "      <th>884</th>\n",
       "      <td>887</td>\n",
       "      <td>0.0</td>\n",
       "      <td>27.0</td>\n",
       "      <td>0.0</td>\n",
       "      <td>0.0</td>\n",
       "      <td>13.0</td>\n",
       "      <td>0.00</td>\n",
       "      <td>0.0</td>\n",
       "      <td>0.0</td>\n",
       "      <td>0.0</td>\n",
       "      <td>...</td>\n",
       "      <td>0.0</td>\n",
       "      <td>0.00</td>\n",
       "      <td>13.00</td>\n",
       "      <td>0.0</td>\n",
       "      <td>0.0</td>\n",
       "      <td>0.0</td>\n",
       "      <td>0.0</td>\n",
       "      <td>0.0</td>\n",
       "      <td>0.0</td>\n",
       "      <td>0</td>\n",
       "    </tr>\n",
       "    <tr>\n",
       "      <th>885</th>\n",
       "      <td>888</td>\n",
       "      <td>19.0</td>\n",
       "      <td>0.0</td>\n",
       "      <td>0.0</td>\n",
       "      <td>30.0</td>\n",
       "      <td>0.0</td>\n",
       "      <td>0.00</td>\n",
       "      <td>0.0</td>\n",
       "      <td>0.0</td>\n",
       "      <td>0.0</td>\n",
       "      <td>...</td>\n",
       "      <td>0.0</td>\n",
       "      <td>0.00</td>\n",
       "      <td>30.00</td>\n",
       "      <td>0.0</td>\n",
       "      <td>0.0</td>\n",
       "      <td>0.0</td>\n",
       "      <td>0.0</td>\n",
       "      <td>0.0</td>\n",
       "      <td>0.0</td>\n",
       "      <td>1</td>\n",
       "    </tr>\n",
       "    <tr>\n",
       "      <th>886</th>\n",
       "      <td>889</td>\n",
       "      <td>0.0</td>\n",
       "      <td>0.0</td>\n",
       "      <td>0.0</td>\n",
       "      <td>0.0</td>\n",
       "      <td>0.0</td>\n",
       "      <td>23.45</td>\n",
       "      <td>0.0</td>\n",
       "      <td>0.0</td>\n",
       "      <td>2.0</td>\n",
       "      <td>...</td>\n",
       "      <td>0.0</td>\n",
       "      <td>0.00</td>\n",
       "      <td>23.45</td>\n",
       "      <td>0.0</td>\n",
       "      <td>0.0</td>\n",
       "      <td>2.0</td>\n",
       "      <td>0.0</td>\n",
       "      <td>0.0</td>\n",
       "      <td>1.0</td>\n",
       "      <td>0</td>\n",
       "    </tr>\n",
       "    <tr>\n",
       "      <th>887</th>\n",
       "      <td>890</td>\n",
       "      <td>26.0</td>\n",
       "      <td>0.0</td>\n",
       "      <td>0.0</td>\n",
       "      <td>30.0</td>\n",
       "      <td>0.0</td>\n",
       "      <td>0.00</td>\n",
       "      <td>0.0</td>\n",
       "      <td>0.0</td>\n",
       "      <td>0.0</td>\n",
       "      <td>...</td>\n",
       "      <td>30.0</td>\n",
       "      <td>0.00</td>\n",
       "      <td>0.00</td>\n",
       "      <td>0.0</td>\n",
       "      <td>0.0</td>\n",
       "      <td>0.0</td>\n",
       "      <td>0.0</td>\n",
       "      <td>0.0</td>\n",
       "      <td>0.0</td>\n",
       "      <td>1</td>\n",
       "    </tr>\n",
       "    <tr>\n",
       "      <th>888</th>\n",
       "      <td>891</td>\n",
       "      <td>0.0</td>\n",
       "      <td>0.0</td>\n",
       "      <td>32.0</td>\n",
       "      <td>0.0</td>\n",
       "      <td>0.0</td>\n",
       "      <td>7.75</td>\n",
       "      <td>0.0</td>\n",
       "      <td>0.0</td>\n",
       "      <td>0.0</td>\n",
       "      <td>...</td>\n",
       "      <td>0.0</td>\n",
       "      <td>7.75</td>\n",
       "      <td>0.00</td>\n",
       "      <td>0.0</td>\n",
       "      <td>0.0</td>\n",
       "      <td>0.0</td>\n",
       "      <td>0.0</td>\n",
       "      <td>0.0</td>\n",
       "      <td>0.0</td>\n",
       "      <td>0</td>\n",
       "    </tr>\n",
       "  </tbody>\n",
       "</table>\n",
       "<p>5 rows × 130 columns</p>\n",
       "</div>"
      ],
      "text/plain": [
       "     PassengerId  v_Pclass_1_Age_min  v_Pclass_2_Age_min  v_Pclass_3_Age_min  \\\n",
       "884          887                 0.0                27.0                 0.0   \n",
       "885          888                19.0                 0.0                 0.0   \n",
       "886          889                 0.0                 0.0                 0.0   \n",
       "887          890                26.0                 0.0                 0.0   \n",
       "888          891                 0.0                 0.0                32.0   \n",
       "\n",
       "     v_Pclass_1_Fare_min  v_Pclass_2_Fare_min  v_Pclass_3_Fare_min  \\\n",
       "884                  0.0                 13.0                 0.00   \n",
       "885                 30.0                  0.0                 0.00   \n",
       "886                  0.0                  0.0                23.45   \n",
       "887                 30.0                  0.0                 0.00   \n",
       "888                  0.0                  0.0                 7.75   \n",
       "\n",
       "     v_Pclass_1_Parch_min  v_Pclass_2_Parch_min  v_Pclass_3_Parch_min  ...  \\\n",
       "884                   0.0                   0.0                   0.0  ...   \n",
       "885                   0.0                   0.0                   0.0  ...   \n",
       "886                   0.0                   0.0                   2.0  ...   \n",
       "887                   0.0                   0.0                   0.0  ...   \n",
       "888                   0.0                   0.0                   0.0  ...   \n",
       "\n",
       "     v_Embarked_C_Fare_sum  v_Embarked_Q_Fare_sum  v_Embarked_S_Fare_sum  \\\n",
       "884                    0.0                   0.00                  13.00   \n",
       "885                    0.0                   0.00                  30.00   \n",
       "886                    0.0                   0.00                  23.45   \n",
       "887                   30.0                   0.00                   0.00   \n",
       "888                    0.0                   7.75                   0.00   \n",
       "\n",
       "     v_Embarked_C_Parch_sum  v_Embarked_Q_Parch_sum  v_Embarked_S_Parch_sum  \\\n",
       "884                     0.0                     0.0                     0.0   \n",
       "885                     0.0                     0.0                     0.0   \n",
       "886                     0.0                     0.0                     2.0   \n",
       "887                     0.0                     0.0                     0.0   \n",
       "888                     0.0                     0.0                     0.0   \n",
       "\n",
       "     v_Embarked_C_SibSp_sum  v_Embarked_Q_SibSp_sum  v_Embarked_S_SibSp_sum  \\\n",
       "884                     0.0                     0.0                     0.0   \n",
       "885                     0.0                     0.0                     0.0   \n",
       "886                     0.0                     0.0                     1.0   \n",
       "887                     0.0                     0.0                     0.0   \n",
       "888                     0.0                     0.0                     0.0   \n",
       "\n",
       "     Survived  \n",
       "884         0  \n",
       "885         1  \n",
       "886         0  \n",
       "887         1  \n",
       "888         0  \n",
       "\n",
       "[5 rows x 130 columns]"
      ]
     },
     "execution_count": 13,
     "metadata": {},
     "output_type": "execute_result"
    }
   ],
   "source": [
    "tad=tad.dropna().reset_index(drop=True)\n",
    "tad.tail()"
   ]
  },
  {
   "cell_type": "markdown",
   "metadata": {},
   "source": [
    "## Extremos"
   ]
  },
  {
   "cell_type": "code",
   "execution_count": 14,
   "metadata": {
    "ExecuteTime": {
     "end_time": "2021-08-07T00:28:14.696287Z",
     "start_time": "2021-08-07T00:28:10.196820Z"
    }
   },
   "outputs": [],
   "source": [
    "ol = tad[varc].describe(percentiles=[0.01,0.99]).T[['1%','99%']].reset_index().values.tolist()\n",
    "for v,li,ls in ol:\n",
    "    tad['ol_%s'%v] = ((tad[v]<li)|(tad[v]>ls)).astype(int)"
   ]
  },
  {
   "cell_type": "code",
   "execution_count": 15,
   "metadata": {
    "ExecuteTime": {
     "end_time": "2021-08-07T00:28:14.788701Z",
     "start_time": "2021-08-07T00:28:14.711038Z"
    }
   },
   "outputs": [],
   "source": [
    "varo = [v for v in tad.columns if v[:2]=='ol']\n",
    "tad['ext'] = tad[varo].max(axis=1)"
   ]
  },
  {
   "cell_type": "code",
   "execution_count": 16,
   "metadata": {
    "ExecuteTime": {
     "end_time": "2021-08-07T00:28:16.155473Z",
     "start_time": "2021-08-07T00:28:14.812305Z"
    }
   },
   "outputs": [],
   "source": [
    "tad.drop(varo,axis=1,inplace=True)"
   ]
  },
  {
   "cell_type": "code",
   "execution_count": 17,
   "metadata": {
    "ExecuteTime": {
     "end_time": "2021-08-07T00:28:16.493639Z",
     "start_time": "2021-08-07T00:28:16.180005Z"
    }
   },
   "outputs": [
    {
     "data": {
      "text/html": [
       "<div>\n",
       "<style scoped>\n",
       "    .dataframe tbody tr th:only-of-type {\n",
       "        vertical-align: middle;\n",
       "    }\n",
       "\n",
       "    .dataframe tbody tr th {\n",
       "        vertical-align: top;\n",
       "    }\n",
       "\n",
       "    .dataframe thead th {\n",
       "        text-align: right;\n",
       "    }\n",
       "</style>\n",
       "<table border=\"1\" class=\"dataframe\">\n",
       "  <thead>\n",
       "    <tr style=\"text-align: right;\">\n",
       "      <th></th>\n",
       "      <th>PassengerId</th>\n",
       "      <th>v_Pclass_1_Age_min</th>\n",
       "      <th>v_Pclass_2_Age_min</th>\n",
       "      <th>v_Pclass_3_Age_min</th>\n",
       "      <th>v_Pclass_1_Fare_min</th>\n",
       "      <th>v_Pclass_2_Fare_min</th>\n",
       "      <th>v_Pclass_3_Fare_min</th>\n",
       "      <th>v_Pclass_1_Parch_min</th>\n",
       "      <th>v_Pclass_2_Parch_min</th>\n",
       "      <th>v_Pclass_3_Parch_min</th>\n",
       "      <th>...</th>\n",
       "      <th>v_Embarked_Q_Fare_sum</th>\n",
       "      <th>v_Embarked_S_Fare_sum</th>\n",
       "      <th>v_Embarked_C_Parch_sum</th>\n",
       "      <th>v_Embarked_Q_Parch_sum</th>\n",
       "      <th>v_Embarked_S_Parch_sum</th>\n",
       "      <th>v_Embarked_C_SibSp_sum</th>\n",
       "      <th>v_Embarked_Q_SibSp_sum</th>\n",
       "      <th>v_Embarked_S_SibSp_sum</th>\n",
       "      <th>Survived</th>\n",
       "      <th>ext</th>\n",
       "    </tr>\n",
       "  </thead>\n",
       "  <tbody>\n",
       "    <tr>\n",
       "      <th>0</th>\n",
       "      <td>1</td>\n",
       "      <td>0.0</td>\n",
       "      <td>0.0</td>\n",
       "      <td>22.0</td>\n",
       "      <td>0.0000</td>\n",
       "      <td>0.0</td>\n",
       "      <td>7.25</td>\n",
       "      <td>0.0</td>\n",
       "      <td>0.0</td>\n",
       "      <td>0.0</td>\n",
       "      <td>...</td>\n",
       "      <td>0.0</td>\n",
       "      <td>7.25</td>\n",
       "      <td>0.0</td>\n",
       "      <td>0.0</td>\n",
       "      <td>0.0</td>\n",
       "      <td>0.0</td>\n",
       "      <td>0.0</td>\n",
       "      <td>1.0</td>\n",
       "      <td>0</td>\n",
       "      <td>0</td>\n",
       "    </tr>\n",
       "    <tr>\n",
       "      <th>1</th>\n",
       "      <td>2</td>\n",
       "      <td>38.0</td>\n",
       "      <td>0.0</td>\n",
       "      <td>0.0</td>\n",
       "      <td>71.2833</td>\n",
       "      <td>0.0</td>\n",
       "      <td>0.00</td>\n",
       "      <td>0.0</td>\n",
       "      <td>0.0</td>\n",
       "      <td>0.0</td>\n",
       "      <td>...</td>\n",
       "      <td>0.0</td>\n",
       "      <td>0.00</td>\n",
       "      <td>0.0</td>\n",
       "      <td>0.0</td>\n",
       "      <td>0.0</td>\n",
       "      <td>1.0</td>\n",
       "      <td>0.0</td>\n",
       "      <td>0.0</td>\n",
       "      <td>1</td>\n",
       "      <td>0</td>\n",
       "    </tr>\n",
       "  </tbody>\n",
       "</table>\n",
       "<p>2 rows × 131 columns</p>\n",
       "</div>"
      ],
      "text/plain": [
       "   PassengerId  v_Pclass_1_Age_min  v_Pclass_2_Age_min  v_Pclass_3_Age_min  \\\n",
       "0            1                 0.0                 0.0                22.0   \n",
       "1            2                38.0                 0.0                 0.0   \n",
       "\n",
       "   v_Pclass_1_Fare_min  v_Pclass_2_Fare_min  v_Pclass_3_Fare_min  \\\n",
       "0               0.0000                  0.0                 7.25   \n",
       "1              71.2833                  0.0                 0.00   \n",
       "\n",
       "   v_Pclass_1_Parch_min  v_Pclass_2_Parch_min  v_Pclass_3_Parch_min  ...  \\\n",
       "0                   0.0                   0.0                   0.0  ...   \n",
       "1                   0.0                   0.0                   0.0  ...   \n",
       "\n",
       "   v_Embarked_Q_Fare_sum  v_Embarked_S_Fare_sum  v_Embarked_C_Parch_sum  \\\n",
       "0                    0.0                   7.25                     0.0   \n",
       "1                    0.0                   0.00                     0.0   \n",
       "\n",
       "   v_Embarked_Q_Parch_sum  v_Embarked_S_Parch_sum  v_Embarked_C_SibSp_sum  \\\n",
       "0                     0.0                     0.0                     0.0   \n",
       "1                     0.0                     0.0                     1.0   \n",
       "\n",
       "   v_Embarked_Q_SibSp_sum  v_Embarked_S_SibSp_sum  Survived  ext  \n",
       "0                     0.0                     1.0         0    0  \n",
       "1                     0.0                     0.0         1    0  \n",
       "\n",
       "[2 rows x 131 columns]"
      ]
     },
     "execution_count": 17,
     "metadata": {},
     "output_type": "execute_result"
    }
   ],
   "source": [
    "tad.head(2)"
   ]
  },
  {
   "cell_type": "code",
   "execution_count": 18,
   "metadata": {
    "ExecuteTime": {
     "end_time": "2021-08-07T00:28:16.570820Z",
     "start_time": "2021-08-07T00:28:16.500293Z"
    }
   },
   "outputs": [],
   "source": [
    "# Nos quedamos solo con las filas que no son extremas\n",
    "tad_e=tad.loc[tad.ext==0].reset_index(drop=True).drop('ext',axis=1)"
   ]
  },
  {
   "cell_type": "code",
   "execution_count": 19,
   "metadata": {
    "ExecuteTime": {
     "end_time": "2021-08-07T00:28:16.701457Z",
     "start_time": "2021-08-07T00:28:16.584441Z"
    }
   },
   "outputs": [
    {
     "data": {
      "text/plain": [
       "((782, 130), (889, 131))"
      ]
     },
     "execution_count": 19,
     "metadata": {},
     "output_type": "execute_result"
    }
   ],
   "source": [
    "tad_e.shape,tad.shape"
   ]
  },
  {
   "cell_type": "code",
   "execution_count": 20,
   "metadata": {
    "ExecuteTime": {
     "end_time": "2021-08-07T00:28:27.342596Z",
     "start_time": "2021-08-07T00:28:16.707989Z"
    }
   },
   "outputs": [
    {
     "data": {
      "text/plain": [
       "[]"
      ]
     },
     "execution_count": 20,
     "metadata": {},
     "output_type": "execute_result"
    }
   ],
   "source": [
    "from scipy.stats import ks_2samp\n",
    "ks = pd.DataFrame(map(lambda v:(v,ks_2samp(tad_e[v],tad[v]).statistic),varc),columns=['var','ks'])\n",
    "rotas = sorted(ks.loc[ks['ks']>0.1]['var'])\n",
    "rotas # El resultado vacío nos indica que no hay diferencia estadística entre tad y tad_e"
   ]
  },
  {
   "cell_type": "code",
   "execution_count": 21,
   "metadata": {
    "ExecuteTime": {
     "end_time": "2021-08-07T00:28:27.361678Z",
     "start_time": "2021-08-07T00:28:27.354141Z"
    }
   },
   "outputs": [],
   "source": [
    "tad=tad_e"
   ]
  },
  {
   "cell_type": "markdown",
   "metadata": {},
   "source": [
    "## Unarias"
   ]
  },
  {
   "cell_type": "code",
   "execution_count": 22,
   "metadata": {
    "ExecuteTime": {
     "end_time": "2021-08-07T00:28:28.736264Z",
     "start_time": "2021-08-07T00:28:27.373833Z"
    }
   },
   "outputs": [],
   "source": [
    "# Eliminación de columnas innecesarias o unarias\n",
    "mat=tad[varc].describe().T[['max']]\n",
    "columnas=mat.loc[mat['max']<=1].T.columns.to_list()\n",
    "tad=tad.drop(columnas,axis=1)\n",
    "varc=[a for a in tad.columns if a[:2]=='v_']"
   ]
  },
  {
   "cell_type": "markdown",
   "metadata": {
    "tags": []
   },
   "source": [
    "## Multicolinealidad"
   ]
  },
  {
   "cell_type": "code",
   "execution_count": 23,
   "metadata": {
    "ExecuteTime": {
     "end_time": "2021-08-07T00:28:29.027915Z",
     "start_time": "2021-08-07T00:28:28.750654Z"
    }
   },
   "outputs": [],
   "source": [
    "from varclushi import VarClusHi"
   ]
  },
  {
   "cell_type": "code",
   "execution_count": 24,
   "metadata": {
    "ExecuteTime": {
     "end_time": "2021-08-07T00:28:29.079481Z",
     "start_time": "2021-08-07T00:28:29.052643Z"
    }
   },
   "outputs": [],
   "source": [
    "vc = VarClusHi(df=tad[varc],maxclus=10)"
   ]
  },
  {
   "cell_type": "code",
   "execution_count": 25,
   "metadata": {
    "ExecuteTime": {
     "end_time": "2021-08-07T00:28:38.856659Z",
     "start_time": "2021-08-07T00:28:29.086033Z"
    }
   },
   "outputs": [],
   "source": [
    "vc.varclus()\n",
    "r2 = vc.rsquare"
   ]
  },
  {
   "cell_type": "code",
   "execution_count": 26,
   "metadata": {
    "ExecuteTime": {
     "end_time": "2021-08-07T00:28:38.876033Z",
     "start_time": "2021-08-07T00:28:38.861350Z"
    }
   },
   "outputs": [],
   "source": [
    "r2 = r2.sort_values(by=['Cluster','RS_Ratio'],ascending=[1,1]).reset_index(drop=True)"
   ]
  },
  {
   "cell_type": "code",
   "execution_count": 27,
   "metadata": {
    "ExecuteTime": {
     "end_time": "2021-08-07T00:28:39.061017Z",
     "start_time": "2021-08-07T00:28:38.883022Z"
    }
   },
   "outputs": [],
   "source": [
    "r2['importancia'] = r2.groupby('Cluster').cumcount()+1"
   ]
  },
  {
   "cell_type": "code",
   "execution_count": 28,
   "metadata": {
    "ExecuteTime": {
     "end_time": "2021-08-07T00:28:39.188507Z",
     "start_time": "2021-08-07T00:28:39.065556Z"
    }
   },
   "outputs": [
    {
     "data": {
      "text/plain": [
       "['v_Pclass_3_SibSp_min',\n",
       " 'v_Pclass_1_Fare_min',\n",
       " 'v_Sex_female_Parch_min',\n",
       " 'v_Embarked_C_Fare_min',\n",
       " 'v_Embarked_S_Age_min',\n",
       " 'v_Embarked_Q_Age_min',\n",
       " 'v_Pclass_2_Age_min',\n",
       " 'v_Embarked_C_Parch_min',\n",
       " 'v_Sex_female_Age_min',\n",
       " 'v_Pclass_2_Parch_min']"
      ]
     },
     "execution_count": 28,
     "metadata": {},
     "output_type": "execute_result"
    }
   ],
   "source": [
    "best = r2.loc[r2.importancia==1]['Variable'].tolist()\n",
    "best"
   ]
  },
  {
   "cell_type": "code",
   "execution_count": null,
   "metadata": {},
   "outputs": [],
   "source": []
  },
  {
   "cell_type": "markdown",
   "metadata": {
    "tags": []
   },
   "source": [
    "## Correlación"
   ]
  },
  {
   "cell_type": "code",
   "execution_count": 29,
   "metadata": {
    "ExecuteTime": {
     "end_time": "2021-08-07T00:28:39.323505Z",
     "start_time": "2021-08-07T00:28:39.207232Z"
    }
   },
   "outputs": [
    {
     "data": {
      "text/plain": [
       "(782, 110)"
      ]
     },
     "execution_count": 29,
     "metadata": {},
     "output_type": "execute_result"
    }
   ],
   "source": [
    "tad.shape"
   ]
  },
  {
   "cell_type": "code",
   "execution_count": 30,
   "metadata": {
    "ExecuteTime": {
     "end_time": "2021-08-07T00:28:40.129080Z",
     "start_time": "2021-08-07T00:28:39.338615Z"
    }
   },
   "outputs": [
    {
     "data": {
      "text/plain": [
       "(782, 30)"
      ]
     },
     "execution_count": 30,
     "metadata": {},
     "output_type": "execute_result"
    }
   ],
   "source": [
    "mat=tad[varc].corr()\n",
    "n=len(mat)\n",
    "li=0.99\n",
    "nom=[]\n",
    "for i in range(1,n):\n",
    "    if(mat.iloc[i].name in nom):\n",
    "        continue\n",
    "    for j in range(i+1,n):\n",
    "        if(mat.iloc[i,j]>li or mat.iloc[i,j]<(-li)):\n",
    "            nom.append(mat.iloc[:,j].name)\n",
    "tad_c=tad.drop(nom,axis=1)\n",
    "tad_c.shape"
   ]
  },
  {
   "cell_type": "code",
   "execution_count": 53,
   "metadata": {
    "ExecuteTime": {
     "end_time": "2021-08-07T01:54:13.136013Z",
     "start_time": "2021-08-07T01:54:13.122212Z"
    },
    "scrolled": true
   },
   "outputs": [],
   "source": [
    "corvar=[a for a in tad_c.columns if a[:2]=='v_']"
   ]
  },
  {
   "cell_type": "code",
   "execution_count": 54,
   "metadata": {
    "ExecuteTime": {
     "end_time": "2021-08-07T01:54:18.029687Z",
     "start_time": "2021-08-07T01:54:18.009956Z"
    }
   },
   "outputs": [
    {
     "data": {
      "text/plain": [
       "['v_Pclass_1_Age_min',\n",
       " 'v_Pclass_2_Age_min',\n",
       " 'v_Pclass_3_Age_min',\n",
       " 'v_Pclass_1_Fare_min',\n",
       " 'v_Pclass_2_Fare_min',\n",
       " 'v_Pclass_3_Fare_min',\n",
       " 'v_Pclass_1_Parch_min',\n",
       " 'v_Pclass_2_Parch_min',\n",
       " 'v_Pclass_3_Parch_min',\n",
       " 'v_Pclass_3_SibSp_min',\n",
       " 'v_Pclass_1_Age_max',\n",
       " 'v_Sex_female_Age_min',\n",
       " 'v_Sex_male_Age_min',\n",
       " 'v_Sex_female_Fare_min',\n",
       " 'v_Sex_male_Fare_min',\n",
       " 'v_Sex_female_Parch_min',\n",
       " 'v_Sex_male_Parch_min',\n",
       " 'v_Sex_female_SibSp_min',\n",
       " 'v_Sex_male_SibSp_min',\n",
       " 'v_Embarked_C_Age_min',\n",
       " 'v_Embarked_Q_Age_min',\n",
       " 'v_Embarked_S_Age_min',\n",
       " 'v_Embarked_C_Fare_min',\n",
       " 'v_Embarked_Q_Fare_min',\n",
       " 'v_Embarked_S_Fare_min',\n",
       " 'v_Embarked_C_Parch_min',\n",
       " 'v_Embarked_S_Parch_min',\n",
       " 'v_Embarked_S_SibSp_min']"
      ]
     },
     "execution_count": 54,
     "metadata": {},
     "output_type": "execute_result"
    }
   ],
   "source": [
    "corvar"
   ]
  },
  {
   "cell_type": "code",
   "execution_count": 32,
   "metadata": {
    "ExecuteTime": {
     "end_time": "2021-08-07T00:28:46.701752Z",
     "start_time": "2021-08-07T00:28:40.151355Z"
    }
   },
   "outputs": [
    {
     "data": {
      "text/plain": [
       "array([[<AxesSubplot:title={'center':'v_Pclass_3_SibSp_min'}>,\n",
       "        <AxesSubplot:title={'center':'v_Pclass_1_Fare_min'}>,\n",
       "        <AxesSubplot:title={'center':'v_Sex_female_Parch_min'}>],\n",
       "       [<AxesSubplot:title={'center':'v_Embarked_C_Fare_min'}>,\n",
       "        <AxesSubplot:title={'center':'v_Embarked_S_Age_min'}>,\n",
       "        <AxesSubplot:title={'center':'v_Embarked_Q_Age_min'}>],\n",
       "       [<AxesSubplot:title={'center':'v_Pclass_2_Age_min'}>,\n",
       "        <AxesSubplot:title={'center':'v_Embarked_C_Parch_min'}>,\n",
       "        <AxesSubplot:title={'center':'v_Sex_female_Age_min'}>],\n",
       "       [<AxesSubplot:title={'center':'v_Pclass_2_Parch_min'}>,\n",
       "        <AxesSubplot:>, <AxesSubplot:>]], dtype=object)"
      ]
     },
     "execution_count": 32,
     "metadata": {},
     "output_type": "execute_result"
    },
    {
     "data": {
      "image/png": "[encoded data removed]",
      "text/plain": [
       "<Figure size 1440x1440 with 12 Axes>"
      ]
     },
     "metadata": {
      "needs_background": "light"
     },
     "output_type": "display_data"
    }
   ],
   "source": [
    "tad[best].hist(figsize=(20,20))"
   ]
  },
  {
   "cell_type": "markdown",
   "metadata": {},
   "source": [
    "# Modelos"
   ]
  },
  {
   "cell_type": "markdown",
   "metadata": {},
   "source": [
    "## Perceptron"
   ]
  },
  {
   "cell_type": "code",
   "execution_count": 55,
   "metadata": {
    "ExecuteTime": {
     "end_time": "2021-08-07T01:54:33.834791Z",
     "start_time": "2021-08-07T01:54:33.580178Z"
    }
   },
   "outputs": [],
   "source": [
    "X=tad[corvar].copy()\n",
    "y=tad[tgt]\n",
    "Xt,Xv,yt,yv = train_test_split(X,y,train_size=0.7)"
   ]
  },
  {
   "cell_type": "code",
   "execution_count": 128,
   "metadata": {
    "ExecuteTime": {
     "end_time": "2021-07-27T01:39:22.767137Z",
     "start_time": "2021-07-27T01:39:22.743598Z"
    }
   },
   "outputs": [],
   "source": [
    "modelo = Perceptron()"
   ]
  },
  {
   "cell_type": "code",
   "execution_count": 129,
   "metadata": {
    "ExecuteTime": {
     "end_time": "2021-07-27T01:39:34.225950Z",
     "start_time": "2021-07-27T01:39:34.208693Z"
    }
   },
   "outputs": [],
   "source": [
    "#l2 es la norma cuadrada euclidiana y l1 es la norma absoluta, elasticnet es una combinación\n",
    "#Se aplica el penalty a la función de perdida 0-1 del perceptron\n",
    "hyper = dict(penalty = ['l2','l1','elasticnet'],\n",
    "             fit_intercept=[True,False],\n",
    "             max_iter=range(1000,21000,1000),\n",
    "             eta0 = np.arange(0.1,1,0.1))"
   ]
  },
  {
   "cell_type": "code",
   "execution_count": 130,
   "metadata": {
    "ExecuteTime": {
     "end_time": "2021-07-27T01:41:20.275052Z",
     "start_time": "2021-07-27T01:39:50.395170Z"
    }
   },
   "outputs": [
    {
     "name": "stdout",
     "output_type": "stream",
     "text": [
      "Fitting 3 folds for each of 1080 candidates, totalling 3240 fits\n"
     ]
    },
    {
     "name": "stderr",
     "output_type": "stream",
     "text": [
      "[Parallel(n_jobs=-1)]: Using backend LokyBackend with 2 concurrent workers.\n",
      "[Parallel(n_jobs=-1)]: Done  52 tasks      | elapsed:   16.5s\n",
      "[Parallel(n_jobs=-1)]: Done 500 tasks      | elapsed:   31.5s\n",
      "[Parallel(n_jobs=-1)]: Done 1500 tasks      | elapsed:  1.3min\n",
      "[Parallel(n_jobs=-1)]: Done 2900 tasks      | elapsed:  1.9min\n",
      "[Parallel(n_jobs=-1)]: Done 3240 out of 3240 | elapsed:  2.2min finished\n"
     ]
    },
    {
     "data": {
      "text/plain": [
       "GridSearchCV(cv=3, error_score='roc_auc', estimator=Perceptron(), n_jobs=-1,\n",
       "             param_grid={'eta0': array([0.1, 0.2, 0.3, 0.4, 0.5, 0.6, 0.7, 0.8, 0.9]),\n",
       "                         'fit_intercept': [True, False],\n",
       "                         'max_iter': range(1000, 21000, 1000),\n",
       "                         'penalty': ['l2', 'l1', 'elasticnet']},\n",
       "             verbose=True)"
      ]
     },
     "execution_count": 130,
     "metadata": {},
     "output_type": "execute_result"
    }
   ],
   "source": [
    "grid = GridSearchCV(estimator=modelo,\n",
    "                    error_score='roc_auc',\n",
    "                    param_grid=hyper,\n",
    "                    cv=3,\n",
    "                    n_jobs=-1,\n",
    "                    verbose=True)\n",
    "\n",
    "grid.fit(Xt,yt)"
   ]
  },
  {
   "cell_type": "code",
   "execution_count": 131,
   "metadata": {
    "ExecuteTime": {
     "end_time": "2021-07-27T01:42:31.138653Z",
     "start_time": "2021-07-27T01:42:31.102843Z"
    }
   },
   "outputs": [
    {
     "name": "stdout",
     "output_type": "stream",
     "text": [
      "0.7567405272323305\n",
      "{'eta0': 0.8, 'fit_intercept': False, 'max_iter': 1000, 'penalty': 'l2'}\n"
     ]
    }
   ],
   "source": [
    "print(grid.best_score_)\n",
    "\n",
    "print(grid.best_params_)"
   ]
  },
  {
   "cell_type": "code",
   "execution_count": 144,
   "metadata": {
    "ExecuteTime": {
     "end_time": "2021-07-27T01:42:38.437100Z",
     "start_time": "2021-07-27T01:42:38.399591Z"
    }
   },
   "outputs": [
    {
     "data": {
      "text/plain": [
       "Perceptron(eta0=0.8, fit_intercept=False, penalty='l2')"
      ]
     },
     "execution_count": 144,
     "metadata": {},
     "output_type": "execute_result"
    }
   ],
   "source": [
    "modelo = grid.best_estimator_\n",
    "modelo.fit(Xt,yt)"
   ]
  },
  {
   "cell_type": "code",
   "execution_count": 145,
   "metadata": {
    "ExecuteTime": {
     "end_time": "2021-07-27T01:42:42.848244Z",
     "start_time": "2021-07-27T01:42:42.525629Z"
    }
   },
   "outputs": [
    {
     "name": "stdout",
     "output_type": "stream",
     "text": [
      "0.7020109689213894\n",
      "0.6340425531914894\n",
      "[[278  80]\n",
      " [ 83 106]]\n",
      "[[101  26]\n",
      " [ 60  48]]\n"
     ]
    }
   ],
   "source": [
    "print(accuracy_score(y_true=yt,y_pred=modelo.predict(Xt)))\n",
    "print(accuracy_score(y_true=yv,y_pred=modelo.predict(Xv)))\n",
    "\n",
    "print(confusion_matrix(y_true=yt,y_pred=modelo.predict(Xt)))\n",
    "print(confusion_matrix(y_true=yv,y_pred=modelo.predict(Xv)))"
   ]
  },
  {
   "cell_type": "markdown",
   "metadata": {},
   "source": [
    "## Pasivo-agresivo"
   ]
  },
  {
   "cell_type": "code",
   "execution_count": 78,
   "metadata": {
    "ExecuteTime": {
     "end_time": "2021-08-07T01:57:39.339580Z",
     "start_time": "2021-08-07T01:57:39.329126Z"
    }
   },
   "outputs": [],
   "source": [
    "modelo2 = PassiveAggressiveClassifier()"
   ]
  },
  {
   "cell_type": "code",
   "execution_count": 79,
   "metadata": {
    "ExecuteTime": {
     "end_time": "2021-08-07T01:57:41.064716Z",
     "start_time": "2021-08-07T01:57:41.044818Z"
    }
   },
   "outputs": [],
   "source": [
    "hyper = dict(C = np.arange(0.1,2,0.1),\n",
    "             fit_intercept=[True,False],\n",
    "             max_iter=range(1000,21000,1000))"
   ]
  },
  {
   "cell_type": "code",
   "execution_count": 80,
   "metadata": {
    "ExecuteTime": {
     "end_time": "2021-08-07T01:58:29.097183Z",
     "start_time": "2021-08-07T01:57:42.448327Z"
    }
   },
   "outputs": [
    {
     "name": "stdout",
     "output_type": "stream",
     "text": [
      "Fitting 3 folds for each of 760 candidates, totalling 2280 fits\n"
     ]
    },
    {
     "name": "stderr",
     "output_type": "stream",
     "text": [
      "[Parallel(n_jobs=-1)]: Using backend LokyBackend with 2 concurrent workers.\n",
      "[Parallel(n_jobs=-1)]: Done 152 tasks      | elapsed:    3.5s\n",
      "[Parallel(n_jobs=-1)]: Done 752 tasks      | elapsed:   15.7s\n",
      "[Parallel(n_jobs=-1)]: Done 1752 tasks      | elapsed:   35.7s\n",
      "[Parallel(n_jobs=-1)]: Done 2280 out of 2280 | elapsed:   46.5s finished\n"
     ]
    },
    {
     "data": {
      "text/plain": [
       "GridSearchCV(cv=3, error_score='roc_auc',\n",
       "             estimator=PassiveAggressiveClassifier(), n_jobs=-1,\n",
       "             param_grid={'C': array([0.1, 0.2, 0.3, 0.4, 0.5, 0.6, 0.7, 0.8, 0.9, 1. , 1.1, 1.2, 1.3,\n",
       "       1.4, 1.5, 1.6, 1.7, 1.8, 1.9]),\n",
       "                         'fit_intercept': [True, False],\n",
       "                         'max_iter': range(1000, 21000, 1000)},\n",
       "             verbose=True)"
      ]
     },
     "execution_count": 80,
     "metadata": {},
     "output_type": "execute_result"
    }
   ],
   "source": [
    "grid = GridSearchCV(estimator=modelo2,\n",
    "                    error_score='roc_auc',\n",
    "                    param_grid=hyper,\n",
    "                    cv=3,\n",
    "                    n_jobs=-1,\n",
    "                    verbose=True)\n",
    "\n",
    "grid.fit(Xt,yt)"
   ]
  },
  {
   "cell_type": "code",
   "execution_count": 81,
   "metadata": {
    "ExecuteTime": {
     "end_time": "2021-08-07T01:58:35.603431Z",
     "start_time": "2021-08-07T01:58:35.579840Z"
    }
   },
   "outputs": [
    {
     "name": "stdout",
     "output_type": "stream",
     "text": [
      "0.8043996076782962\n",
      "{'C': 0.9, 'fit_intercept': True, 'max_iter': 14000}\n"
     ]
    }
   ],
   "source": [
    "print(grid.best_score_)\n",
    "\n",
    "print(grid.best_params_)"
   ]
  },
  {
   "cell_type": "code",
   "execution_count": 102,
   "metadata": {
    "ExecuteTime": {
     "end_time": "2021-08-07T01:59:17.059653Z",
     "start_time": "2021-08-07T01:59:17.021844Z"
    }
   },
   "outputs": [
    {
     "data": {
      "text/plain": [
       "PassiveAggressiveClassifier(C=0.9, max_iter=14000)"
      ]
     },
     "execution_count": 102,
     "metadata": {},
     "output_type": "execute_result"
    }
   ],
   "source": [
    "modelo2 = grid.best_estimator_\n",
    "modelo2.fit(Xt,yt)"
   ]
  },
  {
   "cell_type": "code",
   "execution_count": 103,
   "metadata": {
    "ExecuteTime": {
     "end_time": "2021-08-07T01:59:17.910035Z",
     "start_time": "2021-08-07T01:59:17.801068Z"
    }
   },
   "outputs": [
    {
     "name": "stdout",
     "output_type": "stream",
     "text": [
      "0.7257769652650823\n",
      "0.7106382978723405\n",
      "[[299  47]\n",
      " [103  98]]\n",
      "[[121  18]\n",
      " [ 50  46]]\n"
     ]
    }
   ],
   "source": [
    "print(accuracy_score(y_true=yt,y_pred=modelo2.predict(Xt)))\n",
    "print(accuracy_score(y_true=yv,y_pred=modelo2.predict(Xv)))\n",
    "\n",
    "print(confusion_matrix(y_true=yt,y_pred=modelo2.predict(Xt)))\n",
    "print(confusion_matrix(y_true=yv,y_pred=modelo2.predict(Xv)))"
   ]
  },
  {
   "cell_type": "markdown",
   "metadata": {},
   "source": [
    "## Maquina vector-soporte"
   ]
  },
  {
   "cell_type": "code",
   "execution_count": 63,
   "metadata": {
    "ExecuteTime": {
     "end_time": "2021-08-07T01:55:38.517220Z",
     "start_time": "2021-08-07T01:55:38.507664Z"
    }
   },
   "outputs": [],
   "source": [
    "modelo3 = SVC()"
   ]
  },
  {
   "cell_type": "code",
   "execution_count": 64,
   "metadata": {
    "ExecuteTime": {
     "end_time": "2021-08-07T01:55:40.056227Z",
     "start_time": "2021-08-07T01:55:40.033952Z"
    }
   },
   "outputs": [],
   "source": [
    "hyper = dict(C = np.arange(0.1,2,0.1),\n",
    "             kernel=['linear', 'poly', 'rbf', 'sigmoid'],\n",
    "             degree=range(2,6),\n",
    "             gamma = ['scale', 'auto'],\n",
    "             probability = [True]\n",
    "            )"
   ]
  },
  {
   "cell_type": "code",
   "execution_count": 65,
   "metadata": {
    "ExecuteTime": {
     "end_time": "2021-08-07T01:55:42.874656Z",
     "start_time": "2021-08-07T01:55:42.837802Z"
    }
   },
   "outputs": [
    {
     "data": {
      "text/plain": [
       "MinMaxScaler()"
      ]
     },
     "execution_count": 65,
     "metadata": {},
     "output_type": "execute_result"
    }
   ],
   "source": [
    "sc = MinMaxScaler()\n",
    "sc.fit(X)"
   ]
  },
  {
   "cell_type": "code",
   "execution_count": 67,
   "metadata": {
    "ExecuteTime": {
     "end_time": "2021-08-07T01:56:06.145430Z",
     "start_time": "2021-08-07T01:56:06.111285Z"
    }
   },
   "outputs": [],
   "source": [
    "Xnt = pd.DataFrame(sc.transform(Xt),columns=corvar)\n",
    "Xnv = pd.DataFrame(sc.transform(Xv),columns=corvar)"
   ]
  },
  {
   "cell_type": "code",
   "execution_count": 68,
   "metadata": {
    "ExecuteTime": {
     "end_time": "2021-08-07T01:57:00.525032Z",
     "start_time": "2021-08-07T01:56:08.146486Z"
    }
   },
   "outputs": [
    {
     "name": "stdout",
     "output_type": "stream",
     "text": [
      "Fitting 3 folds for each of 200 candidates, totalling 600 fits\n"
     ]
    },
    {
     "name": "stderr",
     "output_type": "stream",
     "text": [
      "[Parallel(n_jobs=-1)]: Using backend LokyBackend with 2 concurrent workers.\n",
      "[Parallel(n_jobs=-1)]: Done  46 tasks      | elapsed:    4.7s\n",
      "[Parallel(n_jobs=-1)]: Done 196 tasks      | elapsed:   17.4s\n",
      "[Parallel(n_jobs=-1)]: Done 446 tasks      | elapsed:   39.1s\n",
      "[Parallel(n_jobs=-1)]: Done 600 out of 600 | elapsed:   52.0s finished\n"
     ]
    },
    {
     "data": {
      "text/plain": [
       "RandomizedSearchCV(cv=3, error_score='roc_auc', estimator=SVC(), n_iter=200,\n",
       "                   n_jobs=-1,\n",
       "                   param_distributions={'C': array([0.1, 0.2, 0.3, 0.4, 0.5, 0.6, 0.7, 0.8, 0.9, 1. , 1.1, 1.2, 1.3,\n",
       "       1.4, 1.5, 1.6, 1.7, 1.8, 1.9]),\n",
       "                                        'degree': range(2, 6),\n",
       "                                        'gamma': ['scale', 'auto'],\n",
       "                                        'kernel': ['linear', 'poly', 'rbf',\n",
       "                                                   'sigmoid'],\n",
       "                                        'probability': [True]},\n",
       "                   verbose=True)"
      ]
     },
     "execution_count": 68,
     "metadata": {},
     "output_type": "execute_result"
    }
   ],
   "source": [
    "grid = RandomizedSearchCV(estimator=modelo3,\n",
    "                    error_score='roc_auc',\n",
    "                    param_distributions=hyper,\n",
    "                    n_iter=200,\n",
    "                    cv=3,\n",
    "                    n_jobs=-1,\n",
    "                    verbose=True)\n",
    "\n",
    "grid.fit(Xnt,yt)"
   ]
  },
  {
   "cell_type": "code",
   "execution_count": 69,
   "metadata": {
    "ExecuteTime": {
     "end_time": "2021-08-07T01:57:09.705285Z",
     "start_time": "2021-08-07T01:57:09.680713Z"
    }
   },
   "outputs": [
    {
     "name": "stdout",
     "output_type": "stream",
     "text": [
      "0.8026081386737124\n",
      "{'probability': True, 'kernel': 'rbf', 'gamma': 'scale', 'degree': 4, 'C': 1.2000000000000002}\n"
     ]
    }
   ],
   "source": [
    "print(grid.best_score_)\n",
    "print(grid.best_params_)"
   ]
  },
  {
   "cell_type": "code",
   "execution_count": 76,
   "metadata": {
    "ExecuteTime": {
     "end_time": "2021-08-07T01:57:29.813010Z",
     "start_time": "2021-08-07T01:57:29.517458Z"
    }
   },
   "outputs": [
    {
     "data": {
      "text/plain": [
       "SVC(C=1.2000000000000002, degree=4, probability=True)"
      ]
     },
     "execution_count": 76,
     "metadata": {},
     "output_type": "execute_result"
    }
   ],
   "source": [
    "modelo3 = grid.best_estimator_\n",
    "\n",
    "modelo3.fit(Xt,yt)"
   ]
  },
  {
   "cell_type": "code",
   "execution_count": 77,
   "metadata": {
    "ExecuteTime": {
     "end_time": "2021-08-07T01:57:30.826422Z",
     "start_time": "2021-08-07T01:57:30.520879Z"
    }
   },
   "outputs": [
    {
     "name": "stdout",
     "output_type": "stream",
     "text": [
      "0.8007312614259597\n",
      "0.7574468085106383\n",
      "[[339   7]\n",
      " [102  99]]\n",
      "[[137   2]\n",
      " [ 55  41]]\n",
      "0.8694748799355823\n",
      "0.8232538968824941\n"
     ]
    }
   ],
   "source": [
    "print(accuracy_score(y_true=yt,y_pred=modelo3.predict(Xt)))\n",
    "print(accuracy_score(y_true=yv,y_pred=modelo3.predict(Xv)))\n",
    "\n",
    "print(confusion_matrix(y_true=yt,y_pred=modelo3.predict(Xt)))\n",
    "print(confusion_matrix(y_true=yv,y_pred=modelo3.predict(Xv)))\n",
    "\n",
    "print(roc_auc_score(y_true=yt,y_score=modelo3.predict_proba(Xt)[:,1]))\n",
    "print(roc_auc_score(y_true=yv,y_score=modelo3.predict_proba(Xv)[:,1]))"
   ]
  },
  {
   "cell_type": "code",
   "execution_count": 92,
   "metadata": {
    "ExecuteTime": {
     "end_time": "2021-07-27T01:49:06.565982Z",
     "start_time": "2021-07-27T01:49:04.686333Z"
    }
   },
   "outputs": [
    {
     "name": "stderr",
     "output_type": "stream",
     "text": [
      "/home/oszwaldo/Documentos/Projects/env/lib/python3.7/site-packages/sklearn/utils/deprecation.py:86: FutureWarning: Function plot_roc_curve is deprecated; This will be removed in v0.5.0. Please use scikitplot.metrics.plot_roc instead.\n",
      "  warnings.warn(msg, category=FutureWarning)\n",
      "/home/oszwaldo/Documentos/Projects/env/lib/python3.7/site-packages/sklearn/utils/deprecation.py:86: FutureWarning: Function plot_roc_curve is deprecated; This will be removed in v0.5.0. Please use scikitplot.metrics.plot_roc instead.\n",
      "  warnings.warn(msg, category=FutureWarning)\n"
     ]
    },
    {
     "data": {
      "text/plain": [
       "<AxesSubplot:title={'center':'ROC Curves'}, xlabel='False Positive Rate', ylabel='True Positive Rate'>"
      ]
     },
     "execution_count": 92,
     "metadata": {},
     "output_type": "execute_result"
    },
    {
     "data": {
      "image/png": "[encoded data removed]",
      "text/plain": [
       "<Figure size 432x288 with 1 Axes>"
      ]
     },
     "metadata": {
      "needs_background": "light"
     },
     "output_type": "display_data"
    },
    {
     "data": {
      "image/png": "[encoded data removed]",
      "text/plain": [
       "<Figure size 432x288 with 1 Axes>"
      ]
     },
     "metadata": {
      "needs_background": "light"
     },
     "output_type": "display_data"
    }
   ],
   "source": [
    "plot_roc_curve(y_true=yt,y_probas=modelo3.predict_proba(Xt),curves='macro')\n",
    "plot_roc_curve(y_true=yv,y_probas=modelo3.predict_proba(Xv),curves='macro')"
   ]
  },
  {
   "cell_type": "markdown",
   "metadata": {},
   "source": [
    "## Regresion logistica"
   ]
  },
  {
   "cell_type": "code",
   "execution_count": 56,
   "metadata": {
    "ExecuteTime": {
     "end_time": "2021-08-07T01:54:42.039924Z",
     "start_time": "2021-08-07T01:54:42.024855Z"
    }
   },
   "outputs": [],
   "source": [
    "modeloRL = LogisticRegression()"
   ]
  },
  {
   "cell_type": "code",
   "execution_count": 57,
   "metadata": {
    "ExecuteTime": {
     "end_time": "2021-08-07T01:54:43.027080Z",
     "start_time": "2021-08-07T01:54:43.014731Z"
    }
   },
   "outputs": [],
   "source": [
    "hyper = {'penalty' : ['l1', 'l2'],\n",
    "    'C' : np.logspace(-4, 4, 20),\n",
    "    'solver' : ['liblinear'] }"
   ]
  },
  {
   "cell_type": "code",
   "execution_count": 58,
   "metadata": {
    "ExecuteTime": {
     "end_time": "2021-08-07T01:54:44.159359Z",
     "start_time": "2021-08-07T01:54:44.147481Z"
    }
   },
   "outputs": [],
   "source": [
    "grid = GridSearchCV(estimator=modeloRL,\n",
    "                    error_score='raise',\n",
    "                    param_grid=hyper,\n",
    "                    cv=3,\n",
    "                    n_jobs=-1,\n",
    "                    verbose=True)"
   ]
  },
  {
   "cell_type": "code",
   "execution_count": 59,
   "metadata": {
    "ExecuteTime": {
     "end_time": "2021-08-07T01:54:59.196779Z",
     "start_time": "2021-08-07T01:54:45.336401Z"
    }
   },
   "outputs": [
    {
     "name": "stdout",
     "output_type": "stream",
     "text": [
      "Fitting 3 folds for each of 40 candidates, totalling 120 fits\n"
     ]
    },
    {
     "name": "stderr",
     "output_type": "stream",
     "text": [
      "[Parallel(n_jobs=-1)]: Using backend LokyBackend with 2 concurrent workers.\n",
      "[Parallel(n_jobs=-1)]: Done  92 tasks      | elapsed:   13.1s\n",
      "[Parallel(n_jobs=-1)]: Done 120 out of 120 | elapsed:   13.8s finished\n"
     ]
    },
    {
     "data": {
      "text/plain": [
       "GridSearchCV(cv=3, error_score='raise', estimator=LogisticRegression(),\n",
       "             n_jobs=-1,\n",
       "             param_grid={'C': array([1.00000000e-04, 2.63665090e-04, 6.95192796e-04, 1.83298071e-03,\n",
       "       4.83293024e-03, 1.27427499e-02, 3.35981829e-02, 8.85866790e-02,\n",
       "       2.33572147e-01, 6.15848211e-01, 1.62377674e+00, 4.28133240e+00,\n",
       "       1.12883789e+01, 2.97635144e+01, 7.84759970e+01, 2.06913808e+02,\n",
       "       5.45559478e+02, 1.43844989e+03, 3.79269019e+03, 1.00000000e+04]),\n",
       "                         'penalty': ['l1', 'l2'], 'solver': ['liblinear']},\n",
       "             verbose=True)"
      ]
     },
     "execution_count": 59,
     "metadata": {},
     "output_type": "execute_result"
    }
   ],
   "source": [
    "grid.fit(Xt,yt)"
   ]
  },
  {
   "cell_type": "code",
   "execution_count": 60,
   "metadata": {
    "ExecuteTime": {
     "end_time": "2021-08-07T01:55:06.765046Z",
     "start_time": "2021-08-07T01:55:06.740386Z"
    }
   },
   "outputs": [
    {
     "name": "stdout",
     "output_type": "stream",
     "text": [
      "0.7953321723813528\n",
      "{'C': 0.0018329807108324356, 'penalty': 'l2', 'solver': 'liblinear'}\n"
     ]
    }
   ],
   "source": [
    "print(grid.best_score_)\n",
    "print(grid.best_params_)"
   ]
  },
  {
   "cell_type": "code",
   "execution_count": 61,
   "metadata": {
    "ExecuteTime": {
     "end_time": "2021-08-07T01:55:11.579427Z",
     "start_time": "2021-08-07T01:55:11.531762Z"
    }
   },
   "outputs": [
    {
     "data": {
      "text/plain": [
       "LogisticRegression(C=0.0018329807108324356, solver='liblinear')"
      ]
     },
     "execution_count": 61,
     "metadata": {},
     "output_type": "execute_result"
    }
   ],
   "source": [
    "modeloRL = grid.best_estimator_\n",
    "\n",
    "modeloRL.fit(Xt,yt)"
   ]
  },
  {
   "cell_type": "code",
   "execution_count": 62,
   "metadata": {
    "ExecuteTime": {
     "end_time": "2021-08-07T01:55:14.220979Z",
     "start_time": "2021-08-07T01:55:14.145500Z"
    }
   },
   "outputs": [
    {
     "name": "stdout",
     "output_type": "stream",
     "text": [
      "0.8138282575561497\n",
      "0.829548860911271\n"
     ]
    }
   ],
   "source": [
    "print(roc_auc_score(y_score=modeloRL.predict_proba(Xt)[:,1],y_true=yt))\n",
    "print(roc_auc_score(y_score=modeloRL.predict_proba(Xv)[:,1],y_true=yv))"
   ]
  },
  {
   "cell_type": "markdown",
   "metadata": {},
   "source": [
    "## Red neuronal"
   ]
  },
  {
   "cell_type": "code",
   "execution_count": 39,
   "metadata": {
    "ExecuteTime": {
     "end_time": "2021-07-31T01:32:04.925482Z",
     "start_time": "2021-07-31T01:32:04.909155Z"
    }
   },
   "outputs": [],
   "source": [
    "modeloRN = MLPClassifier()"
   ]
  },
  {
   "cell_type": "code",
   "execution_count": 40,
   "metadata": {
    "ExecuteTime": {
     "end_time": "2021-07-31T01:32:06.585078Z",
     "start_time": "2021-07-31T01:32:06.563893Z"
    }
   },
   "outputs": [],
   "source": [
    "param = dict(hidden_layer_sizes = [(a,b,) for a in range(1,10)  for b in range(1,10)],\n",
    "activation = ['identity', 'logistic', 'tanh', 'relu'],\n",
    "solver = ['lbfgs', 'sgd', 'adam'],\n",
    "alpha = np.arange(0.0001,0.001,0.0001),\n",
    "learning_rate = ['constant', 'invscaling', 'adaptive'],\n",
    "learning_rate_init = np.arange(0.001,0.01,0.001),\n",
    "max_iter = [len(X)*2])"
   ]
  },
  {
   "cell_type": "code",
   "execution_count": 41,
   "metadata": {
    "ExecuteTime": {
     "end_time": "2021-07-31T01:32:15.755451Z",
     "start_time": "2021-07-31T01:32:15.726058Z"
    }
   },
   "outputs": [],
   "source": [
    "grid = RandomizedSearchCV(estimator=modeloRN,\n",
    "                          cv=10,\n",
    "                          n_iter=300,\n",
    "                          n_jobs=-1,\n",
    "                          verbose=True,\n",
    "                          scoring='roc_auc',\n",
    "                          param_distributions=param)"
   ]
  },
  {
   "cell_type": "code",
   "execution_count": 42,
   "metadata": {
    "ExecuteTime": {
     "start_time": "2021-07-31T01:32:19.566Z"
    }
   },
   "outputs": [
    {
     "name": "stdout",
     "output_type": "stream",
     "text": [
      "Fitting 10 folds for each of 300 candidates, totalling 3000 fits\n"
     ]
    },
    {
     "name": "stderr",
     "output_type": "stream",
     "text": [
      "[Parallel(n_jobs=-1)]: Using backend LokyBackend with 8 concurrent workers.\n",
      "[Parallel(n_jobs=-1)]: Done  34 tasks      | elapsed:    2.1s\n",
      "[Parallel(n_jobs=-1)]: Done 184 tasks      | elapsed:   10.7s\n",
      "[Parallel(n_jobs=-1)]: Done 434 tasks      | elapsed:   31.4s\n",
      "[Parallel(n_jobs=-1)]: Done 784 tasks      | elapsed:  1.1min\n",
      "[Parallel(n_jobs=-1)]: Done 1269 tasks      | elapsed:  1.7min\n",
      "[Parallel(n_jobs=-1)]: Done 1835 tasks      | elapsed:  2.5min\n",
      "[Parallel(n_jobs=-1)]: Done 2516 tasks      | elapsed:  3.4min\n",
      "[Parallel(n_jobs=-1)]: Done 2985 out of 3000 | elapsed:  3.9min remaining:    1.2s\n",
      "[Parallel(n_jobs=-1)]: Done 3000 out of 3000 | elapsed:  3.9min finished\n",
      "/opt/conda/anaconda/lib/python3.7/site-packages/sklearn/model_selection/_search.py:814: DeprecationWarning: The default of the `iid` parameter will change from True to False in version 0.22 and will be removed in 0.24. This will change numeric results when test-set sizes are unequal.\n",
      "  DeprecationWarning)\n"
     ]
    },
    {
     "data": {
      "text/plain": [
       "RandomizedSearchCV(cv=10, error_score='raise-deprecating',\n",
       "                   estimator=MLPClassifier(activation='relu', alpha=0.0001,\n",
       "                                           batch_size='auto', beta_1=0.9,\n",
       "                                           beta_2=0.999, early_stopping=False,\n",
       "                                           epsilon=1e-08,\n",
       "                                           hidden_layer_sizes=(100,),\n",
       "                                           learning_rate='constant',\n",
       "                                           learning_rate_init=0.001,\n",
       "                                           max_iter=200, momentum=0.9,\n",
       "                                           n_iter_no_change=10,\n",
       "                                           nesterovs_momentum=True, power_t=0.5,\n",
       "                                           ran...\n",
       "                                                               (3, 5), (3, 6),\n",
       "                                                               (3, 7), (3, 8),\n",
       "                                                               (3, 9), (4, 1),\n",
       "                                                               (4, 2), (4, 3), ...],\n",
       "                                        'learning_rate': ['constant',\n",
       "                                                          'invscaling',\n",
       "                                                          'adaptive'],\n",
       "                                        'learning_rate_init': array([0.001, 0.002, 0.003, 0.004, 0.005, 0.006, 0.007, 0.008, 0.009]),\n",
       "                                        'max_iter': [1564],\n",
       "                                        'solver': ['lbfgs', 'sgd', 'adam']},\n",
       "                   pre_dispatch='2*n_jobs', random_state=None, refit=True,\n",
       "                   return_train_score=False, scoring='roc_auc', verbose=True)"
      ]
     },
     "execution_count": 42,
     "metadata": {},
     "output_type": "execute_result"
    }
   ],
   "source": [
    "grid.fit(Xt,yt)"
   ]
  },
  {
   "cell_type": "code",
   "execution_count": 43,
   "metadata": {},
   "outputs": [
    {
     "data": {
      "text/plain": [
       "{'solver': 'adam',\n",
       " 'max_iter': 1564,\n",
       " 'learning_rate_init': 0.006,\n",
       " 'learning_rate': 'constant',\n",
       " 'hidden_layer_sizes': (5, 9),\n",
       " 'alpha': 0.0009000000000000001,\n",
       " 'activation': 'tanh'}"
      ]
     },
     "execution_count": 43,
     "metadata": {},
     "output_type": "execute_result"
    }
   ],
   "source": [
    "grid.best_params_"
   ]
  },
  {
   "cell_type": "code",
   "execution_count": 44,
   "metadata": {},
   "outputs": [
    {
     "data": {
      "text/plain": [
       "0.8597716134816898"
      ]
     },
     "execution_count": 44,
     "metadata": {},
     "output_type": "execute_result"
    }
   ],
   "source": [
    "grid.best_score_"
   ]
  },
  {
   "cell_type": "code",
   "execution_count": 45,
   "metadata": {},
   "outputs": [],
   "source": [
    "modeloRN = grid.best_estimator_"
   ]
  },
  {
   "cell_type": "code",
   "execution_count": 46,
   "metadata": {},
   "outputs": [
    {
     "data": {
      "text/plain": [
       "MLPClassifier(activation='tanh', alpha=0.0009000000000000001, batch_size='auto',\n",
       "              beta_1=0.9, beta_2=0.999, early_stopping=False, epsilon=1e-08,\n",
       "              hidden_layer_sizes=(5, 9), learning_rate='constant',\n",
       "              learning_rate_init=0.006, max_iter=1564, momentum=0.9,\n",
       "              n_iter_no_change=10, nesterovs_momentum=True, power_t=0.5,\n",
       "              random_state=None, shuffle=True, solver='adam', tol=0.0001,\n",
       "              validation_fraction=0.1, verbose=False, warm_start=False)"
      ]
     },
     "execution_count": 46,
     "metadata": {},
     "output_type": "execute_result"
    }
   ],
   "source": [
    "modeloRN.fit(Xt,yt)"
   ]
  },
  {
   "cell_type": "code",
   "execution_count": 48,
   "metadata": {},
   "outputs": [
    {
     "name": "stderr",
     "output_type": "stream",
     "text": [
      "/opt/conda/anaconda/lib/python3.7/site-packages/sklearn/utils/deprecation.py:85: DeprecationWarning: Function plot_roc_curve is deprecated; This will be removed in v0.5.0. Please use scikitplot.metrics.plot_roc instead.\n",
      "  warnings.warn(msg, category=DeprecationWarning)\n",
      "/opt/conda/anaconda/lib/python3.7/site-packages/sklearn/utils/deprecation.py:85: DeprecationWarning: Function plot_roc_curve is deprecated; This will be removed in v0.5.0. Please use scikitplot.metrics.plot_roc instead.\n",
      "  warnings.warn(msg, category=DeprecationWarning)\n"
     ]
    },
    {
     "data": {
      "text/plain": [
       "<matplotlib.axes._subplots.AxesSubplot at 0x7f307de79a50>"
      ]
     },
     "execution_count": 48,
     "metadata": {},
     "output_type": "execute_result"
    },
    {
     "data": {
      "image/png": "[encoded data removed]",
      "text/plain": [
       "<Figure size 432x288 with 1 Axes>"
      ]
     },
     "metadata": {
      "needs_background": "light"
     },
     "output_type": "display_data"
    },
    {
     "data": {
      "image/png": "[encoded data removed]",
      "text/plain": [
       "<Figure size 432x288 with 1 Axes>"
      ]
     },
     "metadata": {
      "needs_background": "light"
     },
     "output_type": "display_data"
    }
   ],
   "source": [
    "plot_roc_curve(y_true=yt,y_probas=modeloRN.predict_proba(Xt),curves='macro')\n",
    "plot_roc_curve(y_true=yv,y_probas=modeloRN.predict_proba(Xv),curves='macro')"
   ]
  },
  {
   "cell_type": "markdown",
   "metadata": {},
   "source": [
    "# Prueba con datos desconocidos"
   ]
  },
  {
   "cell_type": "code",
   "execution_count": 49,
   "metadata": {
    "ExecuteTime": {
     "end_time": "2021-02-16T03:28:55.419108Z",
     "start_time": "2021-02-16T03:28:55.408787Z"
    }
   },
   "outputs": [
    {
     "data": {
      "text/plain": [
       "['/home/osvaldosantos823/Cuadernos_ML/Kaggle/titanic/datos/test.csv',\n",
       " '/home/osvaldosantos823/Cuadernos_ML/Kaggle/titanic/datos/train.csv']"
      ]
     },
     "execution_count": 49,
     "metadata": {},
     "output_type": "execute_result"
    }
   ],
   "source": [
    "l_arch"
   ]
  },
  {
   "cell_type": "code",
   "execution_count": 50,
   "metadata": {
    "ExecuteTime": {
     "end_time": "2021-02-16T03:29:30.209946Z",
     "start_time": "2021-02-16T03:29:30.135276Z"
    }
   },
   "outputs": [
    {
     "data": {
      "text/html": [
       "<div>\n",
       "<style scoped>\n",
       "    .dataframe tbody tr th:only-of-type {\n",
       "        vertical-align: middle;\n",
       "    }\n",
       "\n",
       "    .dataframe tbody tr th {\n",
       "        vertical-align: top;\n",
       "    }\n",
       "\n",
       "    .dataframe thead th {\n",
       "        text-align: right;\n",
       "    }\n",
       "</style>\n",
       "<table border=\"1\" class=\"dataframe\">\n",
       "  <thead>\n",
       "    <tr style=\"text-align: right;\">\n",
       "      <th></th>\n",
       "      <th>PassengerId</th>\n",
       "      <th>Pclass</th>\n",
       "      <th>Name</th>\n",
       "      <th>Sex</th>\n",
       "      <th>Age</th>\n",
       "      <th>SibSp</th>\n",
       "      <th>Parch</th>\n",
       "      <th>Ticket</th>\n",
       "      <th>Fare</th>\n",
       "      <th>Cabin</th>\n",
       "      <th>Embarked</th>\n",
       "    </tr>\n",
       "  </thead>\n",
       "  <tbody>\n",
       "    <tr>\n",
       "      <th>0</th>\n",
       "      <td>892</td>\n",
       "      <td>3</td>\n",
       "      <td>Kelly, Mr. James</td>\n",
       "      <td>male</td>\n",
       "      <td>34.5</td>\n",
       "      <td>0</td>\n",
       "      <td>0</td>\n",
       "      <td>330911</td>\n",
       "      <td>7.8292</td>\n",
       "      <td>NaN</td>\n",
       "      <td>Q</td>\n",
       "    </tr>\n",
       "    <tr>\n",
       "      <th>1</th>\n",
       "      <td>893</td>\n",
       "      <td>3</td>\n",
       "      <td>Wilkes, Mrs. James (Ellen Needs)</td>\n",
       "      <td>female</td>\n",
       "      <td>47.0</td>\n",
       "      <td>1</td>\n",
       "      <td>0</td>\n",
       "      <td>363272</td>\n",
       "      <td>7.0000</td>\n",
       "      <td>NaN</td>\n",
       "      <td>S</td>\n",
       "    </tr>\n",
       "    <tr>\n",
       "      <th>2</th>\n",
       "      <td>894</td>\n",
       "      <td>2</td>\n",
       "      <td>Myles, Mr. Thomas Francis</td>\n",
       "      <td>male</td>\n",
       "      <td>62.0</td>\n",
       "      <td>0</td>\n",
       "      <td>0</td>\n",
       "      <td>240276</td>\n",
       "      <td>9.6875</td>\n",
       "      <td>NaN</td>\n",
       "      <td>Q</td>\n",
       "    </tr>\n",
       "    <tr>\n",
       "      <th>3</th>\n",
       "      <td>895</td>\n",
       "      <td>3</td>\n",
       "      <td>Wirz, Mr. Albert</td>\n",
       "      <td>male</td>\n",
       "      <td>27.0</td>\n",
       "      <td>0</td>\n",
       "      <td>0</td>\n",
       "      <td>315154</td>\n",
       "      <td>8.6625</td>\n",
       "      <td>NaN</td>\n",
       "      <td>S</td>\n",
       "    </tr>\n",
       "    <tr>\n",
       "      <th>4</th>\n",
       "      <td>896</td>\n",
       "      <td>3</td>\n",
       "      <td>Hirvonen, Mrs. Alexander (Helga E Lindqvist)</td>\n",
       "      <td>female</td>\n",
       "      <td>22.0</td>\n",
       "      <td>1</td>\n",
       "      <td>1</td>\n",
       "      <td>3101298</td>\n",
       "      <td>12.2875</td>\n",
       "      <td>NaN</td>\n",
       "      <td>S</td>\n",
       "    </tr>\n",
       "  </tbody>\n",
       "</table>\n",
       "</div>"
      ],
      "text/plain": [
       "   PassengerId  Pclass                                          Name     Sex  \\\n",
       "0          892       3                              Kelly, Mr. James    male   \n",
       "1          893       3              Wilkes, Mrs. James (Ellen Needs)  female   \n",
       "2          894       2                     Myles, Mr. Thomas Francis    male   \n",
       "3          895       3                              Wirz, Mr. Albert    male   \n",
       "4          896       3  Hirvonen, Mrs. Alexander (Helga E Lindqvist)  female   \n",
       "\n",
       "    Age  SibSp  Parch   Ticket     Fare Cabin Embarked  \n",
       "0  34.5      0      0   330911   7.8292   NaN        Q  \n",
       "1  47.0      1      0   363272   7.0000   NaN        S  \n",
       "2  62.0      0      0   240276   9.6875   NaN        Q  \n",
       "3  27.0      0      0   315154   8.6625   NaN        S  \n",
       "4  22.0      1      1  3101298  12.2875   NaN        S  "
      ]
     },
     "execution_count": 50,
     "metadata": {},
     "output_type": "execute_result"
    }
   ],
   "source": [
    "test=pd.read_csv(l_arch[0])\n",
    "test.head()"
   ]
  },
  {
   "cell_type": "code",
   "execution_count": 51,
   "metadata": {
    "ExecuteTime": {
     "end_time": "2021-02-16T03:29:50.384196Z",
     "start_time": "2021-02-16T03:29:49.640968Z"
    }
   },
   "outputs": [],
   "source": [
    "Xtest=reduce(lambda x,y:pd.merge(x,y,on=um,how='outer'), map(lambda v:trans(test,v,varori),vard) )"
   ]
  },
  {
   "cell_type": "code",
   "execution_count": 52,
   "metadata": {
    "ExecuteTime": {
     "end_time": "2021-02-16T03:33:08.065376Z",
     "start_time": "2021-02-16T03:33:08.039731Z"
    }
   },
   "outputs": [],
   "source": [
    "pre=modeloRN.predict(Xtest[varc])\n",
    "pre=pd.DataFrame(pre)\n",
    "pre.columns=[um+tgt]"
   ]
  },
  {
   "cell_type": "code",
   "execution_count": 53,
   "metadata": {
    "ExecuteTime": {
     "end_time": "2021-02-16T03:10:09.341515Z",
     "start_time": "2021-02-16T03:09:24.633Z"
    }
   },
   "outputs": [],
   "source": [
    "# Formato\n",
    "lista=test.loc[:,'PassengerId'].to_list()\n",
    "lista=pd.DataFrame(lista)\n",
    "pre=pd.merge(pre,lista,on=pre.index)\n",
    "pre=pre.drop(\"key_0\",axis=1)\n",
    "pre.columns=[tgt,um]"
   ]
  },
  {
   "cell_type": "code",
   "execution_count": 54,
   "metadata": {
    "ExecuteTime": {
     "end_time": "2021-02-16T03:38:52.874121Z",
     "start_time": "2021-02-16T03:38:52.834971Z"
    }
   },
   "outputs": [
    {
     "data": {
      "text/html": [
       "<div>\n",
       "<style scoped>\n",
       "    .dataframe tbody tr th:only-of-type {\n",
       "        vertical-align: middle;\n",
       "    }\n",
       "\n",
       "    .dataframe tbody tr th {\n",
       "        vertical-align: top;\n",
       "    }\n",
       "\n",
       "    .dataframe thead th {\n",
       "        text-align: right;\n",
       "    }\n",
       "</style>\n",
       "<table border=\"1\" class=\"dataframe\">\n",
       "  <thead>\n",
       "    <tr style=\"text-align: right;\">\n",
       "      <th></th>\n",
       "      <th>Survived</th>\n",
       "      <th>PassengerId</th>\n",
       "    </tr>\n",
       "  </thead>\n",
       "  <tbody>\n",
       "    <tr>\n",
       "      <th>0</th>\n",
       "      <td>0</td>\n",
       "      <td>892</td>\n",
       "    </tr>\n",
       "  </tbody>\n",
       "</table>\n",
       "</div>"
      ],
      "text/plain": [
       "   Survived  PassengerId\n",
       "0         0          892"
      ]
     },
     "execution_count": 54,
     "metadata": {},
     "output_type": "execute_result"
    }
   ],
   "source": [
    "pre.head(1)"
   ]
  },
  {
   "cell_type": "code",
   "execution_count": 56,
   "metadata": {
    "ExecuteTime": {
     "end_time": "2021-02-16T03:39:01.908336Z",
     "start_time": "2021-02-16T03:39:01.882210Z"
    }
   },
   "outputs": [],
   "source": [
    "pre.to_csv(\"/home/osvaldosantos823/salidas/prueba1.csv\",index=False)"
   ]
  }
 ],
 "metadata": {
  "kernelspec": {
   "display_name": "env",
   "language": "python",
   "name": "env"
  },
  "language_info": {
   "codemirror_mode": {
    "name": "ipython",
    "version": 3
   },
   "file_extension": ".py",
   "mimetype": "text/x-python",
   "name": "python",
   "nbconvert_exporter": "python",
   "pygments_lexer": "ipython3",
   "version": "3.7.3"
  },
  "notify_time": "10",
  "toc": {
   "base_numbering": 1,
   "nav_menu": {},
   "number_sections": true,
   "sideBar": true,
   "skip_h1_title": false,
   "title_cell": "Table of Contents",
   "title_sidebar": "Contents",
   "toc_cell": false,
   "toc_position": {},
   "toc_section_display": true,
   "toc_window_display": true
  },
  "toc-autonumbering": true,
  "toc-showtags": false
 },
 "nbformat": 4,
 "nbformat_minor": 4
}
