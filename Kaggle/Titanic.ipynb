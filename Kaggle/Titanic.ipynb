{
 "cells": [
  {
   "cell_type": "code",
   "execution_count": 1,
   "metadata": {
    "ExecuteTime": {
     "end_time": "2023-08-01T20:03:46.546444Z",
     "start_time": "2023-08-01T20:03:38.617311Z"
    }
   },
   "outputs": [],
   "source": [
    "import numpy as np\n",
    "import pandas as pd\n",
    "\n",
    "from sklearn.linear_model import Perceptron,PassiveAggressiveClassifier, LogisticRegression\n",
    "from sklearn.neural_network import MLPClassifier #Multi-Layer-Perceptron\n",
    "from sklearn.ensemble import RandomForestClassifier\n",
    "from sklearn.svm import SVC\n",
    "from sklearn.metrics import roc_auc_score,accuracy_score,confusion_matrix\n",
    "from sklearn.model_selection import train_test_split,GridSearchCV,RandomizedSearchCV\n",
    "from sklearn.metrics import confusion_matrix\n",
    "from scikitplot.metrics import plot_roc_curve\n",
    "\n",
    "from sklearn.preprocessing import StandardScaler,MinMaxScaler\n",
    "\n",
    "import os\n",
    "from functools import reduce\n",
    "\n",
    "import seaborn as sns\n",
    "%matplotlib inline\n"
   ]
  },
  {
   "cell_type": "markdown",
   "metadata": {},
   "source": [
    "[Competencia de Titanic Kaggle](https://www.kaggle.com/competitions/titanic/data)"
   ]
  },
  {
   "cell_type": "markdown",
   "metadata": {
    "ExecuteTime": {
     "end_time": "2021-02-09T03:23:30.561505Z",
     "start_time": "2021-02-09T03:23:30.544245Z"
    }
   },
   "source": [
    "# Lectura de datos"
   ]
  },
  {
   "cell_type": "markdown",
   "metadata": {},
   "source": [
    "Advanced feature engineering\n",
    "- https://www.kaggle.com/code/gunesevitan/titanic-advanced-feature-engineering-tutorial?scriptVersionId=27280410"
   ]
  },
  {
   "cell_type": "code",
   "execution_count": 2,
   "metadata": {
    "ExecuteTime": {
     "end_time": "2023-08-01T20:03:46.562423Z",
     "start_time": "2023-08-01T20:03:46.547797Z"
    }
   },
   "outputs": [
    {
     "data": {
      "text/plain": [
       "['gender_submission.csv', 'MetaData.txt', 'test.csv', 'train.csv']"
      ]
     },
     "execution_count": 2,
     "metadata": {},
     "output_type": "execute_result"
    }
   ],
   "source": [
    "ruta_datos=\"C:\\\\Users\\\\MI10995\\\\Documents\\\\Capacitación\\\\Datos\\\\Pruebas_ML\"\n",
    "os.listdir(ruta_datos)\n",
    "ruta_titanic=ruta_datos+'/titanic'\n",
    "os.listdir(ruta_titanic)"
   ]
  },
  {
   "cell_type": "code",
   "execution_count": 3,
   "metadata": {
    "ExecuteTime": {
     "end_time": "2023-08-01T20:03:46.609613Z",
     "start_time": "2023-08-01T20:03:46.564731Z"
    }
   },
   "outputs": [
    {
     "data": {
      "text/html": [
       "<div>\n",
       "<style scoped>\n",
       "    .dataframe tbody tr th:only-of-type {\n",
       "        vertical-align: middle;\n",
       "    }\n",
       "\n",
       "    .dataframe tbody tr th {\n",
       "        vertical-align: top;\n",
       "    }\n",
       "\n",
       "    .dataframe thead th {\n",
       "        text-align: right;\n",
       "    }\n",
       "</style>\n",
       "<table border=\"1\" class=\"dataframe\">\n",
       "  <thead>\n",
       "    <tr style=\"text-align: right;\">\n",
       "      <th></th>\n",
       "      <th>PassengerId</th>\n",
       "      <th>Survived</th>\n",
       "      <th>Pclass</th>\n",
       "      <th>Name</th>\n",
       "      <th>Sex</th>\n",
       "      <th>Age</th>\n",
       "      <th>SibSp</th>\n",
       "      <th>Parch</th>\n",
       "      <th>Ticket</th>\n",
       "      <th>Fare</th>\n",
       "      <th>Cabin</th>\n",
       "      <th>Embarked</th>\n",
       "    </tr>\n",
       "  </thead>\n",
       "  <tbody>\n",
       "    <tr>\n",
       "      <th>0</th>\n",
       "      <td>1</td>\n",
       "      <td>0</td>\n",
       "      <td>3</td>\n",
       "      <td>Braund, Mr. Owen Harris</td>\n",
       "      <td>male</td>\n",
       "      <td>22.0</td>\n",
       "      <td>1</td>\n",
       "      <td>0</td>\n",
       "      <td>A/5 21171</td>\n",
       "      <td>7.2500</td>\n",
       "      <td>NaN</td>\n",
       "      <td>S</td>\n",
       "    </tr>\n",
       "    <tr>\n",
       "      <th>1</th>\n",
       "      <td>2</td>\n",
       "      <td>1</td>\n",
       "      <td>1</td>\n",
       "      <td>Cumings, Mrs. John Bradley (Florence Briggs Th...</td>\n",
       "      <td>female</td>\n",
       "      <td>38.0</td>\n",
       "      <td>1</td>\n",
       "      <td>0</td>\n",
       "      <td>PC 17599</td>\n",
       "      <td>71.2833</td>\n",
       "      <td>C85</td>\n",
       "      <td>C</td>\n",
       "    </tr>\n",
       "    <tr>\n",
       "      <th>2</th>\n",
       "      <td>3</td>\n",
       "      <td>1</td>\n",
       "      <td>3</td>\n",
       "      <td>Heikkinen, Miss. Laina</td>\n",
       "      <td>female</td>\n",
       "      <td>26.0</td>\n",
       "      <td>0</td>\n",
       "      <td>0</td>\n",
       "      <td>STON/O2. 3101282</td>\n",
       "      <td>7.9250</td>\n",
       "      <td>NaN</td>\n",
       "      <td>S</td>\n",
       "    </tr>\n",
       "    <tr>\n",
       "      <th>3</th>\n",
       "      <td>4</td>\n",
       "      <td>1</td>\n",
       "      <td>1</td>\n",
       "      <td>Futrelle, Mrs. Jacques Heath (Lily May Peel)</td>\n",
       "      <td>female</td>\n",
       "      <td>35.0</td>\n",
       "      <td>1</td>\n",
       "      <td>0</td>\n",
       "      <td>113803</td>\n",
       "      <td>53.1000</td>\n",
       "      <td>C123</td>\n",
       "      <td>S</td>\n",
       "    </tr>\n",
       "    <tr>\n",
       "      <th>4</th>\n",
       "      <td>5</td>\n",
       "      <td>0</td>\n",
       "      <td>3</td>\n",
       "      <td>Allen, Mr. William Henry</td>\n",
       "      <td>male</td>\n",
       "      <td>35.0</td>\n",
       "      <td>0</td>\n",
       "      <td>0</td>\n",
       "      <td>373450</td>\n",
       "      <td>8.0500</td>\n",
       "      <td>NaN</td>\n",
       "      <td>S</td>\n",
       "    </tr>\n",
       "  </tbody>\n",
       "</table>\n",
       "</div>"
      ],
      "text/plain": [
       "   PassengerId  Survived  Pclass  \\\n",
       "0            1         0       3   \n",
       "1            2         1       1   \n",
       "2            3         1       3   \n",
       "3            4         1       1   \n",
       "4            5         0       3   \n",
       "\n",
       "                                                Name     Sex   Age  SibSp  \\\n",
       "0                            Braund, Mr. Owen Harris    male  22.0      1   \n",
       "1  Cumings, Mrs. John Bradley (Florence Briggs Th...  female  38.0      1   \n",
       "2                             Heikkinen, Miss. Laina  female  26.0      0   \n",
       "3       Futrelle, Mrs. Jacques Heath (Lily May Peel)  female  35.0      1   \n",
       "4                           Allen, Mr. William Henry    male  35.0      0   \n",
       "\n",
       "   Parch            Ticket     Fare Cabin Embarked  \n",
       "0      0         A/5 21171   7.2500   NaN        S  \n",
       "1      0          PC 17599  71.2833   C85        C  \n",
       "2      0  STON/O2. 3101282   7.9250   NaN        S  \n",
       "3      0            113803  53.1000  C123        S  \n",
       "4      0            373450   8.0500   NaN        S  "
      ]
     },
     "execution_count": 3,
     "metadata": {},
     "output_type": "execute_result"
    }
   ],
   "source": [
    "df = pd.read_csv(ruta_titanic+\"/\"+\"train.csv\")\n",
    "df.head()"
   ]
  },
  {
   "cell_type": "code",
   "execution_count": 4,
   "metadata": {
    "ExecuteTime": {
     "end_time": "2023-08-01T20:04:09.682273Z",
     "start_time": "2023-08-01T20:04:09.668448Z"
    }
   },
   "outputs": [
    {
     "data": {
      "text/plain": [
       "array([nan, 'C85', 'C123', 'E46', 'G6', 'C103', 'D56', 'A6',\n",
       "       'C23 C25 C27', 'B78', 'D33', 'B30', 'C52', 'B28', 'C83', 'F33',\n",
       "       'F G73', 'E31', 'A5', 'D10 D12', 'D26', 'C110', 'B58 B60', 'E101',\n",
       "       'F E69', 'D47', 'B86', 'F2', 'C2', 'E33', 'B19', 'A7', 'C49', 'F4',\n",
       "       'A32', 'B4', 'B80', 'A31', 'D36', 'D15', 'C93', 'C78', 'D35',\n",
       "       'C87', 'B77', 'E67', 'B94', 'C125', 'C99', 'C118', 'D7', 'A19',\n",
       "       'B49', 'D', 'C22 C26', 'C106', 'C65', 'E36', 'C54',\n",
       "       'B57 B59 B63 B66', 'C7', 'E34', 'C32', 'B18', 'C124', 'C91', 'E40',\n",
       "       'T', 'C128', 'D37', 'B35', 'E50', 'C82', 'B96 B98', 'E10', 'E44',\n",
       "       'A34', 'C104', 'C111', 'C92', 'E38', 'D21', 'E12', 'E63', 'A14',\n",
       "       'B37', 'C30', 'D20', 'B79', 'E25', 'D46', 'B73', 'C95', 'B38',\n",
       "       'B39', 'B22', 'C86', 'C70', 'A16', 'C101', 'C68', 'A10', 'E68',\n",
       "       'B41', 'A20', 'D19', 'D50', 'D9', 'A23', 'B50', 'A26', 'D48',\n",
       "       'E58', 'C126', 'B71', 'B51 B53 B55', 'D49', 'B5', 'B20', 'F G63',\n",
       "       'C62 C64', 'E24', 'C90', 'C45', 'E8', 'B101', 'D45', 'C46', 'D30',\n",
       "       'E121', 'D11', 'E77', 'F38', 'B3', 'D6', 'B82 B84', 'D17', 'A36',\n",
       "       'B102', 'B69', 'E49', 'C47', 'D28', 'E17', 'A24', 'C50', 'B42',\n",
       "       'C148'], dtype=object)"
      ]
     },
     "execution_count": 4,
     "metadata": {},
     "output_type": "execute_result"
    }
   ],
   "source": [
    "df[\"Cabin\"].unique()"
   ]
  },
  {
   "cell_type": "code",
   "execution_count": 4,
   "metadata": {
    "ExecuteTime": {
     "end_time": "2023-07-24T19:42:55.997158Z",
     "start_time": "2023-07-24T19:42:55.983859Z"
    },
    "scrolled": true
   },
   "outputs": [
    {
     "data": {
      "text/html": [
       "<div>\n",
       "<style scoped>\n",
       "    .dataframe tbody tr th:only-of-type {\n",
       "        vertical-align: middle;\n",
       "    }\n",
       "\n",
       "    .dataframe tbody tr th {\n",
       "        vertical-align: top;\n",
       "    }\n",
       "\n",
       "    .dataframe thead th {\n",
       "        text-align: right;\n",
       "    }\n",
       "</style>\n",
       "<table border=\"1\" class=\"dataframe\">\n",
       "  <thead>\n",
       "    <tr style=\"text-align: right;\">\n",
       "      <th></th>\n",
       "      <th>PassengerId</th>\n",
       "      <th>Survived</th>\n",
       "    </tr>\n",
       "  </thead>\n",
       "  <tbody>\n",
       "    <tr>\n",
       "      <th>0</th>\n",
       "      <td>892</td>\n",
       "      <td>0</td>\n",
       "    </tr>\n",
       "    <tr>\n",
       "      <th>1</th>\n",
       "      <td>893</td>\n",
       "      <td>1</td>\n",
       "    </tr>\n",
       "    <tr>\n",
       "      <th>2</th>\n",
       "      <td>894</td>\n",
       "      <td>0</td>\n",
       "    </tr>\n",
       "    <tr>\n",
       "      <th>3</th>\n",
       "      <td>895</td>\n",
       "      <td>0</td>\n",
       "    </tr>\n",
       "    <tr>\n",
       "      <th>4</th>\n",
       "      <td>896</td>\n",
       "      <td>1</td>\n",
       "    </tr>\n",
       "  </tbody>\n",
       "</table>\n",
       "</div>"
      ],
      "text/plain": [
       "   PassengerId  Survived\n",
       "0          892         0\n",
       "1          893         1\n",
       "2          894         0\n",
       "3          895         0\n",
       "4          896         1"
      ]
     },
     "execution_count": 4,
     "metadata": {},
     "output_type": "execute_result"
    }
   ],
   "source": [
    "salida_ejemplo=pd.read_csv(ruta_titanic+\"/\"+\"gender_submission.csv\")\n",
    "salida_ejemplo.head()"
   ]
  },
  {
   "cell_type": "markdown",
   "metadata": {
    "ExecuteTime": {
     "end_time": "2021-02-09T03:34:23.308615Z",
     "start_time": "2021-02-09T03:34:23.265901Z"
    }
   },
   "source": [
    "# Ingeniería de Caracteristicas"
   ]
  },
  {
   "cell_type": "markdown",
   "metadata": {},
   "source": [
    "## Constantes"
   ]
  },
  {
   "cell_type": "code",
   "execution_count": 5,
   "metadata": {
    "ExecuteTime": {
     "end_time": "2023-07-24T19:42:56.012505Z",
     "start_time": "2023-07-24T19:42:55.999155Z"
    }
   },
   "outputs": [],
   "source": [
    "vard=['Pclass','Sex','Embarked'] # Clase del ticket, Sexo, Embarcación de la que salio\n",
    "varc_origin=['Age','SibSp','Parch','Fare'] # Años, hermanos supuestos a bordo, padres/hijos a bordo,Tarifa\n",
    "um=['PassengerId']\n",
    "tgt=['Survived']"
   ]
  },
  {
   "cell_type": "markdown",
   "metadata": {},
   "source": [
    "## Ingeniería"
   ]
  },
  {
   "cell_type": "code",
   "execution_count": 6,
   "metadata": {
    "ExecuteTime": {
     "end_time": "2023-07-24T19:42:56.028629Z",
     "start_time": "2023-07-24T19:42:56.014852Z"
    }
   },
   "outputs": [],
   "source": [
    "def codificar_datos(X,varc_origin,vard):\n",
    "    df_encoded=pd.get_dummies(X,columns=[\"Pclass\",\"Sex\",\"Embarked\"])\n",
    "    varc_enc=[v for v in df_encoded.columns if (v.find(vard[0])!=-1)|((v.find(vard[1])!=-1))|(v.find(vard[2])!=-1)]\n",
    "    # Creación de nuevas variables\n",
    "    varc=varc_origin+varc_enc\n",
    "    \n",
    "    return df_encoded[um+varc].copy()"
   ]
  },
  {
   "cell_type": "code",
   "execution_count": 7,
   "metadata": {
    "ExecuteTime": {
     "end_time": "2023-07-24T19:42:56.060942Z",
     "start_time": "2023-07-24T19:42:56.030788Z"
    }
   },
   "outputs": [],
   "source": [
    "X=codificar_datos(df[um+varc_origin+vard],varc_origin,vard)"
   ]
  },
  {
   "cell_type": "code",
   "execution_count": 8,
   "metadata": {
    "ExecuteTime": {
     "end_time": "2023-07-24T19:42:56.080298Z",
     "start_time": "2023-07-24T19:42:56.063387Z"
    }
   },
   "outputs": [],
   "source": [
    "# Definición de variables continuas\n",
    "varc=[f for f in X.columns if f not in um]"
   ]
  },
  {
   "cell_type": "code",
   "execution_count": 9,
   "metadata": {
    "ExecuteTime": {
     "end_time": "2023-07-24T19:42:56.113042Z",
     "start_time": "2023-07-24T19:42:56.085081Z"
    }
   },
   "outputs": [
    {
     "data": {
      "text/plain": [
       "(891, 14)"
      ]
     },
     "execution_count": 9,
     "metadata": {},
     "output_type": "execute_result"
    }
   ],
   "source": [
    "tad=pd.merge(X,df[um+tgt],on=um,how=\"inner\")\n",
    "tad.shape"
   ]
  },
  {
   "cell_type": "markdown",
   "metadata": {},
   "source": [
    "# Análisis exploratorio"
   ]
  },
  {
   "cell_type": "markdown",
   "metadata": {},
   "source": [
    "## Missings"
   ]
  },
  {
   "cell_type": "code",
   "execution_count": 10,
   "metadata": {
    "ExecuteTime": {
     "end_time": "2023-07-24T19:42:56.221800Z",
     "start_time": "2023-07-24T19:42:56.117138Z"
    },
    "tags": []
   },
   "outputs": [
    {
     "data": {
      "text/html": [
       "<div>\n",
       "<style scoped>\n",
       "    .dataframe tbody tr th:only-of-type {\n",
       "        vertical-align: middle;\n",
       "    }\n",
       "\n",
       "    .dataframe tbody tr th {\n",
       "        vertical-align: top;\n",
       "    }\n",
       "\n",
       "    .dataframe thead th {\n",
       "        text-align: right;\n",
       "    }\n",
       "</style>\n",
       "<table border=\"1\" class=\"dataframe\">\n",
       "  <thead>\n",
       "    <tr style=\"text-align: right;\">\n",
       "      <th></th>\n",
       "      <th>count</th>\n",
       "    </tr>\n",
       "  </thead>\n",
       "  <tbody>\n",
       "    <tr>\n",
       "      <th>Age</th>\n",
       "      <td>0.198653</td>\n",
       "    </tr>\n",
       "    <tr>\n",
       "      <th>SibSp</th>\n",
       "      <td>0.000000</td>\n",
       "    </tr>\n",
       "    <tr>\n",
       "      <th>Parch</th>\n",
       "      <td>0.000000</td>\n",
       "    </tr>\n",
       "    <tr>\n",
       "      <th>Fare</th>\n",
       "      <td>0.000000</td>\n",
       "    </tr>\n",
       "    <tr>\n",
       "      <th>Pclass_1</th>\n",
       "      <td>0.000000</td>\n",
       "    </tr>\n",
       "    <tr>\n",
       "      <th>Pclass_2</th>\n",
       "      <td>0.000000</td>\n",
       "    </tr>\n",
       "    <tr>\n",
       "      <th>Pclass_3</th>\n",
       "      <td>0.000000</td>\n",
       "    </tr>\n",
       "    <tr>\n",
       "      <th>Sex_female</th>\n",
       "      <td>0.000000</td>\n",
       "    </tr>\n",
       "    <tr>\n",
       "      <th>Sex_male</th>\n",
       "      <td>0.000000</td>\n",
       "    </tr>\n",
       "    <tr>\n",
       "      <th>Embarked_C</th>\n",
       "      <td>0.000000</td>\n",
       "    </tr>\n",
       "    <tr>\n",
       "      <th>Embarked_Q</th>\n",
       "      <td>0.000000</td>\n",
       "    </tr>\n",
       "    <tr>\n",
       "      <th>Embarked_S</th>\n",
       "      <td>0.000000</td>\n",
       "    </tr>\n",
       "  </tbody>\n",
       "</table>\n",
       "</div>"
      ],
      "text/plain": [
       "               count\n",
       "Age         0.198653\n",
       "SibSp       0.000000\n",
       "Parch       0.000000\n",
       "Fare        0.000000\n",
       "Pclass_1    0.000000\n",
       "Pclass_2    0.000000\n",
       "Pclass_3    0.000000\n",
       "Sex_female  0.000000\n",
       "Sex_male    0.000000\n",
       "Embarked_C  0.000000\n",
       "Embarked_Q  0.000000\n",
       "Embarked_S  0.000000"
      ]
     },
     "execution_count": 10,
     "metadata": {},
     "output_type": "execute_result"
    }
   ],
   "source": [
    "miss=1-tad[varc].describe().T[['count']]/len(tad)\n",
    "miss"
   ]
  },
  {
   "cell_type": "code",
   "execution_count": 11,
   "metadata": {
    "ExecuteTime": {
     "end_time": "2023-07-24T19:42:56.241272Z",
     "start_time": "2023-07-24T19:42:56.223127Z"
    }
   },
   "outputs": [
    {
     "data": {
      "text/plain": [
       "((891, 14), (714, 14))"
      ]
     },
     "execution_count": 11,
     "metadata": {},
     "output_type": "execute_result"
    }
   ],
   "source": [
    "tad.shape,tad.dropna().shape"
   ]
  },
  {
   "cell_type": "code",
   "execution_count": 12,
   "metadata": {
    "ExecuteTime": {
     "end_time": "2023-07-24T19:42:56.272440Z",
     "start_time": "2023-07-24T19:42:56.243266Z"
    }
   },
   "outputs": [
    {
     "data": {
      "text/html": [
       "<div>\n",
       "<style scoped>\n",
       "    .dataframe tbody tr th:only-of-type {\n",
       "        vertical-align: middle;\n",
       "    }\n",
       "\n",
       "    .dataframe tbody tr th {\n",
       "        vertical-align: top;\n",
       "    }\n",
       "\n",
       "    .dataframe thead th {\n",
       "        text-align: right;\n",
       "    }\n",
       "</style>\n",
       "<table border=\"1\" class=\"dataframe\">\n",
       "  <thead>\n",
       "    <tr style=\"text-align: right;\">\n",
       "      <th></th>\n",
       "      <th>PassengerId</th>\n",
       "      <th>Age</th>\n",
       "      <th>SibSp</th>\n",
       "      <th>Parch</th>\n",
       "      <th>Fare</th>\n",
       "      <th>Pclass_1</th>\n",
       "      <th>Pclass_2</th>\n",
       "      <th>Pclass_3</th>\n",
       "      <th>Sex_female</th>\n",
       "      <th>Sex_male</th>\n",
       "      <th>Embarked_C</th>\n",
       "      <th>Embarked_Q</th>\n",
       "      <th>Embarked_S</th>\n",
       "      <th>Survived</th>\n",
       "    </tr>\n",
       "  </thead>\n",
       "  <tbody>\n",
       "    <tr>\n",
       "      <th>709</th>\n",
       "      <td>886</td>\n",
       "      <td>39.0</td>\n",
       "      <td>0</td>\n",
       "      <td>5</td>\n",
       "      <td>29.125</td>\n",
       "      <td>0</td>\n",
       "      <td>0</td>\n",
       "      <td>1</td>\n",
       "      <td>1</td>\n",
       "      <td>0</td>\n",
       "      <td>0</td>\n",
       "      <td>1</td>\n",
       "      <td>0</td>\n",
       "      <td>0</td>\n",
       "    </tr>\n",
       "    <tr>\n",
       "      <th>710</th>\n",
       "      <td>887</td>\n",
       "      <td>27.0</td>\n",
       "      <td>0</td>\n",
       "      <td>0</td>\n",
       "      <td>13.000</td>\n",
       "      <td>0</td>\n",
       "      <td>1</td>\n",
       "      <td>0</td>\n",
       "      <td>0</td>\n",
       "      <td>1</td>\n",
       "      <td>0</td>\n",
       "      <td>0</td>\n",
       "      <td>1</td>\n",
       "      <td>0</td>\n",
       "    </tr>\n",
       "    <tr>\n",
       "      <th>711</th>\n",
       "      <td>888</td>\n",
       "      <td>19.0</td>\n",
       "      <td>0</td>\n",
       "      <td>0</td>\n",
       "      <td>30.000</td>\n",
       "      <td>1</td>\n",
       "      <td>0</td>\n",
       "      <td>0</td>\n",
       "      <td>1</td>\n",
       "      <td>0</td>\n",
       "      <td>0</td>\n",
       "      <td>0</td>\n",
       "      <td>1</td>\n",
       "      <td>1</td>\n",
       "    </tr>\n",
       "    <tr>\n",
       "      <th>712</th>\n",
       "      <td>890</td>\n",
       "      <td>26.0</td>\n",
       "      <td>0</td>\n",
       "      <td>0</td>\n",
       "      <td>30.000</td>\n",
       "      <td>1</td>\n",
       "      <td>0</td>\n",
       "      <td>0</td>\n",
       "      <td>0</td>\n",
       "      <td>1</td>\n",
       "      <td>1</td>\n",
       "      <td>0</td>\n",
       "      <td>0</td>\n",
       "      <td>1</td>\n",
       "    </tr>\n",
       "    <tr>\n",
       "      <th>713</th>\n",
       "      <td>891</td>\n",
       "      <td>32.0</td>\n",
       "      <td>0</td>\n",
       "      <td>0</td>\n",
       "      <td>7.750</td>\n",
       "      <td>0</td>\n",
       "      <td>0</td>\n",
       "      <td>1</td>\n",
       "      <td>0</td>\n",
       "      <td>1</td>\n",
       "      <td>0</td>\n",
       "      <td>1</td>\n",
       "      <td>0</td>\n",
       "      <td>0</td>\n",
       "    </tr>\n",
       "  </tbody>\n",
       "</table>\n",
       "</div>"
      ],
      "text/plain": [
       "     PassengerId   Age  SibSp  Parch    Fare  Pclass_1  Pclass_2  Pclass_3  \\\n",
       "709          886  39.0      0      5  29.125         0         0         1   \n",
       "710          887  27.0      0      0  13.000         0         1         0   \n",
       "711          888  19.0      0      0  30.000         1         0         0   \n",
       "712          890  26.0      0      0  30.000         1         0         0   \n",
       "713          891  32.0      0      0   7.750         0         0         1   \n",
       "\n",
       "     Sex_female  Sex_male  Embarked_C  Embarked_Q  Embarked_S  Survived  \n",
       "709           1         0           0           1           0         0  \n",
       "710           0         1           0           0           1         0  \n",
       "711           1         0           0           0           1         1  \n",
       "712           0         1           1           0           0         1  \n",
       "713           0         1           0           1           0         0  "
      ]
     },
     "execution_count": 12,
     "metadata": {},
     "output_type": "execute_result"
    }
   ],
   "source": [
    "tad=tad.dropna().reset_index(drop=True)\n",
    "tad.tail()"
   ]
  },
  {
   "cell_type": "markdown",
   "metadata": {},
   "source": [
    "## Extremos"
   ]
  },
  {
   "cell_type": "code",
   "execution_count": 13,
   "metadata": {
    "ExecuteTime": {
     "end_time": "2023-07-24T19:42:56.869266Z",
     "start_time": "2023-07-24T19:42:56.274435Z"
    }
   },
   "outputs": [
    {
     "data": {
      "text/plain": [
       "<AxesSubplot:>"
      ]
     },
     "execution_count": 13,
     "metadata": {},
     "output_type": "execute_result"
    },
    {
     "data": {
      "image/png": "[encoded data removed]",
      "text/plain": [
       "<Figure size 1008x504 with 1 Axes>"
      ]
     },
     "metadata": {
      "needs_background": "light"
     },
     "output_type": "display_data"
    }
   ],
   "source": [
    "tad[varc].boxplot(figsize=(14,7))"
   ]
  },
  {
   "cell_type": "code",
   "execution_count": 14,
   "metadata": {
    "ExecuteTime": {
     "end_time": "2023-07-24T19:42:56.932727Z",
     "start_time": "2023-07-24T19:42:56.872288Z"
    }
   },
   "outputs": [],
   "source": [
    "ol = tad[varc].describe(percentiles=[0.01,0.99]).T[['1%','99%']].reset_index().values.tolist()\n",
    "for v,li,ls in ol:\n",
    "    tad['ol_{}s'.format(v)] = ((tad[v]<li)|(tad[v]>ls)).astype(int)"
   ]
  },
  {
   "cell_type": "code",
   "execution_count": 15,
   "metadata": {
    "ExecuteTime": {
     "end_time": "2023-07-24T19:42:56.948130Z",
     "start_time": "2023-07-24T19:42:56.934720Z"
    }
   },
   "outputs": [],
   "source": [
    "varo = [v for v in tad.columns if v[:2]=='ol']\n",
    "tad['ext'] = tad[varo].max(axis=1)\n",
    "tad=tad.drop(varo,axis=1)"
   ]
  },
  {
   "cell_type": "code",
   "execution_count": 16,
   "metadata": {
    "ExecuteTime": {
     "end_time": "2023-07-24T19:42:56.963918Z",
     "start_time": "2023-07-24T19:42:56.950435Z"
    }
   },
   "outputs": [
    {
     "data": {
      "text/plain": [
       "((714, 15), (673, 15))"
      ]
     },
     "execution_count": 16,
     "metadata": {},
     "output_type": "execute_result"
    }
   ],
   "source": [
    "tad__not_ol=tad[tad[\"ext\"]!=1]\n",
    "tad.shape,tad__not_ol.shape"
   ]
  },
  {
   "cell_type": "markdown",
   "metadata": {},
   "source": [
    "Notamos que la distribución en el diagrama realmente no cambio mucho"
   ]
  },
  {
   "cell_type": "code",
   "execution_count": 17,
   "metadata": {
    "ExecuteTime": {
     "end_time": "2023-07-24T19:42:57.412592Z",
     "start_time": "2023-07-24T19:42:56.966904Z"
    }
   },
   "outputs": [
    {
     "data": {
      "text/plain": [
       "<AxesSubplot:>"
      ]
     },
     "execution_count": 17,
     "metadata": {},
     "output_type": "execute_result"
    },
    {
     "data": {
      "image/png": "[encoded data removed]",
      "text/plain": [
       "<Figure size 1008x504 with 1 Axes>"
      ]
     },
     "metadata": {
      "needs_background": "light"
     },
     "output_type": "display_data"
    }
   ],
   "source": [
    "tad__not_ol[varc].boxplot(figsize=(14,7))"
   ]
  },
  {
   "cell_type": "markdown",
   "metadata": {},
   "source": [
    "No hay diferencias significativas entre las distribuciones antes y después de los outliers"
   ]
  },
  {
   "cell_type": "code",
   "execution_count": 18,
   "metadata": {
    "ExecuteTime": {
     "end_time": "2023-07-24T19:42:57.580225Z",
     "start_time": "2023-07-24T19:42:57.414554Z"
    }
   },
   "outputs": [
    {
     "data": {
      "text/plain": [
       "[]"
      ]
     },
     "execution_count": 18,
     "metadata": {},
     "output_type": "execute_result"
    }
   ],
   "source": [
    "# Test de bondad de ajuste\n",
    "from scipy.stats import ks_2samp\n",
    "ks = pd.DataFrame(map(lambda v:(v,ks_2samp(tad__not_ol[v],tad[v]).statistic),varc),columns=['var','ks'])\n",
    "rotas = sorted(ks.loc[ks['ks']>0.1]['var'])\n",
    "rotas # El resultado vacío nos indica que no hay diferencia estadística entre tad y tad_e"
   ]
  },
  {
   "cell_type": "code",
   "execution_count": 19,
   "metadata": {
    "ExecuteTime": {
     "end_time": "2023-07-24T19:42:57.597024Z",
     "start_time": "2023-07-24T19:42:57.582989Z"
    }
   },
   "outputs": [],
   "source": [
    "# Se toma la decisión de usar la tabla sin outliers\n",
    "tad=tad__not_ol.drop(\"ext\",axis=1)"
   ]
  },
  {
   "cell_type": "markdown",
   "metadata": {},
   "source": [
    "## Unarias"
   ]
  },
  {
   "cell_type": "code",
   "execution_count": 20,
   "metadata": {
    "ExecuteTime": {
     "end_time": "2023-07-24T19:42:57.646549Z",
     "start_time": "2023-07-24T19:42:57.598768Z"
    }
   },
   "outputs": [
    {
     "data": {
      "text/html": [
       "<div>\n",
       "<style scoped>\n",
       "    .dataframe tbody tr th:only-of-type {\n",
       "        vertical-align: middle;\n",
       "    }\n",
       "\n",
       "    .dataframe tbody tr th {\n",
       "        vertical-align: top;\n",
       "    }\n",
       "\n",
       "    .dataframe thead th {\n",
       "        text-align: right;\n",
       "    }\n",
       "</style>\n",
       "<table border=\"1\" class=\"dataframe\">\n",
       "  <thead>\n",
       "    <tr style=\"text-align: right;\">\n",
       "      <th></th>\n",
       "      <th>max</th>\n",
       "      <th>min</th>\n",
       "    </tr>\n",
       "  </thead>\n",
       "  <tbody>\n",
       "  </tbody>\n",
       "</table>\n",
       "</div>"
      ],
      "text/plain": [
       "Empty DataFrame\n",
       "Columns: [max, min]\n",
       "Index: []"
      ]
     },
     "execution_count": 20,
     "metadata": {},
     "output_type": "execute_result"
    }
   ],
   "source": [
    "# Eliminación de columnas unarias\n",
    "mat=tad[varc].describe().T[['max',\"min\"]]\n",
    "# No hay variables unarias\n",
    "mat[mat[\"max\"]==mat[\"min\"]]"
   ]
  },
  {
   "cell_type": "markdown",
   "metadata": {},
   "source": [
    "No hay variables unarias al parecer"
   ]
  },
  {
   "cell_type": "code",
   "execution_count": 21,
   "metadata": {
    "ExecuteTime": {
     "end_time": "2023-07-24T19:43:01.471868Z",
     "start_time": "2023-07-24T19:42:57.648578Z"
    }
   },
   "outputs": [
    {
     "data": {
      "text/plain": [
       "array([[<AxesSubplot:title={'center':'PassengerId'}>,\n",
       "        <AxesSubplot:title={'center':'Age'}>,\n",
       "        <AxesSubplot:title={'center':'SibSp'}>,\n",
       "        <AxesSubplot:title={'center':'Parch'}>],\n",
       "       [<AxesSubplot:title={'center':'Fare'}>,\n",
       "        <AxesSubplot:title={'center':'Pclass_1'}>,\n",
       "        <AxesSubplot:title={'center':'Pclass_2'}>,\n",
       "        <AxesSubplot:title={'center':'Pclass_3'}>],\n",
       "       [<AxesSubplot:title={'center':'Sex_female'}>,\n",
       "        <AxesSubplot:title={'center':'Sex_male'}>,\n",
       "        <AxesSubplot:title={'center':'Embarked_C'}>,\n",
       "        <AxesSubplot:title={'center':'Embarked_Q'}>],\n",
       "       [<AxesSubplot:title={'center':'Embarked_S'}>,\n",
       "        <AxesSubplot:title={'center':'Survived'}>, <AxesSubplot:>,\n",
       "        <AxesSubplot:>]], dtype=object)"
      ]
     },
     "execution_count": 21,
     "metadata": {},
     "output_type": "execute_result"
    },
    {
     "data": {
      "image/png": "[encoded data removed]",
      "text/plain": [
       "<Figure size 4320x4320 with 16 Axes>"
      ]
     },
     "metadata": {
      "needs_background": "light"
     },
     "output_type": "display_data"
    }
   ],
   "source": [
    "tad.hist(figsize=(60,60))"
   ]
  },
  {
   "cell_type": "markdown",
   "metadata": {
    "tags": []
   },
   "source": [
    "## Multicolinealidad"
   ]
  },
  {
   "cell_type": "code",
   "execution_count": 22,
   "metadata": {
    "ExecuteTime": {
     "end_time": "2023-07-24T19:43:01.525687Z",
     "start_time": "2023-07-24T19:43:01.474860Z"
    }
   },
   "outputs": [],
   "source": [
    "from varclushi import VarClusHi"
   ]
  },
  {
   "cell_type": "code",
   "execution_count": 23,
   "metadata": {
    "ExecuteTime": {
     "end_time": "2023-07-24T19:43:01.556675Z",
     "start_time": "2023-07-24T19:43:01.526949Z"
    }
   },
   "outputs": [
    {
     "data": {
      "text/html": [
       "<div>\n",
       "<style scoped>\n",
       "    .dataframe tbody tr th:only-of-type {\n",
       "        vertical-align: middle;\n",
       "    }\n",
       "\n",
       "    .dataframe tbody tr th {\n",
       "        vertical-align: top;\n",
       "    }\n",
       "\n",
       "    .dataframe thead th {\n",
       "        text-align: right;\n",
       "    }\n",
       "</style>\n",
       "<table border=\"1\" class=\"dataframe\">\n",
       "  <thead>\n",
       "    <tr style=\"text-align: right;\">\n",
       "      <th></th>\n",
       "      <th>Age</th>\n",
       "      <th>SibSp</th>\n",
       "      <th>Parch</th>\n",
       "      <th>Fare</th>\n",
       "      <th>Pclass_1</th>\n",
       "      <th>Pclass_2</th>\n",
       "      <th>Pclass_3</th>\n",
       "      <th>Sex_female</th>\n",
       "      <th>Sex_male</th>\n",
       "      <th>Embarked_C</th>\n",
       "      <th>Embarked_Q</th>\n",
       "      <th>Embarked_S</th>\n",
       "    </tr>\n",
       "  </thead>\n",
       "  <tbody>\n",
       "    <tr>\n",
       "      <th>0</th>\n",
       "      <td>22.0</td>\n",
       "      <td>1</td>\n",
       "      <td>0</td>\n",
       "      <td>7.2500</td>\n",
       "      <td>0</td>\n",
       "      <td>0</td>\n",
       "      <td>1</td>\n",
       "      <td>0</td>\n",
       "      <td>1</td>\n",
       "      <td>0</td>\n",
       "      <td>0</td>\n",
       "      <td>1</td>\n",
       "    </tr>\n",
       "    <tr>\n",
       "      <th>1</th>\n",
       "      <td>38.0</td>\n",
       "      <td>1</td>\n",
       "      <td>0</td>\n",
       "      <td>71.2833</td>\n",
       "      <td>1</td>\n",
       "      <td>0</td>\n",
       "      <td>0</td>\n",
       "      <td>1</td>\n",
       "      <td>0</td>\n",
       "      <td>1</td>\n",
       "      <td>0</td>\n",
       "      <td>0</td>\n",
       "    </tr>\n",
       "  </tbody>\n",
       "</table>\n",
       "</div>"
      ],
      "text/plain": [
       "    Age  SibSp  Parch     Fare  Pclass_1  Pclass_2  Pclass_3  Sex_female  \\\n",
       "0  22.0      1      0   7.2500         0         0         1           0   \n",
       "1  38.0      1      0  71.2833         1         0         0           1   \n",
       "\n",
       "   Sex_male  Embarked_C  Embarked_Q  Embarked_S  \n",
       "0         1           0           0           1  \n",
       "1         0           1           0           0  "
      ]
     },
     "execution_count": 23,
     "metadata": {},
     "output_type": "execute_result"
    }
   ],
   "source": [
    "tad[varc].head(2)"
   ]
  },
  {
   "cell_type": "code",
   "execution_count": 24,
   "metadata": {
    "ExecuteTime": {
     "end_time": "2023-07-24T19:43:01.572343Z",
     "start_time": "2023-07-24T19:43:01.557673Z"
    }
   },
   "outputs": [],
   "source": [
    "vc = VarClusHi(df=tad[varc],maxclus=10)"
   ]
  },
  {
   "cell_type": "code",
   "execution_count": 25,
   "metadata": {
    "ExecuteTime": {
     "end_time": "2023-07-24T19:43:01.861348Z",
     "start_time": "2023-07-24T19:43:01.573365Z"
    }
   },
   "outputs": [],
   "source": [
    "vc.varclus()\n",
    "r2 = vc.rsquare"
   ]
  },
  {
   "cell_type": "code",
   "execution_count": 26,
   "metadata": {
    "ExecuteTime": {
     "end_time": "2023-07-24T19:43:01.876746Z",
     "start_time": "2023-07-24T19:43:01.863378Z"
    }
   },
   "outputs": [],
   "source": [
    "r2 = r2.sort_values(by=['Cluster','RS_Ratio'],ascending=[1,1]).reset_index(drop=True)"
   ]
  },
  {
   "cell_type": "code",
   "execution_count": 27,
   "metadata": {
    "ExecuteTime": {
     "end_time": "2023-07-24T19:43:01.891941Z",
     "start_time": "2023-07-24T19:43:01.880702Z"
    }
   },
   "outputs": [],
   "source": [
    "r2['importancia'] = r2.groupby('Cluster').cumcount()+1"
   ]
  },
  {
   "cell_type": "markdown",
   "metadata": {},
   "source": [
    "Las mejores variables que tenemos en la tabla son las siguientes."
   ]
  },
  {
   "cell_type": "code",
   "execution_count": 28,
   "metadata": {
    "ExecuteTime": {
     "end_time": "2023-07-24T19:43:01.907329Z",
     "start_time": "2023-07-24T19:43:01.893249Z"
    }
   },
   "outputs": [
    {
     "data": {
      "text/plain": [
       "['Embarked_S', 'Sex_female', 'Pclass_1', 'SibSp', 'Embarked_Q']"
      ]
     },
     "execution_count": 28,
     "metadata": {},
     "output_type": "execute_result"
    }
   ],
   "source": [
    "best = r2.loc[r2.importancia==1]['Variable'].tolist()\n",
    "best"
   ]
  },
  {
   "cell_type": "markdown",
   "metadata": {
    "tags": []
   },
   "source": [
    "## Correlación"
   ]
  },
  {
   "cell_type": "code",
   "execution_count": 29,
   "metadata": {
    "ExecuteTime": {
     "end_time": "2023-07-24T19:43:01.923487Z",
     "start_time": "2023-07-24T19:43:01.908326Z"
    }
   },
   "outputs": [],
   "source": [
    "mat=tad[varc].corr()\n",
    "n=len(mat)\n",
    "li=0.95\n",
    "nom=[]\n",
    "for i in range(1,n):\n",
    "    if(mat.iloc[i].name in nom):\n",
    "        continue\n",
    "    for j in range(i+1,n):\n",
    "        if(mat.iloc[i,j]>li or mat.iloc[i,j]<(-li)):\n",
    "            nom.append(mat.iloc[:,j].name)"
   ]
  },
  {
   "cell_type": "markdown",
   "metadata": {
    "ExecuteTime": {
     "end_time": "2023-07-10T20:03:42.993668Z",
     "start_time": "2023-07-10T20:03:42.959470Z"
    }
   },
   "source": [
    "Sólo Una variable salio con una correlación muy alta"
   ]
  },
  {
   "cell_type": "code",
   "execution_count": 30,
   "metadata": {
    "ExecuteTime": {
     "end_time": "2023-07-24T19:43:01.939060Z",
     "start_time": "2023-07-24T19:43:01.924484Z"
    }
   },
   "outputs": [],
   "source": [
    "varc_no_correlacion=[ f for f in varc if f not in nom]"
   ]
  },
  {
   "cell_type": "markdown",
   "metadata": {},
   "source": [
    "# Modelos"
   ]
  },
  {
   "cell_type": "code",
   "execution_count": 58,
   "metadata": {
    "ExecuteTime": {
     "end_time": "2023-07-24T19:45:25.441992Z",
     "start_time": "2023-07-24T19:45:25.416202Z"
    }
   },
   "outputs": [],
   "source": [
    "sc = StandardScaler()\n",
    "X= pd.DataFrame(sc.fit_transform(tad[best]),columns=tad[best].columns)"
   ]
  },
  {
   "cell_type": "code",
   "execution_count": 59,
   "metadata": {
    "ExecuteTime": {
     "end_time": "2023-07-24T19:45:26.348641Z",
     "start_time": "2023-07-24T19:45:26.310290Z"
    }
   },
   "outputs": [
    {
     "data": {
      "text/html": [
       "<div>\n",
       "<style scoped>\n",
       "    .dataframe tbody tr th:only-of-type {\n",
       "        vertical-align: middle;\n",
       "    }\n",
       "\n",
       "    .dataframe tbody tr th {\n",
       "        vertical-align: top;\n",
       "    }\n",
       "\n",
       "    .dataframe thead th {\n",
       "        text-align: right;\n",
       "    }\n",
       "</style>\n",
       "<table border=\"1\" class=\"dataframe\">\n",
       "  <thead>\n",
       "    <tr style=\"text-align: right;\">\n",
       "      <th></th>\n",
       "      <th>Embarked_S</th>\n",
       "      <th>Sex_female</th>\n",
       "      <th>Pclass_1</th>\n",
       "      <th>SibSp</th>\n",
       "      <th>Embarked_Q</th>\n",
       "    </tr>\n",
       "  </thead>\n",
       "  <tbody>\n",
       "    <tr>\n",
       "      <th>count</th>\n",
       "      <td>6.730000e+02</td>\n",
       "      <td>6.730000e+02</td>\n",
       "      <td>6.730000e+02</td>\n",
       "      <td>6.730000e+02</td>\n",
       "      <td>6.730000e+02</td>\n",
       "    </tr>\n",
       "    <tr>\n",
       "      <th>mean</th>\n",
       "      <td>-5.806813e-17</td>\n",
       "      <td>-4.718035e-17</td>\n",
       "      <td>2.396960e-16</td>\n",
       "      <td>3.193747e-16</td>\n",
       "      <td>-1.398914e-16</td>\n",
       "    </tr>\n",
       "    <tr>\n",
       "      <th>std</th>\n",
       "      <td>1.000744e+00</td>\n",
       "      <td>1.000744e+00</td>\n",
       "      <td>1.000744e+00</td>\n",
       "      <td>1.000744e+00</td>\n",
       "      <td>1.000744e+00</td>\n",
       "    </tr>\n",
       "    <tr>\n",
       "      <th>min</th>\n",
       "      <td>-1.875308e+00</td>\n",
       "      <td>-7.687760e-01</td>\n",
       "      <td>-5.836415e-01</td>\n",
       "      <td>-5.590524e-01</td>\n",
       "      <td>-2.004631e-01</td>\n",
       "    </tr>\n",
       "    <tr>\n",
       "      <th>25%</th>\n",
       "      <td>5.332459e-01</td>\n",
       "      <td>-7.687760e-01</td>\n",
       "      <td>-5.836415e-01</td>\n",
       "      <td>-5.590524e-01</td>\n",
       "      <td>-2.004631e-01</td>\n",
       "    </tr>\n",
       "    <tr>\n",
       "      <th>50%</th>\n",
       "      <td>5.332459e-01</td>\n",
       "      <td>-7.687760e-01</td>\n",
       "      <td>-5.836415e-01</td>\n",
       "      <td>-5.590524e-01</td>\n",
       "      <td>-2.004631e-01</td>\n",
       "    </tr>\n",
       "    <tr>\n",
       "      <th>75%</th>\n",
       "      <td>5.332459e-01</td>\n",
       "      <td>1.300769e+00</td>\n",
       "      <td>1.713380e+00</td>\n",
       "      <td>6.203904e-01</td>\n",
       "      <td>-2.004631e-01</td>\n",
       "    </tr>\n",
       "    <tr>\n",
       "      <th>max</th>\n",
       "      <td>5.332459e-01</td>\n",
       "      <td>1.300769e+00</td>\n",
       "      <td>1.713380e+00</td>\n",
       "      <td>4.158719e+00</td>\n",
       "      <td>4.988448e+00</td>\n",
       "    </tr>\n",
       "  </tbody>\n",
       "</table>\n",
       "</div>"
      ],
      "text/plain": [
       "         Embarked_S    Sex_female      Pclass_1         SibSp    Embarked_Q\n",
       "count  6.730000e+02  6.730000e+02  6.730000e+02  6.730000e+02  6.730000e+02\n",
       "mean  -5.806813e-17 -4.718035e-17  2.396960e-16  3.193747e-16 -1.398914e-16\n",
       "std    1.000744e+00  1.000744e+00  1.000744e+00  1.000744e+00  1.000744e+00\n",
       "min   -1.875308e+00 -7.687760e-01 -5.836415e-01 -5.590524e-01 -2.004631e-01\n",
       "25%    5.332459e-01 -7.687760e-01 -5.836415e-01 -5.590524e-01 -2.004631e-01\n",
       "50%    5.332459e-01 -7.687760e-01 -5.836415e-01 -5.590524e-01 -2.004631e-01\n",
       "75%    5.332459e-01  1.300769e+00  1.713380e+00  6.203904e-01 -2.004631e-01\n",
       "max    5.332459e-01  1.300769e+00  1.713380e+00  4.158719e+00  4.988448e+00"
      ]
     },
     "execution_count": 59,
     "metadata": {},
     "output_type": "execute_result"
    }
   ],
   "source": [
    "X[best].describe()"
   ]
  },
  {
   "cell_type": "code",
   "execution_count": 60,
   "metadata": {
    "ExecuteTime": {
     "end_time": "2023-07-24T19:45:27.865565Z",
     "start_time": "2023-07-24T19:45:27.844594Z"
    }
   },
   "outputs": [],
   "source": [
    "y=tad[tgt]\n",
    "Xt,Xv,yt,yv = train_test_split(X,y,train_size=0.7)"
   ]
  },
  {
   "cell_type": "markdown",
   "metadata": {},
   "source": [
    "## Perceptron"
   ]
  },
  {
   "cell_type": "code",
   "execution_count": 34,
   "metadata": {
    "ExecuteTime": {
     "end_time": "2023-07-24T19:43:02.028100Z",
     "start_time": "2023-07-24T19:43:02.011258Z"
    }
   },
   "outputs": [],
   "source": [
    "modelo = Perceptron()"
   ]
  },
  {
   "cell_type": "code",
   "execution_count": 35,
   "metadata": {
    "ExecuteTime": {
     "end_time": "2023-07-24T19:43:02.044690Z",
     "start_time": "2023-07-24T19:43:02.030116Z"
    }
   },
   "outputs": [],
   "source": [
    "#l2 es la norma cuadrada euclidiana y l1 es la norma absoluta, elasticnet es una combinación\n",
    "#Se aplica el penalty a la función de perdida 0-1 del perceptron\n",
    "hyper = dict(penalty = ['l2','l1','elasticnet'],\n",
    "             fit_intercept=[True,False],\n",
    "             max_iter=range(1000,21000,1000),\n",
    "             eta0 = np.arange(0.1,1,0.1))"
   ]
  },
  {
   "cell_type": "code",
   "execution_count": 36,
   "metadata": {
    "ExecuteTime": {
     "end_time": "2023-07-24T19:43:15.098627Z",
     "start_time": "2023-07-24T19:43:02.046461Z"
    }
   },
   "outputs": [
    {
     "name": "stdout",
     "output_type": "stream",
     "text": [
      "Fitting 3 folds for each of 1080 candidates, totalling 3240 fits\n"
     ]
    },
    {
     "name": "stderr",
     "output_type": "stream",
     "text": [
      "[Parallel(n_jobs=-1)]: Using backend LokyBackend with 8 concurrent workers.\n",
      "[Parallel(n_jobs=-1)]: Done  34 tasks      | elapsed:    8.1s\n",
      "[Parallel(n_jobs=-1)]: Done 1560 tasks      | elapsed:   10.7s\n",
      "[Parallel(n_jobs=-1)]: Done 3240 out of 3240 | elapsed:   12.9s finished\n",
      "C:\\ProgramData\\Anaconda3\\lib\\site-packages\\sklearn\\utils\\validation.py:72: DataConversionWarning: A column-vector y was passed when a 1d array was expected. Please change the shape of y to (n_samples, ), for example using ravel().\n",
      "  return f(**kwargs)\n"
     ]
    },
    {
     "data": {
      "text/plain": [
       "GridSearchCV(cv=3, error_score='roc_auc', estimator=Perceptron(), n_jobs=-1,\n",
       "             param_grid={'eta0': array([0.1, 0.2, 0.3, 0.4, 0.5, 0.6, 0.7, 0.8, 0.9]),\n",
       "                         'fit_intercept': [True, False],\n",
       "                         'max_iter': range(1000, 21000, 1000),\n",
       "                         'penalty': ['l2', 'l1', 'elasticnet']},\n",
       "             verbose=True)"
      ]
     },
     "execution_count": 36,
     "metadata": {},
     "output_type": "execute_result"
    }
   ],
   "source": [
    "grid = GridSearchCV(estimator=modelo,\n",
    "                    error_score='roc_auc',\n",
    "                    param_grid=hyper,\n",
    "                    cv=3,\n",
    "                    n_jobs=-1,\n",
    "                    verbose=True)\n",
    "\n",
    "grid.fit(Xt,yt)"
   ]
  },
  {
   "cell_type": "code",
   "execution_count": 37,
   "metadata": {
    "ExecuteTime": {
     "end_time": "2023-07-24T19:43:15.114524Z",
     "start_time": "2023-07-24T19:43:15.101684Z"
    }
   },
   "outputs": [
    {
     "name": "stdout",
     "output_type": "stream",
     "text": [
      "0.7791932059447984\n",
      "{'eta0': 0.9, 'fit_intercept': True, 'max_iter': 1000, 'penalty': 'l2'}\n"
     ]
    }
   ],
   "source": [
    "print(grid.best_score_)\n",
    "\n",
    "print(grid.best_params_)"
   ]
  },
  {
   "cell_type": "code",
   "execution_count": 38,
   "metadata": {
    "ExecuteTime": {
     "end_time": "2023-07-24T19:43:15.145696Z",
     "start_time": "2023-07-24T19:43:15.115520Z"
    }
   },
   "outputs": [
    {
     "name": "stderr",
     "output_type": "stream",
     "text": [
      "C:\\ProgramData\\Anaconda3\\lib\\site-packages\\sklearn\\utils\\validation.py:72: DataConversionWarning: A column-vector y was passed when a 1d array was expected. Please change the shape of y to (n_samples, ), for example using ravel().\n",
      "  return f(**kwargs)\n"
     ]
    },
    {
     "data": {
      "text/plain": [
       "Perceptron(eta0=0.9, penalty='l2')"
      ]
     },
     "execution_count": 38,
     "metadata": {},
     "output_type": "execute_result"
    }
   ],
   "source": [
    "modelo = grid.best_estimator_\n",
    "modelo.fit(Xt,yt)"
   ]
  },
  {
   "cell_type": "code",
   "execution_count": 39,
   "metadata": {
    "ExecuteTime": {
     "end_time": "2023-07-24T19:43:15.176953Z",
     "start_time": "2023-07-24T19:43:15.148697Z"
    }
   },
   "outputs": [
    {
     "name": "stdout",
     "output_type": "stream",
     "text": [
      "0.6815286624203821\n",
      "0.7079207920792079\n",
      "[[231  53]\n",
      " [ 97  90]]\n",
      "[[96 18]\n",
      " [41 47]]\n"
     ]
    }
   ],
   "source": [
    "print(accuracy_score(y_true=yt,y_pred=modelo.predict(Xt)))\n",
    "print(accuracy_score(y_true=yv,y_pred=modelo.predict(Xv)))\n",
    "\n",
    "print(confusion_matrix(y_true=yt,y_pred=modelo.predict(Xt)))\n",
    "print(confusion_matrix(y_true=yv,y_pred=modelo.predict(Xv)))"
   ]
  },
  {
   "cell_type": "markdown",
   "metadata": {},
   "source": [
    "## Pasivo-agresivo"
   ]
  },
  {
   "cell_type": "code",
   "execution_count": null,
   "metadata": {
    "ExecuteTime": {
     "end_time": "2023-07-24T19:36:37.092733Z",
     "start_time": "2023-07-24T19:36:37.092733Z"
    }
   },
   "outputs": [],
   "source": [
    "modelo2 = PassiveAggressiveClassifier()"
   ]
  },
  {
   "cell_type": "code",
   "execution_count": null,
   "metadata": {
    "ExecuteTime": {
     "end_time": "2023-07-24T19:36:37.094422Z",
     "start_time": "2023-07-24T19:36:37.094422Z"
    }
   },
   "outputs": [],
   "source": [
    "hyper = dict(C = np.arange(0.1,2,0.1),\n",
    "             fit_intercept=[True,False],\n",
    "             max_iter=range(1000,21000,1000))"
   ]
  },
  {
   "cell_type": "code",
   "execution_count": null,
   "metadata": {
    "ExecuteTime": {
     "end_time": "2023-07-24T19:36:37.096424Z",
     "start_time": "2023-07-24T19:36:37.096424Z"
    }
   },
   "outputs": [],
   "source": [
    "grid = GridSearchCV(estimator=modelo2,\n",
    "                    error_score='roc_auc',\n",
    "                    param_grid=hyper,\n",
    "                    cv=3,\n",
    "                    n_jobs=-1,\n",
    "                    verbose=True)\n",
    "\n",
    "grid.fit(Xt,yt)"
   ]
  },
  {
   "cell_type": "code",
   "execution_count": null,
   "metadata": {
    "ExecuteTime": {
     "end_time": "2023-07-24T19:36:37.098912Z",
     "start_time": "2023-07-24T19:36:37.098912Z"
    }
   },
   "outputs": [],
   "source": [
    "print(grid.best_score_)\n",
    "\n",
    "print(grid.best_params_)"
   ]
  },
  {
   "cell_type": "code",
   "execution_count": null,
   "metadata": {
    "ExecuteTime": {
     "end_time": "2023-07-24T19:36:37.101107Z",
     "start_time": "2023-07-24T19:36:37.101107Z"
    }
   },
   "outputs": [],
   "source": [
    "modelo2 = grid.best_estimator_\n",
    "modelo2.fit(Xt,yt)"
   ]
  },
  {
   "cell_type": "code",
   "execution_count": null,
   "metadata": {
    "ExecuteTime": {
     "end_time": "2023-07-24T19:36:37.103102Z",
     "start_time": "2023-07-24T19:36:37.103102Z"
    }
   },
   "outputs": [],
   "source": [
    "print(accuracy_score(y_true=yt,y_pred=modelo2.predict(Xt)))\n",
    "print(accuracy_score(y_true=yv,y_pred=modelo2.predict(Xv)))\n",
    "\n",
    "print(confusion_matrix(y_true=yt,y_pred=modelo2.predict(Xt)))\n",
    "print(confusion_matrix(y_true=yv,y_pred=modelo2.predict(Xv)))"
   ]
  },
  {
   "cell_type": "markdown",
   "metadata": {},
   "source": [
    "## Maquina vector-soporte"
   ]
  },
  {
   "cell_type": "code",
   "execution_count": null,
   "metadata": {
    "ExecuteTime": {
     "end_time": "2023-07-24T19:36:37.105097Z",
     "start_time": "2023-07-24T19:36:37.105097Z"
    }
   },
   "outputs": [],
   "source": [
    "modelo3 = SVC()"
   ]
  },
  {
   "cell_type": "code",
   "execution_count": null,
   "metadata": {
    "ExecuteTime": {
     "end_time": "2023-07-24T19:36:37.108107Z",
     "start_time": "2023-07-24T19:36:37.108107Z"
    }
   },
   "outputs": [],
   "source": [
    "hyper = dict(C = np.arange(0.1,2,0.1),\n",
    "             kernel=['linear', 'poly', 'rbf', 'sigmoid'],\n",
    "             degree=range(2,6),\n",
    "             gamma = ['scale', 'auto'],\n",
    "             probability = [True]\n",
    "            )"
   ]
  },
  {
   "cell_type": "code",
   "execution_count": null,
   "metadata": {
    "ExecuteTime": {
     "end_time": "2023-07-24T19:36:37.110084Z",
     "start_time": "2023-07-24T19:36:37.110084Z"
    }
   },
   "outputs": [],
   "source": [
    "sc = MinMaxScaler()\n",
    "sc.fit(X)"
   ]
  },
  {
   "cell_type": "code",
   "execution_count": null,
   "metadata": {
    "ExecuteTime": {
     "end_time": "2023-07-24T19:36:37.112521Z",
     "start_time": "2023-07-24T19:36:37.112521Z"
    }
   },
   "outputs": [],
   "source": [
    "Xnt = pd.DataFrame(sc.transform(Xt),columns=best)\n",
    "Xnv = pd.DataFrame(sc.transform(Xv),columns=best)"
   ]
  },
  {
   "cell_type": "code",
   "execution_count": null,
   "metadata": {
    "ExecuteTime": {
     "end_time": "2023-07-24T19:36:37.113518Z",
     "start_time": "2023-07-24T19:36:37.113518Z"
    }
   },
   "outputs": [],
   "source": [
    "grid = RandomizedSearchCV(estimator=modelo3,\n",
    "                    error_score='roc_auc',\n",
    "                    param_distributions=hyper,\n",
    "                    n_iter=200,\n",
    "                    cv=3,\n",
    "                    n_jobs=-1,\n",
    "                    verbose=True)\n",
    "\n",
    "grid.fit(Xnt,yt)"
   ]
  },
  {
   "cell_type": "code",
   "execution_count": null,
   "metadata": {
    "ExecuteTime": {
     "end_time": "2023-07-24T19:36:37.115731Z",
     "start_time": "2023-07-24T19:36:37.115731Z"
    },
    "scrolled": true
   },
   "outputs": [],
   "source": [
    "print(grid.best_score_)\n",
    "print(grid.best_params_)"
   ]
  },
  {
   "cell_type": "code",
   "execution_count": null,
   "metadata": {
    "ExecuteTime": {
     "end_time": "2023-07-24T19:36:37.117760Z",
     "start_time": "2023-07-24T19:36:37.117760Z"
    }
   },
   "outputs": [],
   "source": [
    "modelo3 = grid.best_estimator_\n",
    "\n",
    "modelo3.fit(Xnt,yt)"
   ]
  },
  {
   "cell_type": "code",
   "execution_count": null,
   "metadata": {
    "ExecuteTime": {
     "end_time": "2023-07-24T19:36:37.119815Z",
     "start_time": "2023-07-24T19:36:37.119815Z"
    }
   },
   "outputs": [],
   "source": [
    "print(accuracy_score(y_true=yt,y_pred=modelo3.predict(Xnt)))\n",
    "print(accuracy_score(y_true=yv,y_pred=modelo3.predict(Xnv)))\n",
    "\n",
    "print(confusion_matrix(y_true=yt,y_pred=modelo3.predict(Xnt)))\n",
    "print(confusion_matrix(y_true=yv,y_pred=modelo3.predict(Xnv)))\n",
    "\n",
    "print(roc_auc_score(y_true=yt,y_score=modelo3.predict_proba(Xnt)[:,1]))\n",
    "print(roc_auc_score(y_true=yv,y_score=modelo3.predict_proba(Xnv)[:,1]))"
   ]
  },
  {
   "cell_type": "code",
   "execution_count": null,
   "metadata": {
    "ExecuteTime": {
     "end_time": "2023-07-24T19:36:37.122808Z",
     "start_time": "2023-07-24T19:36:37.122808Z"
    }
   },
   "outputs": [],
   "source": [
    "plot_roc_curve(y_true=yt,y_probas=modelo3.predict_proba(Xt),curves='macro')\n",
    "plot_roc_curve(y_true=yv,y_probas=modelo3.predict_proba(Xv),curves='macro')"
   ]
  },
  {
   "cell_type": "markdown",
   "metadata": {},
   "source": [
    "## Regresion logistica"
   ]
  },
  {
   "cell_type": "code",
   "execution_count": 61,
   "metadata": {
    "ExecuteTime": {
     "end_time": "2023-07-24T19:45:35.741957Z",
     "start_time": "2023-07-24T19:45:35.730665Z"
    }
   },
   "outputs": [],
   "source": [
    "from sklearn.pipeline import Pipeline"
   ]
  },
  {
   "cell_type": "code",
   "execution_count": 62,
   "metadata": {
    "ExecuteTime": {
     "end_time": "2023-07-24T19:45:35.757297Z",
     "start_time": "2023-07-24T19:45:35.745694Z"
    }
   },
   "outputs": [],
   "source": [
    "modeloRL = LogisticRegression()"
   ]
  },
  {
   "cell_type": "code",
   "execution_count": 63,
   "metadata": {
    "ExecuteTime": {
     "end_time": "2023-07-24T19:45:35.773359Z",
     "start_time": "2023-07-24T19:45:35.759073Z"
    }
   },
   "outputs": [],
   "source": [
    "sc = StandardScaler()\n",
    "X= pd.DataFrame(sc.fit_transform(tad[best]),columns=tad[best].columns)"
   ]
  },
  {
   "cell_type": "code",
   "execution_count": 64,
   "metadata": {
    "ExecuteTime": {
     "end_time": "2023-07-24T19:45:40.484815Z",
     "start_time": "2023-07-24T19:45:40.452649Z"
    }
   },
   "outputs": [],
   "source": [
    "scaler=MinMaxScaler()\n",
    "scaler.fit(X)\n",
    "Xn = pd.DataFrame(scaler.transform(X),columns=best)\n",
    "Xnt,Xnv,yt,yv = train_test_split(Xn,y,train_size=0.7)"
   ]
  },
  {
   "cell_type": "code",
   "execution_count": 65,
   "metadata": {
    "ExecuteTime": {
     "end_time": "2023-07-24T19:45:41.351822Z",
     "start_time": "2023-07-24T19:45:41.341584Z"
    }
   },
   "outputs": [],
   "source": [
    "hyper = {'penalty' : ['l1', 'l2'],\n",
    "    'C' : np.logspace(-4, 4, 20),\n",
    "    'solver' : ['liblinear'] }"
   ]
  },
  {
   "cell_type": "code",
   "execution_count": 66,
   "metadata": {
    "ExecuteTime": {
     "end_time": "2023-07-24T19:45:43.521690Z",
     "start_time": "2023-07-24T19:45:43.508953Z"
    }
   },
   "outputs": [],
   "source": [
    "grid = GridSearchCV(estimator=modeloRL,\n",
    "                    error_score='raise',\n",
    "                    param_grid=hyper,\n",
    "                    cv=3,\n",
    "                    n_jobs=-1,\n",
    "                    verbose=True)"
   ]
  },
  {
   "cell_type": "code",
   "execution_count": 70,
   "metadata": {
    "ExecuteTime": {
     "end_time": "2023-07-24T19:46:00.108113Z",
     "start_time": "2023-07-24T19:45:59.826039Z"
    }
   },
   "outputs": [
    {
     "name": "stdout",
     "output_type": "stream",
     "text": [
      "Fitting 3 folds for each of 40 candidates, totalling 120 fits\n"
     ]
    },
    {
     "name": "stderr",
     "output_type": "stream",
     "text": [
      "[Parallel(n_jobs=-1)]: Using backend LokyBackend with 8 concurrent workers.\n",
      "[Parallel(n_jobs=-1)]: Done  56 tasks      | elapsed:    0.1s\n",
      "[Parallel(n_jobs=-1)]: Done 120 out of 120 | elapsed:    0.1s finished\n",
      "C:\\ProgramData\\Anaconda3\\lib\\site-packages\\sklearn\\utils\\validation.py:72: DataConversionWarning: A column-vector y was passed when a 1d array was expected. Please change the shape of y to (n_samples, ), for example using ravel().\n",
      "  return f(**kwargs)\n"
     ]
    },
    {
     "data": {
      "text/plain": [
       "GridSearchCV(cv=3, error_score='raise', estimator=LogisticRegression(),\n",
       "             n_jobs=-1,\n",
       "             param_grid={'C': array([1.00000000e-04, 2.63665090e-04, 6.95192796e-04, 1.83298071e-03,\n",
       "       4.83293024e-03, 1.27427499e-02, 3.35981829e-02, 8.85866790e-02,\n",
       "       2.33572147e-01, 6.15848211e-01, 1.62377674e+00, 4.28133240e+00,\n",
       "       1.12883789e+01, 2.97635144e+01, 7.84759970e+01, 2.06913808e+02,\n",
       "       5.45559478e+02, 1.43844989e+03, 3.79269019e+03, 1.00000000e+04]),\n",
       "                         'penalty': ['l1', 'l2'], 'solver': ['liblinear']},\n",
       "             verbose=True)"
      ]
     },
     "execution_count": 70,
     "metadata": {},
     "output_type": "execute_result"
    }
   ],
   "source": [
    "grid.fit(Xnt,yt)"
   ]
  },
  {
   "cell_type": "code",
   "execution_count": 78,
   "metadata": {
    "ExecuteTime": {
     "end_time": "2023-07-24T19:46:15.980725Z",
     "start_time": "2023-07-24T19:46:15.960246Z"
    }
   },
   "outputs": [
    {
     "name": "stdout",
     "output_type": "stream",
     "text": [
      "0.8025477707006369\n",
      "{'C': 0.08858667904100823, 'penalty': 'l1', 'solver': 'liblinear'}\n"
     ]
    }
   ],
   "source": [
    "print(grid.best_score_)\n",
    "print(grid.best_params_)"
   ]
  },
  {
   "cell_type": "code",
   "execution_count": 102,
   "metadata": {
    "ExecuteTime": {
     "end_time": "2023-07-24T19:48:50.581409Z",
     "start_time": "2023-07-24T19:48:50.558407Z"
    }
   },
   "outputs": [
    {
     "name": "stderr",
     "output_type": "stream",
     "text": [
      "C:\\ProgramData\\Anaconda3\\lib\\site-packages\\sklearn\\utils\\validation.py:72: DataConversionWarning: A column-vector y was passed when a 1d array was expected. Please change the shape of y to (n_samples, ), for example using ravel().\n",
      "  return f(**kwargs)\n"
     ]
    },
    {
     "data": {
      "text/plain": [
       "LogisticRegression(C=0.08858667904100823, penalty='l1', solver='liblinear')"
      ]
     },
     "execution_count": 102,
     "metadata": {},
     "output_type": "execute_result"
    }
   ],
   "source": [
    "modeloRL = grid.best_estimator_\n",
    "\n",
    "modeloRL.fit(Xnt,yt)"
   ]
  },
  {
   "cell_type": "code",
   "execution_count": 103,
   "metadata": {
    "ExecuteTime": {
     "end_time": "2023-07-24T19:48:51.206437Z",
     "start_time": "2023-07-24T19:48:51.185507Z"
    }
   },
   "outputs": [
    {
     "name": "stdout",
     "output_type": "stream",
     "text": [
      "0.8461348340241075\n",
      "0.7995955410871067\n"
     ]
    }
   ],
   "source": [
    "print(roc_auc_score(y_score=modeloRL.predict_proba(Xnt)[:,1],y_true=yt))\n",
    "print(roc_auc_score(y_score=modeloRL.predict_proba(Xnv)[:,1],y_true=yv))"
   ]
  },
  {
   "cell_type": "code",
   "execution_count": 84,
   "metadata": {
    "ExecuteTime": {
     "end_time": "2023-07-24T19:46:27.711575Z",
     "start_time": "2023-07-24T19:46:27.056222Z"
    }
   },
   "outputs": [
    {
     "name": "stderr",
     "output_type": "stream",
     "text": [
      "C:\\ProgramData\\Anaconda3\\lib\\site-packages\\sklearn\\utils\\deprecation.py:86: FutureWarning: Function plot_roc_curve is deprecated; This will be removed in v0.5.0. Please use scikitplot.metrics.plot_roc instead.\n",
      "  warnings.warn(msg, category=FutureWarning)\n",
      "C:\\ProgramData\\Anaconda3\\lib\\site-packages\\sklearn\\utils\\deprecation.py:86: FutureWarning: Function plot_roc_curve is deprecated; This will be removed in v0.5.0. Please use scikitplot.metrics.plot_roc instead.\n",
      "  warnings.warn(msg, category=FutureWarning)\n"
     ]
    },
    {
     "data": {
      "text/plain": [
       "<AxesSubplot:title={'center':'ROC Curves'}, xlabel='False Positive Rate', ylabel='True Positive Rate'>"
      ]
     },
     "execution_count": 84,
     "metadata": {},
     "output_type": "execute_result"
    },
    {
     "data": {
      "image/png": "[encoded data removed]",
      "text/plain": [
       "<Figure size 432x288 with 1 Axes>"
      ]
     },
     "metadata": {
      "needs_background": "light"
     },
     "output_type": "display_data"
    },
    {
     "data": {
      "image/png": "[encoded data removed]",
      "text/plain": [
       "<Figure size 432x288 with 1 Axes>"
      ]
     },
     "metadata": {
      "needs_background": "light"
     },
     "output_type": "display_data"
    }
   ],
   "source": [
    "plot_roc_curve(y_true=yt,y_probas=modeloRL.predict_proba(Xnt),curves='macro')\n",
    "plot_roc_curve(y_true=yv,y_probas=modeloRL.predict_proba(Xnv),curves='macro')"
   ]
  },
  {
   "cell_type": "code",
   "execution_count": 100,
   "metadata": {
    "ExecuteTime": {
     "end_time": "2023-07-24T19:48:27.119160Z",
     "start_time": "2023-07-24T19:48:27.100363Z"
    }
   },
   "outputs": [
    {
     "name": "stdout",
     "output_type": "stream",
     "text": [
      "0.5\n",
      "0.5\n"
     ]
    }
   ],
   "source": [
    "print(roc_auc_score(y_score=modelo_elegido.predict_proba(Xnt)[:,1],y_true=yt))\n",
    "print(roc_auc_score(y_score=modelo_elegido.predict_proba(Xnv)[:,1],y_true=yv))"
   ]
  },
  {
   "cell_type": "markdown",
   "metadata": {},
   "source": [
    "## Random Forest"
   ]
  },
  {
   "cell_type": "code",
   "execution_count": null,
   "metadata": {
    "ExecuteTime": {
     "end_time": "2023-07-24T19:36:37.144804Z",
     "start_time": "2023-07-24T19:36:37.144804Z"
    }
   },
   "outputs": [],
   "source": [
    "modeloRL"
   ]
  },
  {
   "cell_type": "code",
   "execution_count": null,
   "metadata": {
    "ExecuteTime": {
     "end_time": "2023-07-24T19:36:37.147557Z",
     "start_time": "2023-07-24T19:36:37.147557Z"
    }
   },
   "outputs": [],
   "source": [
    "modeloRF=RandomForestClassifier()"
   ]
  },
  {
   "cell_type": "code",
   "execution_count": null,
   "metadata": {
    "ExecuteTime": {
     "end_time": "2023-07-24T19:36:37.148520Z",
     "start_time": "2023-07-24T19:36:37.148520Z"
    }
   },
   "outputs": [],
   "source": [
    "hyper = {'n_estimators' : list(range(10,101,10)),\n",
    "    'max_features' : list(range(0,32)) }"
   ]
  },
  {
   "cell_type": "code",
   "execution_count": null,
   "metadata": {
    "ExecuteTime": {
     "end_time": "2023-07-24T19:36:37.150483Z",
     "start_time": "2023-07-24T19:36:37.150483Z"
    }
   },
   "outputs": [],
   "source": [
    "grid = GridSearchCV(estimator=modeloRF,\n",
    "                    param_grid=hyper,\n",
    "                    cv = 5, verbose=True, n_jobs=-1)"
   ]
  },
  {
   "cell_type": "code",
   "execution_count": null,
   "metadata": {
    "ExecuteTime": {
     "end_time": "2023-07-24T19:36:37.152724Z",
     "start_time": "2023-07-24T19:36:37.152724Z"
    }
   },
   "outputs": [],
   "source": [
    "grid.fit(Xt,yt)"
   ]
  },
  {
   "cell_type": "code",
   "execution_count": null,
   "metadata": {
    "ExecuteTime": {
     "end_time": "2023-07-24T19:36:37.154719Z",
     "start_time": "2023-07-24T19:36:37.154719Z"
    }
   },
   "outputs": [],
   "source": [
    "print(grid.best_score_)\n",
    "print(grid.best_params_)"
   ]
  },
  {
   "cell_type": "code",
   "execution_count": null,
   "metadata": {
    "ExecuteTime": {
     "end_time": "2023-07-24T19:36:37.156345Z",
     "start_time": "2023-07-24T19:36:37.156345Z"
    }
   },
   "outputs": [],
   "source": [
    "modeloRF=grid.best_estimator_\n",
    "modeloRF.fit(Xt,yt)"
   ]
  },
  {
   "cell_type": "code",
   "execution_count": null,
   "metadata": {
    "ExecuteTime": {
     "end_time": "2023-07-24T19:36:37.158823Z",
     "start_time": "2023-07-24T19:36:37.158823Z"
    }
   },
   "outputs": [],
   "source": [
    "print(accuracy_score(y_true=yt,y_pred=modeloRF.predict(Xt)))\n",
    "print(accuracy_score(y_true=yv,y_pred=modeloRF.predict(Xv)))\n",
    "\n",
    "print(confusion_matrix(y_true=yt,y_pred=modeloRF.predict(Xt)))\n",
    "print(confusion_matrix(y_true=yv,y_pred=modeloRF.predict(Xv)))"
   ]
  },
  {
   "cell_type": "code",
   "execution_count": null,
   "metadata": {
    "ExecuteTime": {
     "end_time": "2023-07-24T19:36:37.160966Z",
     "start_time": "2023-07-24T19:36:37.160966Z"
    }
   },
   "outputs": [],
   "source": [
    "print(roc_auc_score(y_score=modeloRF.predict_proba(Xt)[:,1],y_true=yt))\n",
    "print(roc_auc_score(y_score=modeloRF.predict_proba(Xv)[:,1],y_true=yv))"
   ]
  },
  {
   "cell_type": "code",
   "execution_count": null,
   "metadata": {
    "ExecuteTime": {
     "end_time": "2023-07-24T19:36:37.162519Z",
     "start_time": "2023-07-24T19:36:37.162519Z"
    },
    "scrolled": false
   },
   "outputs": [],
   "source": [
    "plot_roc_curve(y_true=yt,y_probas=modeloRF.predict_proba(Xt),curves='macro')\n",
    "plot_roc_curve(y_true=yv,y_probas=modeloRF.predict_proba(Xv),curves='macro')"
   ]
  },
  {
   "cell_type": "markdown",
   "metadata": {},
   "source": [
    "## Red neuronal"
   ]
  },
  {
   "cell_type": "code",
   "execution_count": null,
   "metadata": {
    "ExecuteTime": {
     "end_time": "2023-07-24T19:36:37.165097Z",
     "start_time": "2023-07-24T19:36:37.165097Z"
    }
   },
   "outputs": [],
   "source": [
    "modeloRN = MLPClassifier()"
   ]
  },
  {
   "cell_type": "code",
   "execution_count": null,
   "metadata": {
    "ExecuteTime": {
     "end_time": "2023-07-24T19:36:37.167090Z",
     "start_time": "2023-07-24T19:36:37.167090Z"
    }
   },
   "outputs": [],
   "source": [
    "param = dict(hidden_layer_sizes = [(a,b,) for a in range(1,10)  for b in range(1,10)],\n",
    "activation = ['identity', 'logistic', 'tanh', 'relu'],\n",
    "solver = ['lbfgs', 'sgd', 'adam'],\n",
    "alpha = np.arange(0.0001,0.001,0.0001),\n",
    "learning_rate = ['constant', 'invscaling', 'adaptive'],\n",
    "learning_rate_init = np.arange(0.001,0.01,0.001),\n",
    "max_iter = [len(X)*2])"
   ]
  },
  {
   "cell_type": "code",
   "execution_count": null,
   "metadata": {
    "ExecuteTime": {
     "end_time": "2023-07-24T19:36:37.169813Z",
     "start_time": "2023-07-24T19:36:37.169813Z"
    }
   },
   "outputs": [],
   "source": [
    "grid = RandomizedSearchCV(estimator=modeloRN,\n",
    "                          cv=10,\n",
    "                          n_iter=300,\n",
    "                          n_jobs=-1,\n",
    "                          verbose=True,\n",
    "                          scoring='roc_auc',\n",
    "                          param_distributions=param)"
   ]
  },
  {
   "cell_type": "code",
   "execution_count": null,
   "metadata": {
    "ExecuteTime": {
     "end_time": "2023-07-24T19:36:37.171805Z",
     "start_time": "2023-07-24T19:36:37.171805Z"
    }
   },
   "outputs": [],
   "source": [
    "grid.fit(Xnt,yt)"
   ]
  },
  {
   "cell_type": "code",
   "execution_count": null,
   "metadata": {
    "ExecuteTime": {
     "end_time": "2023-07-24T19:36:37.173718Z",
     "start_time": "2023-07-24T19:36:37.173718Z"
    }
   },
   "outputs": [],
   "source": [
    "grid.best_params_"
   ]
  },
  {
   "cell_type": "code",
   "execution_count": null,
   "metadata": {
    "ExecuteTime": {
     "end_time": "2023-07-24T19:36:37.174716Z",
     "start_time": "2023-07-24T19:36:37.174716Z"
    }
   },
   "outputs": [],
   "source": [
    "grid.best_score_"
   ]
  },
  {
   "cell_type": "code",
   "execution_count": null,
   "metadata": {
    "ExecuteTime": {
     "end_time": "2023-07-24T19:36:37.176717Z",
     "start_time": "2023-07-24T19:36:37.176717Z"
    }
   },
   "outputs": [],
   "source": [
    "modeloRN = grid.best_estimator_"
   ]
  },
  {
   "cell_type": "code",
   "execution_count": null,
   "metadata": {
    "ExecuteTime": {
     "end_time": "2023-07-24T19:36:37.178967Z",
     "start_time": "2023-07-24T19:36:37.178967Z"
    }
   },
   "outputs": [],
   "source": [
    "modeloRN.fit(Xt,yt)"
   ]
  },
  {
   "cell_type": "code",
   "execution_count": null,
   "metadata": {
    "ExecuteTime": {
     "end_time": "2023-07-24T19:36:37.181048Z",
     "start_time": "2023-07-24T19:36:37.180049Z"
    }
   },
   "outputs": [],
   "source": [
    "print(roc_auc_score(y_score=modeloRN.predict_proba(Xt)[:,1],y_true=yt))\n",
    "print(roc_auc_score(y_score=modeloRN.predict_proba(Xv)[:,1],y_true=yv))"
   ]
  },
  {
   "cell_type": "code",
   "execution_count": null,
   "metadata": {
    "ExecuteTime": {
     "end_time": "2023-07-24T19:36:37.182270Z",
     "start_time": "2023-07-24T19:36:37.182270Z"
    }
   },
   "outputs": [],
   "source": [
    "plot_roc_curve(y_true=yt,y_probas=modeloRN.predict_proba(Xt),curves='macro')\n",
    "plot_roc_curve(y_true=yv,y_probas=modeloRN.predict_proba(Xv),curves='macro')"
   ]
  },
  {
   "cell_type": "markdown",
   "metadata": {},
   "source": [
    "# Prueba con datos desconocidos"
   ]
  },
  {
   "cell_type": "code",
   "execution_count": 104,
   "metadata": {
    "ExecuteTime": {
     "end_time": "2023-07-24T19:48:58.608717Z",
     "start_time": "2023-07-24T19:48:58.597565Z"
    }
   },
   "outputs": [
    {
     "data": {
      "text/plain": [
       "['gender_submission.csv', 'MetaData.txt', 'test.csv', 'train.csv']"
      ]
     },
     "execution_count": 104,
     "metadata": {},
     "output_type": "execute_result"
    }
   ],
   "source": [
    "os.listdir(ruta_titanic)"
   ]
  },
  {
   "cell_type": "code",
   "execution_count": 107,
   "metadata": {
    "ExecuteTime": {
     "end_time": "2023-07-24T19:49:18.570507Z",
     "start_time": "2023-07-24T19:49:18.545917Z"
    }
   },
   "outputs": [
    {
     "data": {
      "text/html": [
       "<div>\n",
       "<style scoped>\n",
       "    .dataframe tbody tr th:only-of-type {\n",
       "        vertical-align: middle;\n",
       "    }\n",
       "\n",
       "    .dataframe tbody tr th {\n",
       "        vertical-align: top;\n",
       "    }\n",
       "\n",
       "    .dataframe thead th {\n",
       "        text-align: right;\n",
       "    }\n",
       "</style>\n",
       "<table border=\"1\" class=\"dataframe\">\n",
       "  <thead>\n",
       "    <tr style=\"text-align: right;\">\n",
       "      <th></th>\n",
       "      <th>PassengerId</th>\n",
       "      <th>Survived</th>\n",
       "    </tr>\n",
       "  </thead>\n",
       "  <tbody>\n",
       "    <tr>\n",
       "      <th>0</th>\n",
       "      <td>892</td>\n",
       "      <td>0</td>\n",
       "    </tr>\n",
       "    <tr>\n",
       "      <th>1</th>\n",
       "      <td>893</td>\n",
       "      <td>1</td>\n",
       "    </tr>\n",
       "  </tbody>\n",
       "</table>\n",
       "</div>"
      ],
      "text/plain": [
       "   PassengerId  Survived\n",
       "0          892         0\n",
       "1          893         1"
      ]
     },
     "execution_count": 107,
     "metadata": {},
     "output_type": "execute_result"
    }
   ],
   "source": [
    "y_test=pd.read_csv(ruta_titanic+\"/gender_submission.csv\")\n",
    "y_test.head(2)"
   ]
  },
  {
   "cell_type": "code",
   "execution_count": 108,
   "metadata": {
    "ExecuteTime": {
     "end_time": "2023-07-24T19:49:23.944532Z",
     "start_time": "2023-07-24T19:49:23.907768Z"
    }
   },
   "outputs": [
    {
     "data": {
      "text/html": [
       "<div>\n",
       "<style scoped>\n",
       "    .dataframe tbody tr th:only-of-type {\n",
       "        vertical-align: middle;\n",
       "    }\n",
       "\n",
       "    .dataframe tbody tr th {\n",
       "        vertical-align: top;\n",
       "    }\n",
       "\n",
       "    .dataframe thead th {\n",
       "        text-align: right;\n",
       "    }\n",
       "</style>\n",
       "<table border=\"1\" class=\"dataframe\">\n",
       "  <thead>\n",
       "    <tr style=\"text-align: right;\">\n",
       "      <th></th>\n",
       "      <th>PassengerId</th>\n",
       "      <th>Pclass</th>\n",
       "      <th>Name</th>\n",
       "      <th>Sex</th>\n",
       "      <th>Age</th>\n",
       "      <th>SibSp</th>\n",
       "      <th>Parch</th>\n",
       "      <th>Ticket</th>\n",
       "      <th>Fare</th>\n",
       "      <th>Cabin</th>\n",
       "      <th>Embarked</th>\n",
       "    </tr>\n",
       "  </thead>\n",
       "  <tbody>\n",
       "    <tr>\n",
       "      <th>0</th>\n",
       "      <td>892</td>\n",
       "      <td>3</td>\n",
       "      <td>Kelly, Mr. James</td>\n",
       "      <td>male</td>\n",
       "      <td>34.5</td>\n",
       "      <td>0</td>\n",
       "      <td>0</td>\n",
       "      <td>330911</td>\n",
       "      <td>7.8292</td>\n",
       "      <td>NaN</td>\n",
       "      <td>Q</td>\n",
       "    </tr>\n",
       "    <tr>\n",
       "      <th>1</th>\n",
       "      <td>893</td>\n",
       "      <td>3</td>\n",
       "      <td>Wilkes, Mrs. James (Ellen Needs)</td>\n",
       "      <td>female</td>\n",
       "      <td>47.0</td>\n",
       "      <td>1</td>\n",
       "      <td>0</td>\n",
       "      <td>363272</td>\n",
       "      <td>7.0000</td>\n",
       "      <td>NaN</td>\n",
       "      <td>S</td>\n",
       "    </tr>\n",
       "  </tbody>\n",
       "</table>\n",
       "</div>"
      ],
      "text/plain": [
       "   PassengerId  Pclass                              Name     Sex   Age  SibSp  \\\n",
       "0          892       3                  Kelly, Mr. James    male  34.5      0   \n",
       "1          893       3  Wilkes, Mrs. James (Ellen Needs)  female  47.0      1   \n",
       "\n",
       "   Parch  Ticket    Fare Cabin Embarked  \n",
       "0      0  330911  7.8292   NaN        Q  \n",
       "1      0  363272  7.0000   NaN        S  "
      ]
     },
     "execution_count": 108,
     "metadata": {},
     "output_type": "execute_result"
    }
   ],
   "source": [
    "test=pd.read_csv(ruta_titanic+\"/test.csv\")\n",
    "test.head(2)"
   ]
  },
  {
   "cell_type": "code",
   "execution_count": 119,
   "metadata": {
    "ExecuteTime": {
     "end_time": "2023-07-24T19:52:01.471819Z",
     "start_time": "2023-07-24T19:52:01.441263Z"
    }
   },
   "outputs": [],
   "source": [
    "X=codificar_datos(test,varc_origin,vard)\n",
    "# Aplicar escalamiento de modelo elegido, en este caso se eligio la regresión logistica que funciona mejor\n",
    "scaler.fit(X[best])\n",
    "X[best]=pd.DataFrame(scaler.transform(X[best]),columns=best)"
   ]
  },
  {
   "cell_type": "code",
   "execution_count": 120,
   "metadata": {
    "ExecuteTime": {
     "end_time": "2023-07-24T19:52:04.343471Z",
     "start_time": "2023-07-24T19:52:04.312421Z"
    }
   },
   "outputs": [
    {
     "data": {
      "text/html": [
       "<div>\n",
       "<style scoped>\n",
       "    .dataframe tbody tr th:only-of-type {\n",
       "        vertical-align: middle;\n",
       "    }\n",
       "\n",
       "    .dataframe tbody tr th {\n",
       "        vertical-align: top;\n",
       "    }\n",
       "\n",
       "    .dataframe thead th {\n",
       "        text-align: right;\n",
       "    }\n",
       "</style>\n",
       "<table border=\"1\" class=\"dataframe\">\n",
       "  <thead>\n",
       "    <tr style=\"text-align: right;\">\n",
       "      <th></th>\n",
       "      <th>PassengerId</th>\n",
       "      <th>Age</th>\n",
       "      <th>SibSp</th>\n",
       "      <th>Parch</th>\n",
       "      <th>Fare</th>\n",
       "      <th>Pclass_1</th>\n",
       "      <th>Pclass_2</th>\n",
       "      <th>Pclass_3</th>\n",
       "      <th>Sex_female</th>\n",
       "      <th>Sex_male</th>\n",
       "      <th>Embarked_C</th>\n",
       "      <th>Embarked_Q</th>\n",
       "      <th>Embarked_S</th>\n",
       "      <th>Survived</th>\n",
       "    </tr>\n",
       "  </thead>\n",
       "  <tbody>\n",
       "    <tr>\n",
       "      <th>0</th>\n",
       "      <td>892</td>\n",
       "      <td>34.5</td>\n",
       "      <td>0.000</td>\n",
       "      <td>0</td>\n",
       "      <td>7.8292</td>\n",
       "      <td>0.0</td>\n",
       "      <td>0</td>\n",
       "      <td>1</td>\n",
       "      <td>0.0</td>\n",
       "      <td>1</td>\n",
       "      <td>0</td>\n",
       "      <td>1.0</td>\n",
       "      <td>0.0</td>\n",
       "      <td>0</td>\n",
       "    </tr>\n",
       "    <tr>\n",
       "      <th>1</th>\n",
       "      <td>893</td>\n",
       "      <td>47.0</td>\n",
       "      <td>0.125</td>\n",
       "      <td>0</td>\n",
       "      <td>7.0000</td>\n",
       "      <td>0.0</td>\n",
       "      <td>0</td>\n",
       "      <td>1</td>\n",
       "      <td>1.0</td>\n",
       "      <td>0</td>\n",
       "      <td>0</td>\n",
       "      <td>0.0</td>\n",
       "      <td>1.0</td>\n",
       "      <td>1</td>\n",
       "    </tr>\n",
       "    <tr>\n",
       "      <th>2</th>\n",
       "      <td>894</td>\n",
       "      <td>62.0</td>\n",
       "      <td>0.000</td>\n",
       "      <td>0</td>\n",
       "      <td>9.6875</td>\n",
       "      <td>0.0</td>\n",
       "      <td>1</td>\n",
       "      <td>0</td>\n",
       "      <td>0.0</td>\n",
       "      <td>1</td>\n",
       "      <td>0</td>\n",
       "      <td>1.0</td>\n",
       "      <td>0.0</td>\n",
       "      <td>0</td>\n",
       "    </tr>\n",
       "    <tr>\n",
       "      <th>3</th>\n",
       "      <td>895</td>\n",
       "      <td>27.0</td>\n",
       "      <td>0.000</td>\n",
       "      <td>0</td>\n",
       "      <td>8.6625</td>\n",
       "      <td>0.0</td>\n",
       "      <td>0</td>\n",
       "      <td>1</td>\n",
       "      <td>0.0</td>\n",
       "      <td>1</td>\n",
       "      <td>0</td>\n",
       "      <td>0.0</td>\n",
       "      <td>1.0</td>\n",
       "      <td>0</td>\n",
       "    </tr>\n",
       "    <tr>\n",
       "      <th>4</th>\n",
       "      <td>896</td>\n",
       "      <td>22.0</td>\n",
       "      <td>0.125</td>\n",
       "      <td>1</td>\n",
       "      <td>12.2875</td>\n",
       "      <td>0.0</td>\n",
       "      <td>0</td>\n",
       "      <td>1</td>\n",
       "      <td>1.0</td>\n",
       "      <td>0</td>\n",
       "      <td>0</td>\n",
       "      <td>0.0</td>\n",
       "      <td>1.0</td>\n",
       "      <td>1</td>\n",
       "    </tr>\n",
       "  </tbody>\n",
       "</table>\n",
       "</div>"
      ],
      "text/plain": [
       "   PassengerId   Age  SibSp  Parch     Fare  Pclass_1  Pclass_2  Pclass_3  \\\n",
       "0          892  34.5  0.000      0   7.8292       0.0         0         1   \n",
       "1          893  47.0  0.125      0   7.0000       0.0         0         1   \n",
       "2          894  62.0  0.000      0   9.6875       0.0         1         0   \n",
       "3          895  27.0  0.000      0   8.6625       0.0         0         1   \n",
       "4          896  22.0  0.125      1  12.2875       0.0         0         1   \n",
       "\n",
       "   Sex_female  Sex_male  Embarked_C  Embarked_Q  Embarked_S  Survived  \n",
       "0         0.0         1           0         1.0         0.0         0  \n",
       "1         1.0         0           0         0.0         1.0         1  \n",
       "2         0.0         1           0         1.0         0.0         0  \n",
       "3         0.0         1           0         0.0         1.0         0  \n",
       "4         1.0         0           0         0.0         1.0         1  "
      ]
     },
     "execution_count": 120,
     "metadata": {},
     "output_type": "execute_result"
    }
   ],
   "source": [
    "tad_test=X.merge(y_test,on=\"PassengerId\")\n",
    "tad_test.head()"
   ]
  },
  {
   "cell_type": "code",
   "execution_count": 121,
   "metadata": {
    "ExecuteTime": {
     "end_time": "2023-07-24T19:52:49.823139Z",
     "start_time": "2023-07-24T19:52:49.793128Z"
    }
   },
   "outputs": [
    {
     "name": "stdout",
     "output_type": "stream",
     "text": [
      "['Embarked_S', 'Sex_female', 'Pclass_1', 'SibSp', 'Embarked_Q']\n",
      "1.0\n",
      "1.0\n"
     ]
    }
   ],
   "source": [
    "print(best)\n",
    "print(accuracy_score(y_true=tad_test['Survived'],y_pred=modeloRL.predict(tad_test[best])))\n",
    "print(roc_auc_score(y_score=modeloRL.predict_proba(tad_test[best])[:,1],y_true=tad_test['Survived']))"
   ]
  },
  {
   "cell_type": "code",
   "execution_count": 124,
   "metadata": {
    "ExecuteTime": {
     "end_time": "2023-07-24T20:00:35.613509Z",
     "start_time": "2023-07-24T20:00:35.605951Z"
    },
    "scrolled": true
   },
   "outputs": [],
   "source": [
    "tad_test[\"Revision\"]=modeloRL.predict(tad_test[best])"
   ]
  },
  {
   "cell_type": "code",
   "execution_count": 125,
   "metadata": {
    "ExecuteTime": {
     "end_time": "2023-07-24T20:00:48.192264Z",
     "start_time": "2023-07-24T20:00:48.171280Z"
    }
   },
   "outputs": [
    {
     "data": {
      "text/html": [
       "<div>\n",
       "<style scoped>\n",
       "    .dataframe tbody tr th:only-of-type {\n",
       "        vertical-align: middle;\n",
       "    }\n",
       "\n",
       "    .dataframe tbody tr th {\n",
       "        vertical-align: top;\n",
       "    }\n",
       "\n",
       "    .dataframe thead th {\n",
       "        text-align: right;\n",
       "    }\n",
       "</style>\n",
       "<table border=\"1\" class=\"dataframe\">\n",
       "  <thead>\n",
       "    <tr style=\"text-align: right;\">\n",
       "      <th></th>\n",
       "      <th>PassengerId</th>\n",
       "      <th>Survived</th>\n",
       "    </tr>\n",
       "  </thead>\n",
       "  <tbody>\n",
       "    <tr>\n",
       "      <th>0</th>\n",
       "      <td>892</td>\n",
       "      <td>0</td>\n",
       "    </tr>\n",
       "    <tr>\n",
       "      <th>1</th>\n",
       "      <td>893</td>\n",
       "      <td>1</td>\n",
       "    </tr>\n",
       "    <tr>\n",
       "      <th>2</th>\n",
       "      <td>894</td>\n",
       "      <td>0</td>\n",
       "    </tr>\n",
       "    <tr>\n",
       "      <th>3</th>\n",
       "      <td>895</td>\n",
       "      <td>0</td>\n",
       "    </tr>\n",
       "    <tr>\n",
       "      <th>4</th>\n",
       "      <td>896</td>\n",
       "      <td>1</td>\n",
       "    </tr>\n",
       "  </tbody>\n",
       "</table>\n",
       "</div>"
      ],
      "text/plain": [
       "   PassengerId  Survived\n",
       "0          892         0\n",
       "1          893         1\n",
       "2          894         0\n",
       "3          895         0\n",
       "4          896         1"
      ]
     },
     "execution_count": 125,
     "metadata": {},
     "output_type": "execute_result"
    }
   ],
   "source": [
    "salida=tad_test[[\"PassengerId\"]].copy()\n",
    "salida[\"Survived\"]=modeloRL.predict(tad_test[best])\n",
    "salida.head()"
   ]
  },
  {
   "cell_type": "code",
   "execution_count": 126,
   "metadata": {
    "ExecuteTime": {
     "end_time": "2023-07-24T20:01:12.686242Z",
     "start_time": "2023-07-24T20:01:12.642783Z"
    }
   },
   "outputs": [],
   "source": [
    "salida[[\"Survived\",\"PassengerId\"]].to_csv(\"datos/salida.csv\",index=False)"
   ]
  }
 ],
 "metadata": {
  "kernelspec": {
   "display_name": "Python 3",
   "language": "python",
   "name": "python3"
  },
  "language_info": {
   "codemirror_mode": {
    "name": "ipython",
    "version": 3
   },
   "file_extension": ".py",
   "mimetype": "text/x-python",
   "name": "python",
   "nbconvert_exporter": "python",
   "pygments_lexer": "ipython3",
   "version": "3.8.5"
  },
  "notify_time": "10",
  "toc": {
   "base_numbering": 1,
   "nav_menu": {},
   "number_sections": true,
   "sideBar": true,
   "skip_h1_title": false,
   "title_cell": "Table of Contents",
   "title_sidebar": "Contents",
   "toc_cell": false,
   "toc_position": {
    "height": "calc(100% - 180px)",
    "left": "10px",
    "top": "150px",
    "width": "281.6px"
   },
   "toc_section_display": true,
   "toc_window_display": true
  },
  "toc-autonumbering": true,
  "toc-showtags": false
 },
 "nbformat": 4,
 "nbformat_minor": 4
}
