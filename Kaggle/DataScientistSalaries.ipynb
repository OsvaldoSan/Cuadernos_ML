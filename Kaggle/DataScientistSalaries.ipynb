{
 "cells": [
  {
   "cell_type": "code",
   "execution_count": 35,
   "metadata": {
    "ExecuteTime": {
     "end_time": "2023-07-06T23:18:05.937385Z",
     "start_time": "2023-07-06T23:18:05.928332Z"
    }
   },
   "outputs": [],
   "source": [
    "import pandas as pd\n",
    "import numpy as np\n",
    "\n",
    "from sklearn.decomposition import PCA\n",
    "from sklearn.preprocessing import StandardScaler# Estandarización a normal\n",
    "\n",
    "import os\n",
    "\n",
    "pd.options.display.float_format = '{:,.15f}'.format"
   ]
  },
  {
   "cell_type": "markdown",
   "metadata": {},
   "source": [
    "# Lectura de datos"
   ]
  },
  {
   "cell_type": "code",
   "execution_count": 2,
   "metadata": {
    "ExecuteTime": {
     "end_time": "2023-07-06T22:48:16.033891Z",
     "start_time": "2023-07-06T22:48:16.009989Z"
    }
   },
   "outputs": [
    {
     "data": {
      "text/plain": [
       "['ds_salaries.csv', 'Iris Flower Dataset_From Kaggle', 'titanic']"
      ]
     },
     "execution_count": 2,
     "metadata": {},
     "output_type": "execute_result"
    }
   ],
   "source": [
    "ruta_datos=\"C:\\\\Users\\\\MI10995\\\\Documents\\\\Capacitación\\\\Datos\\\\Pruebas_ML\"\n",
    "os.listdir(ruta_datos)"
   ]
  },
  {
   "cell_type": "code",
   "execution_count": 3,
   "metadata": {
    "ExecuteTime": {
     "end_time": "2023-07-06T22:48:17.067047Z",
     "start_time": "2023-07-06T22:48:17.034577Z"
    }
   },
   "outputs": [],
   "source": [
    "df=pd.read_csv(ruta_datos+\"/ds_salaries.csv\")\n",
    "df=df.reset_index().rename(columns={\"index\":\"id_\"})"
   ]
  },
  {
   "cell_type": "code",
   "execution_count": 7,
   "metadata": {
    "ExecuteTime": {
     "end_time": "2023-07-06T22:48:44.469451Z",
     "start_time": "2023-07-06T22:48:44.455189Z"
    }
   },
   "outputs": [
    {
     "data": {
      "text/plain": [
       "count        3,755.000000000000000\n",
       "mean       190,695.571770972048398\n",
       "std        671,676.500507907127030\n",
       "min          6,000.000000000000000\n",
       "25%        100,000.000000000000000\n",
       "50%        138,000.000000000000000\n",
       "75%        180,000.000000000000000\n",
       "max     30,400,000.000000000000000\n",
       "Name: salary, dtype: float64"
      ]
     },
     "execution_count": 7,
     "metadata": {},
     "output_type": "execute_result"
    }
   ],
   "source": [
    "df[\"salary\"].describe()"
   ]
  },
  {
   "cell_type": "markdown",
   "metadata": {},
   "source": [
    "# Ingeniería de Caracteristicas"
   ]
  },
  {
   "cell_type": "code",
   "execution_count": 9,
   "metadata": {
    "ExecuteTime": {
     "end_time": "2023-07-06T22:53:12.859077Z",
     "start_time": "2023-07-06T22:53:12.851708Z"
    }
   },
   "outputs": [],
   "source": [
    "# 0 Bajo, 1 Medio, 2 Alto\n",
    "df[\"status_salary\"]=df[\"salary\"].map(lambda x: 0 if x<100000 else\n",
    "                1 if (x>=100000)&(x<138000) else 2 )"
   ]
  },
  {
   "cell_type": "code",
   "execution_count": 27,
   "metadata": {
    "ExecuteTime": {
     "end_time": "2023-07-06T23:16:26.294892Z",
     "start_time": "2023-07-06T23:16:26.258451Z"
    }
   },
   "outputs": [
    {
     "data": {
      "text/html": [
       "<div>\n",
       "<style scoped>\n",
       "    .dataframe tbody tr th:only-of-type {\n",
       "        vertical-align: middle;\n",
       "    }\n",
       "\n",
       "    .dataframe tbody tr th {\n",
       "        vertical-align: top;\n",
       "    }\n",
       "\n",
       "    .dataframe thead th {\n",
       "        text-align: right;\n",
       "    }\n",
       "</style>\n",
       "<table border=\"1\" class=\"dataframe\">\n",
       "  <thead>\n",
       "    <tr style=\"text-align: right;\">\n",
       "      <th></th>\n",
       "      <th>id_</th>\n",
       "      <th>work_year</th>\n",
       "      <th>experience_level</th>\n",
       "      <th>employment_type</th>\n",
       "      <th>job_title</th>\n",
       "      <th>salary</th>\n",
       "      <th>salary_currency</th>\n",
       "      <th>salary_in_usd</th>\n",
       "      <th>employee_residence</th>\n",
       "      <th>remote_ratio</th>\n",
       "      <th>company_location</th>\n",
       "      <th>company_size</th>\n",
       "      <th>status_salary</th>\n",
       "      <th>numeric_experience_level</th>\n",
       "      <th>numeric_employment_type</th>\n",
       "      <th>numeric_job_title</th>\n",
       "      <th>numeric_employee_residence</th>\n",
       "      <th>numeric_company_size</th>\n",
       "    </tr>\n",
       "  </thead>\n",
       "  <tbody>\n",
       "    <tr>\n",
       "      <th>0</th>\n",
       "      <td>0</td>\n",
       "      <td>2023</td>\n",
       "      <td>SE</td>\n",
       "      <td>FT</td>\n",
       "      <td>Principal Data Scientist</td>\n",
       "      <td>80000</td>\n",
       "      <td>EUR</td>\n",
       "      <td>85847</td>\n",
       "      <td>ES</td>\n",
       "      <td>100</td>\n",
       "      <td>ES</td>\n",
       "      <td>L</td>\n",
       "      <td>0</td>\n",
       "      <td>0</td>\n",
       "      <td>0</td>\n",
       "      <td>0</td>\n",
       "      <td>0</td>\n",
       "      <td>0</td>\n",
       "    </tr>\n",
       "    <tr>\n",
       "      <th>1</th>\n",
       "      <td>1</td>\n",
       "      <td>2023</td>\n",
       "      <td>MI</td>\n",
       "      <td>CT</td>\n",
       "      <td>ML Engineer</td>\n",
       "      <td>30000</td>\n",
       "      <td>USD</td>\n",
       "      <td>30000</td>\n",
       "      <td>US</td>\n",
       "      <td>100</td>\n",
       "      <td>US</td>\n",
       "      <td>S</td>\n",
       "      <td>0</td>\n",
       "      <td>1</td>\n",
       "      <td>1</td>\n",
       "      <td>1</td>\n",
       "      <td>1</td>\n",
       "      <td>1</td>\n",
       "    </tr>\n",
       "    <tr>\n",
       "      <th>2</th>\n",
       "      <td>2</td>\n",
       "      <td>2023</td>\n",
       "      <td>MI</td>\n",
       "      <td>CT</td>\n",
       "      <td>ML Engineer</td>\n",
       "      <td>25500</td>\n",
       "      <td>USD</td>\n",
       "      <td>25500</td>\n",
       "      <td>US</td>\n",
       "      <td>100</td>\n",
       "      <td>US</td>\n",
       "      <td>S</td>\n",
       "      <td>0</td>\n",
       "      <td>1</td>\n",
       "      <td>1</td>\n",
       "      <td>1</td>\n",
       "      <td>1</td>\n",
       "      <td>1</td>\n",
       "    </tr>\n",
       "    <tr>\n",
       "      <th>3</th>\n",
       "      <td>3</td>\n",
       "      <td>2023</td>\n",
       "      <td>SE</td>\n",
       "      <td>FT</td>\n",
       "      <td>Data Scientist</td>\n",
       "      <td>175000</td>\n",
       "      <td>USD</td>\n",
       "      <td>175000</td>\n",
       "      <td>CA</td>\n",
       "      <td>100</td>\n",
       "      <td>CA</td>\n",
       "      <td>M</td>\n",
       "      <td>2</td>\n",
       "      <td>0</td>\n",
       "      <td>0</td>\n",
       "      <td>2</td>\n",
       "      <td>2</td>\n",
       "      <td>2</td>\n",
       "    </tr>\n",
       "    <tr>\n",
       "      <th>4</th>\n",
       "      <td>4</td>\n",
       "      <td>2023</td>\n",
       "      <td>SE</td>\n",
       "      <td>FT</td>\n",
       "      <td>Data Scientist</td>\n",
       "      <td>120000</td>\n",
       "      <td>USD</td>\n",
       "      <td>120000</td>\n",
       "      <td>CA</td>\n",
       "      <td>100</td>\n",
       "      <td>CA</td>\n",
       "      <td>M</td>\n",
       "      <td>1</td>\n",
       "      <td>0</td>\n",
       "      <td>0</td>\n",
       "      <td>2</td>\n",
       "      <td>2</td>\n",
       "      <td>2</td>\n",
       "    </tr>\n",
       "  </tbody>\n",
       "</table>\n",
       "</div>"
      ],
      "text/plain": [
       "   id_  work_year experience_level employment_type                 job_title  \\\n",
       "0    0       2023               SE              FT  Principal Data Scientist   \n",
       "1    1       2023               MI              CT               ML Engineer   \n",
       "2    2       2023               MI              CT               ML Engineer   \n",
       "3    3       2023               SE              FT            Data Scientist   \n",
       "4    4       2023               SE              FT            Data Scientist   \n",
       "\n",
       "   salary salary_currency  salary_in_usd employee_residence  remote_ratio  \\\n",
       "0   80000             EUR          85847                 ES           100   \n",
       "1   30000             USD          30000                 US           100   \n",
       "2   25500             USD          25500                 US           100   \n",
       "3  175000             USD         175000                 CA           100   \n",
       "4  120000             USD         120000                 CA           100   \n",
       "\n",
       "  company_location company_size  status_salary  numeric_experience_level  \\\n",
       "0               ES            L              0                         0   \n",
       "1               US            S              0                         1   \n",
       "2               US            S              0                         1   \n",
       "3               CA            M              2                         0   \n",
       "4               CA            M              1                         0   \n",
       "\n",
       "   numeric_employment_type  numeric_job_title  numeric_employee_residence  \\\n",
       "0                        0                  0                           0   \n",
       "1                        1                  1                           1   \n",
       "2                        1                  1                           1   \n",
       "3                        0                  2                           2   \n",
       "4                        0                  2                           2   \n",
       "\n",
       "   numeric_company_size  \n",
       "0                     0  \n",
       "1                     1  \n",
       "2                     1  \n",
       "3                     2  \n",
       "4                     2  "
      ]
     },
     "execution_count": 27,
     "metadata": {},
     "output_type": "execute_result"
    }
   ],
   "source": [
    "vard_c=[\"experience_level\",\"employment_type\",\"job_title\",\"employee_residence\",\"company_size\"]\n",
    "varc_from_d=[\"numeric_\"+f for f in vard_c]\n",
    "varc=varc_from_d+[\"work_year\",\"remote_ratio\"]\n",
    "um=[\"id_\"]\n",
    "y=\"status_salary\"\n",
    "df.head()"
   ]
  },
  {
   "cell_type": "code",
   "execution_count": null,
   "metadata": {},
   "outputs": [],
   "source": []
  },
  {
   "cell_type": "code",
   "execution_count": 20,
   "metadata": {
    "ExecuteTime": {
     "end_time": "2023-07-06T23:13:58.791183Z",
     "start_time": "2023-07-06T23:13:58.768697Z"
    }
   },
   "outputs": [],
   "source": [
    "#pd.get_dummies(df,columns=vard_c)\n",
    "df[varc_from_d]=df[vard_c].apply(lambda x: pd.factorize(x)[0])"
   ]
  },
  {
   "cell_type": "code",
   "execution_count": 30,
   "metadata": {
    "ExecuteTime": {
     "end_time": "2023-07-06T23:17:25.714986Z",
     "start_time": "2023-07-06T23:17:25.703911Z"
    }
   },
   "outputs": [],
   "source": [
    "df[um+varc+[y]].head"
   ]
  },
  {
   "cell_type": "markdown",
   "metadata": {},
   "source": [
    "# Análisis Exploratorio"
   ]
  },
  {
   "cell_type": "code",
   "execution_count": 39,
   "metadata": {
    "ExecuteTime": {
     "end_time": "2023-07-06T23:20:43.262883Z",
     "start_time": "2023-07-06T23:20:43.257372Z"
    }
   },
   "outputs": [],
   "source": [
    "tad=df[um+varc].copy()"
   ]
  },
  {
   "cell_type": "code",
   "execution_count": 40,
   "metadata": {
    "ExecuteTime": {
     "end_time": "2023-07-06T23:20:43.869378Z",
     "start_time": "2023-07-06T23:20:43.850430Z"
    }
   },
   "outputs": [
    {
     "data": {
      "text/plain": [
       "StandardScaler()"
      ]
     },
     "execution_count": 40,
     "metadata": {},
     "output_type": "execute_result"
    }
   ],
   "source": [
    "sc=StandardScaler()\n",
    "sc.fit(tad[varc])"
   ]
  },
  {
   "cell_type": "code",
   "execution_count": 41,
   "metadata": {
    "ExecuteTime": {
     "end_time": "2023-07-06T23:20:44.434663Z",
     "start_time": "2023-07-06T23:20:44.412162Z"
    }
   },
   "outputs": [],
   "source": [
    "tad[varc]=pd.DataFrame(sc.transform(tad[varc]),columns=varc)"
   ]
  },
  {
   "cell_type": "code",
   "execution_count": null,
   "metadata": {},
   "outputs": [],
   "source": [
    "PCA()"
   ]
  },
  {
   "cell_type": "code",
   "execution_count": null,
   "metadata": {},
   "outputs": [],
   "source": []
  },
  {
   "cell_type": "code",
   "execution_count": null,
   "metadata": {},
   "outputs": [],
   "source": []
  }
 ],
 "metadata": {
  "kernelspec": {
   "display_name": "Python 3",
   "language": "python",
   "name": "python3"
  },
  "language_info": {
   "codemirror_mode": {
    "name": "ipython",
    "version": 3
   },
   "file_extension": ".py",
   "mimetype": "text/x-python",
   "name": "python",
   "nbconvert_exporter": "python",
   "pygments_lexer": "ipython3",
   "version": "3.8.5"
  },
  "toc": {
   "base_numbering": 1,
   "nav_menu": {},
   "number_sections": true,
   "sideBar": true,
   "skip_h1_title": false,
   "title_cell": "Table of Contents",
   "title_sidebar": "Contents",
   "toc_cell": false,
   "toc_position": {},
   "toc_section_display": true,
   "toc_window_display": false
  }
 },
 "nbformat": 4,
 "nbformat_minor": 4
}
